{
 "cells": [
  {
   "cell_type": "code",
   "execution_count": 1,
   "id": "geological-kingston",
   "metadata": {
    "prov_id": "beed23df-eed2-4dfc-9f75-97596457a98a"
   },
   "outputs": [],
   "source": [
    "import numpy as np\n",
    "from pandas import read_csv\n",
    "from sklearn.model_selection import train_test_split\n",
    "from sklearn.metrics import classification_report\n",
    "from sklearn.metrics import confusion_matrix\n",
    "from sklearn.metrics import accuracy_score\n",
    "from sklearn.svm import SVC\n"
   ]
  },
  {
   "cell_type": "code",
   "execution_count": 2,
   "id": "abandoned-solid",
   "metadata": {
    "prov_id": "e60d7751-a842-4791-b6cb-4ea6edecba57"
   },
   "outputs": [
    {
     "name": "stdout",
     "output_type": "stream",
     "text": [
      "     sepal-length  sepal-width  petal-length  petal-width           class\n",
      "0             5.1          3.5           1.4          0.2     Iris-setosa\n",
      "1             4.9          3.0           1.4          0.2     Iris-setosa\n",
      "2             4.7          3.2           1.3          0.2     Iris-setosa\n",
      "3             4.6          3.1           1.5          0.2     Iris-setosa\n",
      "4             5.0          3.6           1.4          0.2     Iris-setosa\n",
      "..            ...          ...           ...          ...             ...\n",
      "145           6.7          3.0           5.2          2.3  Iris-virginica\n",
      "146           6.3          2.5           5.0          1.9  Iris-virginica\n",
      "147           6.5          3.0           5.2          2.0  Iris-virginica\n",
      "148           6.2          3.4           5.4          2.3  Iris-virginica\n",
      "149           5.9          3.0           5.1          1.8  Iris-virginica\n",
      "\n",
      "[150 rows x 5 columns]\n"
     ]
    }
   ],
   "source": [
    "# Load dataset\n",
    "url = \"https://raw.githubusercontent.com/jbrownlee/Datasets/master/iris.csv\"\n",
    "names = ['sepal-length', 'sepal-width', 'petal-length', 'petal-width', 'class']\n",
    "dataset = read_csv(url, names=names)\n",
    "print(dataset)"
   ]
  },
  {
   "cell_type": "code",
   "execution_count": 3,
   "id": "leading-hollywood",
   "metadata": {
    "prov_id": "69ebfff9-2ec7-45b8-976c-5b368e076da0"
   },
   "outputs": [],
   "source": [
    "# Split-out validation dataset\n",
    "array = dataset.values\n",
    "X = array[:, 0:4]\n",
    "y = array[:, 4]\n",
    "X_train, X_validation, Y_train, Y_validation = train_test_split(\n",
    "    X, y, test_size=0.20, random_state=1)"
   ]
  },
  {
   "cell_type": "code",
   "execution_count": 4,
   "id": "southern-slope",
   "metadata": {
    "prov_id": "c07b559e-a4ef-4213-bb77-db9a1f0d4dd3"
   },
   "outputs": [],
   "source": [
    "# Make predictions on validation dataset\n",
    "model = SVC(gamma='auto')\n",
    "model.fit(X_train, Y_train)\n",
    "predictions = model.predict(X_validation)"
   ]
  },
  {
   "cell_type": "code",
   "execution_count": 5,
   "id": "national-anger",
   "metadata": {
    "prov_id": "b2e4583c-7a6b-4b00-a55f-6e20fa6b89ca"
   },
   "outputs": [
    {
     "name": "stdout",
     "output_type": "stream",
     "text": [
      "0.9666666666666667\n",
      "[[11  0  0]\n",
      " [ 0 12  1]\n",
      " [ 0  0  6]]\n",
      "                 precision    recall  f1-score   support\n",
      "\n",
      "    Iris-setosa       1.00      1.00      1.00        11\n",
      "Iris-versicolor       1.00      0.92      0.96        13\n",
      " Iris-virginica       0.86      1.00      0.92         6\n",
      "\n",
      "       accuracy                           0.97        30\n",
      "      macro avg       0.95      0.97      0.96        30\n",
      "   weighted avg       0.97      0.97      0.97        30\n",
      "\n"
     ]
    }
   ],
   "source": [
    "# Evaluate predictions\n",
    "print(accuracy_score(Y_validation, predictions))\n",
    "print(confusion_matrix(Y_validation, predictions))\n",
    "print(classification_report(Y_validation, predictions))"
   ]
  }
 ],
 "metadata": {
  "kernelspec": {
   "display_name": "Python 3",
   "language": "python",
   "name": "python3"
  },
  "language_info": {
   "codemirror_mode": {
    "name": "ipython",
    "version": 3
   },
   "file_extension": ".py",
   "mimetype": "text/x-python",
   "name": "python",
   "nbconvert_exporter": "python",
   "pygments_lexer": "ipython3",
   "version": "3.9.2"
  },
  "provenance": {
   "cells": [
    "beed23df-eed2-4dfc-9f75-97596457a98a",
    "e60d7751-a842-4791-b6cb-4ea6edecba57",
    "69ebfff9-2ec7-45b8-976c-5b368e076da0",
    "c07b559e-a4ef-4213-bb77-db9a1f0d4dd3",
    "b2e4583c-7a6b-4b00-a55f-6e20fa6b89ca",
    "ca09678c-cdd6-4e16-9090-7142d06b9fc2"
   ],
   "epochs": [
    {
     "cells": [
      "beed23df-eed2-4dfc-9f75-97596457a98a",
      "e60d7751-a842-4791-b6cb-4ea6edecba57",
      "69ebfff9-2ec7-45b8-976c-5b368e076da0",
      "c07b559e-a4ef-4213-bb77-db9a1f0d4dd3",
      "b2e4583c-7a6b-4b00-a55f-6e20fa6b89ca"
     ],
     "data": [
      {
       "cell_id": "beed23df-eed2-4dfc-9f75-97596457a98a",
       "cell_outputs": [],
       "cell_source": "import numpy as np\nfrom pandas import read_csv\nfrom sklearn.model_selection import train_test_split\nfrom sklearn.metrics import classification_report\nfrom sklearn.metrics import confusion_matrix\nfrom sklearn.metrics import accuracy_score\nfrom sklearn.svm import SVC\n",
       "data_values": [],
       "data_vars": [],
       "definitions": [],
       "execution_count": 1,
       "imports": [
        "np",
        "read_csv",
        "train_test_split",
        "classification_report",
        "confusion_matrix",
        "accuracy_score",
        "SVC"
       ],
       "local": [],
       "local_info": {},
       "remote": [],
       "time": "Wed, 07 Jul 2021 11:57:10 GMT",
       "type": "execution"
      },
      {
       "cell_id": "e60d7751-a842-4791-b6cb-4ea6edecba57",
       "cell_outputs": [],
       "cell_source": "# Load dataset\nurl = \"https://raw.githubusercontent.com/jbrownlee/Datasets/master/iris.csv\"\nnames = ['sepal-length', 'sepal-width', 'petal-length', 'petal-width', 'class']\ndataset = read_csv(url, names=names)",
       "data_values": [
        "https://raw.githubusercontent.com/jbrownlee/Datasets/master/iris.csv"
       ],
       "data_vars": [
        "url",
        "dataset"
       ],
       "definitions": [
        {
         "col_offset": 0,
         "dependencies": [],
         "end_col_offset": 76,
         "end_lineno": 2,
         "lineno": 2,
         "name": "url",
         "type": "assign"
        },
        {
         "col_offset": 0,
         "dependencies": [],
         "end_col_offset": 79,
         "end_lineno": 3,
         "lineno": 3,
         "name": "names",
         "type": "assign"
        },
        {
         "col_offset": 0,
         "dependencies": [
          "read_csv",
          "url",
          "names"
         ],
         "end_col_offset": 36,
         "end_lineno": 4,
         "lineno": 4,
         "name": "dataset",
         "type": "assign"
        }
       ],
       "execution_count": 2,
       "imports": [],
       "local": [
        "url",
        "names",
        "dataset"
       ],
       "local_info": {
        "dataset": "\u001b[1;31mType:\u001b[0m        DataFrame\n\u001b[1;31mString form:\u001b[0m\n     sepal-length  sepal-width  petal-length  petal-width           class\n0             5.1          3.5           1.4          0.2     Iris-setosa\n1             4.9          3.0           1.4          0.2     Iris-setosa\n2             4.7          3.2           1.3          0.2     Iris-setosa\n3             4.6          3.1           1.5          0.2     Iris-setosa\n4             5.0          3.6           1.4          0.2     Iris-setosa\n..            ...          ...           ...          ...             ...\n145           6.7          3.0           5.2          2.3  Iris-virginica\n146           6.3          2.5           5.0          1.9  Iris-virginica\n147           6.5          3.0           5.2          2.0  Iris-virginica\n148           6.2          3.4           5.4          2.3  Iris-virginica\n149           5.9          3.0           5.1          1.8  Iris-virginica\n\n[150 rows x 5 columns]\n\u001b[1;31mLength:\u001b[0m      150\n\u001b[1;31mFile:\u001b[0m        c:\\program files\\python39\\lib\\site-packages\\pandas\\core\\frame.py\n",
        "names": "\u001b[1;31mType:\u001b[0m        list\n\u001b[1;31mString form:\u001b[0m ['sepal-length', 'sepal-width', 'petal-length', 'petal-width', 'class']\n\u001b[1;31mLength:\u001b[0m      5\n\u001b[1;31mDocstring:\u001b[0m  \nBuilt-in mutable sequence.\n\nIf no argument is given, the constructor creates a new empty list.\nThe argument must be an iterable if specified.\n",
        "url": "\u001b[1;31mType:\u001b[0m        str\n\u001b[1;31mString form:\u001b[0m https://raw.githubusercontent.com/jbrownlee/Datasets/master/iris.csv\n\u001b[1;31mLength:\u001b[0m      68\n\u001b[1;31mDocstring:\u001b[0m  \nstr(object='') -> str\nstr(bytes_or_buffer[, encoding[, errors]]) -> str\n\nCreate a new string object from the given object. If encoding or\nerrors is specified, then the object must expose a data buffer\nthat will be decoded using the given encoding and error handler.\nOtherwise, returns the result of object.__str__() (if defined)\nor repr(object).\nencoding defaults to sys.getdefaultencoding().\nerrors defaults to 'strict'.\n"
       },
       "remote": [
        "read_csv"
       ],
       "time": "Wed, 07 Jul 2021 11:57:10 GMT",
       "type": "execution"
      },
      {
       "cell_id": "69ebfff9-2ec7-45b8-976c-5b368e076da0",
       "cell_outputs": [],
       "cell_source": "# Split-out validation dataset\narray = dataset.values\nX = array[:, 0:4]\ny = array[:, 4]\nX_train, X_validation, Y_train, Y_validation = train_test_split(\n    X, y, test_size=0.20, random_state=1)",
       "data_values": [],
       "data_vars": [],
       "definitions": [
        {
         "col_offset": 0,
         "dependencies": [
          "dataset"
         ],
         "end_col_offset": 22,
         "end_lineno": 2,
         "lineno": 2,
         "name": "array",
         "type": "assign"
        },
        {
         "col_offset": 0,
         "dependencies": [
          "array"
         ],
         "end_col_offset": 17,
         "end_lineno": 3,
         "lineno": 3,
         "name": "X",
         "type": "assign"
        },
        {
         "col_offset": 0,
         "dependencies": [
          "array"
         ],
         "end_col_offset": 15,
         "end_lineno": 4,
         "lineno": 4,
         "name": "y",
         "type": "assign"
        },
        {
         "col_offset": 0,
         "dependencies": [
          "train_test_split",
          "X",
          "y"
         ],
         "end_col_offset": 41,
         "end_lineno": 6,
         "lineno": 5,
         "name": "X_train",
         "type": "assign"
        },
        {
         "col_offset": 0,
         "dependencies": [
          "train_test_split",
          "X",
          "y"
         ],
         "end_col_offset": 41,
         "end_lineno": 6,
         "lineno": 5,
         "name": "X_validation",
         "type": "assign"
        },
        {
         "col_offset": 0,
         "dependencies": [
          "train_test_split",
          "X",
          "y"
         ],
         "end_col_offset": 41,
         "end_lineno": 6,
         "lineno": 5,
         "name": "Y_train",
         "type": "assign"
        },
        {
         "col_offset": 0,
         "dependencies": [
          "train_test_split",
          "X",
          "y"
         ],
         "end_col_offset": 41,
         "end_lineno": 6,
         "lineno": 5,
         "name": "Y_validation",
         "type": "assign"
        }
       ],
       "execution_count": 3,
       "imports": [],
       "local": [
        "array",
        "X",
        "y",
        "X_train",
        "X_validation",
        "Y_train",
        "Y_validation"
       ],
       "local_info": {
        "X": "\u001b[1;31mType:\u001b[0m            ndarray\n\u001b[1;31mString form:\u001b[0m    \n[[5.1 3.5 1.4 0.2]\n [4.9 3.0 1.4 0.2]\n [4.7 3.2 1.3 0.2]\n [4.6 3.1 1.5 0.2]\n [5.0 3.6 1.4 0.2]\n [5.4 3.9 1.7 0.4]\n [4.6 3.4 1.4 0.3]\n [5.0 3.4 1.5 0.2]\n [4.4 2.9 1.4 0.2]\n [4.9 3.1 1.5 0.1]\n [5.4 3.7 1.5 0.2]\n [4.8 3.4 1.6 0.2]\n [4.8 3.0 1.4 0.1]\n [4.3 3.0 1.1 0.1]\n [5.8 4.0 1.2 0.2]\n [5.7 4.4 1.5 0.4]\n [5.4 3.9 1.3 0.4]\n [5.1 3.5 1.4 0.3]\n [5.7 3.8 1.7 0.3]\n [5.1 3.8 1.5 0.3]\n [5.4 3.4 1.7 0.2]\n [5.1 3.7 1.5 0.4]\n [4.6 3.6 1.0 0.2]\n [5.1 3.3 1.7 0.5]\n [4.8 3.4 1.9 0.2]\n [5.0 3.0 1.6 0.2]\n [5.0 3.4 1.6 0.4]\n [5.2 3.5 1.5 0.2]\n [5.2 3.4 1.4 0.2]\n [4.7 3.2 1.6 0.2]\n [4.8 3.1 1.6 0.2]\n [5.4 3.4 1.5 0.4]\n [5.2 4.1 1.5 0.1]\n [5.5 4.2 1.4 0.2]\n [4.9 3.1 1.5 0.1]\n [5.0 3.2 1.2 0.2]\n [5.5 3.5 1.3 0.2]\n [4.9 3.1 1.5 0.1]\n [4.4 3.0 1.3 0.2]\n [5.1 3.4 1.5 0.2]\n [5.0 3.5 1.3 0.3]\n [4.5 2.3 1.3 0.3]\n [4.4 3.2 1.3 0.2]\n [5.0 3.5 1.6 0.6]\n [5.1 3.8 1.9 0.4]\n [4.8 3.0 1.4 0.3]\n [5.1 3.8 1.6 0.2]\n [4.6 3.2 1.4 0.2]\n [5.3 3.7 1.5 0.2]\n [5.0 3.3 1.4 0.2]\n [7.0 3.2 4.7 1.4]\n [6.4 3.2 4.5 1.5]\n [6.9 3.1 4.9 1.5]\n [5.5 2.3 4.0 1.3]\n [6.5 2.8 4.6 1.5]\n [5.7 2.8 4.5 1.3]\n [6.3 3.3 4.7 1.6]\n [4.9 2.4 3.3 1.0]\n [6.6 2.9 4.6 1.3]\n [5.2 2.7 3.9 1.4]\n [5.0 2.0 3.5 1.0]\n [5.9 3.0 4.2 1.5]\n [6.0 2.2 4.0 1.0]\n [6.1 2.9 4.7 1.4]\n [5.6 2.9 3.6 1.3]\n [6.7 3.1 4.4 1.4]\n [5.6 3.0 4.5 1.5]\n [5.8 2.7 4.1 1.0]\n [6.2 2.2 4.5 1.5]\n [5.6 2.5 3.9 1.1]\n [5.9 3.2 4.8 1.8]\n [6.1 2.8 4.0 1.3]\n [6.3 2.5 4.9 1.5]\n [6.1 2.8 4.7 1.2]\n [6.4 2.9 4.3 1.3]\n [6.6 3.0 4.4 1.4]\n [6.8 2.8 4.8 1.4]\n [6.7 3.0 5.0 1.7]\n [6.0 2.9 4.5 1.5]\n [5.7 2.6 3.5 1.0]\n [5.5 2.4 3.8 1.1]\n [5.5 2.4 3.7 1.0]\n [5.8 2.7 3.9 1.2]\n [6.0 2.7 5.1 1.6]\n [5.4 3.0 4.5 1.5]\n [6.0 3.4 4.5 1.6]\n [6.7 3.1 4.7 1.5]\n [6.3 2.3 4.4 1.3]\n [5.6 3.0 4.1 1.3]\n [5.5 2.5 4.0 1.3]\n [5.5 2.6 4.4 1.2]\n [6.1 3.0 4.6 1.4]\n [5.8 2.6 4.0 1.2]\n [5.0 2.3 3.3 1.0]\n [5.6 2.7 4.2 1.3]\n [5.7 3.0 4.2 1.2]\n [5.7 2.9 4.2 1.3]\n [6.2 2.9 4.3 1.3]\n [5.1 2.5 3.0 1.1]\n [5.7 2.8 4.1 1.3]\n [6.3 3.3 6.0 2.5]\n [5.8 2.7 5.1 1.9]\n [7.1 3.0 5.9 2.1]\n [6.3 2.9 5.6 1.8]\n [6.5 3.0 5.8 2.2]\n [7.6 3.0 6.6 2.1]\n [4.9 2.5 4.5 1.7]\n [7.3 2.9 6.3 1.8]\n [6.7 2.5 5.8 1.8]\n [7.2 3.6 6.1 2.5]\n [6.5 3.2 5.1 2.0]\n [6.4 2.7 5.3 1.9]\n [6.8 3.0 5.5 2.1]\n [5.7 2.5 5.0 2.0]\n [5.8 2.8 5.1 2.4]\n [6.4 3.2 5.3 2.3]\n [6.5 3.0 5.5 1.8]\n [7.7 3.8 6.7 2.2]\n [7.7 2.6 6.9 2.3]\n [6.0 2.2 5.0 1.5]\n [6.9 3.2 5.7 2.3]\n [5.6 2.8 4.9 2.0]\n [7.7 2.8 6.7 2.0]\n [6.3 2.7 4.9 1.8]\n [6.7 3.3 5.7 2.1]\n [7.2 3.2 6.0 1.8]\n [6.2 2.8 4.8 1.8]\n [6.1 3.0 4.9 1.8]\n [6.4 2.8 5.6 2.1]\n [7.2 3.0 5.8 1.6]\n [7.4 2.8 6.1 1.9]\n [7.9 3.8 6.4 2.0]\n [6.4 2.8 5.6 2.2]\n [6.3 2.8 5.1 1.5]\n [6.1 2.6 5.6 1.4]\n [7.7 3.0 6.1 2.3]\n [6.3 3.4 5.6 2.4]\n [6.4 3.1 5.5 1.8]\n [6.0 3.0 4.8 1.8]\n [6.9 3.1 5.4 2.1]\n [6.7 3.1 5.6 2.4]\n [6.9 3.1 5.1 2.3]\n [5.8 2.7 5.1 1.9]\n [6.8 3.2 5.9 2.3]\n [6.7 3.3 5.7 2.5]\n [6.7 3.0 5.2 2.3]\n [6.3 2.5 5.0 1.9]\n [6.5 3.0 5.2 2.0]\n [6.2 3.4 5.4 2.3]\n [5.9 3.0 5.1 1.8]]\n\u001b[1;31mLength:\u001b[0m          150\n\u001b[1;31mFile:\u001b[0m            c:\\program files\\python39\\lib\\site-packages\\numpy\\__init__.py\n\u001b[1;31mDocstring:\u001b[0m       <no docstring>\n",
        "X_train": "\u001b[1;31mType:\u001b[0m            ndarray\n\u001b[1;31mString form:\u001b[0m    \n[[6.1 3.0 4.6 1.4]\n [7.7 3.0 6.1 2.3]\n [5.6 2.5 3.9 1.1]\n [6.4 2.8 5.6 2.1]\n [5.8 2.8 5.1 2.4]\n [5.3 3.7 1.5 0.2]\n [5.5 2.3 4.0 1.3]\n [5.2 3.4 1.4 0.2]\n [6.5 2.8 4.6 1.5]\n [6.7 2.5 5.8 1.8]\n [6.8 3.0 5.5 2.1]\n [5.1 3.5 1.4 0.3]\n [6.0 2.2 5.0 1.5]\n [6.3 2.9 5.6 1.8]\n [6.6 2.9 4.6 1.3]\n [7.7 2.6 6.9 2.3]\n [5.7 3.8 1.7 0.3]\n [5.0 3.6 1.4 0.2]\n [4.8 3.0 1.4 0.3]\n [5.2 2.7 3.9 1.4]\n [5.1 3.4 1.5 0.2]\n [5.5 3.5 1.3 0.2]\n [7.7 3.8 6.7 2.2]\n [6.9 3.1 5.4 2.1]\n [7.3 2.9 6.3 1.8]\n [6.4 2.8 5.6 2.2]\n [6.2 2.8 4.8 1.8]\n [6.0 3.4 4.5 1.6]\n [7.7 2.8 6.7 2.0]\n [5.7 3.0 4.2 1.2]\n [4.8 3.4 1.6 0.2]\n [5.7 2.5 5.0 2.0]\n [6.3 2.7 4.9 1.8]\n [4.8 3.0 1.4 0.1]\n [4.7 3.2 1.3 0.2]\n [6.5 3.0 5.8 2.2]\n [4.6 3.4 1.4 0.3]\n [6.1 3.0 4.9 1.8]\n [6.5 3.2 5.1 2.0]\n [6.7 3.1 4.4 1.4]\n [5.7 2.8 4.5 1.3]\n [6.7 3.3 5.7 2.5]\n [6.0 3.0 4.8 1.8]\n [5.1 3.8 1.6 0.2]\n [6.0 2.2 4.0 1.0]\n [6.4 2.9 4.3 1.3]\n [6.5 3.0 5.5 1.8]\n [5.0 2.3 3.3 1.0]\n [6.3 3.3 6.0 2.5]\n [5.5 2.5 4.0 1.3]\n [5.4 3.7 1.5 0.2]\n [4.9 3.1 1.5 0.1]\n [5.2 4.1 1.5 0.1]\n [6.7 3.3 5.7 2.1]\n [4.4 3.0 1.3 0.2]\n [6.0 2.7 5.1 1.6]\n [6.4 2.7 5.3 1.9]\n [5.9 3.0 5.1 1.8]\n [5.2 3.5 1.5 0.2]\n [5.1 3.3 1.7 0.5]\n [5.8 2.7 4.1 1.0]\n [4.9 3.1 1.5 0.1]\n [7.4 2.8 6.1 1.9]\n [6.2 2.9 4.3 1.3]\n [7.6 3.0 6.6 2.1]\n [6.7 3.0 5.2 2.3]\n [6.3 2.3 4.4 1.3]\n [6.2 3.4 5.4 2.3]\n [7.2 3.6 6.1 2.5]\n [5.6 2.9 3.6 1.3]\n [5.7 4.4 1.5 0.4]\n [5.8 2.7 3.9 1.2]\n [4.5 2.3 1.3 0.3]\n [5.5 2.4 3.8 1.1]\n [6.9 3.1 4.9 1.5]\n [5.0 3.4 1.6 0.4]\n [6.8 2.8 4.8 1.4]\n [5.0 3.5 1.6 0.6]\n [4.8 3.4 1.9 0.2]\n [6.3 3.4 5.6 2.4]\n [5.6 2.8 4.9 2.0]\n [6.8 3.2 5.9 2.3]\n [5.0 3.3 1.4 0.2]\n [5.1 3.7 1.5 0.4]\n [5.9 3.2 4.8 1.8]\n [4.6 3.1 1.5 0.2]\n [5.8 2.7 5.1 1.9]\n [4.8 3.1 1.6 0.2]\n [6.5 3.0 5.2 2.0]\n [4.9 2.5 4.5 1.7]\n [4.6 3.2 1.4 0.2]\n [6.4 3.2 5.3 2.3]\n [4.3 3.0 1.1 0.1]\n [5.6 3.0 4.1 1.3]\n [4.4 2.9 1.4 0.2]\n [5.5 2.4 3.7 1.0]\n [5.0 2.0 3.5 1.0]\n [5.1 3.5 1.4 0.2]\n [4.9 3.0 1.4 0.2]\n [4.9 2.4 3.3 1.0]\n [4.6 3.6 1.0 0.2]\n [5.9 3.0 4.2 1.5]\n [6.1 2.9 4.7 1.4]\n [5.0 3.4 1.5 0.2]\n [6.7 3.1 4.7 1.5]\n [5.7 2.9 4.2 1.3]\n [6.2 2.2 4.5 1.5]\n [7.0 3.2 4.7 1.4]\n [5.8 2.7 5.1 1.9]\n [5.4 3.4 1.7 0.2]\n [5.0 3.0 1.6 0.2]\n [6.1 2.6 5.6 1.4]\n [6.1 2.8 4.0 1.3]\n [7.2 3.0 5.8 1.6]\n [5.7 2.6 3.5 1.0]\n [6.3 2.8 5.1 1.5]\n [6.4 3.1 5.5 1.8]\n [6.3 2.5 4.9 1.5]\n [6.7 3.1 5.6 2.4]\n [4.9 3.1 1.5 0.1]]\n\u001b[1;31mLength:\u001b[0m          120\n\u001b[1;31mFile:\u001b[0m            c:\\program files\\python39\\lib\\site-packages\\numpy\\__init__.py\n\u001b[1;31mDocstring:\u001b[0m       <no docstring>\n",
        "X_validation": "\u001b[1;31mType:\u001b[0m            ndarray\n\u001b[1;31mString form:\u001b[0m    \n[[5.8 4.0 1.2 0.2]\n [5.1 2.5 3.0 1.1]\n [6.6 3.0 4.4 1.4]\n [5.4 3.9 1.3 0.4]\n [7.9 3.8 6.4 2.0]\n [6.3 3.3 4.7 1.6]\n [6.9 3.1 5.1 2.3]\n [5.1 3.8 1.9 0.4]\n [4.7 3.2 1.6 0.2]\n [6.9 3.2 5.7 2.3]\n [5.6 2.7 4.2 1.3]\n [5.4 3.9 1.7 0.4]\n [7.1 3.0 5.9 2.1]\n [6.4 3.2 4.5 1.5]\n [6.0 2.9 4.5 1.5]\n [4.4 3.2 1.3 0.2]\n [5.8 2.6 4.0 1.2]\n [5.6 3.0 4.5 1.5]\n [5.4 3.4 1.5 0.4]\n [5.0 3.2 1.2 0.2]\n [5.5 2.6 4.4 1.2]\n [5.4 3.0 4.5 1.5]\n [6.7 3.0 5.0 1.7]\n [5.0 3.5 1.3 0.3]\n [7.2 3.2 6.0 1.8]\n [5.7 2.8 4.1 1.3]\n [5.5 4.2 1.4 0.2]\n [5.1 3.8 1.5 0.3]\n [6.1 2.8 4.7 1.2]\n [6.3 2.5 5.0 1.9]]\n\u001b[1;31mLength:\u001b[0m          30\n\u001b[1;31mFile:\u001b[0m            c:\\program files\\python39\\lib\\site-packages\\numpy\\__init__.py\n\u001b[1;31mDocstring:\u001b[0m       <no docstring>\n",
        "Y_train": "\u001b[1;31mType:\u001b[0m            ndarray\n\u001b[1;31mString form:\u001b[0m    \n['Iris-versicolor' 'Iris-virginica' 'Iris-versicolor' 'Iris-virginica'\n 'Iris-virginica' 'Iris-setosa' 'Iris-versicolor' 'Iris-setosa'\n 'Iris-versicolor' 'Iris-virginica' 'Iris-virginica' 'Iris-setosa'\n 'Iris-virginica' 'Iris-virginica' 'Iris-versicolor' 'Iris-virginica'\n 'Iris-setosa' 'Iris-setosa' 'Iris-setosa' 'Iris-versicolor' 'Iris-setosa'\n 'Iris-setosa' 'Iris-virginica' 'Iris-virginica' 'Iris-virginica'\n 'Iris-virginica' 'Iris-virginica' 'Iris-versicolor' 'Iris-virginica'\n 'Iris-versicolor' 'Iris-setosa' 'Iris-virginica' 'Iris-virginica'\n 'Iris-setosa' 'Iris-setosa' 'Iris-virginica' 'Iris-setosa'\n 'Iris-virginica' 'Iris-virginica' 'Iris-versicolor' 'Iris-versicolor'\n 'Iris-virginica' 'Iris-virginica' 'Iris-setosa' 'Iris-versicolor'\n 'Iris-versicolor' 'Iris-virginica' 'Iris-versicolor' 'Iris-virginica'\n 'Iris-versicolor' 'Iris-setosa' 'Iris-setosa' 'Iris-setosa'\n 'Iris-virginica' 'Iris-setosa' 'Iris-versicolor' 'Iris-virginica'\n 'Iris-virginica' 'Iris-setosa' 'Iris-setosa' 'Iris-versicolor'\n 'Iris-setosa' 'Iris-virginica' 'Iris-versicolor' 'Iris-virginica'\n 'Iris-virginica' 'Iris-versicolor' 'Iris-virginica' 'Iris-virginica'\n 'Iris-versicolor' 'Iris-setosa' 'Iris-versicolor' 'Iris-setosa'\n 'Iris-versicolor' 'Iris-versicolor' 'Iris-setosa' 'Iris-versicolor'\n 'Iris-setosa' 'Iris-setosa' 'Iris-virginica' 'Iris-virginica'\n 'Iris-virginica' 'Iris-setosa' 'Iris-setosa' 'Iris-versicolor'\n 'Iris-setosa' 'Iris-virginica' 'Iris-setosa' 'Iris-virginica'\n 'Iris-virginica' 'Iris-setosa' 'Iris-virginica' 'Iris-setosa'\n 'Iris-versicolor' 'Iris-setosa' 'Iris-versicolor' 'Iris-versicolor'\n 'Iris-setosa' 'Iris-setosa' 'Iris-versicolor' 'Iris-setosa'\n 'Iris-versicolor' 'Iris-versicolor' 'Iris-setosa' 'Iris-versicolor'\n 'Iris-versicolor' 'Iris-versicolor' 'Iris-versicolor' 'Iris-virginica'\n 'Iris-setosa' 'Iris-setosa' 'Iris-virginica' 'Iris-versicolor'\n 'Iris-virginica' 'Iris-versicolor' 'Iris-virginica' 'Iris-virginica'\n 'Iris-versicolor' 'Iris-virginica' 'Iris-setosa']\n\u001b[1;31mLength:\u001b[0m          120\n\u001b[1;31mFile:\u001b[0m            c:\\program files\\python39\\lib\\site-packages\\numpy\\__init__.py\n\u001b[1;31mDocstring:\u001b[0m       <no docstring>\n",
        "Y_validation": "\u001b[1;31mType:\u001b[0m            ndarray\n\u001b[1;31mString form:\u001b[0m    \n['Iris-setosa' 'Iris-versicolor' 'Iris-versicolor' 'Iris-setosa'\n 'Iris-virginica' 'Iris-versicolor' 'Iris-virginica' 'Iris-setosa'\n 'Iris-setosa' 'Iris-virginica' 'Iris-versicolor' 'Iris-setosa'\n 'Iris-virginica' 'Iris-versicolor' 'Iris-versicolor' 'Iris-setosa'\n 'Iris-versicolor' 'Iris-versicolor' 'Iris-setosa' 'Iris-setosa'\n 'Iris-versicolor' 'Iris-versicolor' 'Iris-versicolor' 'Iris-setosa'\n 'Iris-virginica' 'Iris-versicolor' 'Iris-setosa' 'Iris-setosa'\n 'Iris-versicolor' 'Iris-virginica']\n\u001b[1;31mLength:\u001b[0m          30\n\u001b[1;31mFile:\u001b[0m            c:\\program files\\python39\\lib\\site-packages\\numpy\\__init__.py\n\u001b[1;31mDocstring:\u001b[0m       <no docstring>\n",
        "array": "\u001b[1;31mType:\u001b[0m            ndarray\n\u001b[1;31mString form:\u001b[0m    \n[[5.1 3.5 1.4 0.2 'Iris-setosa']\n [4.9 3.0 1.4 0.2 'Iris-setosa']\n [4.7 3.2 1.3 0.2 'Iris-setosa']\n [4.6 3.1 1.5 0.2 'Iris-setosa']\n [5.0 3.6 1.4 0.2 'Iris-setosa']\n [5.4 3.9 1.7 0.4 'Iris-setosa']\n [4.6 3.4 1.4 0.3 'Iris-setosa']\n [5.0 3.4 1.5 0.2 'Iris-setosa']\n [4.4 2.9 1.4 0.2 'Iris-setosa']\n [4.9 3.1 1.5 0.1 'Iris-setosa']\n [5.4 3.7 1.5 0.2 'Iris-setosa']\n [4.8 3.4 1.6 0.2 'Iris-setosa']\n [4.8 3.0 1.4 0.1 'Iris-setosa']\n [4.3 3.0 1.1 0.1 'Iris-setosa']\n [5.8 4.0 1.2 0.2 'Iris-setosa']\n [5.7 4.4 1.5 0.4 'Iris-setosa']\n [5.4 3.9 1.3 0.4 'Iris-setosa']\n [5.1 3.5 1.4 0.3 'Iris-setosa']\n [5.7 3.8 1.7 0.3 'Iris-setosa']\n [5.1 3.8 1.5 0.3 'Iris-setosa']\n [5.4 3.4 1.7 0.2 'Iris-setosa']\n [5.1 3.7 1.5 0.4 'Iris-setosa']\n [4.6 3.6 1.0 0.2 'Iris-setosa']\n [5.1 3.3 1.7 0.5 'Iris-setosa']\n [4.8 3.4 1.9 0.2 'Iris-setosa']\n [5.0 3.0 1.6 0.2 'Iris-setosa']\n [5.0 3.4 1.6 0.4 'Iris-setosa']\n [5.2 3.5 1.5 0.2 'Iris-setosa']\n [5.2 3.4 1.4 0.2 'Iris-setosa']\n [4.7 3.2 1.6 0.2 'Iris-setosa']\n [4.8 3.1 1.6 0.2 'Iris-setosa']\n [5.4 3.4 1.5 0.4 'Iris-setosa']\n [5.2 4.1 1.5 0.1 'Iris-setosa']\n [5.5 4.2 1.4 0.2 'Iris-setosa']\n [4.9 3.1 1.5 0.1 'Iris-setosa']\n [5.0 3.2 1.2 0.2 'Iris-setosa']\n [5.5 3.5 1.3 0.2 'Iris-setosa']\n [4.9 3.1 1.5 0.1 'Iris-setosa']\n [4.4 3.0 1.3 0.2 'Iris-setosa']\n [5.1 3.4 1.5 0.2 'Iris-setosa']\n [5.0 3.5 1.3 0.3 'Iris-setosa']\n [4.5 2.3 1.3 0.3 'Iris-setosa']\n [4.4 3.2 1.3 0.2 'Iris-setosa']\n [5.0 3.5 1.6 0.6 'Iris-setosa']\n [5.1 3.8 1.9 0.4 'Iris-setosa']\n [4.8 3.0 1.4 0.3 'Iris-setosa']\n [5.1 3.8 1.6 0.2 'Iris-setosa']\n [4.6 3.2 1.4 0.2 'Iris-setosa']\n [5.3 3.7 1.5 0.2 'Iris-setosa']\n [5.0 3.3 1.4 0.2 'Iris-setosa']\n [7.0 3.2 4.7 1.4 'Iris-versicolor']\n [6.4 3.2 4.5 1.5 'Iris-versicolor']\n [6.9 3.1 4.9 1.5 'Iris-versicolor']\n [5.5 2.3 4.0 1.3 'Iris-versicolor']\n [6.5 2.8 4.6 1.5 'Iris-versicolor']\n [5.7 2.8 4.5 1.3 'Iris-versicolor']\n [6.3 3.3 4.7 1.6 'Iris-versicolor']\n [4.9 2.4 3.3 1.0 'Iris-versicolor']\n [6.6 2.9 4.6 1.3 'Iris-versicolor']\n [5.2 2.7 3.9 1.4 'Iris-versicolor']\n [5.0 2.0 3.5 1.0 'Iris-versicolor']\n [5.9 3.0 4.2 1.5 'Iris-versicolor']\n [6.0 2.2 4.0 1.0 'Iris-versicolor']\n [6.1 2.9 4.7 1.4 'Iris-versicolor']\n [5.6 2.9 3.6 1.3 'Iris-versicolor']\n [6.7 3.1 4.4 1.4 'Iris-versicolor']\n [5.6 3.0 4.5 1.5 'Iris-versicolor']\n [5.8 2.7 4.1 1.0 'Iris-versicolor']\n [6.2 2.2 4.5 1.5 'Iris-versicolor']\n [5.6 2.5 3.9 1.1 'Iris-versicolor']\n [5.9 3.2 4.8 1.8 'Iris-versicolor']\n [6.1 2.8 4.0 1.3 'Iris-versicolor']\n [6.3 2.5 4.9 1.5 'Iris-versicolor']\n [6.1 2.8 4.7 1.2 'Iris-versicolor']\n [6.4 2.9 4.3 1.3 'Iris-versicolor']\n [6.6 3.0 4.4 1.4 'Iris-versicolor']\n [6.8 2.8 4.8 1.4 'Iris-versicolor']\n [6.7 3.0 5.0 1.7 'Iris-versicolor']\n [6.0 2.9 4.5 1.5 'Iris-versicolor']\n [5.7 2.6 3.5 1.0 'Iris-versicolor']\n [5.5 2.4 3.8 1.1 'Iris-versicolor']\n [5.5 2.4 3.7 1.0 'Iris-versicolor']\n [5.8 2.7 3.9 1.2 'Iris-versicolor']\n [6.0 2.7 5.1 1.6 'Iris-versicolor']\n [5.4 3.0 4.5 1.5 'Iris-versicolor']\n [6.0 3.4 4.5 1.6 'Iris-versicolor']\n [6.7 3.1 4.7 1.5 'Iris-versicolor']\n [6.3 2.3 4.4 1.3 'Iris-versicolor']\n [5.6 3.0 4.1 1.3 'Iris-versicolor']\n [5.5 2.5 4.0 1.3 'Iris-versicolor']\n [5.5 2.6 4.4 1.2 'Iris-versicolor']\n [6.1 3.0 4.6 1.4 'Iris-versicolor']\n [5.8 2.6 4.0 1.2 'Iris-versicolor']\n [5.0 2.3 3.3 1.0 'Iris-versicolor']\n [5.6 2.7 4.2 1.3 'Iris-versicolor']\n [5.7 3.0 4.2 1.2 'Iris-versicolor']\n [5.7 2.9 4.2 1.3 'Iris-versicolor']\n [6.2 2.9 4.3 1.3 'Iris-versicolor']\n [5.1 2.5 3.0 1.1 'Iris-versicolor']\n [5.7 2.8 4.1 1.3 'Iris-versicolor']\n [6.3 3.3 6.0 2.5 'Iris-virginica']\n [5.8 2.7 5.1 1.9 'Iris-virginica']\n [7.1 3.0 5.9 2.1 'Iris-virginica']\n [6.3 2.9 5.6 1.8 'Iris-virginica']\n [6.5 3.0 5.8 2.2 'Iris-virginica']\n [7.6 3.0 6.6 2.1 'Iris-virginica']\n [4.9 2.5 4.5 1.7 'Iris-virginica']\n [7.3 2.9 6.3 1.8 'Iris-virginica']\n [6.7 2.5 5.8 1.8 'Iris-virginica']\n [7.2 3.6 6.1 2.5 'Iris-virginica']\n [6.5 3.2 5.1 2.0 'Iris-virginica']\n [6.4 2.7 5.3 1.9 'Iris-virginica']\n [6.8 3.0 5.5 2.1 'Iris-virginica']\n [5.7 2.5 5.0 2.0 'Iris-virginica']\n [5.8 2.8 5.1 2.4 'Iris-virginica']\n [6.4 3.2 5.3 2.3 'Iris-virginica']\n [6.5 3.0 5.5 1.8 'Iris-virginica']\n [7.7 3.8 6.7 2.2 'Iris-virginica']\n [7.7 2.6 6.9 2.3 'Iris-virginica']\n [6.0 2.2 5.0 1.5 'Iris-virginica']\n [6.9 3.2 5.7 2.3 'Iris-virginica']\n [5.6 2.8 4.9 2.0 'Iris-virginica']\n [7.7 2.8 6.7 2.0 'Iris-virginica']\n [6.3 2.7 4.9 1.8 'Iris-virginica']\n [6.7 3.3 5.7 2.1 'Iris-virginica']\n [7.2 3.2 6.0 1.8 'Iris-virginica']\n [6.2 2.8 4.8 1.8 'Iris-virginica']\n [6.1 3.0 4.9 1.8 'Iris-virginica']\n [6.4 2.8 5.6 2.1 'Iris-virginica']\n [7.2 3.0 5.8 1.6 'Iris-virginica']\n [7.4 2.8 6.1 1.9 'Iris-virginica']\n [7.9 3.8 6.4 2.0 'Iris-virginica']\n [6.4 2.8 5.6 2.2 'Iris-virginica']\n [6.3 2.8 5.1 1.5 'Iris-virginica']\n [6.1 2.6 5.6 1.4 'Iris-virginica']\n [7.7 3.0 6.1 2.3 'Iris-virginica']\n [6.3 3.4 5.6 2.4 'Iris-virginica']\n [6.4 3.1 5.5 1.8 'Iris-virginica']\n [6.0 3.0 4.8 1.8 'Iris-virginica']\n [6.9 3.1 5.4 2.1 'Iris-virginica']\n [6.7 3.1 5.6 2.4 'Iris-virginica']\n [6.9 3.1 5.1 2.3 'Iris-virginica']\n [5.8 2.7 5.1 1.9 'Iris-virginica']\n [6.8 3.2 5.9 2.3 'Iris-virginica']\n [6.7 3.3 5.7 2.5 'Iris-virginica']\n [6.7 3.0 5.2 2.3 'Iris-virginica']\n [6.3 2.5 5.0 1.9 'Iris-virginica']\n [6.5 3.0 5.2 2.0 'Iris-virginica']\n [6.2 3.4 5.4 2.3 'Iris-virginica']\n [5.9 3.0 5.1 1.8 'Iris-virginica']]\n\u001b[1;31mLength:\u001b[0m          150\n\u001b[1;31mFile:\u001b[0m            c:\\program files\\python39\\lib\\site-packages\\numpy\\__init__.py\n\u001b[1;31mDocstring:\u001b[0m       <no docstring>\n",
        "y": "\u001b[1;31mType:\u001b[0m            ndarray\n\u001b[1;31mString form:\u001b[0m    \n['Iris-setosa' 'Iris-setosa' 'Iris-setosa' 'Iris-setosa' 'Iris-setosa'\n 'Iris-setosa' 'Iris-setosa' 'Iris-setosa' 'Iris-setosa' 'Iris-setosa'\n 'Iris-setosa' 'Iris-setosa' 'Iris-setosa' 'Iris-setosa' 'Iris-setosa'\n 'Iris-setosa' 'Iris-setosa' 'Iris-setosa' 'Iris-setosa' 'Iris-setosa'\n 'Iris-setosa' 'Iris-setosa' 'Iris-setosa' 'Iris-setosa' 'Iris-setosa'\n 'Iris-setosa' 'Iris-setosa' 'Iris-setosa' 'Iris-setosa' 'Iris-setosa'\n 'Iris-setosa' 'Iris-setosa' 'Iris-setosa' 'Iris-setosa' 'Iris-setosa'\n 'Iris-setosa' 'Iris-setosa' 'Iris-setosa' 'Iris-setosa' 'Iris-setosa'\n 'Iris-setosa' 'Iris-setosa' 'Iris-setosa' 'Iris-setosa' 'Iris-setosa'\n 'Iris-setosa' 'Iris-setosa' 'Iris-setosa' 'Iris-setosa' 'Iris-setosa'\n 'Iris-versicolor' 'Iris-versicolor' 'Iris-versicolor' 'Iris-versicolor'\n 'Iris-versicolor' 'Iris-versicolor' 'Iris-versicolor' 'Iris-versicolor'\n 'Iris-versicolor' 'Iris-versicolor' 'Iris-versicolor' 'Iris-versicolor'\n 'Iris-versicolor' 'Iris-versicolor' 'Iris-versicolor' 'Iris-versicolor'\n 'Iris-versicolor' 'Iris-versicolor' 'Iris-versicolor' 'Iris-versicolor'\n 'Iris-versicolor' 'Iris-versicolor' 'Iris-versicolor' 'Iris-versicolor'\n 'Iris-versicolor' 'Iris-versicolor' 'Iris-versicolor' 'Iris-versicolor'\n 'Iris-versicolor' 'Iris-versicolor' 'Iris-versicolor' 'Iris-versicolor'\n 'Iris-versicolor' 'Iris-versicolor' 'Iris-versicolor' 'Iris-versicolor'\n 'Iris-versicolor' 'Iris-versicolor' 'Iris-versicolor' 'Iris-versicolor'\n 'Iris-versicolor' 'Iris-versicolor' 'Iris-versicolor' 'Iris-versicolor'\n 'Iris-versicolor' 'Iris-versicolor' 'Iris-versicolor' 'Iris-versicolor'\n 'Iris-versicolor' 'Iris-versicolor' 'Iris-virginica' 'Iris-virginica'\n 'Iris-virginica' 'Iris-virginica' 'Iris-virginica' 'Iris-virginica'\n 'Iris-virginica' 'Iris-virginica' 'Iris-virginica' 'Iris-virginica'\n 'Iris-virginica' 'Iris-virginica' 'Iris-virginica' 'Iris-virginica'\n 'Iris-virginica' 'Iris-virginica' 'Iris-virginica' 'Iris-virginica'\n 'Iris-virginica' 'Iris-virginica' 'Iris-virginica' 'Iris-virginica'\n 'Iris-virginica' 'Iris-virginica' 'Iris-virginica' 'Iris-virginica'\n 'Iris-virginica' 'Iris-virginica' 'Iris-virginica' 'Iris-virginica'\n 'Iris-virginica' 'Iris-virginica' 'Iris-virginica' 'Iris-virginica'\n 'Iris-virginica' 'Iris-virginica' 'Iris-virginica' 'Iris-virginica'\n 'Iris-virginica' 'Iris-virginica' 'Iris-virginica' 'Iris-virginica'\n 'Iris-virginica' 'Iris-virginica' 'Iris-virginica' 'Iris-virginica'\n 'Iris-virginica' 'Iris-virginica' 'Iris-virginica' 'Iris-virginica']\n\u001b[1;31mLength:\u001b[0m          150\n\u001b[1;31mFile:\u001b[0m            c:\\program files\\python39\\lib\\site-packages\\numpy\\__init__.py\n\u001b[1;31mDocstring:\u001b[0m       <no docstring>\n"
       },
       "remote": [
        "dataset",
        "train_test_split"
       ],
       "time": "Wed, 07 Jul 2021 11:57:12 GMT",
       "type": "execution"
      },
      {
       "cell_id": "c07b559e-a4ef-4213-bb77-db9a1f0d4dd3",
       "cell_outputs": [],
       "cell_source": "# Make predictions on validation dataset\nmodel = SVC(gamma='auto')\nmodel.fit(X_train, Y_train)\npredictions = model.predict(X_validation)",
       "data_values": [],
       "data_vars": [],
       "definitions": [
        {
         "col_offset": 0,
         "dependencies": [
          "SVC"
         ],
         "end_col_offset": 25,
         "end_lineno": 2,
         "lineno": 2,
         "name": "model",
         "type": "assign"
        },
        {
         "col_offset": 0,
         "dependencies": [
          "X_train",
          "Y_train"
         ],
         "end_col_offset": 27,
         "end_lineno": 3,
         "lineno": 3,
         "name": "model",
         "type": "call"
        },
        {
         "col_offset": 0,
         "dependencies": [
          "model",
          "X_validation"
         ],
         "end_col_offset": 41,
         "end_lineno": 4,
         "lineno": 4,
         "name": "predictions",
         "type": "assign"
        }
       ],
       "execution_count": 4,
       "imports": [],
       "local": [
        "model",
        "predictions"
       ],
       "local_info": {
        "model": "\u001b[1;31mType:\u001b[0m        SVC\n\u001b[1;31mString form:\u001b[0m SVC(gamma='auto')\n\u001b[1;31mFile:\u001b[0m        c:\\program files\\python39\\lib\\site-packages\\sklearn\\svm\\_classes.py\n",
        "predictions": "\u001b[1;31mType:\u001b[0m            ndarray\n\u001b[1;31mString form:\u001b[0m    \n['Iris-setosa' 'Iris-versicolor' 'Iris-versicolor' 'Iris-setosa'\n 'Iris-virginica' 'Iris-versicolor' 'Iris-virginica' 'Iris-setosa'\n 'Iris-setosa' 'Iris-virginica' 'Iris-versicolor' 'Iris-setosa'\n 'Iris-virginica' 'Iris-versicolor' 'Iris-versicolor' 'Iris-setosa'\n 'Iris-versicolor' 'Iris-versicolor' 'Iris-setosa' 'Iris-setosa'\n 'Iris-versicolor' 'Iris-versicolor' 'Iris-virginica' 'Iris-setosa'\n 'Iris-virginica' 'Iris-versicolor' 'Iris-setosa' 'Iris-setosa'\n 'Iris-versicolor' 'Iris-virginica']\n\u001b[1;31mLength:\u001b[0m          30\n\u001b[1;31mFile:\u001b[0m            c:\\program files\\python39\\lib\\site-packages\\numpy\\__init__.py\n\u001b[1;31mDocstring:\u001b[0m       <no docstring>\n"
       },
       "remote": [
        "SVC",
        "X_train",
        "Y_train",
        "X_validation"
       ],
       "time": "Wed, 07 Jul 2021 11:57:12 GMT",
       "type": "execution"
      },
      {
       "cell_id": "b2e4583c-7a6b-4b00-a55f-6e20fa6b89ca",
       "cell_outputs": [
        {
         "name": "stdout",
         "output_type": "stream",
         "text": "0.9666666666666667\n[[11  0  0]\n [ 0 12  1]\n [ 0  0  6]]\n                 precision    recall  f1-score   support\n\n    Iris-setosa       1.00      1.00      1.00        11\nIris-versicolor       1.00      0.92      0.96        13\n Iris-virginica       0.86      1.00      0.92         6\n\n       accuracy                           0.97        30\n      macro avg       0.95      0.97      0.96        30\n   weighted avg       0.97      0.97      0.97        30\n\n"
        }
       ],
       "cell_source": "# Evaluate predictions\nprint(accuracy_score(Y_validation, predictions))\nprint(confusion_matrix(Y_validation, predictions))\nprint(classification_report(Y_validation, predictions))",
       "data_values": [],
       "data_vars": [],
       "definitions": [
        {
         "col_offset": 0,
         "dependencies": [
          "accuracy_score",
          "Y_validation",
          "predictions"
         ],
         "end_col_offset": 48,
         "end_lineno": 2,
         "lineno": 2,
         "name": "print",
         "type": "call"
        },
        {
         "col_offset": 0,
         "dependencies": [
          "confusion_matrix",
          "Y_validation",
          "predictions"
         ],
         "end_col_offset": 50,
         "end_lineno": 3,
         "lineno": 3,
         "name": "print",
         "type": "call"
        },
        {
         "col_offset": 0,
         "dependencies": [
          "classification_report",
          "Y_validation",
          "predictions"
         ],
         "end_col_offset": 55,
         "end_lineno": 4,
         "lineno": 4,
         "name": "print",
         "type": "call"
        }
       ],
       "execution_count": 5,
       "imports": [],
       "local": [],
       "local_info": {},
       "remote": [
        "print",
        "accuracy_score",
        "Y_validation",
        "predictions",
        "confusion_matrix",
        "classification_report"
       ],
       "time": "Wed, 07 Jul 2021 11:57:12 GMT",
       "type": "execution"
      }
     ],
     "environment": {
      "kernel": {
       "implementation": "ipython",
       "version": "7.22.0"
      },
      "language_info": {
       "mimetype": "text/x-python",
       "name": "python",
       "version": "3.9.2"
      },
      "time": "Wed, 07 Jul 2021 11:57:10 GMT",
      "user_agent": "Mozilla/5.0 (Windows NT 10.0; Win64; x64; rv:89.0) Gecko/20100101 Firefox/89.0"
     },
     "modules": {
      "numpy": {
       "alias": "np",
       "version": "1.19.5"
      },
      "pandas": {
       "imports": [
        "read_csv"
       ],
       "version": "1.2.3"
      },
      "sklearn.metrics": {
       "imports": [
        "classification_report",
        "confusion_matrix",
        "accuracy_score"
       ],
       "version": ""
      },
      "sklearn.model_selection": {
       "imports": [
        "train_test_split"
       ],
       "version": ""
      },
      "sklearn.svm": {
       "imports": [
        "SVC"
       ],
       "version": ""
      }
     }
    },
    {
     "cells": [
      "beed23df-eed2-4dfc-9f75-97596457a98a",
      "e60d7751-a842-4791-b6cb-4ea6edecba57",
      "69ebfff9-2ec7-45b8-976c-5b368e076da0",
      "c07b559e-a4ef-4213-bb77-db9a1f0d4dd3",
      "b2e4583c-7a6b-4b00-a55f-6e20fa6b89ca"
     ],
     "data": [
      {
       "cell_id": "beed23df-eed2-4dfc-9f75-97596457a98a",
       "cell_outputs": [],
       "cell_source": "import numpy as np\nfrom pandas import read_csv\nfrom sklearn.model_selection import train_test_split\nfrom sklearn.metrics import classification_report\nfrom sklearn.metrics import confusion_matrix\nfrom sklearn.metrics import accuracy_score\nfrom sklearn.svm import SVC\n",
       "data_values": [],
       "data_vars": [],
       "definitions": [],
       "execution_count": 1,
       "imports": [
        "np",
        "read_csv",
        "train_test_split",
        "classification_report",
        "confusion_matrix",
        "accuracy_score",
        "SVC"
       ],
       "local": [],
       "local_info": {},
       "remote": [],
       "time": "Wed, 07 Jul 2021 14:46:38 GMT",
       "type": "execution"
      },
      {
       "cell_id": "e60d7751-a842-4791-b6cb-4ea6edecba57",
       "cell_outputs": [],
       "cell_source": "# Load dataset\nurl = \"https://raw.githubusercontent.com/jbrownlee/Datasets/master/iris.csv\"\nnames = ['sepal-length', 'sepal-width', 'petal-length', 'petal-width', 'class']\ndataset = read_csv(url, names=names)",
       "data_values": [
        "https://raw.githubusercontent.com/jbrownlee/Datasets/master/iris.csv"
       ],
       "data_vars": [
        "url",
        "dataset"
       ],
       "definitions": [
        {
         "col_offset": 0,
         "dependencies": [],
         "end_col_offset": 76,
         "end_lineno": 2,
         "lineno": 2,
         "name": "url",
         "type": "assign"
        },
        {
         "col_offset": 0,
         "dependencies": [],
         "end_col_offset": 79,
         "end_lineno": 3,
         "lineno": 3,
         "name": "names",
         "type": "assign"
        },
        {
         "col_offset": 0,
         "dependencies": [
          "read_csv",
          "url",
          "names"
         ],
         "end_col_offset": 36,
         "end_lineno": 4,
         "lineno": 4,
         "name": "dataset",
         "type": "assign"
        }
       ],
       "execution_count": 2,
       "imports": [],
       "local": [
        "url",
        "names",
        "dataset"
       ],
       "local_info": {
        "dataset": "\u001b[1;31mType:\u001b[0m        DataFrame\n\u001b[1;31mString form:\u001b[0m\n     sepal-length  sepal-width  petal-length  petal-width           class\n0             5.1          3.5           1.4          0.2     Iris-setosa\n1             4.9          3.0           1.4          0.2     Iris-setosa\n2             4.7          3.2           1.3          0.2     Iris-setosa\n3             4.6          3.1           1.5          0.2     Iris-setosa\n4             5.0          3.6           1.4          0.2     Iris-setosa\n..            ...          ...           ...          ...             ...\n145           6.7          3.0           5.2          2.3  Iris-virginica\n146           6.3          2.5           5.0          1.9  Iris-virginica\n147           6.5          3.0           5.2          2.0  Iris-virginica\n148           6.2          3.4           5.4          2.3  Iris-virginica\n149           5.9          3.0           5.1          1.8  Iris-virginica\n\n[150 rows x 5 columns]\n\u001b[1;31mLength:\u001b[0m      150\n\u001b[1;31mFile:\u001b[0m        c:\\program files\\python39\\lib\\site-packages\\pandas\\core\\frame.py\n",
        "names": "\u001b[1;31mType:\u001b[0m        list\n\u001b[1;31mString form:\u001b[0m ['sepal-length', 'sepal-width', 'petal-length', 'petal-width', 'class']\n\u001b[1;31mLength:\u001b[0m      5\n\u001b[1;31mDocstring:\u001b[0m  \nBuilt-in mutable sequence.\n\nIf no argument is given, the constructor creates a new empty list.\nThe argument must be an iterable if specified.\n",
        "url": "\u001b[1;31mType:\u001b[0m        str\n\u001b[1;31mString form:\u001b[0m https://raw.githubusercontent.com/jbrownlee/Datasets/master/iris.csv\n\u001b[1;31mLength:\u001b[0m      68\n\u001b[1;31mDocstring:\u001b[0m  \nstr(object='') -> str\nstr(bytes_or_buffer[, encoding[, errors]]) -> str\n\nCreate a new string object from the given object. If encoding or\nerrors is specified, then the object must expose a data buffer\nthat will be decoded using the given encoding and error handler.\nOtherwise, returns the result of object.__str__() (if defined)\nor repr(object).\nencoding defaults to sys.getdefaultencoding().\nerrors defaults to 'strict'.\n"
       },
       "remote": [
        "read_csv"
       ],
       "time": "Wed, 07 Jul 2021 14:46:38 GMT",
       "type": "execution"
      },
      {
       "cell_id": "69ebfff9-2ec7-45b8-976c-5b368e076da0",
       "cell_outputs": [],
       "cell_source": "# Split-out validation dataset\narray = dataset.values\nX = array[:, 0:4]\ny = array[:, 4]\nX_train, X_validation, Y_train, Y_validation = train_test_split(\n    X, y, test_size=0.20, random_state=1)",
       "data_values": [],
       "data_vars": [],
       "definitions": [
        {
         "col_offset": 0,
         "dependencies": [
          "dataset"
         ],
         "end_col_offset": 22,
         "end_lineno": 2,
         "lineno": 2,
         "name": "array",
         "type": "assign"
        },
        {
         "col_offset": 0,
         "dependencies": [
          "array"
         ],
         "end_col_offset": 17,
         "end_lineno": 3,
         "lineno": 3,
         "name": "X",
         "type": "assign"
        },
        {
         "col_offset": 0,
         "dependencies": [
          "array"
         ],
         "end_col_offset": 15,
         "end_lineno": 4,
         "lineno": 4,
         "name": "y",
         "type": "assign"
        },
        {
         "col_offset": 0,
         "dependencies": [
          "train_test_split",
          "X",
          "y"
         ],
         "end_col_offset": 41,
         "end_lineno": 6,
         "lineno": 5,
         "name": "X_train",
         "type": "assign"
        },
        {
         "col_offset": 0,
         "dependencies": [
          "train_test_split",
          "X",
          "y"
         ],
         "end_col_offset": 41,
         "end_lineno": 6,
         "lineno": 5,
         "name": "X_validation",
         "type": "assign"
        },
        {
         "col_offset": 0,
         "dependencies": [
          "train_test_split",
          "X",
          "y"
         ],
         "end_col_offset": 41,
         "end_lineno": 6,
         "lineno": 5,
         "name": "Y_train",
         "type": "assign"
        },
        {
         "col_offset": 0,
         "dependencies": [
          "train_test_split",
          "X",
          "y"
         ],
         "end_col_offset": 41,
         "end_lineno": 6,
         "lineno": 5,
         "name": "Y_validation",
         "type": "assign"
        }
       ],
       "execution_count": 3,
       "imports": [],
       "local": [
        "array",
        "X",
        "y",
        "X_train",
        "X_validation",
        "Y_train",
        "Y_validation"
       ],
       "local_info": {
        "X": "\u001b[1;31mType:\u001b[0m            ndarray\n\u001b[1;31mString form:\u001b[0m    \n[[5.1 3.5 1.4 0.2]\n [4.9 3.0 1.4 0.2]\n [4.7 3.2 1.3 0.2]\n [4.6 3.1 1.5 0.2]\n [5.0 3.6 1.4 0.2]\n [5.4 3.9 1.7 0.4]\n [4.6 3.4 1.4 0.3]\n [5.0 3.4 1.5 0.2]\n [4.4 2.9 1.4 0.2]\n [4.9 3.1 1.5 0.1]\n [5.4 3.7 1.5 0.2]\n [4.8 3.4 1.6 0.2]\n [4.8 3.0 1.4 0.1]\n [4.3 3.0 1.1 0.1]\n [5.8 4.0 1.2 0.2]\n [5.7 4.4 1.5 0.4]\n [5.4 3.9 1.3 0.4]\n [5.1 3.5 1.4 0.3]\n [5.7 3.8 1.7 0.3]\n [5.1 3.8 1.5 0.3]\n [5.4 3.4 1.7 0.2]\n [5.1 3.7 1.5 0.4]\n [4.6 3.6 1.0 0.2]\n [5.1 3.3 1.7 0.5]\n [4.8 3.4 1.9 0.2]\n [5.0 3.0 1.6 0.2]\n [5.0 3.4 1.6 0.4]\n [5.2 3.5 1.5 0.2]\n [5.2 3.4 1.4 0.2]\n [4.7 3.2 1.6 0.2]\n [4.8 3.1 1.6 0.2]\n [5.4 3.4 1.5 0.4]\n [5.2 4.1 1.5 0.1]\n [5.5 4.2 1.4 0.2]\n [4.9 3.1 1.5 0.1]\n [5.0 3.2 1.2 0.2]\n [5.5 3.5 1.3 0.2]\n [4.9 3.1 1.5 0.1]\n [4.4 3.0 1.3 0.2]\n [5.1 3.4 1.5 0.2]\n [5.0 3.5 1.3 0.3]\n [4.5 2.3 1.3 0.3]\n [4.4 3.2 1.3 0.2]\n [5.0 3.5 1.6 0.6]\n [5.1 3.8 1.9 0.4]\n [4.8 3.0 1.4 0.3]\n [5.1 3.8 1.6 0.2]\n [4.6 3.2 1.4 0.2]\n [5.3 3.7 1.5 0.2]\n [5.0 3.3 1.4 0.2]\n [7.0 3.2 4.7 1.4]\n [6.4 3.2 4.5 1.5]\n [6.9 3.1 4.9 1.5]\n [5.5 2.3 4.0 1.3]\n [6.5 2.8 4.6 1.5]\n [5.7 2.8 4.5 1.3]\n [6.3 3.3 4.7 1.6]\n [4.9 2.4 3.3 1.0]\n [6.6 2.9 4.6 1.3]\n [5.2 2.7 3.9 1.4]\n [5.0 2.0 3.5 1.0]\n [5.9 3.0 4.2 1.5]\n [6.0 2.2 4.0 1.0]\n [6.1 2.9 4.7 1.4]\n [5.6 2.9 3.6 1.3]\n [6.7 3.1 4.4 1.4]\n [5.6 3.0 4.5 1.5]\n [5.8 2.7 4.1 1.0]\n [6.2 2.2 4.5 1.5]\n [5.6 2.5 3.9 1.1]\n [5.9 3.2 4.8 1.8]\n [6.1 2.8 4.0 1.3]\n [6.3 2.5 4.9 1.5]\n [6.1 2.8 4.7 1.2]\n [6.4 2.9 4.3 1.3]\n [6.6 3.0 4.4 1.4]\n [6.8 2.8 4.8 1.4]\n [6.7 3.0 5.0 1.7]\n [6.0 2.9 4.5 1.5]\n [5.7 2.6 3.5 1.0]\n [5.5 2.4 3.8 1.1]\n [5.5 2.4 3.7 1.0]\n [5.8 2.7 3.9 1.2]\n [6.0 2.7 5.1 1.6]\n [5.4 3.0 4.5 1.5]\n [6.0 3.4 4.5 1.6]\n [6.7 3.1 4.7 1.5]\n [6.3 2.3 4.4 1.3]\n [5.6 3.0 4.1 1.3]\n [5.5 2.5 4.0 1.3]\n [5.5 2.6 4.4 1.2]\n [6.1 3.0 4.6 1.4]\n [5.8 2.6 4.0 1.2]\n [5.0 2.3 3.3 1.0]\n [5.6 2.7 4.2 1.3]\n [5.7 3.0 4.2 1.2]\n [5.7 2.9 4.2 1.3]\n [6.2 2.9 4.3 1.3]\n [5.1 2.5 3.0 1.1]\n [5.7 2.8 4.1 1.3]\n [6.3 3.3 6.0 2.5]\n [5.8 2.7 5.1 1.9]\n [7.1 3.0 5.9 2.1]\n [6.3 2.9 5.6 1.8]\n [6.5 3.0 5.8 2.2]\n [7.6 3.0 6.6 2.1]\n [4.9 2.5 4.5 1.7]\n [7.3 2.9 6.3 1.8]\n [6.7 2.5 5.8 1.8]\n [7.2 3.6 6.1 2.5]\n [6.5 3.2 5.1 2.0]\n [6.4 2.7 5.3 1.9]\n [6.8 3.0 5.5 2.1]\n [5.7 2.5 5.0 2.0]\n [5.8 2.8 5.1 2.4]\n [6.4 3.2 5.3 2.3]\n [6.5 3.0 5.5 1.8]\n [7.7 3.8 6.7 2.2]\n [7.7 2.6 6.9 2.3]\n [6.0 2.2 5.0 1.5]\n [6.9 3.2 5.7 2.3]\n [5.6 2.8 4.9 2.0]\n [7.7 2.8 6.7 2.0]\n [6.3 2.7 4.9 1.8]\n [6.7 3.3 5.7 2.1]\n [7.2 3.2 6.0 1.8]\n [6.2 2.8 4.8 1.8]\n [6.1 3.0 4.9 1.8]\n [6.4 2.8 5.6 2.1]\n [7.2 3.0 5.8 1.6]\n [7.4 2.8 6.1 1.9]\n [7.9 3.8 6.4 2.0]\n [6.4 2.8 5.6 2.2]\n [6.3 2.8 5.1 1.5]\n [6.1 2.6 5.6 1.4]\n [7.7 3.0 6.1 2.3]\n [6.3 3.4 5.6 2.4]\n [6.4 3.1 5.5 1.8]\n [6.0 3.0 4.8 1.8]\n [6.9 3.1 5.4 2.1]\n [6.7 3.1 5.6 2.4]\n [6.9 3.1 5.1 2.3]\n [5.8 2.7 5.1 1.9]\n [6.8 3.2 5.9 2.3]\n [6.7 3.3 5.7 2.5]\n [6.7 3.0 5.2 2.3]\n [6.3 2.5 5.0 1.9]\n [6.5 3.0 5.2 2.0]\n [6.2 3.4 5.4 2.3]\n [5.9 3.0 5.1 1.8]]\n\u001b[1;31mLength:\u001b[0m          150\n\u001b[1;31mFile:\u001b[0m            c:\\program files\\python39\\lib\\site-packages\\numpy\\__init__.py\n\u001b[1;31mDocstring:\u001b[0m       <no docstring>\n",
        "X_train": "\u001b[1;31mType:\u001b[0m            ndarray\n\u001b[1;31mString form:\u001b[0m    \n[[6.1 3.0 4.6 1.4]\n [7.7 3.0 6.1 2.3]\n [5.6 2.5 3.9 1.1]\n [6.4 2.8 5.6 2.1]\n [5.8 2.8 5.1 2.4]\n [5.3 3.7 1.5 0.2]\n [5.5 2.3 4.0 1.3]\n [5.2 3.4 1.4 0.2]\n [6.5 2.8 4.6 1.5]\n [6.7 2.5 5.8 1.8]\n [6.8 3.0 5.5 2.1]\n [5.1 3.5 1.4 0.3]\n [6.0 2.2 5.0 1.5]\n [6.3 2.9 5.6 1.8]\n [6.6 2.9 4.6 1.3]\n [7.7 2.6 6.9 2.3]\n [5.7 3.8 1.7 0.3]\n [5.0 3.6 1.4 0.2]\n [4.8 3.0 1.4 0.3]\n [5.2 2.7 3.9 1.4]\n [5.1 3.4 1.5 0.2]\n [5.5 3.5 1.3 0.2]\n [7.7 3.8 6.7 2.2]\n [6.9 3.1 5.4 2.1]\n [7.3 2.9 6.3 1.8]\n [6.4 2.8 5.6 2.2]\n [6.2 2.8 4.8 1.8]\n [6.0 3.4 4.5 1.6]\n [7.7 2.8 6.7 2.0]\n [5.7 3.0 4.2 1.2]\n [4.8 3.4 1.6 0.2]\n [5.7 2.5 5.0 2.0]\n [6.3 2.7 4.9 1.8]\n [4.8 3.0 1.4 0.1]\n [4.7 3.2 1.3 0.2]\n [6.5 3.0 5.8 2.2]\n [4.6 3.4 1.4 0.3]\n [6.1 3.0 4.9 1.8]\n [6.5 3.2 5.1 2.0]\n [6.7 3.1 4.4 1.4]\n [5.7 2.8 4.5 1.3]\n [6.7 3.3 5.7 2.5]\n [6.0 3.0 4.8 1.8]\n [5.1 3.8 1.6 0.2]\n [6.0 2.2 4.0 1.0]\n [6.4 2.9 4.3 1.3]\n [6.5 3.0 5.5 1.8]\n [5.0 2.3 3.3 1.0]\n [6.3 3.3 6.0 2.5]\n [5.5 2.5 4.0 1.3]\n [5.4 3.7 1.5 0.2]\n [4.9 3.1 1.5 0.1]\n [5.2 4.1 1.5 0.1]\n [6.7 3.3 5.7 2.1]\n [4.4 3.0 1.3 0.2]\n [6.0 2.7 5.1 1.6]\n [6.4 2.7 5.3 1.9]\n [5.9 3.0 5.1 1.8]\n [5.2 3.5 1.5 0.2]\n [5.1 3.3 1.7 0.5]\n [5.8 2.7 4.1 1.0]\n [4.9 3.1 1.5 0.1]\n [7.4 2.8 6.1 1.9]\n [6.2 2.9 4.3 1.3]\n [7.6 3.0 6.6 2.1]\n [6.7 3.0 5.2 2.3]\n [6.3 2.3 4.4 1.3]\n [6.2 3.4 5.4 2.3]\n [7.2 3.6 6.1 2.5]\n [5.6 2.9 3.6 1.3]\n [5.7 4.4 1.5 0.4]\n [5.8 2.7 3.9 1.2]\n [4.5 2.3 1.3 0.3]\n [5.5 2.4 3.8 1.1]\n [6.9 3.1 4.9 1.5]\n [5.0 3.4 1.6 0.4]\n [6.8 2.8 4.8 1.4]\n [5.0 3.5 1.6 0.6]\n [4.8 3.4 1.9 0.2]\n [6.3 3.4 5.6 2.4]\n [5.6 2.8 4.9 2.0]\n [6.8 3.2 5.9 2.3]\n [5.0 3.3 1.4 0.2]\n [5.1 3.7 1.5 0.4]\n [5.9 3.2 4.8 1.8]\n [4.6 3.1 1.5 0.2]\n [5.8 2.7 5.1 1.9]\n [4.8 3.1 1.6 0.2]\n [6.5 3.0 5.2 2.0]\n [4.9 2.5 4.5 1.7]\n [4.6 3.2 1.4 0.2]\n [6.4 3.2 5.3 2.3]\n [4.3 3.0 1.1 0.1]\n [5.6 3.0 4.1 1.3]\n [4.4 2.9 1.4 0.2]\n [5.5 2.4 3.7 1.0]\n [5.0 2.0 3.5 1.0]\n [5.1 3.5 1.4 0.2]\n [4.9 3.0 1.4 0.2]\n [4.9 2.4 3.3 1.0]\n [4.6 3.6 1.0 0.2]\n [5.9 3.0 4.2 1.5]\n [6.1 2.9 4.7 1.4]\n [5.0 3.4 1.5 0.2]\n [6.7 3.1 4.7 1.5]\n [5.7 2.9 4.2 1.3]\n [6.2 2.2 4.5 1.5]\n [7.0 3.2 4.7 1.4]\n [5.8 2.7 5.1 1.9]\n [5.4 3.4 1.7 0.2]\n [5.0 3.0 1.6 0.2]\n [6.1 2.6 5.6 1.4]\n [6.1 2.8 4.0 1.3]\n [7.2 3.0 5.8 1.6]\n [5.7 2.6 3.5 1.0]\n [6.3 2.8 5.1 1.5]\n [6.4 3.1 5.5 1.8]\n [6.3 2.5 4.9 1.5]\n [6.7 3.1 5.6 2.4]\n [4.9 3.1 1.5 0.1]]\n\u001b[1;31mLength:\u001b[0m          120\n\u001b[1;31mFile:\u001b[0m            c:\\program files\\python39\\lib\\site-packages\\numpy\\__init__.py\n\u001b[1;31mDocstring:\u001b[0m       <no docstring>\n",
        "X_validation": "\u001b[1;31mType:\u001b[0m            ndarray\n\u001b[1;31mString form:\u001b[0m    \n[[5.8 4.0 1.2 0.2]\n [5.1 2.5 3.0 1.1]\n [6.6 3.0 4.4 1.4]\n [5.4 3.9 1.3 0.4]\n [7.9 3.8 6.4 2.0]\n [6.3 3.3 4.7 1.6]\n [6.9 3.1 5.1 2.3]\n [5.1 3.8 1.9 0.4]\n [4.7 3.2 1.6 0.2]\n [6.9 3.2 5.7 2.3]\n [5.6 2.7 4.2 1.3]\n [5.4 3.9 1.7 0.4]\n [7.1 3.0 5.9 2.1]\n [6.4 3.2 4.5 1.5]\n [6.0 2.9 4.5 1.5]\n [4.4 3.2 1.3 0.2]\n [5.8 2.6 4.0 1.2]\n [5.6 3.0 4.5 1.5]\n [5.4 3.4 1.5 0.4]\n [5.0 3.2 1.2 0.2]\n [5.5 2.6 4.4 1.2]\n [5.4 3.0 4.5 1.5]\n [6.7 3.0 5.0 1.7]\n [5.0 3.5 1.3 0.3]\n [7.2 3.2 6.0 1.8]\n [5.7 2.8 4.1 1.3]\n [5.5 4.2 1.4 0.2]\n [5.1 3.8 1.5 0.3]\n [6.1 2.8 4.7 1.2]\n [6.3 2.5 5.0 1.9]]\n\u001b[1;31mLength:\u001b[0m          30\n\u001b[1;31mFile:\u001b[0m            c:\\program files\\python39\\lib\\site-packages\\numpy\\__init__.py\n\u001b[1;31mDocstring:\u001b[0m       <no docstring>\n",
        "Y_train": "\u001b[1;31mType:\u001b[0m            ndarray\n\u001b[1;31mString form:\u001b[0m    \n['Iris-versicolor' 'Iris-virginica' 'Iris-versicolor' 'Iris-virginica'\n 'Iris-virginica' 'Iris-setosa' 'Iris-versicolor' 'Iris-setosa'\n 'Iris-versicolor' 'Iris-virginica' 'Iris-virginica' 'Iris-setosa'\n 'Iris-virginica' 'Iris-virginica' 'Iris-versicolor' 'Iris-virginica'\n 'Iris-setosa' 'Iris-setosa' 'Iris-setosa' 'Iris-versicolor' 'Iris-setosa'\n 'Iris-setosa' 'Iris-virginica' 'Iris-virginica' 'Iris-virginica'\n 'Iris-virginica' 'Iris-virginica' 'Iris-versicolor' 'Iris-virginica'\n 'Iris-versicolor' 'Iris-setosa' 'Iris-virginica' 'Iris-virginica'\n 'Iris-setosa' 'Iris-setosa' 'Iris-virginica' 'Iris-setosa'\n 'Iris-virginica' 'Iris-virginica' 'Iris-versicolor' 'Iris-versicolor'\n 'Iris-virginica' 'Iris-virginica' 'Iris-setosa' 'Iris-versicolor'\n 'Iris-versicolor' 'Iris-virginica' 'Iris-versicolor' 'Iris-virginica'\n 'Iris-versicolor' 'Iris-setosa' 'Iris-setosa' 'Iris-setosa'\n 'Iris-virginica' 'Iris-setosa' 'Iris-versicolor' 'Iris-virginica'\n 'Iris-virginica' 'Iris-setosa' 'Iris-setosa' 'Iris-versicolor'\n 'Iris-setosa' 'Iris-virginica' 'Iris-versicolor' 'Iris-virginica'\n 'Iris-virginica' 'Iris-versicolor' 'Iris-virginica' 'Iris-virginica'\n 'Iris-versicolor' 'Iris-setosa' 'Iris-versicolor' 'Iris-setosa'\n 'Iris-versicolor' 'Iris-versicolor' 'Iris-setosa' 'Iris-versicolor'\n 'Iris-setosa' 'Iris-setosa' 'Iris-virginica' 'Iris-virginica'\n 'Iris-virginica' 'Iris-setosa' 'Iris-setosa' 'Iris-versicolor'\n 'Iris-setosa' 'Iris-virginica' 'Iris-setosa' 'Iris-virginica'\n 'Iris-virginica' 'Iris-setosa' 'Iris-virginica' 'Iris-setosa'\n 'Iris-versicolor' 'Iris-setosa' 'Iris-versicolor' 'Iris-versicolor'\n 'Iris-setosa' 'Iris-setosa' 'Iris-versicolor' 'Iris-setosa'\n 'Iris-versicolor' 'Iris-versicolor' 'Iris-setosa' 'Iris-versicolor'\n 'Iris-versicolor' 'Iris-versicolor' 'Iris-versicolor' 'Iris-virginica'\n 'Iris-setosa' 'Iris-setosa' 'Iris-virginica' 'Iris-versicolor'\n 'Iris-virginica' 'Iris-versicolor' 'Iris-virginica' 'Iris-virginica'\n 'Iris-versicolor' 'Iris-virginica' 'Iris-setosa']\n\u001b[1;31mLength:\u001b[0m          120\n\u001b[1;31mFile:\u001b[0m            c:\\program files\\python39\\lib\\site-packages\\numpy\\__init__.py\n\u001b[1;31mDocstring:\u001b[0m       <no docstring>\n",
        "Y_validation": "\u001b[1;31mType:\u001b[0m            ndarray\n\u001b[1;31mString form:\u001b[0m    \n['Iris-setosa' 'Iris-versicolor' 'Iris-versicolor' 'Iris-setosa'\n 'Iris-virginica' 'Iris-versicolor' 'Iris-virginica' 'Iris-setosa'\n 'Iris-setosa' 'Iris-virginica' 'Iris-versicolor' 'Iris-setosa'\n 'Iris-virginica' 'Iris-versicolor' 'Iris-versicolor' 'Iris-setosa'\n 'Iris-versicolor' 'Iris-versicolor' 'Iris-setosa' 'Iris-setosa'\n 'Iris-versicolor' 'Iris-versicolor' 'Iris-versicolor' 'Iris-setosa'\n 'Iris-virginica' 'Iris-versicolor' 'Iris-setosa' 'Iris-setosa'\n 'Iris-versicolor' 'Iris-virginica']\n\u001b[1;31mLength:\u001b[0m          30\n\u001b[1;31mFile:\u001b[0m            c:\\program files\\python39\\lib\\site-packages\\numpy\\__init__.py\n\u001b[1;31mDocstring:\u001b[0m       <no docstring>\n",
        "array": "\u001b[1;31mType:\u001b[0m            ndarray\n\u001b[1;31mString form:\u001b[0m    \n[[5.1 3.5 1.4 0.2 'Iris-setosa']\n [4.9 3.0 1.4 0.2 'Iris-setosa']\n [4.7 3.2 1.3 0.2 'Iris-setosa']\n [4.6 3.1 1.5 0.2 'Iris-setosa']\n [5.0 3.6 1.4 0.2 'Iris-setosa']\n [5.4 3.9 1.7 0.4 'Iris-setosa']\n [4.6 3.4 1.4 0.3 'Iris-setosa']\n [5.0 3.4 1.5 0.2 'Iris-setosa']\n [4.4 2.9 1.4 0.2 'Iris-setosa']\n [4.9 3.1 1.5 0.1 'Iris-setosa']\n [5.4 3.7 1.5 0.2 'Iris-setosa']\n [4.8 3.4 1.6 0.2 'Iris-setosa']\n [4.8 3.0 1.4 0.1 'Iris-setosa']\n [4.3 3.0 1.1 0.1 'Iris-setosa']\n [5.8 4.0 1.2 0.2 'Iris-setosa']\n [5.7 4.4 1.5 0.4 'Iris-setosa']\n [5.4 3.9 1.3 0.4 'Iris-setosa']\n [5.1 3.5 1.4 0.3 'Iris-setosa']\n [5.7 3.8 1.7 0.3 'Iris-setosa']\n [5.1 3.8 1.5 0.3 'Iris-setosa']\n [5.4 3.4 1.7 0.2 'Iris-setosa']\n [5.1 3.7 1.5 0.4 'Iris-setosa']\n [4.6 3.6 1.0 0.2 'Iris-setosa']\n [5.1 3.3 1.7 0.5 'Iris-setosa']\n [4.8 3.4 1.9 0.2 'Iris-setosa']\n [5.0 3.0 1.6 0.2 'Iris-setosa']\n [5.0 3.4 1.6 0.4 'Iris-setosa']\n [5.2 3.5 1.5 0.2 'Iris-setosa']\n [5.2 3.4 1.4 0.2 'Iris-setosa']\n [4.7 3.2 1.6 0.2 'Iris-setosa']\n [4.8 3.1 1.6 0.2 'Iris-setosa']\n [5.4 3.4 1.5 0.4 'Iris-setosa']\n [5.2 4.1 1.5 0.1 'Iris-setosa']\n [5.5 4.2 1.4 0.2 'Iris-setosa']\n [4.9 3.1 1.5 0.1 'Iris-setosa']\n [5.0 3.2 1.2 0.2 'Iris-setosa']\n [5.5 3.5 1.3 0.2 'Iris-setosa']\n [4.9 3.1 1.5 0.1 'Iris-setosa']\n [4.4 3.0 1.3 0.2 'Iris-setosa']\n [5.1 3.4 1.5 0.2 'Iris-setosa']\n [5.0 3.5 1.3 0.3 'Iris-setosa']\n [4.5 2.3 1.3 0.3 'Iris-setosa']\n [4.4 3.2 1.3 0.2 'Iris-setosa']\n [5.0 3.5 1.6 0.6 'Iris-setosa']\n [5.1 3.8 1.9 0.4 'Iris-setosa']\n [4.8 3.0 1.4 0.3 'Iris-setosa']\n [5.1 3.8 1.6 0.2 'Iris-setosa']\n [4.6 3.2 1.4 0.2 'Iris-setosa']\n [5.3 3.7 1.5 0.2 'Iris-setosa']\n [5.0 3.3 1.4 0.2 'Iris-setosa']\n [7.0 3.2 4.7 1.4 'Iris-versicolor']\n [6.4 3.2 4.5 1.5 'Iris-versicolor']\n [6.9 3.1 4.9 1.5 'Iris-versicolor']\n [5.5 2.3 4.0 1.3 'Iris-versicolor']\n [6.5 2.8 4.6 1.5 'Iris-versicolor']\n [5.7 2.8 4.5 1.3 'Iris-versicolor']\n [6.3 3.3 4.7 1.6 'Iris-versicolor']\n [4.9 2.4 3.3 1.0 'Iris-versicolor']\n [6.6 2.9 4.6 1.3 'Iris-versicolor']\n [5.2 2.7 3.9 1.4 'Iris-versicolor']\n [5.0 2.0 3.5 1.0 'Iris-versicolor']\n [5.9 3.0 4.2 1.5 'Iris-versicolor']\n [6.0 2.2 4.0 1.0 'Iris-versicolor']\n [6.1 2.9 4.7 1.4 'Iris-versicolor']\n [5.6 2.9 3.6 1.3 'Iris-versicolor']\n [6.7 3.1 4.4 1.4 'Iris-versicolor']\n [5.6 3.0 4.5 1.5 'Iris-versicolor']\n [5.8 2.7 4.1 1.0 'Iris-versicolor']\n [6.2 2.2 4.5 1.5 'Iris-versicolor']\n [5.6 2.5 3.9 1.1 'Iris-versicolor']\n [5.9 3.2 4.8 1.8 'Iris-versicolor']\n [6.1 2.8 4.0 1.3 'Iris-versicolor']\n [6.3 2.5 4.9 1.5 'Iris-versicolor']\n [6.1 2.8 4.7 1.2 'Iris-versicolor']\n [6.4 2.9 4.3 1.3 'Iris-versicolor']\n [6.6 3.0 4.4 1.4 'Iris-versicolor']\n [6.8 2.8 4.8 1.4 'Iris-versicolor']\n [6.7 3.0 5.0 1.7 'Iris-versicolor']\n [6.0 2.9 4.5 1.5 'Iris-versicolor']\n [5.7 2.6 3.5 1.0 'Iris-versicolor']\n [5.5 2.4 3.8 1.1 'Iris-versicolor']\n [5.5 2.4 3.7 1.0 'Iris-versicolor']\n [5.8 2.7 3.9 1.2 'Iris-versicolor']\n [6.0 2.7 5.1 1.6 'Iris-versicolor']\n [5.4 3.0 4.5 1.5 'Iris-versicolor']\n [6.0 3.4 4.5 1.6 'Iris-versicolor']\n [6.7 3.1 4.7 1.5 'Iris-versicolor']\n [6.3 2.3 4.4 1.3 'Iris-versicolor']\n [5.6 3.0 4.1 1.3 'Iris-versicolor']\n [5.5 2.5 4.0 1.3 'Iris-versicolor']\n [5.5 2.6 4.4 1.2 'Iris-versicolor']\n [6.1 3.0 4.6 1.4 'Iris-versicolor']\n [5.8 2.6 4.0 1.2 'Iris-versicolor']\n [5.0 2.3 3.3 1.0 'Iris-versicolor']\n [5.6 2.7 4.2 1.3 'Iris-versicolor']\n [5.7 3.0 4.2 1.2 'Iris-versicolor']\n [5.7 2.9 4.2 1.3 'Iris-versicolor']\n [6.2 2.9 4.3 1.3 'Iris-versicolor']\n [5.1 2.5 3.0 1.1 'Iris-versicolor']\n [5.7 2.8 4.1 1.3 'Iris-versicolor']\n [6.3 3.3 6.0 2.5 'Iris-virginica']\n [5.8 2.7 5.1 1.9 'Iris-virginica']\n [7.1 3.0 5.9 2.1 'Iris-virginica']\n [6.3 2.9 5.6 1.8 'Iris-virginica']\n [6.5 3.0 5.8 2.2 'Iris-virginica']\n [7.6 3.0 6.6 2.1 'Iris-virginica']\n [4.9 2.5 4.5 1.7 'Iris-virginica']\n [7.3 2.9 6.3 1.8 'Iris-virginica']\n [6.7 2.5 5.8 1.8 'Iris-virginica']\n [7.2 3.6 6.1 2.5 'Iris-virginica']\n [6.5 3.2 5.1 2.0 'Iris-virginica']\n [6.4 2.7 5.3 1.9 'Iris-virginica']\n [6.8 3.0 5.5 2.1 'Iris-virginica']\n [5.7 2.5 5.0 2.0 'Iris-virginica']\n [5.8 2.8 5.1 2.4 'Iris-virginica']\n [6.4 3.2 5.3 2.3 'Iris-virginica']\n [6.5 3.0 5.5 1.8 'Iris-virginica']\n [7.7 3.8 6.7 2.2 'Iris-virginica']\n [7.7 2.6 6.9 2.3 'Iris-virginica']\n [6.0 2.2 5.0 1.5 'Iris-virginica']\n [6.9 3.2 5.7 2.3 'Iris-virginica']\n [5.6 2.8 4.9 2.0 'Iris-virginica']\n [7.7 2.8 6.7 2.0 'Iris-virginica']\n [6.3 2.7 4.9 1.8 'Iris-virginica']\n [6.7 3.3 5.7 2.1 'Iris-virginica']\n [7.2 3.2 6.0 1.8 'Iris-virginica']\n [6.2 2.8 4.8 1.8 'Iris-virginica']\n [6.1 3.0 4.9 1.8 'Iris-virginica']\n [6.4 2.8 5.6 2.1 'Iris-virginica']\n [7.2 3.0 5.8 1.6 'Iris-virginica']\n [7.4 2.8 6.1 1.9 'Iris-virginica']\n [7.9 3.8 6.4 2.0 'Iris-virginica']\n [6.4 2.8 5.6 2.2 'Iris-virginica']\n [6.3 2.8 5.1 1.5 'Iris-virginica']\n [6.1 2.6 5.6 1.4 'Iris-virginica']\n [7.7 3.0 6.1 2.3 'Iris-virginica']\n [6.3 3.4 5.6 2.4 'Iris-virginica']\n [6.4 3.1 5.5 1.8 'Iris-virginica']\n [6.0 3.0 4.8 1.8 'Iris-virginica']\n [6.9 3.1 5.4 2.1 'Iris-virginica']\n [6.7 3.1 5.6 2.4 'Iris-virginica']\n [6.9 3.1 5.1 2.3 'Iris-virginica']\n [5.8 2.7 5.1 1.9 'Iris-virginica']\n [6.8 3.2 5.9 2.3 'Iris-virginica']\n [6.7 3.3 5.7 2.5 'Iris-virginica']\n [6.7 3.0 5.2 2.3 'Iris-virginica']\n [6.3 2.5 5.0 1.9 'Iris-virginica']\n [6.5 3.0 5.2 2.0 'Iris-virginica']\n [6.2 3.4 5.4 2.3 'Iris-virginica']\n [5.9 3.0 5.1 1.8 'Iris-virginica']]\n\u001b[1;31mLength:\u001b[0m          150\n\u001b[1;31mFile:\u001b[0m            c:\\program files\\python39\\lib\\site-packages\\numpy\\__init__.py\n\u001b[1;31mDocstring:\u001b[0m       <no docstring>\n",
        "y": "\u001b[1;31mType:\u001b[0m            ndarray\n\u001b[1;31mString form:\u001b[0m    \n['Iris-setosa' 'Iris-setosa' 'Iris-setosa' 'Iris-setosa' 'Iris-setosa'\n 'Iris-setosa' 'Iris-setosa' 'Iris-setosa' 'Iris-setosa' 'Iris-setosa'\n 'Iris-setosa' 'Iris-setosa' 'Iris-setosa' 'Iris-setosa' 'Iris-setosa'\n 'Iris-setosa' 'Iris-setosa' 'Iris-setosa' 'Iris-setosa' 'Iris-setosa'\n 'Iris-setosa' 'Iris-setosa' 'Iris-setosa' 'Iris-setosa' 'Iris-setosa'\n 'Iris-setosa' 'Iris-setosa' 'Iris-setosa' 'Iris-setosa' 'Iris-setosa'\n 'Iris-setosa' 'Iris-setosa' 'Iris-setosa' 'Iris-setosa' 'Iris-setosa'\n 'Iris-setosa' 'Iris-setosa' 'Iris-setosa' 'Iris-setosa' 'Iris-setosa'\n 'Iris-setosa' 'Iris-setosa' 'Iris-setosa' 'Iris-setosa' 'Iris-setosa'\n 'Iris-setosa' 'Iris-setosa' 'Iris-setosa' 'Iris-setosa' 'Iris-setosa'\n 'Iris-versicolor' 'Iris-versicolor' 'Iris-versicolor' 'Iris-versicolor'\n 'Iris-versicolor' 'Iris-versicolor' 'Iris-versicolor' 'Iris-versicolor'\n 'Iris-versicolor' 'Iris-versicolor' 'Iris-versicolor' 'Iris-versicolor'\n 'Iris-versicolor' 'Iris-versicolor' 'Iris-versicolor' 'Iris-versicolor'\n 'Iris-versicolor' 'Iris-versicolor' 'Iris-versicolor' 'Iris-versicolor'\n 'Iris-versicolor' 'Iris-versicolor' 'Iris-versicolor' 'Iris-versicolor'\n 'Iris-versicolor' 'Iris-versicolor' 'Iris-versicolor' 'Iris-versicolor'\n 'Iris-versicolor' 'Iris-versicolor' 'Iris-versicolor' 'Iris-versicolor'\n 'Iris-versicolor' 'Iris-versicolor' 'Iris-versicolor' 'Iris-versicolor'\n 'Iris-versicolor' 'Iris-versicolor' 'Iris-versicolor' 'Iris-versicolor'\n 'Iris-versicolor' 'Iris-versicolor' 'Iris-versicolor' 'Iris-versicolor'\n 'Iris-versicolor' 'Iris-versicolor' 'Iris-versicolor' 'Iris-versicolor'\n 'Iris-versicolor' 'Iris-versicolor' 'Iris-virginica' 'Iris-virginica'\n 'Iris-virginica' 'Iris-virginica' 'Iris-virginica' 'Iris-virginica'\n 'Iris-virginica' 'Iris-virginica' 'Iris-virginica' 'Iris-virginica'\n 'Iris-virginica' 'Iris-virginica' 'Iris-virginica' 'Iris-virginica'\n 'Iris-virginica' 'Iris-virginica' 'Iris-virginica' 'Iris-virginica'\n 'Iris-virginica' 'Iris-virginica' 'Iris-virginica' 'Iris-virginica'\n 'Iris-virginica' 'Iris-virginica' 'Iris-virginica' 'Iris-virginica'\n 'Iris-virginica' 'Iris-virginica' 'Iris-virginica' 'Iris-virginica'\n 'Iris-virginica' 'Iris-virginica' 'Iris-virginica' 'Iris-virginica'\n 'Iris-virginica' 'Iris-virginica' 'Iris-virginica' 'Iris-virginica'\n 'Iris-virginica' 'Iris-virginica' 'Iris-virginica' 'Iris-virginica'\n 'Iris-virginica' 'Iris-virginica' 'Iris-virginica' 'Iris-virginica'\n 'Iris-virginica' 'Iris-virginica' 'Iris-virginica' 'Iris-virginica']\n\u001b[1;31mLength:\u001b[0m          150\n\u001b[1;31mFile:\u001b[0m            c:\\program files\\python39\\lib\\site-packages\\numpy\\__init__.py\n\u001b[1;31mDocstring:\u001b[0m       <no docstring>\n"
       },
       "remote": [
        "dataset",
        "train_test_split"
       ],
       "time": "Wed, 07 Jul 2021 14:46:39 GMT",
       "type": "execution"
      },
      {
       "cell_id": "c07b559e-a4ef-4213-bb77-db9a1f0d4dd3",
       "cell_outputs": [],
       "cell_source": "# Make predictions on validation dataset\nmodel = SVC(gamma='auto')\nmodel.fit(X_train, Y_train)\npredictions = model.predict(X_validation)",
       "data_values": [],
       "data_vars": [],
       "definitions": [
        {
         "col_offset": 0,
         "dependencies": [
          "SVC"
         ],
         "end_col_offset": 25,
         "end_lineno": 2,
         "lineno": 2,
         "name": "model",
         "type": "assign"
        },
        {
         "col_offset": 0,
         "dependencies": [
          "X_train",
          "Y_train"
         ],
         "end_col_offset": 27,
         "end_lineno": 3,
         "lineno": 3,
         "name": "model",
         "type": "call"
        },
        {
         "col_offset": 0,
         "dependencies": [
          "model",
          "X_validation"
         ],
         "end_col_offset": 41,
         "end_lineno": 4,
         "lineno": 4,
         "name": "predictions",
         "type": "assign"
        }
       ],
       "execution_count": 4,
       "imports": [],
       "local": [
        "model",
        "predictions"
       ],
       "local_info": {
        "model": "\u001b[1;31mType:\u001b[0m        SVC\n\u001b[1;31mString form:\u001b[0m SVC(gamma='auto')\n\u001b[1;31mFile:\u001b[0m        c:\\program files\\python39\\lib\\site-packages\\sklearn\\svm\\_classes.py\n",
        "predictions": "\u001b[1;31mType:\u001b[0m            ndarray\n\u001b[1;31mString form:\u001b[0m    \n['Iris-setosa' 'Iris-versicolor' 'Iris-versicolor' 'Iris-setosa'\n 'Iris-virginica' 'Iris-versicolor' 'Iris-virginica' 'Iris-setosa'\n 'Iris-setosa' 'Iris-virginica' 'Iris-versicolor' 'Iris-setosa'\n 'Iris-virginica' 'Iris-versicolor' 'Iris-versicolor' 'Iris-setosa'\n 'Iris-versicolor' 'Iris-versicolor' 'Iris-setosa' 'Iris-setosa'\n 'Iris-versicolor' 'Iris-versicolor' 'Iris-virginica' 'Iris-setosa'\n 'Iris-virginica' 'Iris-versicolor' 'Iris-setosa' 'Iris-setosa'\n 'Iris-versicolor' 'Iris-virginica']\n\u001b[1;31mLength:\u001b[0m          30\n\u001b[1;31mFile:\u001b[0m            c:\\program files\\python39\\lib\\site-packages\\numpy\\__init__.py\n\u001b[1;31mDocstring:\u001b[0m       <no docstring>\n"
       },
       "remote": [
        "SVC",
        "X_train",
        "Y_train",
        "X_validation"
       ],
       "time": "Wed, 07 Jul 2021 14:46:40 GMT",
       "type": "execution"
      },
      {
       "cell_id": "b2e4583c-7a6b-4b00-a55f-6e20fa6b89ca",
       "cell_outputs": [
        {
         "name": "stdout",
         "output_type": "stream",
         "text": "0.9666666666666667\n[[11  0  0]\n [ 0 12  1]\n [ 0  0  6]]\n                 precision    recall  f1-score   support\n\n    Iris-setosa       1.00      1.00      1.00        11\nIris-versicolor       1.00      0.92      0.96        13\n Iris-virginica       0.86      1.00      0.92         6\n\n       accuracy                           0.97        30\n      macro avg       0.95      0.97      0.96        30\n   weighted avg       0.97      0.97      0.97        30\n\n"
        }
       ],
       "cell_source": "# Evaluate predictions\nprint(accuracy_score(Y_validation, predictions))\nprint(confusion_matrix(Y_validation, predictions))\nprint(classification_report(Y_validation, predictions))",
       "data_values": [],
       "data_vars": [],
       "definitions": [
        {
         "col_offset": 0,
         "dependencies": [
          "accuracy_score",
          "Y_validation",
          "predictions"
         ],
         "end_col_offset": 48,
         "end_lineno": 2,
         "lineno": 2,
         "name": "print",
         "type": "call"
        },
        {
         "col_offset": 0,
         "dependencies": [
          "confusion_matrix",
          "Y_validation",
          "predictions"
         ],
         "end_col_offset": 50,
         "end_lineno": 3,
         "lineno": 3,
         "name": "print",
         "type": "call"
        },
        {
         "col_offset": 0,
         "dependencies": [
          "classification_report",
          "Y_validation",
          "predictions"
         ],
         "end_col_offset": 55,
         "end_lineno": 4,
         "lineno": 4,
         "name": "print",
         "type": "call"
        }
       ],
       "execution_count": 5,
       "imports": [],
       "local": [],
       "local_info": {},
       "remote": [
        "print",
        "accuracy_score",
        "Y_validation",
        "predictions",
        "confusion_matrix",
        "classification_report"
       ],
       "time": "Wed, 07 Jul 2021 14:46:40 GMT",
       "type": "execution"
      }
     ],
     "environment": {
      "kernel": {
       "implementation": "ipython",
       "version": "7.22.0"
      },
      "language_info": {
       "mimetype": "text/x-python",
       "name": "python",
       "version": "3.9.2"
      },
      "time": "Wed, 07 Jul 2021 14:46:38 GMT",
      "user_agent": "Mozilla/5.0 (Windows NT 10.0; Win64; x64; rv:89.0) Gecko/20100101 Firefox/89.0"
     },
     "modules": {
      "numpy": {
       "alias": "np",
       "version": "1.19.5"
      },
      "pandas": {
       "imports": [
        "read_csv"
       ],
       "version": "1.2.3"
      },
      "sklearn.metrics": {
       "imports": [
        "classification_report",
        "confusion_matrix",
        "accuracy_score"
       ],
       "version": ""
      },
      "sklearn.model_selection": {
       "imports": [
        "train_test_split"
       ],
       "version": ""
      },
      "sklearn.svm": {
       "imports": [
        "SVC"
       ],
       "version": ""
      }
     }
    },
    {
     "cells": [
      "beed23df-eed2-4dfc-9f75-97596457a98a",
      "e60d7751-a842-4791-b6cb-4ea6edecba57",
      "69ebfff9-2ec7-45b8-976c-5b368e076da0",
      "c07b559e-a4ef-4213-bb77-db9a1f0d4dd3",
      "b2e4583c-7a6b-4b00-a55f-6e20fa6b89ca"
     ],
     "data": [
      {
       "cell_id": "beed23df-eed2-4dfc-9f75-97596457a98a",
       "cell_outputs": [],
       "cell_source": "import numpy as np\nfrom pandas import read_csv\nfrom sklearn.model_selection import train_test_split\nfrom sklearn.metrics import classification_report\nfrom sklearn.metrics import confusion_matrix\nfrom sklearn.metrics import accuracy_score\nfrom sklearn.svm import SVC\n",
       "data_values": [],
       "data_vars": [],
       "definitions": [],
       "execution_count": 1,
       "imports": [
        "np",
        "read_csv",
        "train_test_split",
        "classification_report",
        "confusion_matrix",
        "accuracy_score",
        "SVC"
       ],
       "local": [],
       "local_info": {},
       "remote": [],
       "time": "Wed, 07 Jul 2021 14:46:46 GMT",
       "type": "execution"
      },
      {
       "cell_id": "e60d7751-a842-4791-b6cb-4ea6edecba57",
       "cell_outputs": [],
       "cell_source": "# Load dataset\nurl = \"https://raw.githubusercontent.com/jbrownlee/Datasets/master/iris.csv\"\nnames = ['sepal-length', 'sepal-width', 'petal-length', 'petal-width', 'class']\ndataset = read_csv(url, names=names)",
       "data_values": [
        "https://raw.githubusercontent.com/jbrownlee/Datasets/master/iris.csv"
       ],
       "data_vars": [
        "url",
        "dataset"
       ],
       "definitions": [
        {
         "col_offset": 0,
         "dependencies": [],
         "end_col_offset": 76,
         "end_lineno": 2,
         "lineno": 2,
         "name": "url",
         "type": "assign"
        },
        {
         "col_offset": 0,
         "dependencies": [],
         "end_col_offset": 79,
         "end_lineno": 3,
         "lineno": 3,
         "name": "names",
         "type": "assign"
        },
        {
         "col_offset": 0,
         "dependencies": [
          "read_csv",
          "url",
          "names"
         ],
         "end_col_offset": 36,
         "end_lineno": 4,
         "lineno": 4,
         "name": "dataset",
         "type": "assign"
        }
       ],
       "execution_count": 2,
       "imports": [],
       "local": [
        "url",
        "names",
        "dataset"
       ],
       "local_info": {
        "dataset": "\u001b[1;31mType:\u001b[0m        DataFrame\n\u001b[1;31mString form:\u001b[0m\n     sepal-length  sepal-width  petal-length  petal-width           class\n0             5.1          3.5           1.4          0.2     Iris-setosa\n1             4.9          3.0           1.4          0.2     Iris-setosa\n2             4.7          3.2           1.3          0.2     Iris-setosa\n3             4.6          3.1           1.5          0.2     Iris-setosa\n4             5.0          3.6           1.4          0.2     Iris-setosa\n..            ...          ...           ...          ...             ...\n145           6.7          3.0           5.2          2.3  Iris-virginica\n146           6.3          2.5           5.0          1.9  Iris-virginica\n147           6.5          3.0           5.2          2.0  Iris-virginica\n148           6.2          3.4           5.4          2.3  Iris-virginica\n149           5.9          3.0           5.1          1.8  Iris-virginica\n\n[150 rows x 5 columns]\n\u001b[1;31mLength:\u001b[0m      150\n\u001b[1;31mFile:\u001b[0m        c:\\program files\\python39\\lib\\site-packages\\pandas\\core\\frame.py\n",
        "names": "\u001b[1;31mType:\u001b[0m        list\n\u001b[1;31mString form:\u001b[0m ['sepal-length', 'sepal-width', 'petal-length', 'petal-width', 'class']\n\u001b[1;31mLength:\u001b[0m      5\n\u001b[1;31mDocstring:\u001b[0m  \nBuilt-in mutable sequence.\n\nIf no argument is given, the constructor creates a new empty list.\nThe argument must be an iterable if specified.\n",
        "url": "\u001b[1;31mType:\u001b[0m        str\n\u001b[1;31mString form:\u001b[0m https://raw.githubusercontent.com/jbrownlee/Datasets/master/iris.csv\n\u001b[1;31mLength:\u001b[0m      68\n\u001b[1;31mDocstring:\u001b[0m  \nstr(object='') -> str\nstr(bytes_or_buffer[, encoding[, errors]]) -> str\n\nCreate a new string object from the given object. If encoding or\nerrors is specified, then the object must expose a data buffer\nthat will be decoded using the given encoding and error handler.\nOtherwise, returns the result of object.__str__() (if defined)\nor repr(object).\nencoding defaults to sys.getdefaultencoding().\nerrors defaults to 'strict'.\n"
       },
       "remote": [
        "read_csv"
       ],
       "time": "Wed, 07 Jul 2021 14:46:46 GMT",
       "type": "execution"
      },
      {
       "cell_id": "69ebfff9-2ec7-45b8-976c-5b368e076da0",
       "cell_outputs": [],
       "cell_source": "# Split-out validation dataset\narray = dataset.values\nX = array[:, 0:4]\ny = array[:, 4]\nX_train, X_validation, Y_train, Y_validation = train_test_split(\n    X, y, test_size=0.20, random_state=1)",
       "data_values": [],
       "data_vars": [],
       "definitions": [
        {
         "col_offset": 0,
         "dependencies": [
          "dataset"
         ],
         "end_col_offset": 22,
         "end_lineno": 2,
         "lineno": 2,
         "name": "array",
         "type": "assign"
        },
        {
         "col_offset": 0,
         "dependencies": [
          "array"
         ],
         "end_col_offset": 17,
         "end_lineno": 3,
         "lineno": 3,
         "name": "X",
         "type": "assign"
        },
        {
         "col_offset": 0,
         "dependencies": [
          "array"
         ],
         "end_col_offset": 15,
         "end_lineno": 4,
         "lineno": 4,
         "name": "y",
         "type": "assign"
        },
        {
         "col_offset": 0,
         "dependencies": [
          "train_test_split",
          "X",
          "y"
         ],
         "end_col_offset": 41,
         "end_lineno": 6,
         "lineno": 5,
         "name": "X_train",
         "type": "assign"
        },
        {
         "col_offset": 0,
         "dependencies": [
          "train_test_split",
          "X",
          "y"
         ],
         "end_col_offset": 41,
         "end_lineno": 6,
         "lineno": 5,
         "name": "X_validation",
         "type": "assign"
        },
        {
         "col_offset": 0,
         "dependencies": [
          "train_test_split",
          "X",
          "y"
         ],
         "end_col_offset": 41,
         "end_lineno": 6,
         "lineno": 5,
         "name": "Y_train",
         "type": "assign"
        },
        {
         "col_offset": 0,
         "dependencies": [
          "train_test_split",
          "X",
          "y"
         ],
         "end_col_offset": 41,
         "end_lineno": 6,
         "lineno": 5,
         "name": "Y_validation",
         "type": "assign"
        }
       ],
       "execution_count": 3,
       "imports": [],
       "local": [
        "array",
        "X",
        "y",
        "X_train",
        "X_validation",
        "Y_train",
        "Y_validation"
       ],
       "local_info": {
        "X": "\u001b[1;31mType:\u001b[0m            ndarray\n\u001b[1;31mString form:\u001b[0m    \n[[5.1 3.5 1.4 0.2]\n [4.9 3.0 1.4 0.2]\n [4.7 3.2 1.3 0.2]\n [4.6 3.1 1.5 0.2]\n [5.0 3.6 1.4 0.2]\n [5.4 3.9 1.7 0.4]\n [4.6 3.4 1.4 0.3]\n [5.0 3.4 1.5 0.2]\n [4.4 2.9 1.4 0.2]\n [4.9 3.1 1.5 0.1]\n [5.4 3.7 1.5 0.2]\n [4.8 3.4 1.6 0.2]\n [4.8 3.0 1.4 0.1]\n [4.3 3.0 1.1 0.1]\n [5.8 4.0 1.2 0.2]\n [5.7 4.4 1.5 0.4]\n [5.4 3.9 1.3 0.4]\n [5.1 3.5 1.4 0.3]\n [5.7 3.8 1.7 0.3]\n [5.1 3.8 1.5 0.3]\n [5.4 3.4 1.7 0.2]\n [5.1 3.7 1.5 0.4]\n [4.6 3.6 1.0 0.2]\n [5.1 3.3 1.7 0.5]\n [4.8 3.4 1.9 0.2]\n [5.0 3.0 1.6 0.2]\n [5.0 3.4 1.6 0.4]\n [5.2 3.5 1.5 0.2]\n [5.2 3.4 1.4 0.2]\n [4.7 3.2 1.6 0.2]\n [4.8 3.1 1.6 0.2]\n [5.4 3.4 1.5 0.4]\n [5.2 4.1 1.5 0.1]\n [5.5 4.2 1.4 0.2]\n [4.9 3.1 1.5 0.1]\n [5.0 3.2 1.2 0.2]\n [5.5 3.5 1.3 0.2]\n [4.9 3.1 1.5 0.1]\n [4.4 3.0 1.3 0.2]\n [5.1 3.4 1.5 0.2]\n [5.0 3.5 1.3 0.3]\n [4.5 2.3 1.3 0.3]\n [4.4 3.2 1.3 0.2]\n [5.0 3.5 1.6 0.6]\n [5.1 3.8 1.9 0.4]\n [4.8 3.0 1.4 0.3]\n [5.1 3.8 1.6 0.2]\n [4.6 3.2 1.4 0.2]\n [5.3 3.7 1.5 0.2]\n [5.0 3.3 1.4 0.2]\n [7.0 3.2 4.7 1.4]\n [6.4 3.2 4.5 1.5]\n [6.9 3.1 4.9 1.5]\n [5.5 2.3 4.0 1.3]\n [6.5 2.8 4.6 1.5]\n [5.7 2.8 4.5 1.3]\n [6.3 3.3 4.7 1.6]\n [4.9 2.4 3.3 1.0]\n [6.6 2.9 4.6 1.3]\n [5.2 2.7 3.9 1.4]\n [5.0 2.0 3.5 1.0]\n [5.9 3.0 4.2 1.5]\n [6.0 2.2 4.0 1.0]\n [6.1 2.9 4.7 1.4]\n [5.6 2.9 3.6 1.3]\n [6.7 3.1 4.4 1.4]\n [5.6 3.0 4.5 1.5]\n [5.8 2.7 4.1 1.0]\n [6.2 2.2 4.5 1.5]\n [5.6 2.5 3.9 1.1]\n [5.9 3.2 4.8 1.8]\n [6.1 2.8 4.0 1.3]\n [6.3 2.5 4.9 1.5]\n [6.1 2.8 4.7 1.2]\n [6.4 2.9 4.3 1.3]\n [6.6 3.0 4.4 1.4]\n [6.8 2.8 4.8 1.4]\n [6.7 3.0 5.0 1.7]\n [6.0 2.9 4.5 1.5]\n [5.7 2.6 3.5 1.0]\n [5.5 2.4 3.8 1.1]\n [5.5 2.4 3.7 1.0]\n [5.8 2.7 3.9 1.2]\n [6.0 2.7 5.1 1.6]\n [5.4 3.0 4.5 1.5]\n [6.0 3.4 4.5 1.6]\n [6.7 3.1 4.7 1.5]\n [6.3 2.3 4.4 1.3]\n [5.6 3.0 4.1 1.3]\n [5.5 2.5 4.0 1.3]\n [5.5 2.6 4.4 1.2]\n [6.1 3.0 4.6 1.4]\n [5.8 2.6 4.0 1.2]\n [5.0 2.3 3.3 1.0]\n [5.6 2.7 4.2 1.3]\n [5.7 3.0 4.2 1.2]\n [5.7 2.9 4.2 1.3]\n [6.2 2.9 4.3 1.3]\n [5.1 2.5 3.0 1.1]\n [5.7 2.8 4.1 1.3]\n [6.3 3.3 6.0 2.5]\n [5.8 2.7 5.1 1.9]\n [7.1 3.0 5.9 2.1]\n [6.3 2.9 5.6 1.8]\n [6.5 3.0 5.8 2.2]\n [7.6 3.0 6.6 2.1]\n [4.9 2.5 4.5 1.7]\n [7.3 2.9 6.3 1.8]\n [6.7 2.5 5.8 1.8]\n [7.2 3.6 6.1 2.5]\n [6.5 3.2 5.1 2.0]\n [6.4 2.7 5.3 1.9]\n [6.8 3.0 5.5 2.1]\n [5.7 2.5 5.0 2.0]\n [5.8 2.8 5.1 2.4]\n [6.4 3.2 5.3 2.3]\n [6.5 3.0 5.5 1.8]\n [7.7 3.8 6.7 2.2]\n [7.7 2.6 6.9 2.3]\n [6.0 2.2 5.0 1.5]\n [6.9 3.2 5.7 2.3]\n [5.6 2.8 4.9 2.0]\n [7.7 2.8 6.7 2.0]\n [6.3 2.7 4.9 1.8]\n [6.7 3.3 5.7 2.1]\n [7.2 3.2 6.0 1.8]\n [6.2 2.8 4.8 1.8]\n [6.1 3.0 4.9 1.8]\n [6.4 2.8 5.6 2.1]\n [7.2 3.0 5.8 1.6]\n [7.4 2.8 6.1 1.9]\n [7.9 3.8 6.4 2.0]\n [6.4 2.8 5.6 2.2]\n [6.3 2.8 5.1 1.5]\n [6.1 2.6 5.6 1.4]\n [7.7 3.0 6.1 2.3]\n [6.3 3.4 5.6 2.4]\n [6.4 3.1 5.5 1.8]\n [6.0 3.0 4.8 1.8]\n [6.9 3.1 5.4 2.1]\n [6.7 3.1 5.6 2.4]\n [6.9 3.1 5.1 2.3]\n [5.8 2.7 5.1 1.9]\n [6.8 3.2 5.9 2.3]\n [6.7 3.3 5.7 2.5]\n [6.7 3.0 5.2 2.3]\n [6.3 2.5 5.0 1.9]\n [6.5 3.0 5.2 2.0]\n [6.2 3.4 5.4 2.3]\n [5.9 3.0 5.1 1.8]]\n\u001b[1;31mLength:\u001b[0m          150\n\u001b[1;31mFile:\u001b[0m            c:\\program files\\python39\\lib\\site-packages\\numpy\\__init__.py\n\u001b[1;31mDocstring:\u001b[0m       <no docstring>\n",
        "X_train": "\u001b[1;31mType:\u001b[0m            ndarray\n\u001b[1;31mString form:\u001b[0m    \n[[6.1 3.0 4.6 1.4]\n [7.7 3.0 6.1 2.3]\n [5.6 2.5 3.9 1.1]\n [6.4 2.8 5.6 2.1]\n [5.8 2.8 5.1 2.4]\n [5.3 3.7 1.5 0.2]\n [5.5 2.3 4.0 1.3]\n [5.2 3.4 1.4 0.2]\n [6.5 2.8 4.6 1.5]\n [6.7 2.5 5.8 1.8]\n [6.8 3.0 5.5 2.1]\n [5.1 3.5 1.4 0.3]\n [6.0 2.2 5.0 1.5]\n [6.3 2.9 5.6 1.8]\n [6.6 2.9 4.6 1.3]\n [7.7 2.6 6.9 2.3]\n [5.7 3.8 1.7 0.3]\n [5.0 3.6 1.4 0.2]\n [4.8 3.0 1.4 0.3]\n [5.2 2.7 3.9 1.4]\n [5.1 3.4 1.5 0.2]\n [5.5 3.5 1.3 0.2]\n [7.7 3.8 6.7 2.2]\n [6.9 3.1 5.4 2.1]\n [7.3 2.9 6.3 1.8]\n [6.4 2.8 5.6 2.2]\n [6.2 2.8 4.8 1.8]\n [6.0 3.4 4.5 1.6]\n [7.7 2.8 6.7 2.0]\n [5.7 3.0 4.2 1.2]\n [4.8 3.4 1.6 0.2]\n [5.7 2.5 5.0 2.0]\n [6.3 2.7 4.9 1.8]\n [4.8 3.0 1.4 0.1]\n [4.7 3.2 1.3 0.2]\n [6.5 3.0 5.8 2.2]\n [4.6 3.4 1.4 0.3]\n [6.1 3.0 4.9 1.8]\n [6.5 3.2 5.1 2.0]\n [6.7 3.1 4.4 1.4]\n [5.7 2.8 4.5 1.3]\n [6.7 3.3 5.7 2.5]\n [6.0 3.0 4.8 1.8]\n [5.1 3.8 1.6 0.2]\n [6.0 2.2 4.0 1.0]\n [6.4 2.9 4.3 1.3]\n [6.5 3.0 5.5 1.8]\n [5.0 2.3 3.3 1.0]\n [6.3 3.3 6.0 2.5]\n [5.5 2.5 4.0 1.3]\n [5.4 3.7 1.5 0.2]\n [4.9 3.1 1.5 0.1]\n [5.2 4.1 1.5 0.1]\n [6.7 3.3 5.7 2.1]\n [4.4 3.0 1.3 0.2]\n [6.0 2.7 5.1 1.6]\n [6.4 2.7 5.3 1.9]\n [5.9 3.0 5.1 1.8]\n [5.2 3.5 1.5 0.2]\n [5.1 3.3 1.7 0.5]\n [5.8 2.7 4.1 1.0]\n [4.9 3.1 1.5 0.1]\n [7.4 2.8 6.1 1.9]\n [6.2 2.9 4.3 1.3]\n [7.6 3.0 6.6 2.1]\n [6.7 3.0 5.2 2.3]\n [6.3 2.3 4.4 1.3]\n [6.2 3.4 5.4 2.3]\n [7.2 3.6 6.1 2.5]\n [5.6 2.9 3.6 1.3]\n [5.7 4.4 1.5 0.4]\n [5.8 2.7 3.9 1.2]\n [4.5 2.3 1.3 0.3]\n [5.5 2.4 3.8 1.1]\n [6.9 3.1 4.9 1.5]\n [5.0 3.4 1.6 0.4]\n [6.8 2.8 4.8 1.4]\n [5.0 3.5 1.6 0.6]\n [4.8 3.4 1.9 0.2]\n [6.3 3.4 5.6 2.4]\n [5.6 2.8 4.9 2.0]\n [6.8 3.2 5.9 2.3]\n [5.0 3.3 1.4 0.2]\n [5.1 3.7 1.5 0.4]\n [5.9 3.2 4.8 1.8]\n [4.6 3.1 1.5 0.2]\n [5.8 2.7 5.1 1.9]\n [4.8 3.1 1.6 0.2]\n [6.5 3.0 5.2 2.0]\n [4.9 2.5 4.5 1.7]\n [4.6 3.2 1.4 0.2]\n [6.4 3.2 5.3 2.3]\n [4.3 3.0 1.1 0.1]\n [5.6 3.0 4.1 1.3]\n [4.4 2.9 1.4 0.2]\n [5.5 2.4 3.7 1.0]\n [5.0 2.0 3.5 1.0]\n [5.1 3.5 1.4 0.2]\n [4.9 3.0 1.4 0.2]\n [4.9 2.4 3.3 1.0]\n [4.6 3.6 1.0 0.2]\n [5.9 3.0 4.2 1.5]\n [6.1 2.9 4.7 1.4]\n [5.0 3.4 1.5 0.2]\n [6.7 3.1 4.7 1.5]\n [5.7 2.9 4.2 1.3]\n [6.2 2.2 4.5 1.5]\n [7.0 3.2 4.7 1.4]\n [5.8 2.7 5.1 1.9]\n [5.4 3.4 1.7 0.2]\n [5.0 3.0 1.6 0.2]\n [6.1 2.6 5.6 1.4]\n [6.1 2.8 4.0 1.3]\n [7.2 3.0 5.8 1.6]\n [5.7 2.6 3.5 1.0]\n [6.3 2.8 5.1 1.5]\n [6.4 3.1 5.5 1.8]\n [6.3 2.5 4.9 1.5]\n [6.7 3.1 5.6 2.4]\n [4.9 3.1 1.5 0.1]]\n\u001b[1;31mLength:\u001b[0m          120\n\u001b[1;31mFile:\u001b[0m            c:\\program files\\python39\\lib\\site-packages\\numpy\\__init__.py\n\u001b[1;31mDocstring:\u001b[0m       <no docstring>\n",
        "X_validation": "\u001b[1;31mType:\u001b[0m            ndarray\n\u001b[1;31mString form:\u001b[0m    \n[[5.8 4.0 1.2 0.2]\n [5.1 2.5 3.0 1.1]\n [6.6 3.0 4.4 1.4]\n [5.4 3.9 1.3 0.4]\n [7.9 3.8 6.4 2.0]\n [6.3 3.3 4.7 1.6]\n [6.9 3.1 5.1 2.3]\n [5.1 3.8 1.9 0.4]\n [4.7 3.2 1.6 0.2]\n [6.9 3.2 5.7 2.3]\n [5.6 2.7 4.2 1.3]\n [5.4 3.9 1.7 0.4]\n [7.1 3.0 5.9 2.1]\n [6.4 3.2 4.5 1.5]\n [6.0 2.9 4.5 1.5]\n [4.4 3.2 1.3 0.2]\n [5.8 2.6 4.0 1.2]\n [5.6 3.0 4.5 1.5]\n [5.4 3.4 1.5 0.4]\n [5.0 3.2 1.2 0.2]\n [5.5 2.6 4.4 1.2]\n [5.4 3.0 4.5 1.5]\n [6.7 3.0 5.0 1.7]\n [5.0 3.5 1.3 0.3]\n [7.2 3.2 6.0 1.8]\n [5.7 2.8 4.1 1.3]\n [5.5 4.2 1.4 0.2]\n [5.1 3.8 1.5 0.3]\n [6.1 2.8 4.7 1.2]\n [6.3 2.5 5.0 1.9]]\n\u001b[1;31mLength:\u001b[0m          30\n\u001b[1;31mFile:\u001b[0m            c:\\program files\\python39\\lib\\site-packages\\numpy\\__init__.py\n\u001b[1;31mDocstring:\u001b[0m       <no docstring>\n",
        "Y_train": "\u001b[1;31mType:\u001b[0m            ndarray\n\u001b[1;31mString form:\u001b[0m    \n['Iris-versicolor' 'Iris-virginica' 'Iris-versicolor' 'Iris-virginica'\n 'Iris-virginica' 'Iris-setosa' 'Iris-versicolor' 'Iris-setosa'\n 'Iris-versicolor' 'Iris-virginica' 'Iris-virginica' 'Iris-setosa'\n 'Iris-virginica' 'Iris-virginica' 'Iris-versicolor' 'Iris-virginica'\n 'Iris-setosa' 'Iris-setosa' 'Iris-setosa' 'Iris-versicolor' 'Iris-setosa'\n 'Iris-setosa' 'Iris-virginica' 'Iris-virginica' 'Iris-virginica'\n 'Iris-virginica' 'Iris-virginica' 'Iris-versicolor' 'Iris-virginica'\n 'Iris-versicolor' 'Iris-setosa' 'Iris-virginica' 'Iris-virginica'\n 'Iris-setosa' 'Iris-setosa' 'Iris-virginica' 'Iris-setosa'\n 'Iris-virginica' 'Iris-virginica' 'Iris-versicolor' 'Iris-versicolor'\n 'Iris-virginica' 'Iris-virginica' 'Iris-setosa' 'Iris-versicolor'\n 'Iris-versicolor' 'Iris-virginica' 'Iris-versicolor' 'Iris-virginica'\n 'Iris-versicolor' 'Iris-setosa' 'Iris-setosa' 'Iris-setosa'\n 'Iris-virginica' 'Iris-setosa' 'Iris-versicolor' 'Iris-virginica'\n 'Iris-virginica' 'Iris-setosa' 'Iris-setosa' 'Iris-versicolor'\n 'Iris-setosa' 'Iris-virginica' 'Iris-versicolor' 'Iris-virginica'\n 'Iris-virginica' 'Iris-versicolor' 'Iris-virginica' 'Iris-virginica'\n 'Iris-versicolor' 'Iris-setosa' 'Iris-versicolor' 'Iris-setosa'\n 'Iris-versicolor' 'Iris-versicolor' 'Iris-setosa' 'Iris-versicolor'\n 'Iris-setosa' 'Iris-setosa' 'Iris-virginica' 'Iris-virginica'\n 'Iris-virginica' 'Iris-setosa' 'Iris-setosa' 'Iris-versicolor'\n 'Iris-setosa' 'Iris-virginica' 'Iris-setosa' 'Iris-virginica'\n 'Iris-virginica' 'Iris-setosa' 'Iris-virginica' 'Iris-setosa'\n 'Iris-versicolor' 'Iris-setosa' 'Iris-versicolor' 'Iris-versicolor'\n 'Iris-setosa' 'Iris-setosa' 'Iris-versicolor' 'Iris-setosa'\n 'Iris-versicolor' 'Iris-versicolor' 'Iris-setosa' 'Iris-versicolor'\n 'Iris-versicolor' 'Iris-versicolor' 'Iris-versicolor' 'Iris-virginica'\n 'Iris-setosa' 'Iris-setosa' 'Iris-virginica' 'Iris-versicolor'\n 'Iris-virginica' 'Iris-versicolor' 'Iris-virginica' 'Iris-virginica'\n 'Iris-versicolor' 'Iris-virginica' 'Iris-setosa']\n\u001b[1;31mLength:\u001b[0m          120\n\u001b[1;31mFile:\u001b[0m            c:\\program files\\python39\\lib\\site-packages\\numpy\\__init__.py\n\u001b[1;31mDocstring:\u001b[0m       <no docstring>\n",
        "Y_validation": "\u001b[1;31mType:\u001b[0m            ndarray\n\u001b[1;31mString form:\u001b[0m    \n['Iris-setosa' 'Iris-versicolor' 'Iris-versicolor' 'Iris-setosa'\n 'Iris-virginica' 'Iris-versicolor' 'Iris-virginica' 'Iris-setosa'\n 'Iris-setosa' 'Iris-virginica' 'Iris-versicolor' 'Iris-setosa'\n 'Iris-virginica' 'Iris-versicolor' 'Iris-versicolor' 'Iris-setosa'\n 'Iris-versicolor' 'Iris-versicolor' 'Iris-setosa' 'Iris-setosa'\n 'Iris-versicolor' 'Iris-versicolor' 'Iris-versicolor' 'Iris-setosa'\n 'Iris-virginica' 'Iris-versicolor' 'Iris-setosa' 'Iris-setosa'\n 'Iris-versicolor' 'Iris-virginica']\n\u001b[1;31mLength:\u001b[0m          30\n\u001b[1;31mFile:\u001b[0m            c:\\program files\\python39\\lib\\site-packages\\numpy\\__init__.py\n\u001b[1;31mDocstring:\u001b[0m       <no docstring>\n",
        "array": "\u001b[1;31mType:\u001b[0m            ndarray\n\u001b[1;31mString form:\u001b[0m    \n[[5.1 3.5 1.4 0.2 'Iris-setosa']\n [4.9 3.0 1.4 0.2 'Iris-setosa']\n [4.7 3.2 1.3 0.2 'Iris-setosa']\n [4.6 3.1 1.5 0.2 'Iris-setosa']\n [5.0 3.6 1.4 0.2 'Iris-setosa']\n [5.4 3.9 1.7 0.4 'Iris-setosa']\n [4.6 3.4 1.4 0.3 'Iris-setosa']\n [5.0 3.4 1.5 0.2 'Iris-setosa']\n [4.4 2.9 1.4 0.2 'Iris-setosa']\n [4.9 3.1 1.5 0.1 'Iris-setosa']\n [5.4 3.7 1.5 0.2 'Iris-setosa']\n [4.8 3.4 1.6 0.2 'Iris-setosa']\n [4.8 3.0 1.4 0.1 'Iris-setosa']\n [4.3 3.0 1.1 0.1 'Iris-setosa']\n [5.8 4.0 1.2 0.2 'Iris-setosa']\n [5.7 4.4 1.5 0.4 'Iris-setosa']\n [5.4 3.9 1.3 0.4 'Iris-setosa']\n [5.1 3.5 1.4 0.3 'Iris-setosa']\n [5.7 3.8 1.7 0.3 'Iris-setosa']\n [5.1 3.8 1.5 0.3 'Iris-setosa']\n [5.4 3.4 1.7 0.2 'Iris-setosa']\n [5.1 3.7 1.5 0.4 'Iris-setosa']\n [4.6 3.6 1.0 0.2 'Iris-setosa']\n [5.1 3.3 1.7 0.5 'Iris-setosa']\n [4.8 3.4 1.9 0.2 'Iris-setosa']\n [5.0 3.0 1.6 0.2 'Iris-setosa']\n [5.0 3.4 1.6 0.4 'Iris-setosa']\n [5.2 3.5 1.5 0.2 'Iris-setosa']\n [5.2 3.4 1.4 0.2 'Iris-setosa']\n [4.7 3.2 1.6 0.2 'Iris-setosa']\n [4.8 3.1 1.6 0.2 'Iris-setosa']\n [5.4 3.4 1.5 0.4 'Iris-setosa']\n [5.2 4.1 1.5 0.1 'Iris-setosa']\n [5.5 4.2 1.4 0.2 'Iris-setosa']\n [4.9 3.1 1.5 0.1 'Iris-setosa']\n [5.0 3.2 1.2 0.2 'Iris-setosa']\n [5.5 3.5 1.3 0.2 'Iris-setosa']\n [4.9 3.1 1.5 0.1 'Iris-setosa']\n [4.4 3.0 1.3 0.2 'Iris-setosa']\n [5.1 3.4 1.5 0.2 'Iris-setosa']\n [5.0 3.5 1.3 0.3 'Iris-setosa']\n [4.5 2.3 1.3 0.3 'Iris-setosa']\n [4.4 3.2 1.3 0.2 'Iris-setosa']\n [5.0 3.5 1.6 0.6 'Iris-setosa']\n [5.1 3.8 1.9 0.4 'Iris-setosa']\n [4.8 3.0 1.4 0.3 'Iris-setosa']\n [5.1 3.8 1.6 0.2 'Iris-setosa']\n [4.6 3.2 1.4 0.2 'Iris-setosa']\n [5.3 3.7 1.5 0.2 'Iris-setosa']\n [5.0 3.3 1.4 0.2 'Iris-setosa']\n [7.0 3.2 4.7 1.4 'Iris-versicolor']\n [6.4 3.2 4.5 1.5 'Iris-versicolor']\n [6.9 3.1 4.9 1.5 'Iris-versicolor']\n [5.5 2.3 4.0 1.3 'Iris-versicolor']\n [6.5 2.8 4.6 1.5 'Iris-versicolor']\n [5.7 2.8 4.5 1.3 'Iris-versicolor']\n [6.3 3.3 4.7 1.6 'Iris-versicolor']\n [4.9 2.4 3.3 1.0 'Iris-versicolor']\n [6.6 2.9 4.6 1.3 'Iris-versicolor']\n [5.2 2.7 3.9 1.4 'Iris-versicolor']\n [5.0 2.0 3.5 1.0 'Iris-versicolor']\n [5.9 3.0 4.2 1.5 'Iris-versicolor']\n [6.0 2.2 4.0 1.0 'Iris-versicolor']\n [6.1 2.9 4.7 1.4 'Iris-versicolor']\n [5.6 2.9 3.6 1.3 'Iris-versicolor']\n [6.7 3.1 4.4 1.4 'Iris-versicolor']\n [5.6 3.0 4.5 1.5 'Iris-versicolor']\n [5.8 2.7 4.1 1.0 'Iris-versicolor']\n [6.2 2.2 4.5 1.5 'Iris-versicolor']\n [5.6 2.5 3.9 1.1 'Iris-versicolor']\n [5.9 3.2 4.8 1.8 'Iris-versicolor']\n [6.1 2.8 4.0 1.3 'Iris-versicolor']\n [6.3 2.5 4.9 1.5 'Iris-versicolor']\n [6.1 2.8 4.7 1.2 'Iris-versicolor']\n [6.4 2.9 4.3 1.3 'Iris-versicolor']\n [6.6 3.0 4.4 1.4 'Iris-versicolor']\n [6.8 2.8 4.8 1.4 'Iris-versicolor']\n [6.7 3.0 5.0 1.7 'Iris-versicolor']\n [6.0 2.9 4.5 1.5 'Iris-versicolor']\n [5.7 2.6 3.5 1.0 'Iris-versicolor']\n [5.5 2.4 3.8 1.1 'Iris-versicolor']\n [5.5 2.4 3.7 1.0 'Iris-versicolor']\n [5.8 2.7 3.9 1.2 'Iris-versicolor']\n [6.0 2.7 5.1 1.6 'Iris-versicolor']\n [5.4 3.0 4.5 1.5 'Iris-versicolor']\n [6.0 3.4 4.5 1.6 'Iris-versicolor']\n [6.7 3.1 4.7 1.5 'Iris-versicolor']\n [6.3 2.3 4.4 1.3 'Iris-versicolor']\n [5.6 3.0 4.1 1.3 'Iris-versicolor']\n [5.5 2.5 4.0 1.3 'Iris-versicolor']\n [5.5 2.6 4.4 1.2 'Iris-versicolor']\n [6.1 3.0 4.6 1.4 'Iris-versicolor']\n [5.8 2.6 4.0 1.2 'Iris-versicolor']\n [5.0 2.3 3.3 1.0 'Iris-versicolor']\n [5.6 2.7 4.2 1.3 'Iris-versicolor']\n [5.7 3.0 4.2 1.2 'Iris-versicolor']\n [5.7 2.9 4.2 1.3 'Iris-versicolor']\n [6.2 2.9 4.3 1.3 'Iris-versicolor']\n [5.1 2.5 3.0 1.1 'Iris-versicolor']\n [5.7 2.8 4.1 1.3 'Iris-versicolor']\n [6.3 3.3 6.0 2.5 'Iris-virginica']\n [5.8 2.7 5.1 1.9 'Iris-virginica']\n [7.1 3.0 5.9 2.1 'Iris-virginica']\n [6.3 2.9 5.6 1.8 'Iris-virginica']\n [6.5 3.0 5.8 2.2 'Iris-virginica']\n [7.6 3.0 6.6 2.1 'Iris-virginica']\n [4.9 2.5 4.5 1.7 'Iris-virginica']\n [7.3 2.9 6.3 1.8 'Iris-virginica']\n [6.7 2.5 5.8 1.8 'Iris-virginica']\n [7.2 3.6 6.1 2.5 'Iris-virginica']\n [6.5 3.2 5.1 2.0 'Iris-virginica']\n [6.4 2.7 5.3 1.9 'Iris-virginica']\n [6.8 3.0 5.5 2.1 'Iris-virginica']\n [5.7 2.5 5.0 2.0 'Iris-virginica']\n [5.8 2.8 5.1 2.4 'Iris-virginica']\n [6.4 3.2 5.3 2.3 'Iris-virginica']\n [6.5 3.0 5.5 1.8 'Iris-virginica']\n [7.7 3.8 6.7 2.2 'Iris-virginica']\n [7.7 2.6 6.9 2.3 'Iris-virginica']\n [6.0 2.2 5.0 1.5 'Iris-virginica']\n [6.9 3.2 5.7 2.3 'Iris-virginica']\n [5.6 2.8 4.9 2.0 'Iris-virginica']\n [7.7 2.8 6.7 2.0 'Iris-virginica']\n [6.3 2.7 4.9 1.8 'Iris-virginica']\n [6.7 3.3 5.7 2.1 'Iris-virginica']\n [7.2 3.2 6.0 1.8 'Iris-virginica']\n [6.2 2.8 4.8 1.8 'Iris-virginica']\n [6.1 3.0 4.9 1.8 'Iris-virginica']\n [6.4 2.8 5.6 2.1 'Iris-virginica']\n [7.2 3.0 5.8 1.6 'Iris-virginica']\n [7.4 2.8 6.1 1.9 'Iris-virginica']\n [7.9 3.8 6.4 2.0 'Iris-virginica']\n [6.4 2.8 5.6 2.2 'Iris-virginica']\n [6.3 2.8 5.1 1.5 'Iris-virginica']\n [6.1 2.6 5.6 1.4 'Iris-virginica']\n [7.7 3.0 6.1 2.3 'Iris-virginica']\n [6.3 3.4 5.6 2.4 'Iris-virginica']\n [6.4 3.1 5.5 1.8 'Iris-virginica']\n [6.0 3.0 4.8 1.8 'Iris-virginica']\n [6.9 3.1 5.4 2.1 'Iris-virginica']\n [6.7 3.1 5.6 2.4 'Iris-virginica']\n [6.9 3.1 5.1 2.3 'Iris-virginica']\n [5.8 2.7 5.1 1.9 'Iris-virginica']\n [6.8 3.2 5.9 2.3 'Iris-virginica']\n [6.7 3.3 5.7 2.5 'Iris-virginica']\n [6.7 3.0 5.2 2.3 'Iris-virginica']\n [6.3 2.5 5.0 1.9 'Iris-virginica']\n [6.5 3.0 5.2 2.0 'Iris-virginica']\n [6.2 3.4 5.4 2.3 'Iris-virginica']\n [5.9 3.0 5.1 1.8 'Iris-virginica']]\n\u001b[1;31mLength:\u001b[0m          150\n\u001b[1;31mFile:\u001b[0m            c:\\program files\\python39\\lib\\site-packages\\numpy\\__init__.py\n\u001b[1;31mDocstring:\u001b[0m       <no docstring>\n",
        "y": "\u001b[1;31mType:\u001b[0m            ndarray\n\u001b[1;31mString form:\u001b[0m    \n['Iris-setosa' 'Iris-setosa' 'Iris-setosa' 'Iris-setosa' 'Iris-setosa'\n 'Iris-setosa' 'Iris-setosa' 'Iris-setosa' 'Iris-setosa' 'Iris-setosa'\n 'Iris-setosa' 'Iris-setosa' 'Iris-setosa' 'Iris-setosa' 'Iris-setosa'\n 'Iris-setosa' 'Iris-setosa' 'Iris-setosa' 'Iris-setosa' 'Iris-setosa'\n 'Iris-setosa' 'Iris-setosa' 'Iris-setosa' 'Iris-setosa' 'Iris-setosa'\n 'Iris-setosa' 'Iris-setosa' 'Iris-setosa' 'Iris-setosa' 'Iris-setosa'\n 'Iris-setosa' 'Iris-setosa' 'Iris-setosa' 'Iris-setosa' 'Iris-setosa'\n 'Iris-setosa' 'Iris-setosa' 'Iris-setosa' 'Iris-setosa' 'Iris-setosa'\n 'Iris-setosa' 'Iris-setosa' 'Iris-setosa' 'Iris-setosa' 'Iris-setosa'\n 'Iris-setosa' 'Iris-setosa' 'Iris-setosa' 'Iris-setosa' 'Iris-setosa'\n 'Iris-versicolor' 'Iris-versicolor' 'Iris-versicolor' 'Iris-versicolor'\n 'Iris-versicolor' 'Iris-versicolor' 'Iris-versicolor' 'Iris-versicolor'\n 'Iris-versicolor' 'Iris-versicolor' 'Iris-versicolor' 'Iris-versicolor'\n 'Iris-versicolor' 'Iris-versicolor' 'Iris-versicolor' 'Iris-versicolor'\n 'Iris-versicolor' 'Iris-versicolor' 'Iris-versicolor' 'Iris-versicolor'\n 'Iris-versicolor' 'Iris-versicolor' 'Iris-versicolor' 'Iris-versicolor'\n 'Iris-versicolor' 'Iris-versicolor' 'Iris-versicolor' 'Iris-versicolor'\n 'Iris-versicolor' 'Iris-versicolor' 'Iris-versicolor' 'Iris-versicolor'\n 'Iris-versicolor' 'Iris-versicolor' 'Iris-versicolor' 'Iris-versicolor'\n 'Iris-versicolor' 'Iris-versicolor' 'Iris-versicolor' 'Iris-versicolor'\n 'Iris-versicolor' 'Iris-versicolor' 'Iris-versicolor' 'Iris-versicolor'\n 'Iris-versicolor' 'Iris-versicolor' 'Iris-versicolor' 'Iris-versicolor'\n 'Iris-versicolor' 'Iris-versicolor' 'Iris-virginica' 'Iris-virginica'\n 'Iris-virginica' 'Iris-virginica' 'Iris-virginica' 'Iris-virginica'\n 'Iris-virginica' 'Iris-virginica' 'Iris-virginica' 'Iris-virginica'\n 'Iris-virginica' 'Iris-virginica' 'Iris-virginica' 'Iris-virginica'\n 'Iris-virginica' 'Iris-virginica' 'Iris-virginica' 'Iris-virginica'\n 'Iris-virginica' 'Iris-virginica' 'Iris-virginica' 'Iris-virginica'\n 'Iris-virginica' 'Iris-virginica' 'Iris-virginica' 'Iris-virginica'\n 'Iris-virginica' 'Iris-virginica' 'Iris-virginica' 'Iris-virginica'\n 'Iris-virginica' 'Iris-virginica' 'Iris-virginica' 'Iris-virginica'\n 'Iris-virginica' 'Iris-virginica' 'Iris-virginica' 'Iris-virginica'\n 'Iris-virginica' 'Iris-virginica' 'Iris-virginica' 'Iris-virginica'\n 'Iris-virginica' 'Iris-virginica' 'Iris-virginica' 'Iris-virginica'\n 'Iris-virginica' 'Iris-virginica' 'Iris-virginica' 'Iris-virginica']\n\u001b[1;31mLength:\u001b[0m          150\n\u001b[1;31mFile:\u001b[0m            c:\\program files\\python39\\lib\\site-packages\\numpy\\__init__.py\n\u001b[1;31mDocstring:\u001b[0m       <no docstring>\n"
       },
       "remote": [
        "dataset",
        "train_test_split"
       ],
       "time": "Wed, 07 Jul 2021 14:46:48 GMT",
       "type": "execution"
      },
      {
       "cell_id": "c07b559e-a4ef-4213-bb77-db9a1f0d4dd3",
       "cell_outputs": [],
       "cell_source": "# Make predictions on validation dataset\nmodel = SVC(gamma='auto')\nmodel.fit(X_train, Y_train)\npredictions = model.predict(X_validation)",
       "data_values": [],
       "data_vars": [],
       "definitions": [
        {
         "col_offset": 0,
         "dependencies": [
          "SVC"
         ],
         "end_col_offset": 25,
         "end_lineno": 2,
         "lineno": 2,
         "name": "model",
         "type": "assign"
        },
        {
         "col_offset": 0,
         "dependencies": [
          "X_train",
          "Y_train"
         ],
         "end_col_offset": 27,
         "end_lineno": 3,
         "lineno": 3,
         "name": "model",
         "type": "call"
        },
        {
         "col_offset": 0,
         "dependencies": [
          "model",
          "X_validation"
         ],
         "end_col_offset": 41,
         "end_lineno": 4,
         "lineno": 4,
         "name": "predictions",
         "type": "assign"
        }
       ],
       "execution_count": 4,
       "imports": [],
       "local": [
        "model",
        "predictions"
       ],
       "local_info": {
        "model": "\u001b[1;31mType:\u001b[0m        SVC\n\u001b[1;31mString form:\u001b[0m SVC(gamma='auto')\n\u001b[1;31mFile:\u001b[0m        c:\\program files\\python39\\lib\\site-packages\\sklearn\\svm\\_classes.py\n",
        "predictions": "\u001b[1;31mType:\u001b[0m            ndarray\n\u001b[1;31mString form:\u001b[0m    \n['Iris-setosa' 'Iris-versicolor' 'Iris-versicolor' 'Iris-setosa'\n 'Iris-virginica' 'Iris-versicolor' 'Iris-virginica' 'Iris-setosa'\n 'Iris-setosa' 'Iris-virginica' 'Iris-versicolor' 'Iris-setosa'\n 'Iris-virginica' 'Iris-versicolor' 'Iris-versicolor' 'Iris-setosa'\n 'Iris-versicolor' 'Iris-versicolor' 'Iris-setosa' 'Iris-setosa'\n 'Iris-versicolor' 'Iris-versicolor' 'Iris-virginica' 'Iris-setosa'\n 'Iris-virginica' 'Iris-versicolor' 'Iris-setosa' 'Iris-setosa'\n 'Iris-versicolor' 'Iris-virginica']\n\u001b[1;31mLength:\u001b[0m          30\n\u001b[1;31mFile:\u001b[0m            c:\\program files\\python39\\lib\\site-packages\\numpy\\__init__.py\n\u001b[1;31mDocstring:\u001b[0m       <no docstring>\n"
       },
       "remote": [
        "SVC",
        "X_train",
        "Y_train",
        "X_validation"
       ],
       "time": "Wed, 07 Jul 2021 14:46:48 GMT",
       "type": "execution"
      },
      {
       "cell_id": "b2e4583c-7a6b-4b00-a55f-6e20fa6b89ca",
       "cell_outputs": [
        {
         "name": "stdout",
         "output_type": "stream",
         "text": "0.9666666666666667\n[[11  0  0]\n [ 0 12  1]\n [ 0  0  6]]\n                 precision    recall  f1-score   support\n\n    Iris-setosa       1.00      1.00      1.00        11\nIris-versicolor       1.00      0.92      0.96        13\n Iris-virginica       0.86      1.00      0.92         6\n\n       accuracy                           0.97        30\n      macro avg       0.95      0.97      0.96        30\n   weighted avg       0.97      0.97      0.97        30\n\n"
        }
       ],
       "cell_source": "# Evaluate predictions\nprint(accuracy_score(Y_validation, predictions))\nprint(confusion_matrix(Y_validation, predictions))\nprint(classification_report(Y_validation, predictions))",
       "data_values": [],
       "data_vars": [],
       "definitions": [
        {
         "col_offset": 0,
         "dependencies": [
          "accuracy_score",
          "Y_validation",
          "predictions"
         ],
         "end_col_offset": 48,
         "end_lineno": 2,
         "lineno": 2,
         "name": "print",
         "type": "call"
        },
        {
         "col_offset": 0,
         "dependencies": [
          "confusion_matrix",
          "Y_validation",
          "predictions"
         ],
         "end_col_offset": 50,
         "end_lineno": 3,
         "lineno": 3,
         "name": "print",
         "type": "call"
        },
        {
         "col_offset": 0,
         "dependencies": [
          "classification_report",
          "Y_validation",
          "predictions"
         ],
         "end_col_offset": 55,
         "end_lineno": 4,
         "lineno": 4,
         "name": "print",
         "type": "call"
        }
       ],
       "execution_count": 5,
       "imports": [],
       "local": [],
       "local_info": {},
       "remote": [
        "print",
        "accuracy_score",
        "Y_validation",
        "predictions",
        "confusion_matrix",
        "classification_report"
       ],
       "time": "Wed, 07 Jul 2021 14:46:48 GMT",
       "type": "execution"
      }
     ],
     "environment": {
      "kernel": {
       "implementation": "ipython",
       "version": "7.22.0"
      },
      "language_info": {
       "mimetype": "text/x-python",
       "name": "python",
       "version": "3.9.2"
      },
      "time": "Wed, 07 Jul 2021 14:46:46 GMT",
      "user_agent": "Mozilla/5.0 (Windows NT 10.0; Win64; x64; rv:89.0) Gecko/20100101 Firefox/89.0"
     },
     "modules": {
      "numpy": {
       "alias": "np",
       "version": "1.19.5"
      },
      "pandas": {
       "imports": [
        "read_csv"
       ],
       "version": "1.2.3"
      },
      "sklearn.metrics": {
       "imports": [
        "classification_report",
        "confusion_matrix",
        "accuracy_score"
       ],
       "version": ""
      },
      "sklearn.model_selection": {
       "imports": [
        "train_test_split"
       ],
       "version": ""
      },
      "sklearn.svm": {
       "imports": [
        "SVC"
       ],
       "version": ""
      }
     }
    },
    {
     "cells": [
      "beed23df-eed2-4dfc-9f75-97596457a98a",
      "e60d7751-a842-4791-b6cb-4ea6edecba57",
      "69ebfff9-2ec7-45b8-976c-5b368e076da0",
      "c07b559e-a4ef-4213-bb77-db9a1f0d4dd3",
      "b2e4583c-7a6b-4b00-a55f-6e20fa6b89ca",
      "ca09678c-cdd6-4e16-9090-7142d06b9fc2"
     ],
     "data": [
      {
       "cell_id": "beed23df-eed2-4dfc-9f75-97596457a98a",
       "cell_outputs": [],
       "cell_source": "import numpy as np\nfrom pandas import read_csv\nfrom sklearn.model_selection import train_test_split\nfrom sklearn.metrics import classification_report\nfrom sklearn.metrics import confusion_matrix\nfrom sklearn.metrics import accuracy_score\nfrom sklearn.svm import SVC\n",
       "data_values": [],
       "data_vars": [],
       "definitions": [],
       "execution_count": 1,
       "imports": [
        "np",
        "read_csv",
        "train_test_split",
        "classification_report",
        "confusion_matrix",
        "accuracy_score",
        "SVC"
       ],
       "local": [],
       "local_info": {},
       "remote": [],
       "time": "Wed, 07 Jul 2021 14:47:10 GMT",
       "type": "execution"
      },
      {
       "cell_id": "e60d7751-a842-4791-b6cb-4ea6edecba57",
       "cell_outputs": [],
       "cell_source": "# Load dataset\nurl = \"https://raw.githubusercontent.com/jbrownlee/Datasets/master/iris.csv\"\nnames = ['sepal-length', 'sepal-width', 'petal-length', 'petal-width', 'class']\ndataset = read_csv(url, names=names)",
       "data_values": [
        "https://raw.githubusercontent.com/jbrownlee/Datasets/master/iris.csv"
       ],
       "data_vars": [
        "url",
        "dataset"
       ],
       "definitions": [
        {
         "col_offset": 0,
         "dependencies": [],
         "end_col_offset": 76,
         "end_lineno": 2,
         "lineno": 2,
         "name": "url",
         "type": "assign"
        },
        {
         "col_offset": 0,
         "dependencies": [],
         "end_col_offset": 79,
         "end_lineno": 3,
         "lineno": 3,
         "name": "names",
         "type": "assign"
        },
        {
         "col_offset": 0,
         "dependencies": [
          "read_csv",
          "url",
          "names"
         ],
         "end_col_offset": 36,
         "end_lineno": 4,
         "lineno": 4,
         "name": "dataset",
         "type": "assign"
        }
       ],
       "execution_count": 2,
       "imports": [],
       "local": [
        "url",
        "names",
        "dataset"
       ],
       "local_info": {
        "dataset": "\u001b[1;31mType:\u001b[0m        DataFrame\n\u001b[1;31mString form:\u001b[0m\n     sepal-length  sepal-width  petal-length  petal-width           class\n0             5.1          3.5           1.4          0.2     Iris-setosa\n1             4.9          3.0           1.4          0.2     Iris-setosa\n2             4.7          3.2           1.3          0.2     Iris-setosa\n3             4.6          3.1           1.5          0.2     Iris-setosa\n4             5.0          3.6           1.4          0.2     Iris-setosa\n..            ...          ...           ...          ...             ...\n145           6.7          3.0           5.2          2.3  Iris-virginica\n146           6.3          2.5           5.0          1.9  Iris-virginica\n147           6.5          3.0           5.2          2.0  Iris-virginica\n148           6.2          3.4           5.4          2.3  Iris-virginica\n149           5.9          3.0           5.1          1.8  Iris-virginica\n\n[150 rows x 5 columns]\n\u001b[1;31mLength:\u001b[0m      150\n\u001b[1;31mFile:\u001b[0m        c:\\program files\\python39\\lib\\site-packages\\pandas\\core\\frame.py\n",
        "names": "\u001b[1;31mType:\u001b[0m        list\n\u001b[1;31mString form:\u001b[0m ['sepal-length', 'sepal-width', 'petal-length', 'petal-width', 'class']\n\u001b[1;31mLength:\u001b[0m      5\n\u001b[1;31mDocstring:\u001b[0m  \nBuilt-in mutable sequence.\n\nIf no argument is given, the constructor creates a new empty list.\nThe argument must be an iterable if specified.\n",
        "url": "\u001b[1;31mType:\u001b[0m        str\n\u001b[1;31mString form:\u001b[0m https://raw.githubusercontent.com/jbrownlee/Datasets/master/iris.csv\n\u001b[1;31mLength:\u001b[0m      68\n\u001b[1;31mDocstring:\u001b[0m  \nstr(object='') -> str\nstr(bytes_or_buffer[, encoding[, errors]]) -> str\n\nCreate a new string object from the given object. If encoding or\nerrors is specified, then the object must expose a data buffer\nthat will be decoded using the given encoding and error handler.\nOtherwise, returns the result of object.__str__() (if defined)\nor repr(object).\nencoding defaults to sys.getdefaultencoding().\nerrors defaults to 'strict'.\n"
       },
       "remote": [
        "read_csv"
       ],
       "time": "Wed, 07 Jul 2021 14:47:11 GMT",
       "type": "execution"
      },
      {
       "cell_id": "69ebfff9-2ec7-45b8-976c-5b368e076da0",
       "cell_outputs": [],
       "cell_source": "# Split-out validation dataset\narray = dataset.values\nX = array[:, 0:4]\ny = array[:, 4]\nX_train, X_validation, Y_train, Y_validation = train_test_split(\n    X, y, test_size=0.20, random_state=1)",
       "data_values": [],
       "data_vars": [],
       "definitions": [
        {
         "col_offset": 0,
         "dependencies": [
          "dataset"
         ],
         "end_col_offset": 22,
         "end_lineno": 2,
         "lineno": 2,
         "name": "array",
         "type": "assign"
        },
        {
         "col_offset": 0,
         "dependencies": [
          "array"
         ],
         "end_col_offset": 17,
         "end_lineno": 3,
         "lineno": 3,
         "name": "X",
         "type": "assign"
        },
        {
         "col_offset": 0,
         "dependencies": [
          "array"
         ],
         "end_col_offset": 15,
         "end_lineno": 4,
         "lineno": 4,
         "name": "y",
         "type": "assign"
        },
        {
         "col_offset": 0,
         "dependencies": [
          "train_test_split",
          "X",
          "y"
         ],
         "end_col_offset": 41,
         "end_lineno": 6,
         "lineno": 5,
         "name": "X_train",
         "type": "assign"
        },
        {
         "col_offset": 0,
         "dependencies": [
          "train_test_split",
          "X",
          "y"
         ],
         "end_col_offset": 41,
         "end_lineno": 6,
         "lineno": 5,
         "name": "X_validation",
         "type": "assign"
        },
        {
         "col_offset": 0,
         "dependencies": [
          "train_test_split",
          "X",
          "y"
         ],
         "end_col_offset": 41,
         "end_lineno": 6,
         "lineno": 5,
         "name": "Y_train",
         "type": "assign"
        },
        {
         "col_offset": 0,
         "dependencies": [
          "train_test_split",
          "X",
          "y"
         ],
         "end_col_offset": 41,
         "end_lineno": 6,
         "lineno": 5,
         "name": "Y_validation",
         "type": "assign"
        }
       ],
       "execution_count": 3,
       "imports": [],
       "local": [
        "array",
        "X",
        "y",
        "X_train",
        "X_validation",
        "Y_train",
        "Y_validation"
       ],
       "local_info": {
        "X": "\u001b[1;31mType:\u001b[0m            ndarray\n\u001b[1;31mString form:\u001b[0m    \n[[5.1 3.5 1.4 0.2]\n [4.9 3.0 1.4 0.2]\n [4.7 3.2 1.3 0.2]\n [4.6 3.1 1.5 0.2]\n [5.0 3.6 1.4 0.2]\n [5.4 3.9 1.7 0.4]\n [4.6 3.4 1.4 0.3]\n [5.0 3.4 1.5 0.2]\n [4.4 2.9 1.4 0.2]\n [4.9 3.1 1.5 0.1]\n [5.4 3.7 1.5 0.2]\n [4.8 3.4 1.6 0.2]\n [4.8 3.0 1.4 0.1]\n [4.3 3.0 1.1 0.1]\n [5.8 4.0 1.2 0.2]\n [5.7 4.4 1.5 0.4]\n [5.4 3.9 1.3 0.4]\n [5.1 3.5 1.4 0.3]\n [5.7 3.8 1.7 0.3]\n [5.1 3.8 1.5 0.3]\n [5.4 3.4 1.7 0.2]\n [5.1 3.7 1.5 0.4]\n [4.6 3.6 1.0 0.2]\n [5.1 3.3 1.7 0.5]\n [4.8 3.4 1.9 0.2]\n [5.0 3.0 1.6 0.2]\n [5.0 3.4 1.6 0.4]\n [5.2 3.5 1.5 0.2]\n [5.2 3.4 1.4 0.2]\n [4.7 3.2 1.6 0.2]\n [4.8 3.1 1.6 0.2]\n [5.4 3.4 1.5 0.4]\n [5.2 4.1 1.5 0.1]\n [5.5 4.2 1.4 0.2]\n [4.9 3.1 1.5 0.1]\n [5.0 3.2 1.2 0.2]\n [5.5 3.5 1.3 0.2]\n [4.9 3.1 1.5 0.1]\n [4.4 3.0 1.3 0.2]\n [5.1 3.4 1.5 0.2]\n [5.0 3.5 1.3 0.3]\n [4.5 2.3 1.3 0.3]\n [4.4 3.2 1.3 0.2]\n [5.0 3.5 1.6 0.6]\n [5.1 3.8 1.9 0.4]\n [4.8 3.0 1.4 0.3]\n [5.1 3.8 1.6 0.2]\n [4.6 3.2 1.4 0.2]\n [5.3 3.7 1.5 0.2]\n [5.0 3.3 1.4 0.2]\n [7.0 3.2 4.7 1.4]\n [6.4 3.2 4.5 1.5]\n [6.9 3.1 4.9 1.5]\n [5.5 2.3 4.0 1.3]\n [6.5 2.8 4.6 1.5]\n [5.7 2.8 4.5 1.3]\n [6.3 3.3 4.7 1.6]\n [4.9 2.4 3.3 1.0]\n [6.6 2.9 4.6 1.3]\n [5.2 2.7 3.9 1.4]\n [5.0 2.0 3.5 1.0]\n [5.9 3.0 4.2 1.5]\n [6.0 2.2 4.0 1.0]\n [6.1 2.9 4.7 1.4]\n [5.6 2.9 3.6 1.3]\n [6.7 3.1 4.4 1.4]\n [5.6 3.0 4.5 1.5]\n [5.8 2.7 4.1 1.0]\n [6.2 2.2 4.5 1.5]\n [5.6 2.5 3.9 1.1]\n [5.9 3.2 4.8 1.8]\n [6.1 2.8 4.0 1.3]\n [6.3 2.5 4.9 1.5]\n [6.1 2.8 4.7 1.2]\n [6.4 2.9 4.3 1.3]\n [6.6 3.0 4.4 1.4]\n [6.8 2.8 4.8 1.4]\n [6.7 3.0 5.0 1.7]\n [6.0 2.9 4.5 1.5]\n [5.7 2.6 3.5 1.0]\n [5.5 2.4 3.8 1.1]\n [5.5 2.4 3.7 1.0]\n [5.8 2.7 3.9 1.2]\n [6.0 2.7 5.1 1.6]\n [5.4 3.0 4.5 1.5]\n [6.0 3.4 4.5 1.6]\n [6.7 3.1 4.7 1.5]\n [6.3 2.3 4.4 1.3]\n [5.6 3.0 4.1 1.3]\n [5.5 2.5 4.0 1.3]\n [5.5 2.6 4.4 1.2]\n [6.1 3.0 4.6 1.4]\n [5.8 2.6 4.0 1.2]\n [5.0 2.3 3.3 1.0]\n [5.6 2.7 4.2 1.3]\n [5.7 3.0 4.2 1.2]\n [5.7 2.9 4.2 1.3]\n [6.2 2.9 4.3 1.3]\n [5.1 2.5 3.0 1.1]\n [5.7 2.8 4.1 1.3]\n [6.3 3.3 6.0 2.5]\n [5.8 2.7 5.1 1.9]\n [7.1 3.0 5.9 2.1]\n [6.3 2.9 5.6 1.8]\n [6.5 3.0 5.8 2.2]\n [7.6 3.0 6.6 2.1]\n [4.9 2.5 4.5 1.7]\n [7.3 2.9 6.3 1.8]\n [6.7 2.5 5.8 1.8]\n [7.2 3.6 6.1 2.5]\n [6.5 3.2 5.1 2.0]\n [6.4 2.7 5.3 1.9]\n [6.8 3.0 5.5 2.1]\n [5.7 2.5 5.0 2.0]\n [5.8 2.8 5.1 2.4]\n [6.4 3.2 5.3 2.3]\n [6.5 3.0 5.5 1.8]\n [7.7 3.8 6.7 2.2]\n [7.7 2.6 6.9 2.3]\n [6.0 2.2 5.0 1.5]\n [6.9 3.2 5.7 2.3]\n [5.6 2.8 4.9 2.0]\n [7.7 2.8 6.7 2.0]\n [6.3 2.7 4.9 1.8]\n [6.7 3.3 5.7 2.1]\n [7.2 3.2 6.0 1.8]\n [6.2 2.8 4.8 1.8]\n [6.1 3.0 4.9 1.8]\n [6.4 2.8 5.6 2.1]\n [7.2 3.0 5.8 1.6]\n [7.4 2.8 6.1 1.9]\n [7.9 3.8 6.4 2.0]\n [6.4 2.8 5.6 2.2]\n [6.3 2.8 5.1 1.5]\n [6.1 2.6 5.6 1.4]\n [7.7 3.0 6.1 2.3]\n [6.3 3.4 5.6 2.4]\n [6.4 3.1 5.5 1.8]\n [6.0 3.0 4.8 1.8]\n [6.9 3.1 5.4 2.1]\n [6.7 3.1 5.6 2.4]\n [6.9 3.1 5.1 2.3]\n [5.8 2.7 5.1 1.9]\n [6.8 3.2 5.9 2.3]\n [6.7 3.3 5.7 2.5]\n [6.7 3.0 5.2 2.3]\n [6.3 2.5 5.0 1.9]\n [6.5 3.0 5.2 2.0]\n [6.2 3.4 5.4 2.3]\n [5.9 3.0 5.1 1.8]]\n\u001b[1;31mLength:\u001b[0m          150\n\u001b[1;31mFile:\u001b[0m            c:\\program files\\python39\\lib\\site-packages\\numpy\\__init__.py\n\u001b[1;31mDocstring:\u001b[0m       <no docstring>\n",
        "X_train": "\u001b[1;31mType:\u001b[0m            ndarray\n\u001b[1;31mString form:\u001b[0m    \n[[6.1 3.0 4.6 1.4]\n [7.7 3.0 6.1 2.3]\n [5.6 2.5 3.9 1.1]\n [6.4 2.8 5.6 2.1]\n [5.8 2.8 5.1 2.4]\n [5.3 3.7 1.5 0.2]\n [5.5 2.3 4.0 1.3]\n [5.2 3.4 1.4 0.2]\n [6.5 2.8 4.6 1.5]\n [6.7 2.5 5.8 1.8]\n [6.8 3.0 5.5 2.1]\n [5.1 3.5 1.4 0.3]\n [6.0 2.2 5.0 1.5]\n [6.3 2.9 5.6 1.8]\n [6.6 2.9 4.6 1.3]\n [7.7 2.6 6.9 2.3]\n [5.7 3.8 1.7 0.3]\n [5.0 3.6 1.4 0.2]\n [4.8 3.0 1.4 0.3]\n [5.2 2.7 3.9 1.4]\n [5.1 3.4 1.5 0.2]\n [5.5 3.5 1.3 0.2]\n [7.7 3.8 6.7 2.2]\n [6.9 3.1 5.4 2.1]\n [7.3 2.9 6.3 1.8]\n [6.4 2.8 5.6 2.2]\n [6.2 2.8 4.8 1.8]\n [6.0 3.4 4.5 1.6]\n [7.7 2.8 6.7 2.0]\n [5.7 3.0 4.2 1.2]\n [4.8 3.4 1.6 0.2]\n [5.7 2.5 5.0 2.0]\n [6.3 2.7 4.9 1.8]\n [4.8 3.0 1.4 0.1]\n [4.7 3.2 1.3 0.2]\n [6.5 3.0 5.8 2.2]\n [4.6 3.4 1.4 0.3]\n [6.1 3.0 4.9 1.8]\n [6.5 3.2 5.1 2.0]\n [6.7 3.1 4.4 1.4]\n [5.7 2.8 4.5 1.3]\n [6.7 3.3 5.7 2.5]\n [6.0 3.0 4.8 1.8]\n [5.1 3.8 1.6 0.2]\n [6.0 2.2 4.0 1.0]\n [6.4 2.9 4.3 1.3]\n [6.5 3.0 5.5 1.8]\n [5.0 2.3 3.3 1.0]\n [6.3 3.3 6.0 2.5]\n [5.5 2.5 4.0 1.3]\n [5.4 3.7 1.5 0.2]\n [4.9 3.1 1.5 0.1]\n [5.2 4.1 1.5 0.1]\n [6.7 3.3 5.7 2.1]\n [4.4 3.0 1.3 0.2]\n [6.0 2.7 5.1 1.6]\n [6.4 2.7 5.3 1.9]\n [5.9 3.0 5.1 1.8]\n [5.2 3.5 1.5 0.2]\n [5.1 3.3 1.7 0.5]\n [5.8 2.7 4.1 1.0]\n [4.9 3.1 1.5 0.1]\n [7.4 2.8 6.1 1.9]\n [6.2 2.9 4.3 1.3]\n [7.6 3.0 6.6 2.1]\n [6.7 3.0 5.2 2.3]\n [6.3 2.3 4.4 1.3]\n [6.2 3.4 5.4 2.3]\n [7.2 3.6 6.1 2.5]\n [5.6 2.9 3.6 1.3]\n [5.7 4.4 1.5 0.4]\n [5.8 2.7 3.9 1.2]\n [4.5 2.3 1.3 0.3]\n [5.5 2.4 3.8 1.1]\n [6.9 3.1 4.9 1.5]\n [5.0 3.4 1.6 0.4]\n [6.8 2.8 4.8 1.4]\n [5.0 3.5 1.6 0.6]\n [4.8 3.4 1.9 0.2]\n [6.3 3.4 5.6 2.4]\n [5.6 2.8 4.9 2.0]\n [6.8 3.2 5.9 2.3]\n [5.0 3.3 1.4 0.2]\n [5.1 3.7 1.5 0.4]\n [5.9 3.2 4.8 1.8]\n [4.6 3.1 1.5 0.2]\n [5.8 2.7 5.1 1.9]\n [4.8 3.1 1.6 0.2]\n [6.5 3.0 5.2 2.0]\n [4.9 2.5 4.5 1.7]\n [4.6 3.2 1.4 0.2]\n [6.4 3.2 5.3 2.3]\n [4.3 3.0 1.1 0.1]\n [5.6 3.0 4.1 1.3]\n [4.4 2.9 1.4 0.2]\n [5.5 2.4 3.7 1.0]\n [5.0 2.0 3.5 1.0]\n [5.1 3.5 1.4 0.2]\n [4.9 3.0 1.4 0.2]\n [4.9 2.4 3.3 1.0]\n [4.6 3.6 1.0 0.2]\n [5.9 3.0 4.2 1.5]\n [6.1 2.9 4.7 1.4]\n [5.0 3.4 1.5 0.2]\n [6.7 3.1 4.7 1.5]\n [5.7 2.9 4.2 1.3]\n [6.2 2.2 4.5 1.5]\n [7.0 3.2 4.7 1.4]\n [5.8 2.7 5.1 1.9]\n [5.4 3.4 1.7 0.2]\n [5.0 3.0 1.6 0.2]\n [6.1 2.6 5.6 1.4]\n [6.1 2.8 4.0 1.3]\n [7.2 3.0 5.8 1.6]\n [5.7 2.6 3.5 1.0]\n [6.3 2.8 5.1 1.5]\n [6.4 3.1 5.5 1.8]\n [6.3 2.5 4.9 1.5]\n [6.7 3.1 5.6 2.4]\n [4.9 3.1 1.5 0.1]]\n\u001b[1;31mLength:\u001b[0m          120\n\u001b[1;31mFile:\u001b[0m            c:\\program files\\python39\\lib\\site-packages\\numpy\\__init__.py\n\u001b[1;31mDocstring:\u001b[0m       <no docstring>\n",
        "X_validation": "\u001b[1;31mType:\u001b[0m            ndarray\n\u001b[1;31mString form:\u001b[0m    \n[[5.8 4.0 1.2 0.2]\n [5.1 2.5 3.0 1.1]\n [6.6 3.0 4.4 1.4]\n [5.4 3.9 1.3 0.4]\n [7.9 3.8 6.4 2.0]\n [6.3 3.3 4.7 1.6]\n [6.9 3.1 5.1 2.3]\n [5.1 3.8 1.9 0.4]\n [4.7 3.2 1.6 0.2]\n [6.9 3.2 5.7 2.3]\n [5.6 2.7 4.2 1.3]\n [5.4 3.9 1.7 0.4]\n [7.1 3.0 5.9 2.1]\n [6.4 3.2 4.5 1.5]\n [6.0 2.9 4.5 1.5]\n [4.4 3.2 1.3 0.2]\n [5.8 2.6 4.0 1.2]\n [5.6 3.0 4.5 1.5]\n [5.4 3.4 1.5 0.4]\n [5.0 3.2 1.2 0.2]\n [5.5 2.6 4.4 1.2]\n [5.4 3.0 4.5 1.5]\n [6.7 3.0 5.0 1.7]\n [5.0 3.5 1.3 0.3]\n [7.2 3.2 6.0 1.8]\n [5.7 2.8 4.1 1.3]\n [5.5 4.2 1.4 0.2]\n [5.1 3.8 1.5 0.3]\n [6.1 2.8 4.7 1.2]\n [6.3 2.5 5.0 1.9]]\n\u001b[1;31mLength:\u001b[0m          30\n\u001b[1;31mFile:\u001b[0m            c:\\program files\\python39\\lib\\site-packages\\numpy\\__init__.py\n\u001b[1;31mDocstring:\u001b[0m       <no docstring>\n",
        "Y_train": "\u001b[1;31mType:\u001b[0m            ndarray\n\u001b[1;31mString form:\u001b[0m    \n['Iris-versicolor' 'Iris-virginica' 'Iris-versicolor' 'Iris-virginica'\n 'Iris-virginica' 'Iris-setosa' 'Iris-versicolor' 'Iris-setosa'\n 'Iris-versicolor' 'Iris-virginica' 'Iris-virginica' 'Iris-setosa'\n 'Iris-virginica' 'Iris-virginica' 'Iris-versicolor' 'Iris-virginica'\n 'Iris-setosa' 'Iris-setosa' 'Iris-setosa' 'Iris-versicolor' 'Iris-setosa'\n 'Iris-setosa' 'Iris-virginica' 'Iris-virginica' 'Iris-virginica'\n 'Iris-virginica' 'Iris-virginica' 'Iris-versicolor' 'Iris-virginica'\n 'Iris-versicolor' 'Iris-setosa' 'Iris-virginica' 'Iris-virginica'\n 'Iris-setosa' 'Iris-setosa' 'Iris-virginica' 'Iris-setosa'\n 'Iris-virginica' 'Iris-virginica' 'Iris-versicolor' 'Iris-versicolor'\n 'Iris-virginica' 'Iris-virginica' 'Iris-setosa' 'Iris-versicolor'\n 'Iris-versicolor' 'Iris-virginica' 'Iris-versicolor' 'Iris-virginica'\n 'Iris-versicolor' 'Iris-setosa' 'Iris-setosa' 'Iris-setosa'\n 'Iris-virginica' 'Iris-setosa' 'Iris-versicolor' 'Iris-virginica'\n 'Iris-virginica' 'Iris-setosa' 'Iris-setosa' 'Iris-versicolor'\n 'Iris-setosa' 'Iris-virginica' 'Iris-versicolor' 'Iris-virginica'\n 'Iris-virginica' 'Iris-versicolor' 'Iris-virginica' 'Iris-virginica'\n 'Iris-versicolor' 'Iris-setosa' 'Iris-versicolor' 'Iris-setosa'\n 'Iris-versicolor' 'Iris-versicolor' 'Iris-setosa' 'Iris-versicolor'\n 'Iris-setosa' 'Iris-setosa' 'Iris-virginica' 'Iris-virginica'\n 'Iris-virginica' 'Iris-setosa' 'Iris-setosa' 'Iris-versicolor'\n 'Iris-setosa' 'Iris-virginica' 'Iris-setosa' 'Iris-virginica'\n 'Iris-virginica' 'Iris-setosa' 'Iris-virginica' 'Iris-setosa'\n 'Iris-versicolor' 'Iris-setosa' 'Iris-versicolor' 'Iris-versicolor'\n 'Iris-setosa' 'Iris-setosa' 'Iris-versicolor' 'Iris-setosa'\n 'Iris-versicolor' 'Iris-versicolor' 'Iris-setosa' 'Iris-versicolor'\n 'Iris-versicolor' 'Iris-versicolor' 'Iris-versicolor' 'Iris-virginica'\n 'Iris-setosa' 'Iris-setosa' 'Iris-virginica' 'Iris-versicolor'\n 'Iris-virginica' 'Iris-versicolor' 'Iris-virginica' 'Iris-virginica'\n 'Iris-versicolor' 'Iris-virginica' 'Iris-setosa']\n\u001b[1;31mLength:\u001b[0m          120\n\u001b[1;31mFile:\u001b[0m            c:\\program files\\python39\\lib\\site-packages\\numpy\\__init__.py\n\u001b[1;31mDocstring:\u001b[0m       <no docstring>\n",
        "Y_validation": "\u001b[1;31mType:\u001b[0m            ndarray\n\u001b[1;31mString form:\u001b[0m    \n['Iris-setosa' 'Iris-versicolor' 'Iris-versicolor' 'Iris-setosa'\n 'Iris-virginica' 'Iris-versicolor' 'Iris-virginica' 'Iris-setosa'\n 'Iris-setosa' 'Iris-virginica' 'Iris-versicolor' 'Iris-setosa'\n 'Iris-virginica' 'Iris-versicolor' 'Iris-versicolor' 'Iris-setosa'\n 'Iris-versicolor' 'Iris-versicolor' 'Iris-setosa' 'Iris-setosa'\n 'Iris-versicolor' 'Iris-versicolor' 'Iris-versicolor' 'Iris-setosa'\n 'Iris-virginica' 'Iris-versicolor' 'Iris-setosa' 'Iris-setosa'\n 'Iris-versicolor' 'Iris-virginica']\n\u001b[1;31mLength:\u001b[0m          30\n\u001b[1;31mFile:\u001b[0m            c:\\program files\\python39\\lib\\site-packages\\numpy\\__init__.py\n\u001b[1;31mDocstring:\u001b[0m       <no docstring>\n",
        "array": "\u001b[1;31mType:\u001b[0m            ndarray\n\u001b[1;31mString form:\u001b[0m    \n[[5.1 3.5 1.4 0.2 'Iris-setosa']\n [4.9 3.0 1.4 0.2 'Iris-setosa']\n [4.7 3.2 1.3 0.2 'Iris-setosa']\n [4.6 3.1 1.5 0.2 'Iris-setosa']\n [5.0 3.6 1.4 0.2 'Iris-setosa']\n [5.4 3.9 1.7 0.4 'Iris-setosa']\n [4.6 3.4 1.4 0.3 'Iris-setosa']\n [5.0 3.4 1.5 0.2 'Iris-setosa']\n [4.4 2.9 1.4 0.2 'Iris-setosa']\n [4.9 3.1 1.5 0.1 'Iris-setosa']\n [5.4 3.7 1.5 0.2 'Iris-setosa']\n [4.8 3.4 1.6 0.2 'Iris-setosa']\n [4.8 3.0 1.4 0.1 'Iris-setosa']\n [4.3 3.0 1.1 0.1 'Iris-setosa']\n [5.8 4.0 1.2 0.2 'Iris-setosa']\n [5.7 4.4 1.5 0.4 'Iris-setosa']\n [5.4 3.9 1.3 0.4 'Iris-setosa']\n [5.1 3.5 1.4 0.3 'Iris-setosa']\n [5.7 3.8 1.7 0.3 'Iris-setosa']\n [5.1 3.8 1.5 0.3 'Iris-setosa']\n [5.4 3.4 1.7 0.2 'Iris-setosa']\n [5.1 3.7 1.5 0.4 'Iris-setosa']\n [4.6 3.6 1.0 0.2 'Iris-setosa']\n [5.1 3.3 1.7 0.5 'Iris-setosa']\n [4.8 3.4 1.9 0.2 'Iris-setosa']\n [5.0 3.0 1.6 0.2 'Iris-setosa']\n [5.0 3.4 1.6 0.4 'Iris-setosa']\n [5.2 3.5 1.5 0.2 'Iris-setosa']\n [5.2 3.4 1.4 0.2 'Iris-setosa']\n [4.7 3.2 1.6 0.2 'Iris-setosa']\n [4.8 3.1 1.6 0.2 'Iris-setosa']\n [5.4 3.4 1.5 0.4 'Iris-setosa']\n [5.2 4.1 1.5 0.1 'Iris-setosa']\n [5.5 4.2 1.4 0.2 'Iris-setosa']\n [4.9 3.1 1.5 0.1 'Iris-setosa']\n [5.0 3.2 1.2 0.2 'Iris-setosa']\n [5.5 3.5 1.3 0.2 'Iris-setosa']\n [4.9 3.1 1.5 0.1 'Iris-setosa']\n [4.4 3.0 1.3 0.2 'Iris-setosa']\n [5.1 3.4 1.5 0.2 'Iris-setosa']\n [5.0 3.5 1.3 0.3 'Iris-setosa']\n [4.5 2.3 1.3 0.3 'Iris-setosa']\n [4.4 3.2 1.3 0.2 'Iris-setosa']\n [5.0 3.5 1.6 0.6 'Iris-setosa']\n [5.1 3.8 1.9 0.4 'Iris-setosa']\n [4.8 3.0 1.4 0.3 'Iris-setosa']\n [5.1 3.8 1.6 0.2 'Iris-setosa']\n [4.6 3.2 1.4 0.2 'Iris-setosa']\n [5.3 3.7 1.5 0.2 'Iris-setosa']\n [5.0 3.3 1.4 0.2 'Iris-setosa']\n [7.0 3.2 4.7 1.4 'Iris-versicolor']\n [6.4 3.2 4.5 1.5 'Iris-versicolor']\n [6.9 3.1 4.9 1.5 'Iris-versicolor']\n [5.5 2.3 4.0 1.3 'Iris-versicolor']\n [6.5 2.8 4.6 1.5 'Iris-versicolor']\n [5.7 2.8 4.5 1.3 'Iris-versicolor']\n [6.3 3.3 4.7 1.6 'Iris-versicolor']\n [4.9 2.4 3.3 1.0 'Iris-versicolor']\n [6.6 2.9 4.6 1.3 'Iris-versicolor']\n [5.2 2.7 3.9 1.4 'Iris-versicolor']\n [5.0 2.0 3.5 1.0 'Iris-versicolor']\n [5.9 3.0 4.2 1.5 'Iris-versicolor']\n [6.0 2.2 4.0 1.0 'Iris-versicolor']\n [6.1 2.9 4.7 1.4 'Iris-versicolor']\n [5.6 2.9 3.6 1.3 'Iris-versicolor']\n [6.7 3.1 4.4 1.4 'Iris-versicolor']\n [5.6 3.0 4.5 1.5 'Iris-versicolor']\n [5.8 2.7 4.1 1.0 'Iris-versicolor']\n [6.2 2.2 4.5 1.5 'Iris-versicolor']\n [5.6 2.5 3.9 1.1 'Iris-versicolor']\n [5.9 3.2 4.8 1.8 'Iris-versicolor']\n [6.1 2.8 4.0 1.3 'Iris-versicolor']\n [6.3 2.5 4.9 1.5 'Iris-versicolor']\n [6.1 2.8 4.7 1.2 'Iris-versicolor']\n [6.4 2.9 4.3 1.3 'Iris-versicolor']\n [6.6 3.0 4.4 1.4 'Iris-versicolor']\n [6.8 2.8 4.8 1.4 'Iris-versicolor']\n [6.7 3.0 5.0 1.7 'Iris-versicolor']\n [6.0 2.9 4.5 1.5 'Iris-versicolor']\n [5.7 2.6 3.5 1.0 'Iris-versicolor']\n [5.5 2.4 3.8 1.1 'Iris-versicolor']\n [5.5 2.4 3.7 1.0 'Iris-versicolor']\n [5.8 2.7 3.9 1.2 'Iris-versicolor']\n [6.0 2.7 5.1 1.6 'Iris-versicolor']\n [5.4 3.0 4.5 1.5 'Iris-versicolor']\n [6.0 3.4 4.5 1.6 'Iris-versicolor']\n [6.7 3.1 4.7 1.5 'Iris-versicolor']\n [6.3 2.3 4.4 1.3 'Iris-versicolor']\n [5.6 3.0 4.1 1.3 'Iris-versicolor']\n [5.5 2.5 4.0 1.3 'Iris-versicolor']\n [5.5 2.6 4.4 1.2 'Iris-versicolor']\n [6.1 3.0 4.6 1.4 'Iris-versicolor']\n [5.8 2.6 4.0 1.2 'Iris-versicolor']\n [5.0 2.3 3.3 1.0 'Iris-versicolor']\n [5.6 2.7 4.2 1.3 'Iris-versicolor']\n [5.7 3.0 4.2 1.2 'Iris-versicolor']\n [5.7 2.9 4.2 1.3 'Iris-versicolor']\n [6.2 2.9 4.3 1.3 'Iris-versicolor']\n [5.1 2.5 3.0 1.1 'Iris-versicolor']\n [5.7 2.8 4.1 1.3 'Iris-versicolor']\n [6.3 3.3 6.0 2.5 'Iris-virginica']\n [5.8 2.7 5.1 1.9 'Iris-virginica']\n [7.1 3.0 5.9 2.1 'Iris-virginica']\n [6.3 2.9 5.6 1.8 'Iris-virginica']\n [6.5 3.0 5.8 2.2 'Iris-virginica']\n [7.6 3.0 6.6 2.1 'Iris-virginica']\n [4.9 2.5 4.5 1.7 'Iris-virginica']\n [7.3 2.9 6.3 1.8 'Iris-virginica']\n [6.7 2.5 5.8 1.8 'Iris-virginica']\n [7.2 3.6 6.1 2.5 'Iris-virginica']\n [6.5 3.2 5.1 2.0 'Iris-virginica']\n [6.4 2.7 5.3 1.9 'Iris-virginica']\n [6.8 3.0 5.5 2.1 'Iris-virginica']\n [5.7 2.5 5.0 2.0 'Iris-virginica']\n [5.8 2.8 5.1 2.4 'Iris-virginica']\n [6.4 3.2 5.3 2.3 'Iris-virginica']\n [6.5 3.0 5.5 1.8 'Iris-virginica']\n [7.7 3.8 6.7 2.2 'Iris-virginica']\n [7.7 2.6 6.9 2.3 'Iris-virginica']\n [6.0 2.2 5.0 1.5 'Iris-virginica']\n [6.9 3.2 5.7 2.3 'Iris-virginica']\n [5.6 2.8 4.9 2.0 'Iris-virginica']\n [7.7 2.8 6.7 2.0 'Iris-virginica']\n [6.3 2.7 4.9 1.8 'Iris-virginica']\n [6.7 3.3 5.7 2.1 'Iris-virginica']\n [7.2 3.2 6.0 1.8 'Iris-virginica']\n [6.2 2.8 4.8 1.8 'Iris-virginica']\n [6.1 3.0 4.9 1.8 'Iris-virginica']\n [6.4 2.8 5.6 2.1 'Iris-virginica']\n [7.2 3.0 5.8 1.6 'Iris-virginica']\n [7.4 2.8 6.1 1.9 'Iris-virginica']\n [7.9 3.8 6.4 2.0 'Iris-virginica']\n [6.4 2.8 5.6 2.2 'Iris-virginica']\n [6.3 2.8 5.1 1.5 'Iris-virginica']\n [6.1 2.6 5.6 1.4 'Iris-virginica']\n [7.7 3.0 6.1 2.3 'Iris-virginica']\n [6.3 3.4 5.6 2.4 'Iris-virginica']\n [6.4 3.1 5.5 1.8 'Iris-virginica']\n [6.0 3.0 4.8 1.8 'Iris-virginica']\n [6.9 3.1 5.4 2.1 'Iris-virginica']\n [6.7 3.1 5.6 2.4 'Iris-virginica']\n [6.9 3.1 5.1 2.3 'Iris-virginica']\n [5.8 2.7 5.1 1.9 'Iris-virginica']\n [6.8 3.2 5.9 2.3 'Iris-virginica']\n [6.7 3.3 5.7 2.5 'Iris-virginica']\n [6.7 3.0 5.2 2.3 'Iris-virginica']\n [6.3 2.5 5.0 1.9 'Iris-virginica']\n [6.5 3.0 5.2 2.0 'Iris-virginica']\n [6.2 3.4 5.4 2.3 'Iris-virginica']\n [5.9 3.0 5.1 1.8 'Iris-virginica']]\n\u001b[1;31mLength:\u001b[0m          150\n\u001b[1;31mFile:\u001b[0m            c:\\program files\\python39\\lib\\site-packages\\numpy\\__init__.py\n\u001b[1;31mDocstring:\u001b[0m       <no docstring>\n",
        "y": "\u001b[1;31mType:\u001b[0m            ndarray\n\u001b[1;31mString form:\u001b[0m    \n['Iris-setosa' 'Iris-setosa' 'Iris-setosa' 'Iris-setosa' 'Iris-setosa'\n 'Iris-setosa' 'Iris-setosa' 'Iris-setosa' 'Iris-setosa' 'Iris-setosa'\n 'Iris-setosa' 'Iris-setosa' 'Iris-setosa' 'Iris-setosa' 'Iris-setosa'\n 'Iris-setosa' 'Iris-setosa' 'Iris-setosa' 'Iris-setosa' 'Iris-setosa'\n 'Iris-setosa' 'Iris-setosa' 'Iris-setosa' 'Iris-setosa' 'Iris-setosa'\n 'Iris-setosa' 'Iris-setosa' 'Iris-setosa' 'Iris-setosa' 'Iris-setosa'\n 'Iris-setosa' 'Iris-setosa' 'Iris-setosa' 'Iris-setosa' 'Iris-setosa'\n 'Iris-setosa' 'Iris-setosa' 'Iris-setosa' 'Iris-setosa' 'Iris-setosa'\n 'Iris-setosa' 'Iris-setosa' 'Iris-setosa' 'Iris-setosa' 'Iris-setosa'\n 'Iris-setosa' 'Iris-setosa' 'Iris-setosa' 'Iris-setosa' 'Iris-setosa'\n 'Iris-versicolor' 'Iris-versicolor' 'Iris-versicolor' 'Iris-versicolor'\n 'Iris-versicolor' 'Iris-versicolor' 'Iris-versicolor' 'Iris-versicolor'\n 'Iris-versicolor' 'Iris-versicolor' 'Iris-versicolor' 'Iris-versicolor'\n 'Iris-versicolor' 'Iris-versicolor' 'Iris-versicolor' 'Iris-versicolor'\n 'Iris-versicolor' 'Iris-versicolor' 'Iris-versicolor' 'Iris-versicolor'\n 'Iris-versicolor' 'Iris-versicolor' 'Iris-versicolor' 'Iris-versicolor'\n 'Iris-versicolor' 'Iris-versicolor' 'Iris-versicolor' 'Iris-versicolor'\n 'Iris-versicolor' 'Iris-versicolor' 'Iris-versicolor' 'Iris-versicolor'\n 'Iris-versicolor' 'Iris-versicolor' 'Iris-versicolor' 'Iris-versicolor'\n 'Iris-versicolor' 'Iris-versicolor' 'Iris-versicolor' 'Iris-versicolor'\n 'Iris-versicolor' 'Iris-versicolor' 'Iris-versicolor' 'Iris-versicolor'\n 'Iris-versicolor' 'Iris-versicolor' 'Iris-versicolor' 'Iris-versicolor'\n 'Iris-versicolor' 'Iris-versicolor' 'Iris-virginica' 'Iris-virginica'\n 'Iris-virginica' 'Iris-virginica' 'Iris-virginica' 'Iris-virginica'\n 'Iris-virginica' 'Iris-virginica' 'Iris-virginica' 'Iris-virginica'\n 'Iris-virginica' 'Iris-virginica' 'Iris-virginica' 'Iris-virginica'\n 'Iris-virginica' 'Iris-virginica' 'Iris-virginica' 'Iris-virginica'\n 'Iris-virginica' 'Iris-virginica' 'Iris-virginica' 'Iris-virginica'\n 'Iris-virginica' 'Iris-virginica' 'Iris-virginica' 'Iris-virginica'\n 'Iris-virginica' 'Iris-virginica' 'Iris-virginica' 'Iris-virginica'\n 'Iris-virginica' 'Iris-virginica' 'Iris-virginica' 'Iris-virginica'\n 'Iris-virginica' 'Iris-virginica' 'Iris-virginica' 'Iris-virginica'\n 'Iris-virginica' 'Iris-virginica' 'Iris-virginica' 'Iris-virginica'\n 'Iris-virginica' 'Iris-virginica' 'Iris-virginica' 'Iris-virginica'\n 'Iris-virginica' 'Iris-virginica' 'Iris-virginica' 'Iris-virginica']\n\u001b[1;31mLength:\u001b[0m          150\n\u001b[1;31mFile:\u001b[0m            c:\\program files\\python39\\lib\\site-packages\\numpy\\__init__.py\n\u001b[1;31mDocstring:\u001b[0m       <no docstring>\n"
       },
       "remote": [
        "dataset",
        "train_test_split"
       ],
       "time": "Wed, 07 Jul 2021 14:47:12 GMT",
       "type": "execution"
      },
      {
       "cell_id": "c07b559e-a4ef-4213-bb77-db9a1f0d4dd3",
       "cell_outputs": [],
       "cell_source": "# Make predictions on validation dataset\nmodel = SVC(gamma='auto')\nmodel.fit(X_train, Y_train)\npredictions = model.predict(X_validation)",
       "data_values": [],
       "data_vars": [],
       "definitions": [
        {
         "col_offset": 0,
         "dependencies": [
          "SVC"
         ],
         "end_col_offset": 25,
         "end_lineno": 2,
         "lineno": 2,
         "name": "model",
         "type": "assign"
        },
        {
         "col_offset": 0,
         "dependencies": [
          "X_train",
          "Y_train"
         ],
         "end_col_offset": 27,
         "end_lineno": 3,
         "lineno": 3,
         "name": "model",
         "type": "call"
        },
        {
         "col_offset": 0,
         "dependencies": [
          "model",
          "X_validation"
         ],
         "end_col_offset": 41,
         "end_lineno": 4,
         "lineno": 4,
         "name": "predictions",
         "type": "assign"
        }
       ],
       "execution_count": 4,
       "imports": [],
       "local": [
        "model",
        "predictions"
       ],
       "local_info": {
        "model": "\u001b[1;31mType:\u001b[0m        SVC\n\u001b[1;31mString form:\u001b[0m SVC(gamma='auto')\n\u001b[1;31mFile:\u001b[0m        c:\\program files\\python39\\lib\\site-packages\\sklearn\\svm\\_classes.py\n",
        "predictions": "\u001b[1;31mType:\u001b[0m            ndarray\n\u001b[1;31mString form:\u001b[0m    \n['Iris-setosa' 'Iris-versicolor' 'Iris-versicolor' 'Iris-setosa'\n 'Iris-virginica' 'Iris-versicolor' 'Iris-virginica' 'Iris-setosa'\n 'Iris-setosa' 'Iris-virginica' 'Iris-versicolor' 'Iris-setosa'\n 'Iris-virginica' 'Iris-versicolor' 'Iris-versicolor' 'Iris-setosa'\n 'Iris-versicolor' 'Iris-versicolor' 'Iris-setosa' 'Iris-setosa'\n 'Iris-versicolor' 'Iris-versicolor' 'Iris-virginica' 'Iris-setosa'\n 'Iris-virginica' 'Iris-versicolor' 'Iris-setosa' 'Iris-setosa'\n 'Iris-versicolor' 'Iris-virginica']\n\u001b[1;31mLength:\u001b[0m          30\n\u001b[1;31mFile:\u001b[0m            c:\\program files\\python39\\lib\\site-packages\\numpy\\__init__.py\n\u001b[1;31mDocstring:\u001b[0m       <no docstring>\n"
       },
       "remote": [
        "SVC",
        "X_train",
        "Y_train",
        "X_validation"
       ],
       "time": "Wed, 07 Jul 2021 14:47:12 GMT",
       "type": "execution"
      },
      {
       "cell_id": "b2e4583c-7a6b-4b00-a55f-6e20fa6b89ca",
       "cell_outputs": [
        {
         "name": "stdout",
         "output_type": "stream",
         "text": "0.9666666666666667\n[[11  0  0]\n [ 0 12  1]\n [ 0  0  6]]\n                 precision    recall  f1-score   support\n\n    Iris-setosa       1.00      1.00      1.00        11\nIris-versicolor       1.00      0.92      0.96        13\n Iris-virginica       0.86      1.00      0.92         6\n\n       accuracy                           0.97        30\n      macro avg       0.95      0.97      0.96        30\n   weighted avg       0.97      0.97      0.97        30\n\n"
        }
       ],
       "cell_source": "# Evaluate predictions\nprint(accuracy_score(Y_validation, predictions))\nprint(confusion_matrix(Y_validation, predictions))\nprint(classification_report(Y_validation, predictions))",
       "data_values": [],
       "data_vars": [],
       "definitions": [
        {
         "col_offset": 0,
         "dependencies": [
          "accuracy_score",
          "Y_validation",
          "predictions"
         ],
         "end_col_offset": 48,
         "end_lineno": 2,
         "lineno": 2,
         "name": "print",
         "type": "call"
        },
        {
         "col_offset": 0,
         "dependencies": [
          "confusion_matrix",
          "Y_validation",
          "predictions"
         ],
         "end_col_offset": 50,
         "end_lineno": 3,
         "lineno": 3,
         "name": "print",
         "type": "call"
        },
        {
         "col_offset": 0,
         "dependencies": [
          "classification_report",
          "Y_validation",
          "predictions"
         ],
         "end_col_offset": 55,
         "end_lineno": 4,
         "lineno": 4,
         "name": "print",
         "type": "call"
        }
       ],
       "execution_count": 5,
       "imports": [],
       "local": [],
       "local_info": {},
       "remote": [
        "print",
        "accuracy_score",
        "Y_validation",
        "predictions",
        "confusion_matrix",
        "classification_report"
       ],
       "time": "Wed, 07 Jul 2021 14:47:12 GMT",
       "type": "execution"
      },
      {
       "cell_id": "ca09678c-cdd6-4e16-9090-7142d06b9fc2",
       "cell_outputs": [
        {
         "name": "stdout",
         "output_type": "stream",
         "text": "sadasd\n"
        }
       ],
       "cell_source": "print(\"sadasd\")",
       "data_values": [],
       "data_vars": [],
       "definitions": [
        {
         "col_offset": 0,
         "dependencies": [],
         "end_col_offset": 15,
         "end_lineno": 1,
         "lineno": 1,
         "name": "print",
         "type": "call"
        }
       ],
       "execution_count": 6,
       "imports": [],
       "local": [],
       "local_info": {},
       "remote": [],
       "time": "Wed, 07 Jul 2021 14:47:12 GMT",
       "type": "execution"
      }
     ],
     "environment": {
      "kernel": {
       "implementation": "ipython",
       "version": "7.22.0"
      },
      "language_info": {
       "mimetype": "text/x-python",
       "name": "python",
       "version": "3.9.2"
      },
      "time": "Wed, 07 Jul 2021 14:47:10 GMT",
      "user_agent": "Mozilla/5.0 (Windows NT 10.0; Win64; x64; rv:89.0) Gecko/20100101 Firefox/89.0"
     },
     "modules": {
      "numpy": {
       "alias": "np",
       "version": "1.19.5"
      },
      "pandas": {
       "imports": [
        "read_csv"
       ],
       "version": "1.2.3"
      },
      "sklearn.metrics": {
       "imports": [
        "classification_report",
        "confusion_matrix",
        "accuracy_score"
       ],
       "version": ""
      },
      "sklearn.model_selection": {
       "imports": [
        "train_test_split"
       ],
       "version": ""
      },
      "sklearn.svm": {
       "imports": [
        "SVC"
       ],
       "version": ""
      }
     }
    },
    {
     "cells": [
      "beed23df-eed2-4dfc-9f75-97596457a98a",
      "e60d7751-a842-4791-b6cb-4ea6edecba57",
      "69ebfff9-2ec7-45b8-976c-5b368e076da0",
      "c07b559e-a4ef-4213-bb77-db9a1f0d4dd3",
      "b2e4583c-7a6b-4b00-a55f-6e20fa6b89ca",
      "ca09678c-cdd6-4e16-9090-7142d06b9fc2"
     ],
     "data": [
      {
       "cell_id": "beed23df-eed2-4dfc-9f75-97596457a98a",
       "cell_outputs": [],
       "cell_source": "import numpy as np\nfrom pandas import read_csv\nfrom sklearn.model_selection import train_test_split\nfrom sklearn.metrics import classification_report\nfrom sklearn.metrics import confusion_matrix\nfrom sklearn.metrics import accuracy_score\nfrom sklearn.svm import SVC\n",
       "data_values": [],
       "data_vars": [],
       "definitions": [],
       "execution_count": 1,
       "imports": [
        "np",
        "read_csv",
        "train_test_split",
        "classification_report",
        "confusion_matrix",
        "accuracy_score",
        "SVC"
       ],
       "local": [],
       "local_info": {},
       "remote": [],
       "time": "Wed, 07 Jul 2021 14:53:06 GMT",
       "type": "execution"
      },
      {
       "cell_id": "e60d7751-a842-4791-b6cb-4ea6edecba57",
       "cell_outputs": [],
       "cell_source": "# Load dataset\nurl = \"https://raw.githubusercontent.com/jbrownlee/Datasets/master/iris.csv\"\nnames = ['sepal-length', 'sepal-width', 'petal-length', 'petal-width', 'class']\ndataset = read_csv(url, names=names)",
       "data_values": [
        "https://raw.githubusercontent.com/jbrownlee/Datasets/master/iris.csv"
       ],
       "data_vars": [
        "url",
        "dataset"
       ],
       "definitions": [
        {
         "col_offset": 0,
         "dependencies": [],
         "end_col_offset": 76,
         "end_lineno": 2,
         "lineno": 2,
         "name": "url",
         "type": "assign"
        },
        {
         "col_offset": 0,
         "dependencies": [],
         "end_col_offset": 79,
         "end_lineno": 3,
         "lineno": 3,
         "name": "names",
         "type": "assign"
        },
        {
         "col_offset": 0,
         "dependencies": [
          "read_csv",
          "url",
          "names"
         ],
         "end_col_offset": 36,
         "end_lineno": 4,
         "lineno": 4,
         "name": "dataset",
         "type": "assign"
        }
       ],
       "execution_count": 2,
       "imports": [],
       "local": [
        "url",
        "names",
        "dataset"
       ],
       "local_info": {
        "dataset": "\u001b[1;31mType:\u001b[0m        DataFrame\n\u001b[1;31mString form:\u001b[0m\n     sepal-length  sepal-width  petal-length  petal-width           class\n0             5.1          3.5           1.4          0.2     Iris-setosa\n1             4.9          3.0           1.4          0.2     Iris-setosa\n2             4.7          3.2           1.3          0.2     Iris-setosa\n3             4.6          3.1           1.5          0.2     Iris-setosa\n4             5.0          3.6           1.4          0.2     Iris-setosa\n..            ...          ...           ...          ...             ...\n145           6.7          3.0           5.2          2.3  Iris-virginica\n146           6.3          2.5           5.0          1.9  Iris-virginica\n147           6.5          3.0           5.2          2.0  Iris-virginica\n148           6.2          3.4           5.4          2.3  Iris-virginica\n149           5.9          3.0           5.1          1.8  Iris-virginica\n\n[150 rows x 5 columns]\n\u001b[1;31mLength:\u001b[0m      150\n\u001b[1;31mFile:\u001b[0m        c:\\program files\\python39\\lib\\site-packages\\pandas\\core\\frame.py\n",
        "names": "\u001b[1;31mType:\u001b[0m        list\n\u001b[1;31mString form:\u001b[0m ['sepal-length', 'sepal-width', 'petal-length', 'petal-width', 'class']\n\u001b[1;31mLength:\u001b[0m      5\n\u001b[1;31mDocstring:\u001b[0m  \nBuilt-in mutable sequence.\n\nIf no argument is given, the constructor creates a new empty list.\nThe argument must be an iterable if specified.\n",
        "url": "\u001b[1;31mType:\u001b[0m        str\n\u001b[1;31mString form:\u001b[0m https://raw.githubusercontent.com/jbrownlee/Datasets/master/iris.csv\n\u001b[1;31mLength:\u001b[0m      68\n\u001b[1;31mDocstring:\u001b[0m  \nstr(object='') -> str\nstr(bytes_or_buffer[, encoding[, errors]]) -> str\n\nCreate a new string object from the given object. If encoding or\nerrors is specified, then the object must expose a data buffer\nthat will be decoded using the given encoding and error handler.\nOtherwise, returns the result of object.__str__() (if defined)\nor repr(object).\nencoding defaults to sys.getdefaultencoding().\nerrors defaults to 'strict'.\n"
       },
       "remote": [
        "read_csv"
       ],
       "time": "Wed, 07 Jul 2021 14:53:06 GMT",
       "type": "execution"
      },
      {
       "cell_id": "69ebfff9-2ec7-45b8-976c-5b368e076da0",
       "cell_outputs": [],
       "cell_source": "# Split-out validation dataset\narray = dataset.values\nX = array[:, 0:4]\ny = array[:, 4]\nX_train, X_validation, Y_train, Y_validation = train_test_split(\n    X, y, test_size=0.20, random_state=1)",
       "data_values": [],
       "data_vars": [],
       "definitions": [
        {
         "col_offset": 0,
         "dependencies": [
          "dataset"
         ],
         "end_col_offset": 22,
         "end_lineno": 2,
         "lineno": 2,
         "name": "array",
         "type": "assign"
        },
        {
         "col_offset": 0,
         "dependencies": [
          "array"
         ],
         "end_col_offset": 17,
         "end_lineno": 3,
         "lineno": 3,
         "name": "X",
         "type": "assign"
        },
        {
         "col_offset": 0,
         "dependencies": [
          "array"
         ],
         "end_col_offset": 15,
         "end_lineno": 4,
         "lineno": 4,
         "name": "y",
         "type": "assign"
        },
        {
         "col_offset": 0,
         "dependencies": [
          "train_test_split",
          "X",
          "y"
         ],
         "end_col_offset": 41,
         "end_lineno": 6,
         "lineno": 5,
         "name": "X_train",
         "type": "assign"
        },
        {
         "col_offset": 0,
         "dependencies": [
          "train_test_split",
          "X",
          "y"
         ],
         "end_col_offset": 41,
         "end_lineno": 6,
         "lineno": 5,
         "name": "X_validation",
         "type": "assign"
        },
        {
         "col_offset": 0,
         "dependencies": [
          "train_test_split",
          "X",
          "y"
         ],
         "end_col_offset": 41,
         "end_lineno": 6,
         "lineno": 5,
         "name": "Y_train",
         "type": "assign"
        },
        {
         "col_offset": 0,
         "dependencies": [
          "train_test_split",
          "X",
          "y"
         ],
         "end_col_offset": 41,
         "end_lineno": 6,
         "lineno": 5,
         "name": "Y_validation",
         "type": "assign"
        }
       ],
       "execution_count": 3,
       "imports": [],
       "local": [
        "array",
        "X",
        "y",
        "X_train",
        "X_validation",
        "Y_train",
        "Y_validation"
       ],
       "local_info": {
        "X": "\u001b[1;31mType:\u001b[0m            ndarray\n\u001b[1;31mString form:\u001b[0m    \n[[5.1 3.5 1.4 0.2]\n [4.9 3.0 1.4 0.2]\n [4.7 3.2 1.3 0.2]\n [4.6 3.1 1.5 0.2]\n [5.0 3.6 1.4 0.2]\n [5.4 3.9 1.7 0.4]\n [4.6 3.4 1.4 0.3]\n [5.0 3.4 1.5 0.2]\n [4.4 2.9 1.4 0.2]\n [4.9 3.1 1.5 0.1]\n [5.4 3.7 1.5 0.2]\n [4.8 3.4 1.6 0.2]\n [4.8 3.0 1.4 0.1]\n [4.3 3.0 1.1 0.1]\n [5.8 4.0 1.2 0.2]\n [5.7 4.4 1.5 0.4]\n [5.4 3.9 1.3 0.4]\n [5.1 3.5 1.4 0.3]\n [5.7 3.8 1.7 0.3]\n [5.1 3.8 1.5 0.3]\n [5.4 3.4 1.7 0.2]\n [5.1 3.7 1.5 0.4]\n [4.6 3.6 1.0 0.2]\n [5.1 3.3 1.7 0.5]\n [4.8 3.4 1.9 0.2]\n [5.0 3.0 1.6 0.2]\n [5.0 3.4 1.6 0.4]\n [5.2 3.5 1.5 0.2]\n [5.2 3.4 1.4 0.2]\n [4.7 3.2 1.6 0.2]\n [4.8 3.1 1.6 0.2]\n [5.4 3.4 1.5 0.4]\n [5.2 4.1 1.5 0.1]\n [5.5 4.2 1.4 0.2]\n [4.9 3.1 1.5 0.1]\n [5.0 3.2 1.2 0.2]\n [5.5 3.5 1.3 0.2]\n [4.9 3.1 1.5 0.1]\n [4.4 3.0 1.3 0.2]\n [5.1 3.4 1.5 0.2]\n [5.0 3.5 1.3 0.3]\n [4.5 2.3 1.3 0.3]\n [4.4 3.2 1.3 0.2]\n [5.0 3.5 1.6 0.6]\n [5.1 3.8 1.9 0.4]\n [4.8 3.0 1.4 0.3]\n [5.1 3.8 1.6 0.2]\n [4.6 3.2 1.4 0.2]\n [5.3 3.7 1.5 0.2]\n [5.0 3.3 1.4 0.2]\n [7.0 3.2 4.7 1.4]\n [6.4 3.2 4.5 1.5]\n [6.9 3.1 4.9 1.5]\n [5.5 2.3 4.0 1.3]\n [6.5 2.8 4.6 1.5]\n [5.7 2.8 4.5 1.3]\n [6.3 3.3 4.7 1.6]\n [4.9 2.4 3.3 1.0]\n [6.6 2.9 4.6 1.3]\n [5.2 2.7 3.9 1.4]\n [5.0 2.0 3.5 1.0]\n [5.9 3.0 4.2 1.5]\n [6.0 2.2 4.0 1.0]\n [6.1 2.9 4.7 1.4]\n [5.6 2.9 3.6 1.3]\n [6.7 3.1 4.4 1.4]\n [5.6 3.0 4.5 1.5]\n [5.8 2.7 4.1 1.0]\n [6.2 2.2 4.5 1.5]\n [5.6 2.5 3.9 1.1]\n [5.9 3.2 4.8 1.8]\n [6.1 2.8 4.0 1.3]\n [6.3 2.5 4.9 1.5]\n [6.1 2.8 4.7 1.2]\n [6.4 2.9 4.3 1.3]\n [6.6 3.0 4.4 1.4]\n [6.8 2.8 4.8 1.4]\n [6.7 3.0 5.0 1.7]\n [6.0 2.9 4.5 1.5]\n [5.7 2.6 3.5 1.0]\n [5.5 2.4 3.8 1.1]\n [5.5 2.4 3.7 1.0]\n [5.8 2.7 3.9 1.2]\n [6.0 2.7 5.1 1.6]\n [5.4 3.0 4.5 1.5]\n [6.0 3.4 4.5 1.6]\n [6.7 3.1 4.7 1.5]\n [6.3 2.3 4.4 1.3]\n [5.6 3.0 4.1 1.3]\n [5.5 2.5 4.0 1.3]\n [5.5 2.6 4.4 1.2]\n [6.1 3.0 4.6 1.4]\n [5.8 2.6 4.0 1.2]\n [5.0 2.3 3.3 1.0]\n [5.6 2.7 4.2 1.3]\n [5.7 3.0 4.2 1.2]\n [5.7 2.9 4.2 1.3]\n [6.2 2.9 4.3 1.3]\n [5.1 2.5 3.0 1.1]\n [5.7 2.8 4.1 1.3]\n [6.3 3.3 6.0 2.5]\n [5.8 2.7 5.1 1.9]\n [7.1 3.0 5.9 2.1]\n [6.3 2.9 5.6 1.8]\n [6.5 3.0 5.8 2.2]\n [7.6 3.0 6.6 2.1]\n [4.9 2.5 4.5 1.7]\n [7.3 2.9 6.3 1.8]\n [6.7 2.5 5.8 1.8]\n [7.2 3.6 6.1 2.5]\n [6.5 3.2 5.1 2.0]\n [6.4 2.7 5.3 1.9]\n [6.8 3.0 5.5 2.1]\n [5.7 2.5 5.0 2.0]\n [5.8 2.8 5.1 2.4]\n [6.4 3.2 5.3 2.3]\n [6.5 3.0 5.5 1.8]\n [7.7 3.8 6.7 2.2]\n [7.7 2.6 6.9 2.3]\n [6.0 2.2 5.0 1.5]\n [6.9 3.2 5.7 2.3]\n [5.6 2.8 4.9 2.0]\n [7.7 2.8 6.7 2.0]\n [6.3 2.7 4.9 1.8]\n [6.7 3.3 5.7 2.1]\n [7.2 3.2 6.0 1.8]\n [6.2 2.8 4.8 1.8]\n [6.1 3.0 4.9 1.8]\n [6.4 2.8 5.6 2.1]\n [7.2 3.0 5.8 1.6]\n [7.4 2.8 6.1 1.9]\n [7.9 3.8 6.4 2.0]\n [6.4 2.8 5.6 2.2]\n [6.3 2.8 5.1 1.5]\n [6.1 2.6 5.6 1.4]\n [7.7 3.0 6.1 2.3]\n [6.3 3.4 5.6 2.4]\n [6.4 3.1 5.5 1.8]\n [6.0 3.0 4.8 1.8]\n [6.9 3.1 5.4 2.1]\n [6.7 3.1 5.6 2.4]\n [6.9 3.1 5.1 2.3]\n [5.8 2.7 5.1 1.9]\n [6.8 3.2 5.9 2.3]\n [6.7 3.3 5.7 2.5]\n [6.7 3.0 5.2 2.3]\n [6.3 2.5 5.0 1.9]\n [6.5 3.0 5.2 2.0]\n [6.2 3.4 5.4 2.3]\n [5.9 3.0 5.1 1.8]]\n\u001b[1;31mLength:\u001b[0m          150\n\u001b[1;31mFile:\u001b[0m            c:\\program files\\python39\\lib\\site-packages\\numpy\\__init__.py\n\u001b[1;31mDocstring:\u001b[0m       <no docstring>\n",
        "X_train": "\u001b[1;31mType:\u001b[0m            ndarray\n\u001b[1;31mString form:\u001b[0m    \n[[6.1 3.0 4.6 1.4]\n [7.7 3.0 6.1 2.3]\n [5.6 2.5 3.9 1.1]\n [6.4 2.8 5.6 2.1]\n [5.8 2.8 5.1 2.4]\n [5.3 3.7 1.5 0.2]\n [5.5 2.3 4.0 1.3]\n [5.2 3.4 1.4 0.2]\n [6.5 2.8 4.6 1.5]\n [6.7 2.5 5.8 1.8]\n [6.8 3.0 5.5 2.1]\n [5.1 3.5 1.4 0.3]\n [6.0 2.2 5.0 1.5]\n [6.3 2.9 5.6 1.8]\n [6.6 2.9 4.6 1.3]\n [7.7 2.6 6.9 2.3]\n [5.7 3.8 1.7 0.3]\n [5.0 3.6 1.4 0.2]\n [4.8 3.0 1.4 0.3]\n [5.2 2.7 3.9 1.4]\n [5.1 3.4 1.5 0.2]\n [5.5 3.5 1.3 0.2]\n [7.7 3.8 6.7 2.2]\n [6.9 3.1 5.4 2.1]\n [7.3 2.9 6.3 1.8]\n [6.4 2.8 5.6 2.2]\n [6.2 2.8 4.8 1.8]\n [6.0 3.4 4.5 1.6]\n [7.7 2.8 6.7 2.0]\n [5.7 3.0 4.2 1.2]\n [4.8 3.4 1.6 0.2]\n [5.7 2.5 5.0 2.0]\n [6.3 2.7 4.9 1.8]\n [4.8 3.0 1.4 0.1]\n [4.7 3.2 1.3 0.2]\n [6.5 3.0 5.8 2.2]\n [4.6 3.4 1.4 0.3]\n [6.1 3.0 4.9 1.8]\n [6.5 3.2 5.1 2.0]\n [6.7 3.1 4.4 1.4]\n [5.7 2.8 4.5 1.3]\n [6.7 3.3 5.7 2.5]\n [6.0 3.0 4.8 1.8]\n [5.1 3.8 1.6 0.2]\n [6.0 2.2 4.0 1.0]\n [6.4 2.9 4.3 1.3]\n [6.5 3.0 5.5 1.8]\n [5.0 2.3 3.3 1.0]\n [6.3 3.3 6.0 2.5]\n [5.5 2.5 4.0 1.3]\n [5.4 3.7 1.5 0.2]\n [4.9 3.1 1.5 0.1]\n [5.2 4.1 1.5 0.1]\n [6.7 3.3 5.7 2.1]\n [4.4 3.0 1.3 0.2]\n [6.0 2.7 5.1 1.6]\n [6.4 2.7 5.3 1.9]\n [5.9 3.0 5.1 1.8]\n [5.2 3.5 1.5 0.2]\n [5.1 3.3 1.7 0.5]\n [5.8 2.7 4.1 1.0]\n [4.9 3.1 1.5 0.1]\n [7.4 2.8 6.1 1.9]\n [6.2 2.9 4.3 1.3]\n [7.6 3.0 6.6 2.1]\n [6.7 3.0 5.2 2.3]\n [6.3 2.3 4.4 1.3]\n [6.2 3.4 5.4 2.3]\n [7.2 3.6 6.1 2.5]\n [5.6 2.9 3.6 1.3]\n [5.7 4.4 1.5 0.4]\n [5.8 2.7 3.9 1.2]\n [4.5 2.3 1.3 0.3]\n [5.5 2.4 3.8 1.1]\n [6.9 3.1 4.9 1.5]\n [5.0 3.4 1.6 0.4]\n [6.8 2.8 4.8 1.4]\n [5.0 3.5 1.6 0.6]\n [4.8 3.4 1.9 0.2]\n [6.3 3.4 5.6 2.4]\n [5.6 2.8 4.9 2.0]\n [6.8 3.2 5.9 2.3]\n [5.0 3.3 1.4 0.2]\n [5.1 3.7 1.5 0.4]\n [5.9 3.2 4.8 1.8]\n [4.6 3.1 1.5 0.2]\n [5.8 2.7 5.1 1.9]\n [4.8 3.1 1.6 0.2]\n [6.5 3.0 5.2 2.0]\n [4.9 2.5 4.5 1.7]\n [4.6 3.2 1.4 0.2]\n [6.4 3.2 5.3 2.3]\n [4.3 3.0 1.1 0.1]\n [5.6 3.0 4.1 1.3]\n [4.4 2.9 1.4 0.2]\n [5.5 2.4 3.7 1.0]\n [5.0 2.0 3.5 1.0]\n [5.1 3.5 1.4 0.2]\n [4.9 3.0 1.4 0.2]\n [4.9 2.4 3.3 1.0]\n [4.6 3.6 1.0 0.2]\n [5.9 3.0 4.2 1.5]\n [6.1 2.9 4.7 1.4]\n [5.0 3.4 1.5 0.2]\n [6.7 3.1 4.7 1.5]\n [5.7 2.9 4.2 1.3]\n [6.2 2.2 4.5 1.5]\n [7.0 3.2 4.7 1.4]\n [5.8 2.7 5.1 1.9]\n [5.4 3.4 1.7 0.2]\n [5.0 3.0 1.6 0.2]\n [6.1 2.6 5.6 1.4]\n [6.1 2.8 4.0 1.3]\n [7.2 3.0 5.8 1.6]\n [5.7 2.6 3.5 1.0]\n [6.3 2.8 5.1 1.5]\n [6.4 3.1 5.5 1.8]\n [6.3 2.5 4.9 1.5]\n [6.7 3.1 5.6 2.4]\n [4.9 3.1 1.5 0.1]]\n\u001b[1;31mLength:\u001b[0m          120\n\u001b[1;31mFile:\u001b[0m            c:\\program files\\python39\\lib\\site-packages\\numpy\\__init__.py\n\u001b[1;31mDocstring:\u001b[0m       <no docstring>\n",
        "X_validation": "\u001b[1;31mType:\u001b[0m            ndarray\n\u001b[1;31mString form:\u001b[0m    \n[[5.8 4.0 1.2 0.2]\n [5.1 2.5 3.0 1.1]\n [6.6 3.0 4.4 1.4]\n [5.4 3.9 1.3 0.4]\n [7.9 3.8 6.4 2.0]\n [6.3 3.3 4.7 1.6]\n [6.9 3.1 5.1 2.3]\n [5.1 3.8 1.9 0.4]\n [4.7 3.2 1.6 0.2]\n [6.9 3.2 5.7 2.3]\n [5.6 2.7 4.2 1.3]\n [5.4 3.9 1.7 0.4]\n [7.1 3.0 5.9 2.1]\n [6.4 3.2 4.5 1.5]\n [6.0 2.9 4.5 1.5]\n [4.4 3.2 1.3 0.2]\n [5.8 2.6 4.0 1.2]\n [5.6 3.0 4.5 1.5]\n [5.4 3.4 1.5 0.4]\n [5.0 3.2 1.2 0.2]\n [5.5 2.6 4.4 1.2]\n [5.4 3.0 4.5 1.5]\n [6.7 3.0 5.0 1.7]\n [5.0 3.5 1.3 0.3]\n [7.2 3.2 6.0 1.8]\n [5.7 2.8 4.1 1.3]\n [5.5 4.2 1.4 0.2]\n [5.1 3.8 1.5 0.3]\n [6.1 2.8 4.7 1.2]\n [6.3 2.5 5.0 1.9]]\n\u001b[1;31mLength:\u001b[0m          30\n\u001b[1;31mFile:\u001b[0m            c:\\program files\\python39\\lib\\site-packages\\numpy\\__init__.py\n\u001b[1;31mDocstring:\u001b[0m       <no docstring>\n",
        "Y_train": "\u001b[1;31mType:\u001b[0m            ndarray\n\u001b[1;31mString form:\u001b[0m    \n['Iris-versicolor' 'Iris-virginica' 'Iris-versicolor' 'Iris-virginica'\n 'Iris-virginica' 'Iris-setosa' 'Iris-versicolor' 'Iris-setosa'\n 'Iris-versicolor' 'Iris-virginica' 'Iris-virginica' 'Iris-setosa'\n 'Iris-virginica' 'Iris-virginica' 'Iris-versicolor' 'Iris-virginica'\n 'Iris-setosa' 'Iris-setosa' 'Iris-setosa' 'Iris-versicolor' 'Iris-setosa'\n 'Iris-setosa' 'Iris-virginica' 'Iris-virginica' 'Iris-virginica'\n 'Iris-virginica' 'Iris-virginica' 'Iris-versicolor' 'Iris-virginica'\n 'Iris-versicolor' 'Iris-setosa' 'Iris-virginica' 'Iris-virginica'\n 'Iris-setosa' 'Iris-setosa' 'Iris-virginica' 'Iris-setosa'\n 'Iris-virginica' 'Iris-virginica' 'Iris-versicolor' 'Iris-versicolor'\n 'Iris-virginica' 'Iris-virginica' 'Iris-setosa' 'Iris-versicolor'\n 'Iris-versicolor' 'Iris-virginica' 'Iris-versicolor' 'Iris-virginica'\n 'Iris-versicolor' 'Iris-setosa' 'Iris-setosa' 'Iris-setosa'\n 'Iris-virginica' 'Iris-setosa' 'Iris-versicolor' 'Iris-virginica'\n 'Iris-virginica' 'Iris-setosa' 'Iris-setosa' 'Iris-versicolor'\n 'Iris-setosa' 'Iris-virginica' 'Iris-versicolor' 'Iris-virginica'\n 'Iris-virginica' 'Iris-versicolor' 'Iris-virginica' 'Iris-virginica'\n 'Iris-versicolor' 'Iris-setosa' 'Iris-versicolor' 'Iris-setosa'\n 'Iris-versicolor' 'Iris-versicolor' 'Iris-setosa' 'Iris-versicolor'\n 'Iris-setosa' 'Iris-setosa' 'Iris-virginica' 'Iris-virginica'\n 'Iris-virginica' 'Iris-setosa' 'Iris-setosa' 'Iris-versicolor'\n 'Iris-setosa' 'Iris-virginica' 'Iris-setosa' 'Iris-virginica'\n 'Iris-virginica' 'Iris-setosa' 'Iris-virginica' 'Iris-setosa'\n 'Iris-versicolor' 'Iris-setosa' 'Iris-versicolor' 'Iris-versicolor'\n 'Iris-setosa' 'Iris-setosa' 'Iris-versicolor' 'Iris-setosa'\n 'Iris-versicolor' 'Iris-versicolor' 'Iris-setosa' 'Iris-versicolor'\n 'Iris-versicolor' 'Iris-versicolor' 'Iris-versicolor' 'Iris-virginica'\n 'Iris-setosa' 'Iris-setosa' 'Iris-virginica' 'Iris-versicolor'\n 'Iris-virginica' 'Iris-versicolor' 'Iris-virginica' 'Iris-virginica'\n 'Iris-versicolor' 'Iris-virginica' 'Iris-setosa']\n\u001b[1;31mLength:\u001b[0m          120\n\u001b[1;31mFile:\u001b[0m            c:\\program files\\python39\\lib\\site-packages\\numpy\\__init__.py\n\u001b[1;31mDocstring:\u001b[0m       <no docstring>\n",
        "Y_validation": "\u001b[1;31mType:\u001b[0m            ndarray\n\u001b[1;31mString form:\u001b[0m    \n['Iris-setosa' 'Iris-versicolor' 'Iris-versicolor' 'Iris-setosa'\n 'Iris-virginica' 'Iris-versicolor' 'Iris-virginica' 'Iris-setosa'\n 'Iris-setosa' 'Iris-virginica' 'Iris-versicolor' 'Iris-setosa'\n 'Iris-virginica' 'Iris-versicolor' 'Iris-versicolor' 'Iris-setosa'\n 'Iris-versicolor' 'Iris-versicolor' 'Iris-setosa' 'Iris-setosa'\n 'Iris-versicolor' 'Iris-versicolor' 'Iris-versicolor' 'Iris-setosa'\n 'Iris-virginica' 'Iris-versicolor' 'Iris-setosa' 'Iris-setosa'\n 'Iris-versicolor' 'Iris-virginica']\n\u001b[1;31mLength:\u001b[0m          30\n\u001b[1;31mFile:\u001b[0m            c:\\program files\\python39\\lib\\site-packages\\numpy\\__init__.py\n\u001b[1;31mDocstring:\u001b[0m       <no docstring>\n",
        "array": "\u001b[1;31mType:\u001b[0m            ndarray\n\u001b[1;31mString form:\u001b[0m    \n[[5.1 3.5 1.4 0.2 'Iris-setosa']\n [4.9 3.0 1.4 0.2 'Iris-setosa']\n [4.7 3.2 1.3 0.2 'Iris-setosa']\n [4.6 3.1 1.5 0.2 'Iris-setosa']\n [5.0 3.6 1.4 0.2 'Iris-setosa']\n [5.4 3.9 1.7 0.4 'Iris-setosa']\n [4.6 3.4 1.4 0.3 'Iris-setosa']\n [5.0 3.4 1.5 0.2 'Iris-setosa']\n [4.4 2.9 1.4 0.2 'Iris-setosa']\n [4.9 3.1 1.5 0.1 'Iris-setosa']\n [5.4 3.7 1.5 0.2 'Iris-setosa']\n [4.8 3.4 1.6 0.2 'Iris-setosa']\n [4.8 3.0 1.4 0.1 'Iris-setosa']\n [4.3 3.0 1.1 0.1 'Iris-setosa']\n [5.8 4.0 1.2 0.2 'Iris-setosa']\n [5.7 4.4 1.5 0.4 'Iris-setosa']\n [5.4 3.9 1.3 0.4 'Iris-setosa']\n [5.1 3.5 1.4 0.3 'Iris-setosa']\n [5.7 3.8 1.7 0.3 'Iris-setosa']\n [5.1 3.8 1.5 0.3 'Iris-setosa']\n [5.4 3.4 1.7 0.2 'Iris-setosa']\n [5.1 3.7 1.5 0.4 'Iris-setosa']\n [4.6 3.6 1.0 0.2 'Iris-setosa']\n [5.1 3.3 1.7 0.5 'Iris-setosa']\n [4.8 3.4 1.9 0.2 'Iris-setosa']\n [5.0 3.0 1.6 0.2 'Iris-setosa']\n [5.0 3.4 1.6 0.4 'Iris-setosa']\n [5.2 3.5 1.5 0.2 'Iris-setosa']\n [5.2 3.4 1.4 0.2 'Iris-setosa']\n [4.7 3.2 1.6 0.2 'Iris-setosa']\n [4.8 3.1 1.6 0.2 'Iris-setosa']\n [5.4 3.4 1.5 0.4 'Iris-setosa']\n [5.2 4.1 1.5 0.1 'Iris-setosa']\n [5.5 4.2 1.4 0.2 'Iris-setosa']\n [4.9 3.1 1.5 0.1 'Iris-setosa']\n [5.0 3.2 1.2 0.2 'Iris-setosa']\n [5.5 3.5 1.3 0.2 'Iris-setosa']\n [4.9 3.1 1.5 0.1 'Iris-setosa']\n [4.4 3.0 1.3 0.2 'Iris-setosa']\n [5.1 3.4 1.5 0.2 'Iris-setosa']\n [5.0 3.5 1.3 0.3 'Iris-setosa']\n [4.5 2.3 1.3 0.3 'Iris-setosa']\n [4.4 3.2 1.3 0.2 'Iris-setosa']\n [5.0 3.5 1.6 0.6 'Iris-setosa']\n [5.1 3.8 1.9 0.4 'Iris-setosa']\n [4.8 3.0 1.4 0.3 'Iris-setosa']\n [5.1 3.8 1.6 0.2 'Iris-setosa']\n [4.6 3.2 1.4 0.2 'Iris-setosa']\n [5.3 3.7 1.5 0.2 'Iris-setosa']\n [5.0 3.3 1.4 0.2 'Iris-setosa']\n [7.0 3.2 4.7 1.4 'Iris-versicolor']\n [6.4 3.2 4.5 1.5 'Iris-versicolor']\n [6.9 3.1 4.9 1.5 'Iris-versicolor']\n [5.5 2.3 4.0 1.3 'Iris-versicolor']\n [6.5 2.8 4.6 1.5 'Iris-versicolor']\n [5.7 2.8 4.5 1.3 'Iris-versicolor']\n [6.3 3.3 4.7 1.6 'Iris-versicolor']\n [4.9 2.4 3.3 1.0 'Iris-versicolor']\n [6.6 2.9 4.6 1.3 'Iris-versicolor']\n [5.2 2.7 3.9 1.4 'Iris-versicolor']\n [5.0 2.0 3.5 1.0 'Iris-versicolor']\n [5.9 3.0 4.2 1.5 'Iris-versicolor']\n [6.0 2.2 4.0 1.0 'Iris-versicolor']\n [6.1 2.9 4.7 1.4 'Iris-versicolor']\n [5.6 2.9 3.6 1.3 'Iris-versicolor']\n [6.7 3.1 4.4 1.4 'Iris-versicolor']\n [5.6 3.0 4.5 1.5 'Iris-versicolor']\n [5.8 2.7 4.1 1.0 'Iris-versicolor']\n [6.2 2.2 4.5 1.5 'Iris-versicolor']\n [5.6 2.5 3.9 1.1 'Iris-versicolor']\n [5.9 3.2 4.8 1.8 'Iris-versicolor']\n [6.1 2.8 4.0 1.3 'Iris-versicolor']\n [6.3 2.5 4.9 1.5 'Iris-versicolor']\n [6.1 2.8 4.7 1.2 'Iris-versicolor']\n [6.4 2.9 4.3 1.3 'Iris-versicolor']\n [6.6 3.0 4.4 1.4 'Iris-versicolor']\n [6.8 2.8 4.8 1.4 'Iris-versicolor']\n [6.7 3.0 5.0 1.7 'Iris-versicolor']\n [6.0 2.9 4.5 1.5 'Iris-versicolor']\n [5.7 2.6 3.5 1.0 'Iris-versicolor']\n [5.5 2.4 3.8 1.1 'Iris-versicolor']\n [5.5 2.4 3.7 1.0 'Iris-versicolor']\n [5.8 2.7 3.9 1.2 'Iris-versicolor']\n [6.0 2.7 5.1 1.6 'Iris-versicolor']\n [5.4 3.0 4.5 1.5 'Iris-versicolor']\n [6.0 3.4 4.5 1.6 'Iris-versicolor']\n [6.7 3.1 4.7 1.5 'Iris-versicolor']\n [6.3 2.3 4.4 1.3 'Iris-versicolor']\n [5.6 3.0 4.1 1.3 'Iris-versicolor']\n [5.5 2.5 4.0 1.3 'Iris-versicolor']\n [5.5 2.6 4.4 1.2 'Iris-versicolor']\n [6.1 3.0 4.6 1.4 'Iris-versicolor']\n [5.8 2.6 4.0 1.2 'Iris-versicolor']\n [5.0 2.3 3.3 1.0 'Iris-versicolor']\n [5.6 2.7 4.2 1.3 'Iris-versicolor']\n [5.7 3.0 4.2 1.2 'Iris-versicolor']\n [5.7 2.9 4.2 1.3 'Iris-versicolor']\n [6.2 2.9 4.3 1.3 'Iris-versicolor']\n [5.1 2.5 3.0 1.1 'Iris-versicolor']\n [5.7 2.8 4.1 1.3 'Iris-versicolor']\n [6.3 3.3 6.0 2.5 'Iris-virginica']\n [5.8 2.7 5.1 1.9 'Iris-virginica']\n [7.1 3.0 5.9 2.1 'Iris-virginica']\n [6.3 2.9 5.6 1.8 'Iris-virginica']\n [6.5 3.0 5.8 2.2 'Iris-virginica']\n [7.6 3.0 6.6 2.1 'Iris-virginica']\n [4.9 2.5 4.5 1.7 'Iris-virginica']\n [7.3 2.9 6.3 1.8 'Iris-virginica']\n [6.7 2.5 5.8 1.8 'Iris-virginica']\n [7.2 3.6 6.1 2.5 'Iris-virginica']\n [6.5 3.2 5.1 2.0 'Iris-virginica']\n [6.4 2.7 5.3 1.9 'Iris-virginica']\n [6.8 3.0 5.5 2.1 'Iris-virginica']\n [5.7 2.5 5.0 2.0 'Iris-virginica']\n [5.8 2.8 5.1 2.4 'Iris-virginica']\n [6.4 3.2 5.3 2.3 'Iris-virginica']\n [6.5 3.0 5.5 1.8 'Iris-virginica']\n [7.7 3.8 6.7 2.2 'Iris-virginica']\n [7.7 2.6 6.9 2.3 'Iris-virginica']\n [6.0 2.2 5.0 1.5 'Iris-virginica']\n [6.9 3.2 5.7 2.3 'Iris-virginica']\n [5.6 2.8 4.9 2.0 'Iris-virginica']\n [7.7 2.8 6.7 2.0 'Iris-virginica']\n [6.3 2.7 4.9 1.8 'Iris-virginica']\n [6.7 3.3 5.7 2.1 'Iris-virginica']\n [7.2 3.2 6.0 1.8 'Iris-virginica']\n [6.2 2.8 4.8 1.8 'Iris-virginica']\n [6.1 3.0 4.9 1.8 'Iris-virginica']\n [6.4 2.8 5.6 2.1 'Iris-virginica']\n [7.2 3.0 5.8 1.6 'Iris-virginica']\n [7.4 2.8 6.1 1.9 'Iris-virginica']\n [7.9 3.8 6.4 2.0 'Iris-virginica']\n [6.4 2.8 5.6 2.2 'Iris-virginica']\n [6.3 2.8 5.1 1.5 'Iris-virginica']\n [6.1 2.6 5.6 1.4 'Iris-virginica']\n [7.7 3.0 6.1 2.3 'Iris-virginica']\n [6.3 3.4 5.6 2.4 'Iris-virginica']\n [6.4 3.1 5.5 1.8 'Iris-virginica']\n [6.0 3.0 4.8 1.8 'Iris-virginica']\n [6.9 3.1 5.4 2.1 'Iris-virginica']\n [6.7 3.1 5.6 2.4 'Iris-virginica']\n [6.9 3.1 5.1 2.3 'Iris-virginica']\n [5.8 2.7 5.1 1.9 'Iris-virginica']\n [6.8 3.2 5.9 2.3 'Iris-virginica']\n [6.7 3.3 5.7 2.5 'Iris-virginica']\n [6.7 3.0 5.2 2.3 'Iris-virginica']\n [6.3 2.5 5.0 1.9 'Iris-virginica']\n [6.5 3.0 5.2 2.0 'Iris-virginica']\n [6.2 3.4 5.4 2.3 'Iris-virginica']\n [5.9 3.0 5.1 1.8 'Iris-virginica']]\n\u001b[1;31mLength:\u001b[0m          150\n\u001b[1;31mFile:\u001b[0m            c:\\program files\\python39\\lib\\site-packages\\numpy\\__init__.py\n\u001b[1;31mDocstring:\u001b[0m       <no docstring>\n",
        "y": "\u001b[1;31mType:\u001b[0m            ndarray\n\u001b[1;31mString form:\u001b[0m    \n['Iris-setosa' 'Iris-setosa' 'Iris-setosa' 'Iris-setosa' 'Iris-setosa'\n 'Iris-setosa' 'Iris-setosa' 'Iris-setosa' 'Iris-setosa' 'Iris-setosa'\n 'Iris-setosa' 'Iris-setosa' 'Iris-setosa' 'Iris-setosa' 'Iris-setosa'\n 'Iris-setosa' 'Iris-setosa' 'Iris-setosa' 'Iris-setosa' 'Iris-setosa'\n 'Iris-setosa' 'Iris-setosa' 'Iris-setosa' 'Iris-setosa' 'Iris-setosa'\n 'Iris-setosa' 'Iris-setosa' 'Iris-setosa' 'Iris-setosa' 'Iris-setosa'\n 'Iris-setosa' 'Iris-setosa' 'Iris-setosa' 'Iris-setosa' 'Iris-setosa'\n 'Iris-setosa' 'Iris-setosa' 'Iris-setosa' 'Iris-setosa' 'Iris-setosa'\n 'Iris-setosa' 'Iris-setosa' 'Iris-setosa' 'Iris-setosa' 'Iris-setosa'\n 'Iris-setosa' 'Iris-setosa' 'Iris-setosa' 'Iris-setosa' 'Iris-setosa'\n 'Iris-versicolor' 'Iris-versicolor' 'Iris-versicolor' 'Iris-versicolor'\n 'Iris-versicolor' 'Iris-versicolor' 'Iris-versicolor' 'Iris-versicolor'\n 'Iris-versicolor' 'Iris-versicolor' 'Iris-versicolor' 'Iris-versicolor'\n 'Iris-versicolor' 'Iris-versicolor' 'Iris-versicolor' 'Iris-versicolor'\n 'Iris-versicolor' 'Iris-versicolor' 'Iris-versicolor' 'Iris-versicolor'\n 'Iris-versicolor' 'Iris-versicolor' 'Iris-versicolor' 'Iris-versicolor'\n 'Iris-versicolor' 'Iris-versicolor' 'Iris-versicolor' 'Iris-versicolor'\n 'Iris-versicolor' 'Iris-versicolor' 'Iris-versicolor' 'Iris-versicolor'\n 'Iris-versicolor' 'Iris-versicolor' 'Iris-versicolor' 'Iris-versicolor'\n 'Iris-versicolor' 'Iris-versicolor' 'Iris-versicolor' 'Iris-versicolor'\n 'Iris-versicolor' 'Iris-versicolor' 'Iris-versicolor' 'Iris-versicolor'\n 'Iris-versicolor' 'Iris-versicolor' 'Iris-versicolor' 'Iris-versicolor'\n 'Iris-versicolor' 'Iris-versicolor' 'Iris-virginica' 'Iris-virginica'\n 'Iris-virginica' 'Iris-virginica' 'Iris-virginica' 'Iris-virginica'\n 'Iris-virginica' 'Iris-virginica' 'Iris-virginica' 'Iris-virginica'\n 'Iris-virginica' 'Iris-virginica' 'Iris-virginica' 'Iris-virginica'\n 'Iris-virginica' 'Iris-virginica' 'Iris-virginica' 'Iris-virginica'\n 'Iris-virginica' 'Iris-virginica' 'Iris-virginica' 'Iris-virginica'\n 'Iris-virginica' 'Iris-virginica' 'Iris-virginica' 'Iris-virginica'\n 'Iris-virginica' 'Iris-virginica' 'Iris-virginica' 'Iris-virginica'\n 'Iris-virginica' 'Iris-virginica' 'Iris-virginica' 'Iris-virginica'\n 'Iris-virginica' 'Iris-virginica' 'Iris-virginica' 'Iris-virginica'\n 'Iris-virginica' 'Iris-virginica' 'Iris-virginica' 'Iris-virginica'\n 'Iris-virginica' 'Iris-virginica' 'Iris-virginica' 'Iris-virginica'\n 'Iris-virginica' 'Iris-virginica' 'Iris-virginica' 'Iris-virginica']\n\u001b[1;31mLength:\u001b[0m          150\n\u001b[1;31mFile:\u001b[0m            c:\\program files\\python39\\lib\\site-packages\\numpy\\__init__.py\n\u001b[1;31mDocstring:\u001b[0m       <no docstring>\n"
       },
       "remote": [
        "dataset",
        "train_test_split"
       ],
       "time": "Wed, 07 Jul 2021 14:53:08 GMT",
       "type": "execution"
      },
      {
       "cell_id": "c07b559e-a4ef-4213-bb77-db9a1f0d4dd3",
       "cell_outputs": [],
       "cell_source": "# Make predictions on validation dataset\nmodel = SVC(gamma='auto')\nmodel.fit(X_train, Y_train)\npredictions = model.predict(X_validation)",
       "data_values": [],
       "data_vars": [],
       "definitions": [
        {
         "col_offset": 0,
         "dependencies": [
          "SVC"
         ],
         "end_col_offset": 25,
         "end_lineno": 2,
         "lineno": 2,
         "name": "model",
         "type": "assign"
        },
        {
         "col_offset": 0,
         "dependencies": [
          "X_train",
          "Y_train"
         ],
         "end_col_offset": 27,
         "end_lineno": 3,
         "lineno": 3,
         "name": "model",
         "type": "call"
        },
        {
         "col_offset": 0,
         "dependencies": [
          "model",
          "X_validation"
         ],
         "end_col_offset": 41,
         "end_lineno": 4,
         "lineno": 4,
         "name": "predictions",
         "type": "assign"
        }
       ],
       "execution_count": 4,
       "imports": [],
       "local": [
        "model",
        "predictions"
       ],
       "local_info": {
        "model": "\u001b[1;31mType:\u001b[0m        SVC\n\u001b[1;31mString form:\u001b[0m SVC(gamma='auto')\n\u001b[1;31mFile:\u001b[0m        c:\\program files\\python39\\lib\\site-packages\\sklearn\\svm\\_classes.py\n",
        "predictions": "\u001b[1;31mType:\u001b[0m            ndarray\n\u001b[1;31mString form:\u001b[0m    \n['Iris-setosa' 'Iris-versicolor' 'Iris-versicolor' 'Iris-setosa'\n 'Iris-virginica' 'Iris-versicolor' 'Iris-virginica' 'Iris-setosa'\n 'Iris-setosa' 'Iris-virginica' 'Iris-versicolor' 'Iris-setosa'\n 'Iris-virginica' 'Iris-versicolor' 'Iris-versicolor' 'Iris-setosa'\n 'Iris-versicolor' 'Iris-versicolor' 'Iris-setosa' 'Iris-setosa'\n 'Iris-versicolor' 'Iris-versicolor' 'Iris-virginica' 'Iris-setosa'\n 'Iris-virginica' 'Iris-versicolor' 'Iris-setosa' 'Iris-setosa'\n 'Iris-versicolor' 'Iris-virginica']\n\u001b[1;31mLength:\u001b[0m          30\n\u001b[1;31mFile:\u001b[0m            c:\\program files\\python39\\lib\\site-packages\\numpy\\__init__.py\n\u001b[1;31mDocstring:\u001b[0m       <no docstring>\n"
       },
       "remote": [
        "SVC",
        "X_train",
        "Y_train",
        "X_validation"
       ],
       "time": "Wed, 07 Jul 2021 14:53:08 GMT",
       "type": "execution"
      },
      {
       "cell_id": "b2e4583c-7a6b-4b00-a55f-6e20fa6b89ca",
       "cell_outputs": [
        {
         "name": "stdout",
         "output_type": "stream",
         "text": "0.9666666666666667\n[[11  0  0]\n [ 0 12  1]\n [ 0  0  6]]\n                 precision    recall  f1-score   support\n\n    Iris-setosa       1.00      1.00      1.00        11\nIris-versicolor       1.00      0.92      0.96        13\n Iris-virginica       0.86      1.00      0.92         6\n\n       accuracy                           0.97        30\n      macro avg       0.95      0.97      0.96        30\n   weighted avg       0.97      0.97      0.97        30\n\n"
        }
       ],
       "cell_source": "# Evaluate predictions\nprint(accuracy_score(Y_validation, predictions))\nprint(confusion_matrix(Y_validation, predictions))\nprint(classification_report(Y_validation, predictions))",
       "data_values": [],
       "data_vars": [],
       "definitions": [
        {
         "col_offset": 0,
         "dependencies": [
          "accuracy_score",
          "Y_validation",
          "predictions"
         ],
         "end_col_offset": 48,
         "end_lineno": 2,
         "lineno": 2,
         "name": "print",
         "type": "call"
        },
        {
         "col_offset": 0,
         "dependencies": [
          "confusion_matrix",
          "Y_validation",
          "predictions"
         ],
         "end_col_offset": 50,
         "end_lineno": 3,
         "lineno": 3,
         "name": "print",
         "type": "call"
        },
        {
         "col_offset": 0,
         "dependencies": [
          "classification_report",
          "Y_validation",
          "predictions"
         ],
         "end_col_offset": 55,
         "end_lineno": 4,
         "lineno": 4,
         "name": "print",
         "type": "call"
        }
       ],
       "execution_count": 5,
       "imports": [],
       "local": [],
       "local_info": {},
       "remote": [
        "print",
        "accuracy_score",
        "Y_validation",
        "predictions",
        "confusion_matrix",
        "classification_report"
       ],
       "time": "Wed, 07 Jul 2021 14:53:08 GMT",
       "type": "execution"
      },
      {
       "cell_id": "ca09678c-cdd6-4e16-9090-7142d06b9fc2",
       "cell_outputs": [
        {
         "name": "stdout",
         "output_type": "stream",
         "text": "sadasd\n"
        }
       ],
       "cell_source": "print(\"sadasd\")",
       "data_values": [],
       "data_vars": [],
       "definitions": [
        {
         "col_offset": 0,
         "dependencies": [],
         "end_col_offset": 15,
         "end_lineno": 1,
         "lineno": 1,
         "name": "print",
         "type": "call"
        }
       ],
       "execution_count": 6,
       "imports": [],
       "local": [],
       "local_info": {},
       "remote": [],
       "time": "Wed, 07 Jul 2021 14:53:08 GMT",
       "type": "execution"
      }
     ],
     "environment": {
      "kernel": {
       "implementation": "ipython",
       "version": "7.22.0"
      },
      "language_info": {
       "mimetype": "text/x-python",
       "name": "python",
       "version": "3.9.2"
      },
      "time": "Wed, 07 Jul 2021 14:53:06 GMT",
      "user_agent": "Mozilla/5.0 (Windows NT 10.0; Win64; x64; rv:89.0) Gecko/20100101 Firefox/89.0"
     },
     "modules": {
      "numpy": {
       "alias": "np",
       "version": "1.19.5"
      },
      "pandas": {
       "imports": [
        "read_csv"
       ],
       "version": "1.2.3"
      },
      "sklearn.metrics": {
       "imports": [
        "classification_report",
        "confusion_matrix",
        "accuracy_score"
       ],
       "version": ""
      },
      "sklearn.model_selection": {
       "imports": [
        "train_test_split"
       ],
       "version": ""
      },
      "sklearn.svm": {
       "imports": [
        "SVC"
       ],
       "version": ""
      }
     }
    },
    {
     "cells": [
      "beed23df-eed2-4dfc-9f75-97596457a98a",
      "e60d7751-a842-4791-b6cb-4ea6edecba57",
      "69ebfff9-2ec7-45b8-976c-5b368e076da0",
      "c07b559e-a4ef-4213-bb77-db9a1f0d4dd3",
      "b2e4583c-7a6b-4b00-a55f-6e20fa6b89ca"
     ],
     "data": [
      {
       "cell_id": "beed23df-eed2-4dfc-9f75-97596457a98a",
       "cell_outputs": [],
       "cell_source": "import numpy as np\nfrom pandas import read_csv\nfrom sklearn.model_selection import train_test_split\nfrom sklearn.metrics import classification_report\nfrom sklearn.metrics import confusion_matrix\nfrom sklearn.metrics import accuracy_score\nfrom sklearn.svm import SVC\n",
       "data_values": [],
       "data_vars": [],
       "definitions": [],
       "execution_count": 1,
       "imports": [
        "np",
        "read_csv",
        "train_test_split",
        "classification_report",
        "confusion_matrix",
        "accuracy_score",
        "SVC"
       ],
       "local": [],
       "local_info": {},
       "remote": [],
       "time": "Wed, 07 Jul 2021 14:59:39 GMT",
       "type": "execution"
      },
      {
       "cell_id": "e60d7751-a842-4791-b6cb-4ea6edecba57",
       "cell_outputs": [],
       "cell_source": "# Load dataset\nurl = \"https://raw.githubusercontent.com/jbrownlee/Datasets/master/iris.csv\"\nnames = ['sepal-length', 'sepal-width', 'petal-length', 'petal-width', 'class']\ndataset = read_csv(url, names=names)",
       "data_values": [
        "https://raw.githubusercontent.com/jbrownlee/Datasets/master/iris.csv"
       ],
       "data_vars": [
        "url",
        "dataset"
       ],
       "definitions": [
        {
         "col_offset": 0,
         "dependencies": [],
         "end_col_offset": 76,
         "end_lineno": 2,
         "lineno": 2,
         "name": "url",
         "type": "assign"
        },
        {
         "col_offset": 0,
         "dependencies": [],
         "end_col_offset": 79,
         "end_lineno": 3,
         "lineno": 3,
         "name": "names",
         "type": "assign"
        },
        {
         "col_offset": 0,
         "dependencies": [
          "read_csv",
          "url",
          "names"
         ],
         "end_col_offset": 36,
         "end_lineno": 4,
         "lineno": 4,
         "name": "dataset",
         "type": "assign"
        }
       ],
       "execution_count": 2,
       "imports": [],
       "local": [
        "url",
        "names",
        "dataset"
       ],
       "local_info": {
        "dataset": "\u001b[1;31mType:\u001b[0m        DataFrame\n\u001b[1;31mString form:\u001b[0m\n     sepal-length  sepal-width  petal-length  petal-width           class\n0             5.1          3.5           1.4          0.2     Iris-setosa\n1             4.9          3.0           1.4          0.2     Iris-setosa\n2             4.7          3.2           1.3          0.2     Iris-setosa\n3             4.6          3.1           1.5          0.2     Iris-setosa\n4             5.0          3.6           1.4          0.2     Iris-setosa\n..            ...          ...           ...          ...             ...\n145           6.7          3.0           5.2          2.3  Iris-virginica\n146           6.3          2.5           5.0          1.9  Iris-virginica\n147           6.5          3.0           5.2          2.0  Iris-virginica\n148           6.2          3.4           5.4          2.3  Iris-virginica\n149           5.9          3.0           5.1          1.8  Iris-virginica\n\n[150 rows x 5 columns]\n\u001b[1;31mLength:\u001b[0m      150\n\u001b[1;31mFile:\u001b[0m        c:\\program files\\python39\\lib\\site-packages\\pandas\\core\\frame.py\n",
        "names": "\u001b[1;31mType:\u001b[0m        list\n\u001b[1;31mString form:\u001b[0m ['sepal-length', 'sepal-width', 'petal-length', 'petal-width', 'class']\n\u001b[1;31mLength:\u001b[0m      5\n\u001b[1;31mDocstring:\u001b[0m  \nBuilt-in mutable sequence.\n\nIf no argument is given, the constructor creates a new empty list.\nThe argument must be an iterable if specified.\n",
        "url": "\u001b[1;31mType:\u001b[0m        str\n\u001b[1;31mString form:\u001b[0m https://raw.githubusercontent.com/jbrownlee/Datasets/master/iris.csv\n\u001b[1;31mLength:\u001b[0m      68\n\u001b[1;31mDocstring:\u001b[0m  \nstr(object='') -> str\nstr(bytes_or_buffer[, encoding[, errors]]) -> str\n\nCreate a new string object from the given object. If encoding or\nerrors is specified, then the object must expose a data buffer\nthat will be decoded using the given encoding and error handler.\nOtherwise, returns the result of object.__str__() (if defined)\nor repr(object).\nencoding defaults to sys.getdefaultencoding().\nerrors defaults to 'strict'.\n"
       },
       "remote": [
        "read_csv"
       ],
       "time": "Wed, 07 Jul 2021 14:59:39 GMT",
       "type": "execution"
      },
      {
       "cell_id": "69ebfff9-2ec7-45b8-976c-5b368e076da0",
       "cell_outputs": [],
       "cell_source": "# Split-out validation dataset\narray = dataset.values\nX = array[:, 0:4]\ny = array[:, 4]\nX_train, X_validation, Y_train, Y_validation = train_test_split(\n    X, y, test_size=0.20, random_state=1)",
       "data_values": [],
       "data_vars": [],
       "definitions": [
        {
         "col_offset": 0,
         "dependencies": [
          "dataset"
         ],
         "end_col_offset": 22,
         "end_lineno": 2,
         "lineno": 2,
         "name": "array",
         "type": "assign"
        },
        {
         "col_offset": 0,
         "dependencies": [
          "array"
         ],
         "end_col_offset": 17,
         "end_lineno": 3,
         "lineno": 3,
         "name": "X",
         "type": "assign"
        },
        {
         "col_offset": 0,
         "dependencies": [
          "array"
         ],
         "end_col_offset": 15,
         "end_lineno": 4,
         "lineno": 4,
         "name": "y",
         "type": "assign"
        },
        {
         "col_offset": 0,
         "dependencies": [
          "train_test_split",
          "X",
          "y"
         ],
         "end_col_offset": 41,
         "end_lineno": 6,
         "lineno": 5,
         "name": "X_train",
         "type": "assign"
        },
        {
         "col_offset": 0,
         "dependencies": [
          "train_test_split",
          "X",
          "y"
         ],
         "end_col_offset": 41,
         "end_lineno": 6,
         "lineno": 5,
         "name": "X_validation",
         "type": "assign"
        },
        {
         "col_offset": 0,
         "dependencies": [
          "train_test_split",
          "X",
          "y"
         ],
         "end_col_offset": 41,
         "end_lineno": 6,
         "lineno": 5,
         "name": "Y_train",
         "type": "assign"
        },
        {
         "col_offset": 0,
         "dependencies": [
          "train_test_split",
          "X",
          "y"
         ],
         "end_col_offset": 41,
         "end_lineno": 6,
         "lineno": 5,
         "name": "Y_validation",
         "type": "assign"
        }
       ],
       "execution_count": 3,
       "imports": [],
       "local": [
        "array",
        "X",
        "y",
        "X_train",
        "X_validation",
        "Y_train",
        "Y_validation"
       ],
       "local_info": {
        "X": "\u001b[1;31mType:\u001b[0m            ndarray\n\u001b[1;31mString form:\u001b[0m    \n[[5.1 3.5 1.4 0.2]\n [4.9 3.0 1.4 0.2]\n [4.7 3.2 1.3 0.2]\n [4.6 3.1 1.5 0.2]\n [5.0 3.6 1.4 0.2]\n [5.4 3.9 1.7 0.4]\n [4.6 3.4 1.4 0.3]\n [5.0 3.4 1.5 0.2]\n [4.4 2.9 1.4 0.2]\n [4.9 3.1 1.5 0.1]\n [5.4 3.7 1.5 0.2]\n [4.8 3.4 1.6 0.2]\n [4.8 3.0 1.4 0.1]\n [4.3 3.0 1.1 0.1]\n [5.8 4.0 1.2 0.2]\n [5.7 4.4 1.5 0.4]\n [5.4 3.9 1.3 0.4]\n [5.1 3.5 1.4 0.3]\n [5.7 3.8 1.7 0.3]\n [5.1 3.8 1.5 0.3]\n [5.4 3.4 1.7 0.2]\n [5.1 3.7 1.5 0.4]\n [4.6 3.6 1.0 0.2]\n [5.1 3.3 1.7 0.5]\n [4.8 3.4 1.9 0.2]\n [5.0 3.0 1.6 0.2]\n [5.0 3.4 1.6 0.4]\n [5.2 3.5 1.5 0.2]\n [5.2 3.4 1.4 0.2]\n [4.7 3.2 1.6 0.2]\n [4.8 3.1 1.6 0.2]\n [5.4 3.4 1.5 0.4]\n [5.2 4.1 1.5 0.1]\n [5.5 4.2 1.4 0.2]\n [4.9 3.1 1.5 0.1]\n [5.0 3.2 1.2 0.2]\n [5.5 3.5 1.3 0.2]\n [4.9 3.1 1.5 0.1]\n [4.4 3.0 1.3 0.2]\n [5.1 3.4 1.5 0.2]\n [5.0 3.5 1.3 0.3]\n [4.5 2.3 1.3 0.3]\n [4.4 3.2 1.3 0.2]\n [5.0 3.5 1.6 0.6]\n [5.1 3.8 1.9 0.4]\n [4.8 3.0 1.4 0.3]\n [5.1 3.8 1.6 0.2]\n [4.6 3.2 1.4 0.2]\n [5.3 3.7 1.5 0.2]\n [5.0 3.3 1.4 0.2]\n [7.0 3.2 4.7 1.4]\n [6.4 3.2 4.5 1.5]\n [6.9 3.1 4.9 1.5]\n [5.5 2.3 4.0 1.3]\n [6.5 2.8 4.6 1.5]\n [5.7 2.8 4.5 1.3]\n [6.3 3.3 4.7 1.6]\n [4.9 2.4 3.3 1.0]\n [6.6 2.9 4.6 1.3]\n [5.2 2.7 3.9 1.4]\n [5.0 2.0 3.5 1.0]\n [5.9 3.0 4.2 1.5]\n [6.0 2.2 4.0 1.0]\n [6.1 2.9 4.7 1.4]\n [5.6 2.9 3.6 1.3]\n [6.7 3.1 4.4 1.4]\n [5.6 3.0 4.5 1.5]\n [5.8 2.7 4.1 1.0]\n [6.2 2.2 4.5 1.5]\n [5.6 2.5 3.9 1.1]\n [5.9 3.2 4.8 1.8]\n [6.1 2.8 4.0 1.3]\n [6.3 2.5 4.9 1.5]\n [6.1 2.8 4.7 1.2]\n [6.4 2.9 4.3 1.3]\n [6.6 3.0 4.4 1.4]\n [6.8 2.8 4.8 1.4]\n [6.7 3.0 5.0 1.7]\n [6.0 2.9 4.5 1.5]\n [5.7 2.6 3.5 1.0]\n [5.5 2.4 3.8 1.1]\n [5.5 2.4 3.7 1.0]\n [5.8 2.7 3.9 1.2]\n [6.0 2.7 5.1 1.6]\n [5.4 3.0 4.5 1.5]\n [6.0 3.4 4.5 1.6]\n [6.7 3.1 4.7 1.5]\n [6.3 2.3 4.4 1.3]\n [5.6 3.0 4.1 1.3]\n [5.5 2.5 4.0 1.3]\n [5.5 2.6 4.4 1.2]\n [6.1 3.0 4.6 1.4]\n [5.8 2.6 4.0 1.2]\n [5.0 2.3 3.3 1.0]\n [5.6 2.7 4.2 1.3]\n [5.7 3.0 4.2 1.2]\n [5.7 2.9 4.2 1.3]\n [6.2 2.9 4.3 1.3]\n [5.1 2.5 3.0 1.1]\n [5.7 2.8 4.1 1.3]\n [6.3 3.3 6.0 2.5]\n [5.8 2.7 5.1 1.9]\n [7.1 3.0 5.9 2.1]\n [6.3 2.9 5.6 1.8]\n [6.5 3.0 5.8 2.2]\n [7.6 3.0 6.6 2.1]\n [4.9 2.5 4.5 1.7]\n [7.3 2.9 6.3 1.8]\n [6.7 2.5 5.8 1.8]\n [7.2 3.6 6.1 2.5]\n [6.5 3.2 5.1 2.0]\n [6.4 2.7 5.3 1.9]\n [6.8 3.0 5.5 2.1]\n [5.7 2.5 5.0 2.0]\n [5.8 2.8 5.1 2.4]\n [6.4 3.2 5.3 2.3]\n [6.5 3.0 5.5 1.8]\n [7.7 3.8 6.7 2.2]\n [7.7 2.6 6.9 2.3]\n [6.0 2.2 5.0 1.5]\n [6.9 3.2 5.7 2.3]\n [5.6 2.8 4.9 2.0]\n [7.7 2.8 6.7 2.0]\n [6.3 2.7 4.9 1.8]\n [6.7 3.3 5.7 2.1]\n [7.2 3.2 6.0 1.8]\n [6.2 2.8 4.8 1.8]\n [6.1 3.0 4.9 1.8]\n [6.4 2.8 5.6 2.1]\n [7.2 3.0 5.8 1.6]\n [7.4 2.8 6.1 1.9]\n [7.9 3.8 6.4 2.0]\n [6.4 2.8 5.6 2.2]\n [6.3 2.8 5.1 1.5]\n [6.1 2.6 5.6 1.4]\n [7.7 3.0 6.1 2.3]\n [6.3 3.4 5.6 2.4]\n [6.4 3.1 5.5 1.8]\n [6.0 3.0 4.8 1.8]\n [6.9 3.1 5.4 2.1]\n [6.7 3.1 5.6 2.4]\n [6.9 3.1 5.1 2.3]\n [5.8 2.7 5.1 1.9]\n [6.8 3.2 5.9 2.3]\n [6.7 3.3 5.7 2.5]\n [6.7 3.0 5.2 2.3]\n [6.3 2.5 5.0 1.9]\n [6.5 3.0 5.2 2.0]\n [6.2 3.4 5.4 2.3]\n [5.9 3.0 5.1 1.8]]\n\u001b[1;31mLength:\u001b[0m          150\n\u001b[1;31mFile:\u001b[0m            c:\\program files\\python39\\lib\\site-packages\\numpy\\__init__.py\n\u001b[1;31mDocstring:\u001b[0m       <no docstring>\n",
        "X_train": "\u001b[1;31mType:\u001b[0m            ndarray\n\u001b[1;31mString form:\u001b[0m    \n[[6.1 3.0 4.6 1.4]\n [7.7 3.0 6.1 2.3]\n [5.6 2.5 3.9 1.1]\n [6.4 2.8 5.6 2.1]\n [5.8 2.8 5.1 2.4]\n [5.3 3.7 1.5 0.2]\n [5.5 2.3 4.0 1.3]\n [5.2 3.4 1.4 0.2]\n [6.5 2.8 4.6 1.5]\n [6.7 2.5 5.8 1.8]\n [6.8 3.0 5.5 2.1]\n [5.1 3.5 1.4 0.3]\n [6.0 2.2 5.0 1.5]\n [6.3 2.9 5.6 1.8]\n [6.6 2.9 4.6 1.3]\n [7.7 2.6 6.9 2.3]\n [5.7 3.8 1.7 0.3]\n [5.0 3.6 1.4 0.2]\n [4.8 3.0 1.4 0.3]\n [5.2 2.7 3.9 1.4]\n [5.1 3.4 1.5 0.2]\n [5.5 3.5 1.3 0.2]\n [7.7 3.8 6.7 2.2]\n [6.9 3.1 5.4 2.1]\n [7.3 2.9 6.3 1.8]\n [6.4 2.8 5.6 2.2]\n [6.2 2.8 4.8 1.8]\n [6.0 3.4 4.5 1.6]\n [7.7 2.8 6.7 2.0]\n [5.7 3.0 4.2 1.2]\n [4.8 3.4 1.6 0.2]\n [5.7 2.5 5.0 2.0]\n [6.3 2.7 4.9 1.8]\n [4.8 3.0 1.4 0.1]\n [4.7 3.2 1.3 0.2]\n [6.5 3.0 5.8 2.2]\n [4.6 3.4 1.4 0.3]\n [6.1 3.0 4.9 1.8]\n [6.5 3.2 5.1 2.0]\n [6.7 3.1 4.4 1.4]\n [5.7 2.8 4.5 1.3]\n [6.7 3.3 5.7 2.5]\n [6.0 3.0 4.8 1.8]\n [5.1 3.8 1.6 0.2]\n [6.0 2.2 4.0 1.0]\n [6.4 2.9 4.3 1.3]\n [6.5 3.0 5.5 1.8]\n [5.0 2.3 3.3 1.0]\n [6.3 3.3 6.0 2.5]\n [5.5 2.5 4.0 1.3]\n [5.4 3.7 1.5 0.2]\n [4.9 3.1 1.5 0.1]\n [5.2 4.1 1.5 0.1]\n [6.7 3.3 5.7 2.1]\n [4.4 3.0 1.3 0.2]\n [6.0 2.7 5.1 1.6]\n [6.4 2.7 5.3 1.9]\n [5.9 3.0 5.1 1.8]\n [5.2 3.5 1.5 0.2]\n [5.1 3.3 1.7 0.5]\n [5.8 2.7 4.1 1.0]\n [4.9 3.1 1.5 0.1]\n [7.4 2.8 6.1 1.9]\n [6.2 2.9 4.3 1.3]\n [7.6 3.0 6.6 2.1]\n [6.7 3.0 5.2 2.3]\n [6.3 2.3 4.4 1.3]\n [6.2 3.4 5.4 2.3]\n [7.2 3.6 6.1 2.5]\n [5.6 2.9 3.6 1.3]\n [5.7 4.4 1.5 0.4]\n [5.8 2.7 3.9 1.2]\n [4.5 2.3 1.3 0.3]\n [5.5 2.4 3.8 1.1]\n [6.9 3.1 4.9 1.5]\n [5.0 3.4 1.6 0.4]\n [6.8 2.8 4.8 1.4]\n [5.0 3.5 1.6 0.6]\n [4.8 3.4 1.9 0.2]\n [6.3 3.4 5.6 2.4]\n [5.6 2.8 4.9 2.0]\n [6.8 3.2 5.9 2.3]\n [5.0 3.3 1.4 0.2]\n [5.1 3.7 1.5 0.4]\n [5.9 3.2 4.8 1.8]\n [4.6 3.1 1.5 0.2]\n [5.8 2.7 5.1 1.9]\n [4.8 3.1 1.6 0.2]\n [6.5 3.0 5.2 2.0]\n [4.9 2.5 4.5 1.7]\n [4.6 3.2 1.4 0.2]\n [6.4 3.2 5.3 2.3]\n [4.3 3.0 1.1 0.1]\n [5.6 3.0 4.1 1.3]\n [4.4 2.9 1.4 0.2]\n [5.5 2.4 3.7 1.0]\n [5.0 2.0 3.5 1.0]\n [5.1 3.5 1.4 0.2]\n [4.9 3.0 1.4 0.2]\n [4.9 2.4 3.3 1.0]\n [4.6 3.6 1.0 0.2]\n [5.9 3.0 4.2 1.5]\n [6.1 2.9 4.7 1.4]\n [5.0 3.4 1.5 0.2]\n [6.7 3.1 4.7 1.5]\n [5.7 2.9 4.2 1.3]\n [6.2 2.2 4.5 1.5]\n [7.0 3.2 4.7 1.4]\n [5.8 2.7 5.1 1.9]\n [5.4 3.4 1.7 0.2]\n [5.0 3.0 1.6 0.2]\n [6.1 2.6 5.6 1.4]\n [6.1 2.8 4.0 1.3]\n [7.2 3.0 5.8 1.6]\n [5.7 2.6 3.5 1.0]\n [6.3 2.8 5.1 1.5]\n [6.4 3.1 5.5 1.8]\n [6.3 2.5 4.9 1.5]\n [6.7 3.1 5.6 2.4]\n [4.9 3.1 1.5 0.1]]\n\u001b[1;31mLength:\u001b[0m          120\n\u001b[1;31mFile:\u001b[0m            c:\\program files\\python39\\lib\\site-packages\\numpy\\__init__.py\n\u001b[1;31mDocstring:\u001b[0m       <no docstring>\n",
        "X_validation": "\u001b[1;31mType:\u001b[0m            ndarray\n\u001b[1;31mString form:\u001b[0m    \n[[5.8 4.0 1.2 0.2]\n [5.1 2.5 3.0 1.1]\n [6.6 3.0 4.4 1.4]\n [5.4 3.9 1.3 0.4]\n [7.9 3.8 6.4 2.0]\n [6.3 3.3 4.7 1.6]\n [6.9 3.1 5.1 2.3]\n [5.1 3.8 1.9 0.4]\n [4.7 3.2 1.6 0.2]\n [6.9 3.2 5.7 2.3]\n [5.6 2.7 4.2 1.3]\n [5.4 3.9 1.7 0.4]\n [7.1 3.0 5.9 2.1]\n [6.4 3.2 4.5 1.5]\n [6.0 2.9 4.5 1.5]\n [4.4 3.2 1.3 0.2]\n [5.8 2.6 4.0 1.2]\n [5.6 3.0 4.5 1.5]\n [5.4 3.4 1.5 0.4]\n [5.0 3.2 1.2 0.2]\n [5.5 2.6 4.4 1.2]\n [5.4 3.0 4.5 1.5]\n [6.7 3.0 5.0 1.7]\n [5.0 3.5 1.3 0.3]\n [7.2 3.2 6.0 1.8]\n [5.7 2.8 4.1 1.3]\n [5.5 4.2 1.4 0.2]\n [5.1 3.8 1.5 0.3]\n [6.1 2.8 4.7 1.2]\n [6.3 2.5 5.0 1.9]]\n\u001b[1;31mLength:\u001b[0m          30\n\u001b[1;31mFile:\u001b[0m            c:\\program files\\python39\\lib\\site-packages\\numpy\\__init__.py\n\u001b[1;31mDocstring:\u001b[0m       <no docstring>\n",
        "Y_train": "\u001b[1;31mType:\u001b[0m            ndarray\n\u001b[1;31mString form:\u001b[0m    \n['Iris-versicolor' 'Iris-virginica' 'Iris-versicolor' 'Iris-virginica'\n 'Iris-virginica' 'Iris-setosa' 'Iris-versicolor' 'Iris-setosa'\n 'Iris-versicolor' 'Iris-virginica' 'Iris-virginica' 'Iris-setosa'\n 'Iris-virginica' 'Iris-virginica' 'Iris-versicolor' 'Iris-virginica'\n 'Iris-setosa' 'Iris-setosa' 'Iris-setosa' 'Iris-versicolor' 'Iris-setosa'\n 'Iris-setosa' 'Iris-virginica' 'Iris-virginica' 'Iris-virginica'\n 'Iris-virginica' 'Iris-virginica' 'Iris-versicolor' 'Iris-virginica'\n 'Iris-versicolor' 'Iris-setosa' 'Iris-virginica' 'Iris-virginica'\n 'Iris-setosa' 'Iris-setosa' 'Iris-virginica' 'Iris-setosa'\n 'Iris-virginica' 'Iris-virginica' 'Iris-versicolor' 'Iris-versicolor'\n 'Iris-virginica' 'Iris-virginica' 'Iris-setosa' 'Iris-versicolor'\n 'Iris-versicolor' 'Iris-virginica' 'Iris-versicolor' 'Iris-virginica'\n 'Iris-versicolor' 'Iris-setosa' 'Iris-setosa' 'Iris-setosa'\n 'Iris-virginica' 'Iris-setosa' 'Iris-versicolor' 'Iris-virginica'\n 'Iris-virginica' 'Iris-setosa' 'Iris-setosa' 'Iris-versicolor'\n 'Iris-setosa' 'Iris-virginica' 'Iris-versicolor' 'Iris-virginica'\n 'Iris-virginica' 'Iris-versicolor' 'Iris-virginica' 'Iris-virginica'\n 'Iris-versicolor' 'Iris-setosa' 'Iris-versicolor' 'Iris-setosa'\n 'Iris-versicolor' 'Iris-versicolor' 'Iris-setosa' 'Iris-versicolor'\n 'Iris-setosa' 'Iris-setosa' 'Iris-virginica' 'Iris-virginica'\n 'Iris-virginica' 'Iris-setosa' 'Iris-setosa' 'Iris-versicolor'\n 'Iris-setosa' 'Iris-virginica' 'Iris-setosa' 'Iris-virginica'\n 'Iris-virginica' 'Iris-setosa' 'Iris-virginica' 'Iris-setosa'\n 'Iris-versicolor' 'Iris-setosa' 'Iris-versicolor' 'Iris-versicolor'\n 'Iris-setosa' 'Iris-setosa' 'Iris-versicolor' 'Iris-setosa'\n 'Iris-versicolor' 'Iris-versicolor' 'Iris-setosa' 'Iris-versicolor'\n 'Iris-versicolor' 'Iris-versicolor' 'Iris-versicolor' 'Iris-virginica'\n 'Iris-setosa' 'Iris-setosa' 'Iris-virginica' 'Iris-versicolor'\n 'Iris-virginica' 'Iris-versicolor' 'Iris-virginica' 'Iris-virginica'\n 'Iris-versicolor' 'Iris-virginica' 'Iris-setosa']\n\u001b[1;31mLength:\u001b[0m          120\n\u001b[1;31mFile:\u001b[0m            c:\\program files\\python39\\lib\\site-packages\\numpy\\__init__.py\n\u001b[1;31mDocstring:\u001b[0m       <no docstring>\n",
        "Y_validation": "\u001b[1;31mType:\u001b[0m            ndarray\n\u001b[1;31mString form:\u001b[0m    \n['Iris-setosa' 'Iris-versicolor' 'Iris-versicolor' 'Iris-setosa'\n 'Iris-virginica' 'Iris-versicolor' 'Iris-virginica' 'Iris-setosa'\n 'Iris-setosa' 'Iris-virginica' 'Iris-versicolor' 'Iris-setosa'\n 'Iris-virginica' 'Iris-versicolor' 'Iris-versicolor' 'Iris-setosa'\n 'Iris-versicolor' 'Iris-versicolor' 'Iris-setosa' 'Iris-setosa'\n 'Iris-versicolor' 'Iris-versicolor' 'Iris-versicolor' 'Iris-setosa'\n 'Iris-virginica' 'Iris-versicolor' 'Iris-setosa' 'Iris-setosa'\n 'Iris-versicolor' 'Iris-virginica']\n\u001b[1;31mLength:\u001b[0m          30\n\u001b[1;31mFile:\u001b[0m            c:\\program files\\python39\\lib\\site-packages\\numpy\\__init__.py\n\u001b[1;31mDocstring:\u001b[0m       <no docstring>\n",
        "array": "\u001b[1;31mType:\u001b[0m            ndarray\n\u001b[1;31mString form:\u001b[0m    \n[[5.1 3.5 1.4 0.2 'Iris-setosa']\n [4.9 3.0 1.4 0.2 'Iris-setosa']\n [4.7 3.2 1.3 0.2 'Iris-setosa']\n [4.6 3.1 1.5 0.2 'Iris-setosa']\n [5.0 3.6 1.4 0.2 'Iris-setosa']\n [5.4 3.9 1.7 0.4 'Iris-setosa']\n [4.6 3.4 1.4 0.3 'Iris-setosa']\n [5.0 3.4 1.5 0.2 'Iris-setosa']\n [4.4 2.9 1.4 0.2 'Iris-setosa']\n [4.9 3.1 1.5 0.1 'Iris-setosa']\n [5.4 3.7 1.5 0.2 'Iris-setosa']\n [4.8 3.4 1.6 0.2 'Iris-setosa']\n [4.8 3.0 1.4 0.1 'Iris-setosa']\n [4.3 3.0 1.1 0.1 'Iris-setosa']\n [5.8 4.0 1.2 0.2 'Iris-setosa']\n [5.7 4.4 1.5 0.4 'Iris-setosa']\n [5.4 3.9 1.3 0.4 'Iris-setosa']\n [5.1 3.5 1.4 0.3 'Iris-setosa']\n [5.7 3.8 1.7 0.3 'Iris-setosa']\n [5.1 3.8 1.5 0.3 'Iris-setosa']\n [5.4 3.4 1.7 0.2 'Iris-setosa']\n [5.1 3.7 1.5 0.4 'Iris-setosa']\n [4.6 3.6 1.0 0.2 'Iris-setosa']\n [5.1 3.3 1.7 0.5 'Iris-setosa']\n [4.8 3.4 1.9 0.2 'Iris-setosa']\n [5.0 3.0 1.6 0.2 'Iris-setosa']\n [5.0 3.4 1.6 0.4 'Iris-setosa']\n [5.2 3.5 1.5 0.2 'Iris-setosa']\n [5.2 3.4 1.4 0.2 'Iris-setosa']\n [4.7 3.2 1.6 0.2 'Iris-setosa']\n [4.8 3.1 1.6 0.2 'Iris-setosa']\n [5.4 3.4 1.5 0.4 'Iris-setosa']\n [5.2 4.1 1.5 0.1 'Iris-setosa']\n [5.5 4.2 1.4 0.2 'Iris-setosa']\n [4.9 3.1 1.5 0.1 'Iris-setosa']\n [5.0 3.2 1.2 0.2 'Iris-setosa']\n [5.5 3.5 1.3 0.2 'Iris-setosa']\n [4.9 3.1 1.5 0.1 'Iris-setosa']\n [4.4 3.0 1.3 0.2 'Iris-setosa']\n [5.1 3.4 1.5 0.2 'Iris-setosa']\n [5.0 3.5 1.3 0.3 'Iris-setosa']\n [4.5 2.3 1.3 0.3 'Iris-setosa']\n [4.4 3.2 1.3 0.2 'Iris-setosa']\n [5.0 3.5 1.6 0.6 'Iris-setosa']\n [5.1 3.8 1.9 0.4 'Iris-setosa']\n [4.8 3.0 1.4 0.3 'Iris-setosa']\n [5.1 3.8 1.6 0.2 'Iris-setosa']\n [4.6 3.2 1.4 0.2 'Iris-setosa']\n [5.3 3.7 1.5 0.2 'Iris-setosa']\n [5.0 3.3 1.4 0.2 'Iris-setosa']\n [7.0 3.2 4.7 1.4 'Iris-versicolor']\n [6.4 3.2 4.5 1.5 'Iris-versicolor']\n [6.9 3.1 4.9 1.5 'Iris-versicolor']\n [5.5 2.3 4.0 1.3 'Iris-versicolor']\n [6.5 2.8 4.6 1.5 'Iris-versicolor']\n [5.7 2.8 4.5 1.3 'Iris-versicolor']\n [6.3 3.3 4.7 1.6 'Iris-versicolor']\n [4.9 2.4 3.3 1.0 'Iris-versicolor']\n [6.6 2.9 4.6 1.3 'Iris-versicolor']\n [5.2 2.7 3.9 1.4 'Iris-versicolor']\n [5.0 2.0 3.5 1.0 'Iris-versicolor']\n [5.9 3.0 4.2 1.5 'Iris-versicolor']\n [6.0 2.2 4.0 1.0 'Iris-versicolor']\n [6.1 2.9 4.7 1.4 'Iris-versicolor']\n [5.6 2.9 3.6 1.3 'Iris-versicolor']\n [6.7 3.1 4.4 1.4 'Iris-versicolor']\n [5.6 3.0 4.5 1.5 'Iris-versicolor']\n [5.8 2.7 4.1 1.0 'Iris-versicolor']\n [6.2 2.2 4.5 1.5 'Iris-versicolor']\n [5.6 2.5 3.9 1.1 'Iris-versicolor']\n [5.9 3.2 4.8 1.8 'Iris-versicolor']\n [6.1 2.8 4.0 1.3 'Iris-versicolor']\n [6.3 2.5 4.9 1.5 'Iris-versicolor']\n [6.1 2.8 4.7 1.2 'Iris-versicolor']\n [6.4 2.9 4.3 1.3 'Iris-versicolor']\n [6.6 3.0 4.4 1.4 'Iris-versicolor']\n [6.8 2.8 4.8 1.4 'Iris-versicolor']\n [6.7 3.0 5.0 1.7 'Iris-versicolor']\n [6.0 2.9 4.5 1.5 'Iris-versicolor']\n [5.7 2.6 3.5 1.0 'Iris-versicolor']\n [5.5 2.4 3.8 1.1 'Iris-versicolor']\n [5.5 2.4 3.7 1.0 'Iris-versicolor']\n [5.8 2.7 3.9 1.2 'Iris-versicolor']\n [6.0 2.7 5.1 1.6 'Iris-versicolor']\n [5.4 3.0 4.5 1.5 'Iris-versicolor']\n [6.0 3.4 4.5 1.6 'Iris-versicolor']\n [6.7 3.1 4.7 1.5 'Iris-versicolor']\n [6.3 2.3 4.4 1.3 'Iris-versicolor']\n [5.6 3.0 4.1 1.3 'Iris-versicolor']\n [5.5 2.5 4.0 1.3 'Iris-versicolor']\n [5.5 2.6 4.4 1.2 'Iris-versicolor']\n [6.1 3.0 4.6 1.4 'Iris-versicolor']\n [5.8 2.6 4.0 1.2 'Iris-versicolor']\n [5.0 2.3 3.3 1.0 'Iris-versicolor']\n [5.6 2.7 4.2 1.3 'Iris-versicolor']\n [5.7 3.0 4.2 1.2 'Iris-versicolor']\n [5.7 2.9 4.2 1.3 'Iris-versicolor']\n [6.2 2.9 4.3 1.3 'Iris-versicolor']\n [5.1 2.5 3.0 1.1 'Iris-versicolor']\n [5.7 2.8 4.1 1.3 'Iris-versicolor']\n [6.3 3.3 6.0 2.5 'Iris-virginica']\n [5.8 2.7 5.1 1.9 'Iris-virginica']\n [7.1 3.0 5.9 2.1 'Iris-virginica']\n [6.3 2.9 5.6 1.8 'Iris-virginica']\n [6.5 3.0 5.8 2.2 'Iris-virginica']\n [7.6 3.0 6.6 2.1 'Iris-virginica']\n [4.9 2.5 4.5 1.7 'Iris-virginica']\n [7.3 2.9 6.3 1.8 'Iris-virginica']\n [6.7 2.5 5.8 1.8 'Iris-virginica']\n [7.2 3.6 6.1 2.5 'Iris-virginica']\n [6.5 3.2 5.1 2.0 'Iris-virginica']\n [6.4 2.7 5.3 1.9 'Iris-virginica']\n [6.8 3.0 5.5 2.1 'Iris-virginica']\n [5.7 2.5 5.0 2.0 'Iris-virginica']\n [5.8 2.8 5.1 2.4 'Iris-virginica']\n [6.4 3.2 5.3 2.3 'Iris-virginica']\n [6.5 3.0 5.5 1.8 'Iris-virginica']\n [7.7 3.8 6.7 2.2 'Iris-virginica']\n [7.7 2.6 6.9 2.3 'Iris-virginica']\n [6.0 2.2 5.0 1.5 'Iris-virginica']\n [6.9 3.2 5.7 2.3 'Iris-virginica']\n [5.6 2.8 4.9 2.0 'Iris-virginica']\n [7.7 2.8 6.7 2.0 'Iris-virginica']\n [6.3 2.7 4.9 1.8 'Iris-virginica']\n [6.7 3.3 5.7 2.1 'Iris-virginica']\n [7.2 3.2 6.0 1.8 'Iris-virginica']\n [6.2 2.8 4.8 1.8 'Iris-virginica']\n [6.1 3.0 4.9 1.8 'Iris-virginica']\n [6.4 2.8 5.6 2.1 'Iris-virginica']\n [7.2 3.0 5.8 1.6 'Iris-virginica']\n [7.4 2.8 6.1 1.9 'Iris-virginica']\n [7.9 3.8 6.4 2.0 'Iris-virginica']\n [6.4 2.8 5.6 2.2 'Iris-virginica']\n [6.3 2.8 5.1 1.5 'Iris-virginica']\n [6.1 2.6 5.6 1.4 'Iris-virginica']\n [7.7 3.0 6.1 2.3 'Iris-virginica']\n [6.3 3.4 5.6 2.4 'Iris-virginica']\n [6.4 3.1 5.5 1.8 'Iris-virginica']\n [6.0 3.0 4.8 1.8 'Iris-virginica']\n [6.9 3.1 5.4 2.1 'Iris-virginica']\n [6.7 3.1 5.6 2.4 'Iris-virginica']\n [6.9 3.1 5.1 2.3 'Iris-virginica']\n [5.8 2.7 5.1 1.9 'Iris-virginica']\n [6.8 3.2 5.9 2.3 'Iris-virginica']\n [6.7 3.3 5.7 2.5 'Iris-virginica']\n [6.7 3.0 5.2 2.3 'Iris-virginica']\n [6.3 2.5 5.0 1.9 'Iris-virginica']\n [6.5 3.0 5.2 2.0 'Iris-virginica']\n [6.2 3.4 5.4 2.3 'Iris-virginica']\n [5.9 3.0 5.1 1.8 'Iris-virginica']]\n\u001b[1;31mLength:\u001b[0m          150\n\u001b[1;31mFile:\u001b[0m            c:\\program files\\python39\\lib\\site-packages\\numpy\\__init__.py\n\u001b[1;31mDocstring:\u001b[0m       <no docstring>\n",
        "y": "\u001b[1;31mType:\u001b[0m            ndarray\n\u001b[1;31mString form:\u001b[0m    \n['Iris-setosa' 'Iris-setosa' 'Iris-setosa' 'Iris-setosa' 'Iris-setosa'\n 'Iris-setosa' 'Iris-setosa' 'Iris-setosa' 'Iris-setosa' 'Iris-setosa'\n 'Iris-setosa' 'Iris-setosa' 'Iris-setosa' 'Iris-setosa' 'Iris-setosa'\n 'Iris-setosa' 'Iris-setosa' 'Iris-setosa' 'Iris-setosa' 'Iris-setosa'\n 'Iris-setosa' 'Iris-setosa' 'Iris-setosa' 'Iris-setosa' 'Iris-setosa'\n 'Iris-setosa' 'Iris-setosa' 'Iris-setosa' 'Iris-setosa' 'Iris-setosa'\n 'Iris-setosa' 'Iris-setosa' 'Iris-setosa' 'Iris-setosa' 'Iris-setosa'\n 'Iris-setosa' 'Iris-setosa' 'Iris-setosa' 'Iris-setosa' 'Iris-setosa'\n 'Iris-setosa' 'Iris-setosa' 'Iris-setosa' 'Iris-setosa' 'Iris-setosa'\n 'Iris-setosa' 'Iris-setosa' 'Iris-setosa' 'Iris-setosa' 'Iris-setosa'\n 'Iris-versicolor' 'Iris-versicolor' 'Iris-versicolor' 'Iris-versicolor'\n 'Iris-versicolor' 'Iris-versicolor' 'Iris-versicolor' 'Iris-versicolor'\n 'Iris-versicolor' 'Iris-versicolor' 'Iris-versicolor' 'Iris-versicolor'\n 'Iris-versicolor' 'Iris-versicolor' 'Iris-versicolor' 'Iris-versicolor'\n 'Iris-versicolor' 'Iris-versicolor' 'Iris-versicolor' 'Iris-versicolor'\n 'Iris-versicolor' 'Iris-versicolor' 'Iris-versicolor' 'Iris-versicolor'\n 'Iris-versicolor' 'Iris-versicolor' 'Iris-versicolor' 'Iris-versicolor'\n 'Iris-versicolor' 'Iris-versicolor' 'Iris-versicolor' 'Iris-versicolor'\n 'Iris-versicolor' 'Iris-versicolor' 'Iris-versicolor' 'Iris-versicolor'\n 'Iris-versicolor' 'Iris-versicolor' 'Iris-versicolor' 'Iris-versicolor'\n 'Iris-versicolor' 'Iris-versicolor' 'Iris-versicolor' 'Iris-versicolor'\n 'Iris-versicolor' 'Iris-versicolor' 'Iris-versicolor' 'Iris-versicolor'\n 'Iris-versicolor' 'Iris-versicolor' 'Iris-virginica' 'Iris-virginica'\n 'Iris-virginica' 'Iris-virginica' 'Iris-virginica' 'Iris-virginica'\n 'Iris-virginica' 'Iris-virginica' 'Iris-virginica' 'Iris-virginica'\n 'Iris-virginica' 'Iris-virginica' 'Iris-virginica' 'Iris-virginica'\n 'Iris-virginica' 'Iris-virginica' 'Iris-virginica' 'Iris-virginica'\n 'Iris-virginica' 'Iris-virginica' 'Iris-virginica' 'Iris-virginica'\n 'Iris-virginica' 'Iris-virginica' 'Iris-virginica' 'Iris-virginica'\n 'Iris-virginica' 'Iris-virginica' 'Iris-virginica' 'Iris-virginica'\n 'Iris-virginica' 'Iris-virginica' 'Iris-virginica' 'Iris-virginica'\n 'Iris-virginica' 'Iris-virginica' 'Iris-virginica' 'Iris-virginica'\n 'Iris-virginica' 'Iris-virginica' 'Iris-virginica' 'Iris-virginica'\n 'Iris-virginica' 'Iris-virginica' 'Iris-virginica' 'Iris-virginica'\n 'Iris-virginica' 'Iris-virginica' 'Iris-virginica' 'Iris-virginica']\n\u001b[1;31mLength:\u001b[0m          150\n\u001b[1;31mFile:\u001b[0m            c:\\program files\\python39\\lib\\site-packages\\numpy\\__init__.py\n\u001b[1;31mDocstring:\u001b[0m       <no docstring>\n"
       },
       "remote": [
        "dataset",
        "train_test_split"
       ],
       "time": "Wed, 07 Jul 2021 14:59:41 GMT",
       "type": "execution"
      },
      {
       "cell_id": "c07b559e-a4ef-4213-bb77-db9a1f0d4dd3",
       "cell_outputs": [],
       "cell_source": "# Make predictions on validation dataset\nmodel = SVC(gamma='auto')\nmodel.fit(X_train, Y_train)\npredictions = model.predict(X_validation)",
       "data_values": [],
       "data_vars": [],
       "definitions": [
        {
         "col_offset": 0,
         "dependencies": [
          "SVC"
         ],
         "end_col_offset": 25,
         "end_lineno": 2,
         "lineno": 2,
         "name": "model",
         "type": "assign"
        },
        {
         "col_offset": 0,
         "dependencies": [
          "X_train",
          "Y_train"
         ],
         "end_col_offset": 27,
         "end_lineno": 3,
         "lineno": 3,
         "name": "model",
         "type": "call"
        },
        {
         "col_offset": 0,
         "dependencies": [
          "model",
          "X_validation"
         ],
         "end_col_offset": 41,
         "end_lineno": 4,
         "lineno": 4,
         "name": "predictions",
         "type": "assign"
        }
       ],
       "execution_count": 4,
       "imports": [],
       "local": [
        "model",
        "predictions"
       ],
       "local_info": {
        "model": "\u001b[1;31mType:\u001b[0m        SVC\n\u001b[1;31mString form:\u001b[0m SVC(gamma='auto')\n\u001b[1;31mFile:\u001b[0m        c:\\program files\\python39\\lib\\site-packages\\sklearn\\svm\\_classes.py\n",
        "predictions": "\u001b[1;31mType:\u001b[0m            ndarray\n\u001b[1;31mString form:\u001b[0m    \n['Iris-setosa' 'Iris-versicolor' 'Iris-versicolor' 'Iris-setosa'\n 'Iris-virginica' 'Iris-versicolor' 'Iris-virginica' 'Iris-setosa'\n 'Iris-setosa' 'Iris-virginica' 'Iris-versicolor' 'Iris-setosa'\n 'Iris-virginica' 'Iris-versicolor' 'Iris-versicolor' 'Iris-setosa'\n 'Iris-versicolor' 'Iris-versicolor' 'Iris-setosa' 'Iris-setosa'\n 'Iris-versicolor' 'Iris-versicolor' 'Iris-virginica' 'Iris-setosa'\n 'Iris-virginica' 'Iris-versicolor' 'Iris-setosa' 'Iris-setosa'\n 'Iris-versicolor' 'Iris-virginica']\n\u001b[1;31mLength:\u001b[0m          30\n\u001b[1;31mFile:\u001b[0m            c:\\program files\\python39\\lib\\site-packages\\numpy\\__init__.py\n\u001b[1;31mDocstring:\u001b[0m       <no docstring>\n"
       },
       "remote": [
        "SVC",
        "X_train",
        "Y_train",
        "X_validation"
       ],
       "time": "Wed, 07 Jul 2021 14:59:41 GMT",
       "type": "execution"
      },
      {
       "cell_id": "b2e4583c-7a6b-4b00-a55f-6e20fa6b89ca",
       "cell_outputs": [
        {
         "name": "stdout",
         "output_type": "stream",
         "text": "0.9666666666666667\n[[11  0  0]\n [ 0 12  1]\n [ 0  0  6]]\n                 precision    recall  f1-score   support\n\n    Iris-setosa       1.00      1.00      1.00        11\nIris-versicolor       1.00      0.92      0.96        13\n Iris-virginica       0.86      1.00      0.92         6\n\n       accuracy                           0.97        30\n      macro avg       0.95      0.97      0.96        30\n   weighted avg       0.97      0.97      0.97        30\n\n"
        }
       ],
       "cell_source": "# Evaluate predictions\nprint(accuracy_score(Y_validation, predictions))\nprint(confusion_matrix(Y_validation, predictions))\nprint(classification_report(Y_validation, predictions))",
       "data_values": [],
       "data_vars": [],
       "definitions": [
        {
         "col_offset": 0,
         "dependencies": [
          "accuracy_score",
          "Y_validation",
          "predictions"
         ],
         "end_col_offset": 48,
         "end_lineno": 2,
         "lineno": 2,
         "name": "print",
         "type": "call"
        },
        {
         "col_offset": 0,
         "dependencies": [
          "confusion_matrix",
          "Y_validation",
          "predictions"
         ],
         "end_col_offset": 50,
         "end_lineno": 3,
         "lineno": 3,
         "name": "print",
         "type": "call"
        },
        {
         "col_offset": 0,
         "dependencies": [
          "classification_report",
          "Y_validation",
          "predictions"
         ],
         "end_col_offset": 55,
         "end_lineno": 4,
         "lineno": 4,
         "name": "print",
         "type": "call"
        }
       ],
       "execution_count": 5,
       "imports": [],
       "local": [],
       "local_info": {},
       "remote": [
        "print",
        "accuracy_score",
        "Y_validation",
        "predictions",
        "confusion_matrix",
        "classification_report"
       ],
       "time": "Wed, 07 Jul 2021 14:59:41 GMT",
       "type": "execution"
      }
     ],
     "environment": {
      "kernel": {
       "implementation": "ipython",
       "version": "7.22.0"
      },
      "language_info": {
       "mimetype": "text/x-python",
       "name": "python",
       "version": "3.9.2"
      },
      "time": "Wed, 07 Jul 2021 14:59:39 GMT",
      "user_agent": "Mozilla/5.0 (Windows NT 10.0; Win64; x64; rv:89.0) Gecko/20100101 Firefox/89.0"
     },
     "modules": {
      "numpy": {
       "alias": "np",
       "version": "1.19.5"
      },
      "pandas": {
       "imports": [
        "read_csv"
       ],
       "version": "1.2.3"
      },
      "sklearn.metrics": {
       "imports": [
        "classification_report",
        "confusion_matrix",
        "accuracy_score"
       ],
       "version": ""
      },
      "sklearn.model_selection": {
       "imports": [
        "train_test_split"
       ],
       "version": ""
      },
      "sklearn.svm": {
       "imports": [
        "SVC"
       ],
       "version": ""
      }
     }
    },
    {
     "cells": [
      "beed23df-eed2-4dfc-9f75-97596457a98a",
      "e60d7751-a842-4791-b6cb-4ea6edecba57",
      "69ebfff9-2ec7-45b8-976c-5b368e076da0"
     ],
     "data": [
      {
       "cell_id": "beed23df-eed2-4dfc-9f75-97596457a98a",
       "cell_outputs": [],
       "cell_source": "import numpy as np\nfrom pandas import read_csv\nfrom sklearn.model_selection import train_test_split\nfrom sklearn.metrics import classification_report\nfrom sklearn.metrics import confusion_matrix\nfrom sklearn.metrics import accuracy_score\nfrom sklearn.svm import SVC\n",
       "data_values": [],
       "data_vars": [],
       "definitions": [],
       "execution_count": 1,
       "imports": [
        "np",
        "read_csv",
        "train_test_split",
        "classification_report",
        "confusion_matrix",
        "accuracy_score",
        "SVC"
       ],
       "local": [],
       "local_info": {},
       "remote": [],
       "time": "Wed, 07 Jul 2021 15:08:37 GMT",
       "type": "execution"
      },
      {
       "cell_id": "e60d7751-a842-4791-b6cb-4ea6edecba57",
       "cell_outputs": [],
       "cell_source": "# Load dataset\nurl = \"https://raw.githubusercontent.com/jbrownlee/Datasets/master/iris.csv\"\nnames = ['sepal-length', 'sepal-width', 'petal-length']\ndataset = read_csv(url, names=names)",
       "data_values": [
        "https://raw.githubusercontent.com/jbrownlee/Datasets/master/iris.csv"
       ],
       "data_vars": [
        "url",
        "dataset"
       ],
       "definitions": [
        {
         "col_offset": 0,
         "dependencies": [],
         "end_col_offset": 76,
         "end_lineno": 2,
         "lineno": 2,
         "name": "url",
         "type": "assign"
        },
        {
         "col_offset": 0,
         "dependencies": [],
         "end_col_offset": 55,
         "end_lineno": 3,
         "lineno": 3,
         "name": "names",
         "type": "assign"
        },
        {
         "col_offset": 0,
         "dependencies": [
          "read_csv",
          "url",
          "names"
         ],
         "end_col_offset": 36,
         "end_lineno": 4,
         "lineno": 4,
         "name": "dataset",
         "type": "assign"
        }
       ],
       "execution_count": 2,
       "imports": [],
       "local": [
        "url",
        "names",
        "dataset"
       ],
       "local_info": {
        "dataset": "\u001b[1;31mType:\u001b[0m        DataFrame\n\u001b[1;31mString form:\u001b[0m\n         sepal-length  sepal-width    petal-length\n5.1 3.5           1.4          0.2     Iris-setosa\n4.9 3.0           1.4          0.2     Iris-setosa\n4.7 3.2           1.3          0.2     Iris-setosa\n4.6 3.1           1.5          0.2     Iris-setosa\n5.0 3.6           1.4          0.2     Iris-setosa\n...               ...          ...             ...\n6.7 3.0           5.2          2.3  Iris-virginica\n6.3 2.5           5.0          1.9  Iris-virginica\n6.5 3.0           5.2          2.0  Iris-virginica\n6.2 3.4           5.4          2.3  Iris-virginica\n5.9 3.0           5.1          1.8  Iris-virginica\n\n[150 rows x 3 columns]\n\u001b[1;31mLength:\u001b[0m      150\n\u001b[1;31mFile:\u001b[0m        c:\\program files\\python39\\lib\\site-packages\\pandas\\core\\frame.py\n",
        "names": "\u001b[1;31mType:\u001b[0m        list\n\u001b[1;31mString form:\u001b[0m ['sepal-length', 'sepal-width', 'petal-length']\n\u001b[1;31mLength:\u001b[0m      3\n\u001b[1;31mDocstring:\u001b[0m  \nBuilt-in mutable sequence.\n\nIf no argument is given, the constructor creates a new empty list.\nThe argument must be an iterable if specified.\n",
        "url": "\u001b[1;31mType:\u001b[0m        str\n\u001b[1;31mString form:\u001b[0m https://raw.githubusercontent.com/jbrownlee/Datasets/master/iris.csv\n\u001b[1;31mLength:\u001b[0m      68\n\u001b[1;31mDocstring:\u001b[0m  \nstr(object='') -> str\nstr(bytes_or_buffer[, encoding[, errors]]) -> str\n\nCreate a new string object from the given object. If encoding or\nerrors is specified, then the object must expose a data buffer\nthat will be decoded using the given encoding and error handler.\nOtherwise, returns the result of object.__str__() (if defined)\nor repr(object).\nencoding defaults to sys.getdefaultencoding().\nerrors defaults to 'strict'.\n"
       },
       "remote": [
        "read_csv"
       ],
       "time": "Wed, 07 Jul 2021 15:08:37 GMT",
       "type": "execution"
      },
      {
       "cell_id": "69ebfff9-2ec7-45b8-976c-5b368e076da0",
       "cell_outputs": [
        {
         "ename": "IndexError",
         "evalue": "index 4 is out of bounds for axis 1 with size 3",
         "output_type": "error",
         "traceback": [
          "\u001b[1;31m---------------------------------------------------------------------------\u001b[0m",
          "\u001b[1;31mIndexError\u001b[0m                                Traceback (most recent call last)",
          "\u001b[1;32m<ipython-input-3-7b7b2357eabb>\u001b[0m in \u001b[0;36m<module>\u001b[1;34m\u001b[0m\n\u001b[0;32m      2\u001b[0m \u001b[0marray\u001b[0m \u001b[1;33m=\u001b[0m \u001b[0mdataset\u001b[0m\u001b[1;33m.\u001b[0m\u001b[0mvalues\u001b[0m\u001b[1;33m\u001b[0m\u001b[1;33m\u001b[0m\u001b[0m\n\u001b[0;32m      3\u001b[0m \u001b[0mX\u001b[0m \u001b[1;33m=\u001b[0m \u001b[0marray\u001b[0m\u001b[1;33m[\u001b[0m\u001b[1;33m:\u001b[0m\u001b[1;33m,\u001b[0m \u001b[1;36m0\u001b[0m\u001b[1;33m:\u001b[0m\u001b[1;36m4\u001b[0m\u001b[1;33m]\u001b[0m\u001b[1;33m\u001b[0m\u001b[1;33m\u001b[0m\u001b[0m\n\u001b[1;32m----> 4\u001b[1;33m \u001b[0my\u001b[0m \u001b[1;33m=\u001b[0m \u001b[0marray\u001b[0m\u001b[1;33m[\u001b[0m\u001b[1;33m:\u001b[0m\u001b[1;33m,\u001b[0m \u001b[1;36m4\u001b[0m\u001b[1;33m]\u001b[0m\u001b[1;33m\u001b[0m\u001b[1;33m\u001b[0m\u001b[0m\n\u001b[0m\u001b[0;32m      5\u001b[0m X_train, X_validation, Y_train, Y_validation = train_test_split(\n\u001b[0;32m      6\u001b[0m     X, y, test_size=0.20, random_state=1)\n",
          "\u001b[1;31mIndexError\u001b[0m: index 4 is out of bounds for axis 1 with size 3"
         ]
        }
       ],
       "cell_source": "# Split-out validation dataset\narray = dataset.values\nX = array[:, 0:4]\ny = array[:, 4]\nX_train, X_validation, Y_train, Y_validation = train_test_split(\n    X, y, test_size=0.20, random_state=1)",
       "data_values": [],
       "data_vars": [],
       "definitions": [
        {
         "col_offset": 0,
         "dependencies": [
          "dataset"
         ],
         "end_col_offset": 22,
         "end_lineno": 2,
         "lineno": 2,
         "name": "array",
         "type": "assign"
        },
        {
         "col_offset": 0,
         "dependencies": [
          "array"
         ],
         "end_col_offset": 17,
         "end_lineno": 3,
         "lineno": 3,
         "name": "X",
         "type": "assign"
        },
        {
         "col_offset": 0,
         "dependencies": [
          "array"
         ],
         "end_col_offset": 15,
         "end_lineno": 4,
         "lineno": 4,
         "name": "y",
         "type": "assign"
        },
        {
         "col_offset": 0,
         "dependencies": [
          "train_test_split",
          "X",
          "y"
         ],
         "end_col_offset": 41,
         "end_lineno": 6,
         "lineno": 5,
         "name": "X_train",
         "type": "assign"
        },
        {
         "col_offset": 0,
         "dependencies": [
          "train_test_split",
          "X",
          "y"
         ],
         "end_col_offset": 41,
         "end_lineno": 6,
         "lineno": 5,
         "name": "X_validation",
         "type": "assign"
        },
        {
         "col_offset": 0,
         "dependencies": [
          "train_test_split",
          "X",
          "y"
         ],
         "end_col_offset": 41,
         "end_lineno": 6,
         "lineno": 5,
         "name": "Y_train",
         "type": "assign"
        },
        {
         "col_offset": 0,
         "dependencies": [
          "train_test_split",
          "X",
          "y"
         ],
         "end_col_offset": 41,
         "end_lineno": 6,
         "lineno": 5,
         "name": "Y_validation",
         "type": "assign"
        }
       ],
       "execution_count": 3,
       "imports": [],
       "local": [
        "array",
        "X",
        "y",
        "X_train",
        "X_validation",
        "Y_train",
        "Y_validation"
       ],
       "local_info": {
        "X": "\u001b[1;31mType:\u001b[0m            ndarray\n\u001b[1;31mString form:\u001b[0m    \n[[1.4 0.2 'Iris-setosa']\n [1.4 0.2 'Iris-setosa']\n [1.3 0.2 'Iris-setosa']\n [1.5 0.2 'Iris-setosa']\n [1.4 0.2 'Iris-setosa']\n [1.7 0.4 'Iris-setosa']\n [1.4 0.3 'Iris-setosa']\n [1.5 0.2 'Iris-setosa']\n [1.4 0.2 'Iris-setosa']\n [1.5 0.1 'Iris-setosa']\n [1.5 0.2 'Iris-setosa']\n [1.6 0.2 'Iris-setosa']\n [1.4 0.1 'Iris-setosa']\n [1.1 0.1 'Iris-setosa']\n [1.2 0.2 'Iris-setosa']\n [1.5 0.4 'Iris-setosa']\n [1.3 0.4 'Iris-setosa']\n [1.4 0.3 'Iris-setosa']\n [1.7 0.3 'Iris-setosa']\n [1.5 0.3 'Iris-setosa']\n [1.7 0.2 'Iris-setosa']\n [1.5 0.4 'Iris-setosa']\n [1.0 0.2 'Iris-setosa']\n [1.7 0.5 'Iris-setosa']\n [1.9 0.2 'Iris-setosa']\n [1.6 0.2 'Iris-setosa']\n [1.6 0.4 'Iris-setosa']\n [1.5 0.2 'Iris-setosa']\n [1.4 0.2 'Iris-setosa']\n [1.6 0.2 'Iris-setosa']\n [1.6 0.2 'Iris-setosa']\n [1.5 0.4 'Iris-setosa']\n [1.5 0.1 'Iris-setosa']\n [1.4 0.2 'Iris-setosa']\n [1.5 0.1 'Iris-setosa']\n [1.2 0.2 'Iris-setosa']\n [1.3 0.2 'Iris-setosa']\n [1.5 0.1 'Iris-setosa']\n [1.3 0.2 'Iris-setosa']\n [1.5 0.2 'Iris-setosa']\n [1.3 0.3 'Iris-setosa']\n [1.3 0.3 'Iris-setosa']\n [1.3 0.2 'Iris-setosa']\n [1.6 0.6 'Iris-setosa']\n [1.9 0.4 'Iris-setosa']\n [1.4 0.3 'Iris-setosa']\n [1.6 0.2 'Iris-setosa']\n [1.4 0.2 'Iris-setosa']\n [1.5 0.2 'Iris-setosa']\n [1.4 0.2 'Iris-setosa']\n [4.7 1.4 'Iris-versicolor']\n [4.5 1.5 'Iris-versicolor']\n [4.9 1.5 'Iris-versicolor']\n [4.0 1.3 'Iris-versicolor']\n [4.6 1.5 'Iris-versicolor']\n [4.5 1.3 'Iris-versicolor']\n [4.7 1.6 'Iris-versicolor']\n [3.3 1.0 'Iris-versicolor']\n [4.6 1.3 'Iris-versicolor']\n [3.9 1.4 'Iris-versicolor']\n [3.5 1.0 'Iris-versicolor']\n [4.2 1.5 'Iris-versicolor']\n [4.0 1.0 'Iris-versicolor']\n [4.7 1.4 'Iris-versicolor']\n [3.6 1.3 'Iris-versicolor']\n [4.4 1.4 'Iris-versicolor']\n [4.5 1.5 'Iris-versicolor']\n [4.1 1.0 'Iris-versicolor']\n [4.5 1.5 'Iris-versicolor']\n [3.9 1.1 'Iris-versicolor']\n [4.8 1.8 'Iris-versicolor']\n [4.0 1.3 'Iris-versicolor']\n [4.9 1.5 'Iris-versicolor']\n [4.7 1.2 'Iris-versicolor']\n [4.3 1.3 'Iris-versicolor']\n [4.4 1.4 'Iris-versicolor']\n [4.8 1.4 'Iris-versicolor']\n [5.0 1.7 'Iris-versicolor']\n [4.5 1.5 'Iris-versicolor']\n [3.5 1.0 'Iris-versicolor']\n [3.8 1.1 'Iris-versicolor']\n [3.7 1.0 'Iris-versicolor']\n [3.9 1.2 'Iris-versicolor']\n [5.1 1.6 'Iris-versicolor']\n [4.5 1.5 'Iris-versicolor']\n [4.5 1.6 'Iris-versicolor']\n [4.7 1.5 'Iris-versicolor']\n [4.4 1.3 'Iris-versicolor']\n [4.1 1.3 'Iris-versicolor']\n [4.0 1.3 'Iris-versicolor']\n [4.4 1.2 'Iris-versicolor']\n [4.6 1.4 'Iris-versicolor']\n [4.0 1.2 'Iris-versicolor']\n [3.3 1.0 'Iris-versicolor']\n [4.2 1.3 'Iris-versicolor']\n [4.2 1.2 'Iris-versicolor']\n [4.2 1.3 'Iris-versicolor']\n [4.3 1.3 'Iris-versicolor']\n [3.0 1.1 'Iris-versicolor']\n [4.1 1.3 'Iris-versicolor']\n [6.0 2.5 'Iris-virginica']\n [5.1 1.9 'Iris-virginica']\n [5.9 2.1 'Iris-virginica']\n [5.6 1.8 'Iris-virginica']\n [5.8 2.2 'Iris-virginica']\n [6.6 2.1 'Iris-virginica']\n [4.5 1.7 'Iris-virginica']\n [6.3 1.8 'Iris-virginica']\n [5.8 1.8 'Iris-virginica']\n [6.1 2.5 'Iris-virginica']\n [5.1 2.0 'Iris-virginica']\n [5.3 1.9 'Iris-virginica']\n [5.5 2.1 'Iris-virginica']\n [5.0 2.0 'Iris-virginica']\n [5.1 2.4 'Iris-virginica']\n [5.3 2.3 'Iris-virginica']\n [5.5 1.8 'Iris-virginica']\n [6.7 2.2 'Iris-virginica']\n [6.9 2.3 'Iris-virginica']\n [5.0 1.5 'Iris-virginica']\n [5.7 2.3 'Iris-virginica']\n [4.9 2.0 'Iris-virginica']\n [6.7 2.0 'Iris-virginica']\n [4.9 1.8 'Iris-virginica']\n [5.7 2.1 'Iris-virginica']\n [6.0 1.8 'Iris-virginica']\n [4.8 1.8 'Iris-virginica']\n [4.9 1.8 'Iris-virginica']\n [5.6 2.1 'Iris-virginica']\n [5.8 1.6 'Iris-virginica']\n [6.1 1.9 'Iris-virginica']\n [6.4 2.0 'Iris-virginica']\n [5.6 2.2 'Iris-virginica']\n [5.1 1.5 'Iris-virginica']\n [5.6 1.4 'Iris-virginica']\n [6.1 2.3 'Iris-virginica']\n [5.6 2.4 'Iris-virginica']\n [5.5 1.8 'Iris-virginica']\n [4.8 1.8 'Iris-virginica']\n [5.4 2.1 'Iris-virginica']\n [5.6 2.4 'Iris-virginica']\n [5.1 2.3 'Iris-virginica']\n [5.1 1.9 'Iris-virginica']\n [5.9 2.3 'Iris-virginica']\n [5.7 2.5 'Iris-virginica']\n [5.2 2.3 'Iris-virginica']\n [5.0 1.9 'Iris-virginica']\n [5.2 2.0 'Iris-virginica']\n [5.4 2.3 'Iris-virginica']\n [5.1 1.8 'Iris-virginica']]\n\u001b[1;31mLength:\u001b[0m          150\n\u001b[1;31mFile:\u001b[0m            c:\\program files\\python39\\lib\\site-packages\\numpy\\__init__.py\n\u001b[1;31mDocstring:\u001b[0m       <no docstring>\n",
        "X_train": "",
        "X_validation": "",
        "Y_train": "",
        "Y_validation": "",
        "array": "\u001b[1;31mType:\u001b[0m            ndarray\n\u001b[1;31mString form:\u001b[0m    \n[[1.4 0.2 'Iris-setosa']\n [1.4 0.2 'Iris-setosa']\n [1.3 0.2 'Iris-setosa']\n [1.5 0.2 'Iris-setosa']\n [1.4 0.2 'Iris-setosa']\n [1.7 0.4 'Iris-setosa']\n [1.4 0.3 'Iris-setosa']\n [1.5 0.2 'Iris-setosa']\n [1.4 0.2 'Iris-setosa']\n [1.5 0.1 'Iris-setosa']\n [1.5 0.2 'Iris-setosa']\n [1.6 0.2 'Iris-setosa']\n [1.4 0.1 'Iris-setosa']\n [1.1 0.1 'Iris-setosa']\n [1.2 0.2 'Iris-setosa']\n [1.5 0.4 'Iris-setosa']\n [1.3 0.4 'Iris-setosa']\n [1.4 0.3 'Iris-setosa']\n [1.7 0.3 'Iris-setosa']\n [1.5 0.3 'Iris-setosa']\n [1.7 0.2 'Iris-setosa']\n [1.5 0.4 'Iris-setosa']\n [1.0 0.2 'Iris-setosa']\n [1.7 0.5 'Iris-setosa']\n [1.9 0.2 'Iris-setosa']\n [1.6 0.2 'Iris-setosa']\n [1.6 0.4 'Iris-setosa']\n [1.5 0.2 'Iris-setosa']\n [1.4 0.2 'Iris-setosa']\n [1.6 0.2 'Iris-setosa']\n [1.6 0.2 'Iris-setosa']\n [1.5 0.4 'Iris-setosa']\n [1.5 0.1 'Iris-setosa']\n [1.4 0.2 'Iris-setosa']\n [1.5 0.1 'Iris-setosa']\n [1.2 0.2 'Iris-setosa']\n [1.3 0.2 'Iris-setosa']\n [1.5 0.1 'Iris-setosa']\n [1.3 0.2 'Iris-setosa']\n [1.5 0.2 'Iris-setosa']\n [1.3 0.3 'Iris-setosa']\n [1.3 0.3 'Iris-setosa']\n [1.3 0.2 'Iris-setosa']\n [1.6 0.6 'Iris-setosa']\n [1.9 0.4 'Iris-setosa']\n [1.4 0.3 'Iris-setosa']\n [1.6 0.2 'Iris-setosa']\n [1.4 0.2 'Iris-setosa']\n [1.5 0.2 'Iris-setosa']\n [1.4 0.2 'Iris-setosa']\n [4.7 1.4 'Iris-versicolor']\n [4.5 1.5 'Iris-versicolor']\n [4.9 1.5 'Iris-versicolor']\n [4.0 1.3 'Iris-versicolor']\n [4.6 1.5 'Iris-versicolor']\n [4.5 1.3 'Iris-versicolor']\n [4.7 1.6 'Iris-versicolor']\n [3.3 1.0 'Iris-versicolor']\n [4.6 1.3 'Iris-versicolor']\n [3.9 1.4 'Iris-versicolor']\n [3.5 1.0 'Iris-versicolor']\n [4.2 1.5 'Iris-versicolor']\n [4.0 1.0 'Iris-versicolor']\n [4.7 1.4 'Iris-versicolor']\n [3.6 1.3 'Iris-versicolor']\n [4.4 1.4 'Iris-versicolor']\n [4.5 1.5 'Iris-versicolor']\n [4.1 1.0 'Iris-versicolor']\n [4.5 1.5 'Iris-versicolor']\n [3.9 1.1 'Iris-versicolor']\n [4.8 1.8 'Iris-versicolor']\n [4.0 1.3 'Iris-versicolor']\n [4.9 1.5 'Iris-versicolor']\n [4.7 1.2 'Iris-versicolor']\n [4.3 1.3 'Iris-versicolor']\n [4.4 1.4 'Iris-versicolor']\n [4.8 1.4 'Iris-versicolor']\n [5.0 1.7 'Iris-versicolor']\n [4.5 1.5 'Iris-versicolor']\n [3.5 1.0 'Iris-versicolor']\n [3.8 1.1 'Iris-versicolor']\n [3.7 1.0 'Iris-versicolor']\n [3.9 1.2 'Iris-versicolor']\n [5.1 1.6 'Iris-versicolor']\n [4.5 1.5 'Iris-versicolor']\n [4.5 1.6 'Iris-versicolor']\n [4.7 1.5 'Iris-versicolor']\n [4.4 1.3 'Iris-versicolor']\n [4.1 1.3 'Iris-versicolor']\n [4.0 1.3 'Iris-versicolor']\n [4.4 1.2 'Iris-versicolor']\n [4.6 1.4 'Iris-versicolor']\n [4.0 1.2 'Iris-versicolor']\n [3.3 1.0 'Iris-versicolor']\n [4.2 1.3 'Iris-versicolor']\n [4.2 1.2 'Iris-versicolor']\n [4.2 1.3 'Iris-versicolor']\n [4.3 1.3 'Iris-versicolor']\n [3.0 1.1 'Iris-versicolor']\n [4.1 1.3 'Iris-versicolor']\n [6.0 2.5 'Iris-virginica']\n [5.1 1.9 'Iris-virginica']\n [5.9 2.1 'Iris-virginica']\n [5.6 1.8 'Iris-virginica']\n [5.8 2.2 'Iris-virginica']\n [6.6 2.1 'Iris-virginica']\n [4.5 1.7 'Iris-virginica']\n [6.3 1.8 'Iris-virginica']\n [5.8 1.8 'Iris-virginica']\n [6.1 2.5 'Iris-virginica']\n [5.1 2.0 'Iris-virginica']\n [5.3 1.9 'Iris-virginica']\n [5.5 2.1 'Iris-virginica']\n [5.0 2.0 'Iris-virginica']\n [5.1 2.4 'Iris-virginica']\n [5.3 2.3 'Iris-virginica']\n [5.5 1.8 'Iris-virginica']\n [6.7 2.2 'Iris-virginica']\n [6.9 2.3 'Iris-virginica']\n [5.0 1.5 'Iris-virginica']\n [5.7 2.3 'Iris-virginica']\n [4.9 2.0 'Iris-virginica']\n [6.7 2.0 'Iris-virginica']\n [4.9 1.8 'Iris-virginica']\n [5.7 2.1 'Iris-virginica']\n [6.0 1.8 'Iris-virginica']\n [4.8 1.8 'Iris-virginica']\n [4.9 1.8 'Iris-virginica']\n [5.6 2.1 'Iris-virginica']\n [5.8 1.6 'Iris-virginica']\n [6.1 1.9 'Iris-virginica']\n [6.4 2.0 'Iris-virginica']\n [5.6 2.2 'Iris-virginica']\n [5.1 1.5 'Iris-virginica']\n [5.6 1.4 'Iris-virginica']\n [6.1 2.3 'Iris-virginica']\n [5.6 2.4 'Iris-virginica']\n [5.5 1.8 'Iris-virginica']\n [4.8 1.8 'Iris-virginica']\n [5.4 2.1 'Iris-virginica']\n [5.6 2.4 'Iris-virginica']\n [5.1 2.3 'Iris-virginica']\n [5.1 1.9 'Iris-virginica']\n [5.9 2.3 'Iris-virginica']\n [5.7 2.5 'Iris-virginica']\n [5.2 2.3 'Iris-virginica']\n [5.0 1.9 'Iris-virginica']\n [5.2 2.0 'Iris-virginica']\n [5.4 2.3 'Iris-virginica']\n [5.1 1.8 'Iris-virginica']]\n\u001b[1;31mLength:\u001b[0m          150\n\u001b[1;31mFile:\u001b[0m            c:\\program files\\python39\\lib\\site-packages\\numpy\\__init__.py\n\u001b[1;31mDocstring:\u001b[0m       <no docstring>\n",
        "y": ""
       },
       "remote": [
        "dataset",
        "train_test_split"
       ],
       "time": "Wed, 07 Jul 2021 15:08:39 GMT",
       "type": "error"
      }
     ],
     "environment": {
      "kernel": {
       "implementation": "ipython",
       "version": "7.22.0"
      },
      "language_info": {
       "mimetype": "text/x-python",
       "name": "python",
       "version": "3.9.2"
      },
      "time": "Wed, 07 Jul 2021 15:08:37 GMT",
      "user_agent": "Mozilla/5.0 (Windows NT 10.0; Win64; x64; rv:89.0) Gecko/20100101 Firefox/89.0"
     },
     "modules": {
      "numpy": {
       "alias": "np",
       "version": "1.19.5"
      },
      "pandas": {
       "imports": [
        "read_csv"
       ],
       "version": "1.2.3"
      },
      "sklearn.metrics": {
       "imports": [
        "classification_report",
        "confusion_matrix",
        "accuracy_score"
       ],
       "version": ""
      },
      "sklearn.model_selection": {
       "imports": [
        "train_test_split"
       ],
       "version": ""
      },
      "sklearn.svm": {
       "imports": [
        "SVC"
       ],
       "version": ""
      }
     }
    },
    {
     "cells": [
      "beed23df-eed2-4dfc-9f75-97596457a98a",
      "e60d7751-a842-4791-b6cb-4ea6edecba57",
      "69ebfff9-2ec7-45b8-976c-5b368e076da0",
      "c07b559e-a4ef-4213-bb77-db9a1f0d4dd3",
      "b2e4583c-7a6b-4b00-a55f-6e20fa6b89ca"
     ],
     "data": [
      {
       "cell_id": "beed23df-eed2-4dfc-9f75-97596457a98a",
       "cell_outputs": [],
       "cell_source": "import numpy as np\nfrom pandas import read_csv\nfrom sklearn.model_selection import train_test_split\nfrom sklearn.metrics import classification_report\nfrom sklearn.metrics import confusion_matrix\nfrom sklearn.metrics import accuracy_score\nfrom sklearn.svm import SVC\n",
       "data_values": [],
       "data_vars": [],
       "definitions": [],
       "execution_count": 1,
       "imports": [
        "np",
        "read_csv",
        "train_test_split",
        "classification_report",
        "confusion_matrix",
        "accuracy_score",
        "SVC"
       ],
       "local": [],
       "local_info": {},
       "remote": [],
       "time": "Wed, 07 Jul 2021 15:09:14 GMT",
       "type": "execution"
      },
      {
       "cell_id": "e60d7751-a842-4791-b6cb-4ea6edecba57",
       "cell_outputs": [
        {
         "name": "stdout",
         "output_type": "stream",
         "text": "     sepal-length  sepal-width  petal-length  petal-width           class\n0             5.1          3.5           1.4          0.2     Iris-setosa\n1             4.9          3.0           1.4          0.2     Iris-setosa\n2             4.7          3.2           1.3          0.2     Iris-setosa\n3             4.6          3.1           1.5          0.2     Iris-setosa\n4             5.0          3.6           1.4          0.2     Iris-setosa\n..            ...          ...           ...          ...             ...\n145           6.7          3.0           5.2          2.3  Iris-virginica\n146           6.3          2.5           5.0          1.9  Iris-virginica\n147           6.5          3.0           5.2          2.0  Iris-virginica\n148           6.2          3.4           5.4          2.3  Iris-virginica\n149           5.9          3.0           5.1          1.8  Iris-virginica\n\n[150 rows x 5 columns]\n"
        }
       ],
       "cell_source": "# Load dataset\nurl = \"https://raw.githubusercontent.com/jbrownlee/Datasets/master/iris.csv\"\nnames = ['sepal-length', 'sepal-width', 'petal-length', 'petal-width', 'class']\ndataset = read_csv(url, names=names)\nprint(dataset)",
       "data_values": [
        "https://raw.githubusercontent.com/jbrownlee/Datasets/master/iris.csv"
       ],
       "data_vars": [
        "url",
        "dataset",
        "print"
       ],
       "definitions": [
        {
         "col_offset": 0,
         "dependencies": [],
         "end_col_offset": 76,
         "end_lineno": 2,
         "lineno": 2,
         "name": "url",
         "type": "assign"
        },
        {
         "col_offset": 0,
         "dependencies": [],
         "end_col_offset": 79,
         "end_lineno": 3,
         "lineno": 3,
         "name": "names",
         "type": "assign"
        },
        {
         "col_offset": 0,
         "dependencies": [
          "read_csv",
          "url",
          "names"
         ],
         "end_col_offset": 36,
         "end_lineno": 4,
         "lineno": 4,
         "name": "dataset",
         "type": "assign"
        },
        {
         "col_offset": 0,
         "dependencies": [
          "dataset"
         ],
         "end_col_offset": 14,
         "end_lineno": 5,
         "lineno": 5,
         "name": "print",
         "type": "call"
        }
       ],
       "execution_count": 2,
       "imports": [],
       "local": [
        "url",
        "names",
        "dataset"
       ],
       "local_info": {
        "dataset": "\u001b[1;31mType:\u001b[0m        DataFrame\n\u001b[1;31mString form:\u001b[0m\n     sepal-length  sepal-width  petal-length  petal-width           class\n0             5.1          3.5           1.4          0.2     Iris-setosa\n1             4.9          3.0           1.4          0.2     Iris-setosa\n2             4.7          3.2           1.3          0.2     Iris-setosa\n3             4.6          3.1           1.5          0.2     Iris-setosa\n4             5.0          3.6           1.4          0.2     Iris-setosa\n..            ...          ...           ...          ...             ...\n145           6.7          3.0           5.2          2.3  Iris-virginica\n146           6.3          2.5           5.0          1.9  Iris-virginica\n147           6.5          3.0           5.2          2.0  Iris-virginica\n148           6.2          3.4           5.4          2.3  Iris-virginica\n149           5.9          3.0           5.1          1.8  Iris-virginica\n\n[150 rows x 5 columns]\n\u001b[1;31mLength:\u001b[0m      150\n\u001b[1;31mFile:\u001b[0m        c:\\program files\\python39\\lib\\site-packages\\pandas\\core\\frame.py\n",
        "names": "\u001b[1;31mType:\u001b[0m        list\n\u001b[1;31mString form:\u001b[0m ['sepal-length', 'sepal-width', 'petal-length', 'petal-width', 'class']\n\u001b[1;31mLength:\u001b[0m      5\n\u001b[1;31mDocstring:\u001b[0m  \nBuilt-in mutable sequence.\n\nIf no argument is given, the constructor creates a new empty list.\nThe argument must be an iterable if specified.\n",
        "url": "\u001b[1;31mType:\u001b[0m        str\n\u001b[1;31mString form:\u001b[0m https://raw.githubusercontent.com/jbrownlee/Datasets/master/iris.csv\n\u001b[1;31mLength:\u001b[0m      68\n\u001b[1;31mDocstring:\u001b[0m  \nstr(object='') -> str\nstr(bytes_or_buffer[, encoding[, errors]]) -> str\n\nCreate a new string object from the given object. If encoding or\nerrors is specified, then the object must expose a data buffer\nthat will be decoded using the given encoding and error handler.\nOtherwise, returns the result of object.__str__() (if defined)\nor repr(object).\nencoding defaults to sys.getdefaultencoding().\nerrors defaults to 'strict'.\n"
       },
       "remote": [
        "read_csv",
        "print"
       ],
       "time": "Wed, 07 Jul 2021 15:09:14 GMT",
       "type": "execution"
      },
      {
       "cell_id": "69ebfff9-2ec7-45b8-976c-5b368e076da0",
       "cell_outputs": [],
       "cell_source": "# Split-out validation dataset\narray = dataset.values\nX = array[:, 0:4]\ny = array[:, 4]\nX_train, X_validation, Y_train, Y_validation = train_test_split(\n    X, y, test_size=0.20, random_state=1)",
       "data_values": [],
       "data_vars": [],
       "definitions": [
        {
         "col_offset": 0,
         "dependencies": [
          "dataset"
         ],
         "end_col_offset": 22,
         "end_lineno": 2,
         "lineno": 2,
         "name": "array",
         "type": "assign"
        },
        {
         "col_offset": 0,
         "dependencies": [
          "array"
         ],
         "end_col_offset": 17,
         "end_lineno": 3,
         "lineno": 3,
         "name": "X",
         "type": "assign"
        },
        {
         "col_offset": 0,
         "dependencies": [
          "array"
         ],
         "end_col_offset": 15,
         "end_lineno": 4,
         "lineno": 4,
         "name": "y",
         "type": "assign"
        },
        {
         "col_offset": 0,
         "dependencies": [
          "train_test_split",
          "X",
          "y"
         ],
         "end_col_offset": 41,
         "end_lineno": 6,
         "lineno": 5,
         "name": "X_train",
         "type": "assign"
        },
        {
         "col_offset": 0,
         "dependencies": [
          "train_test_split",
          "X",
          "y"
         ],
         "end_col_offset": 41,
         "end_lineno": 6,
         "lineno": 5,
         "name": "X_validation",
         "type": "assign"
        },
        {
         "col_offset": 0,
         "dependencies": [
          "train_test_split",
          "X",
          "y"
         ],
         "end_col_offset": 41,
         "end_lineno": 6,
         "lineno": 5,
         "name": "Y_train",
         "type": "assign"
        },
        {
         "col_offset": 0,
         "dependencies": [
          "train_test_split",
          "X",
          "y"
         ],
         "end_col_offset": 41,
         "end_lineno": 6,
         "lineno": 5,
         "name": "Y_validation",
         "type": "assign"
        }
       ],
       "execution_count": 3,
       "imports": [],
       "local": [
        "array",
        "X",
        "y",
        "X_train",
        "X_validation",
        "Y_train",
        "Y_validation"
       ],
       "local_info": {
        "X": "\u001b[1;31mType:\u001b[0m            ndarray\n\u001b[1;31mString form:\u001b[0m    \n[[5.1 3.5 1.4 0.2]\n [4.9 3.0 1.4 0.2]\n [4.7 3.2 1.3 0.2]\n [4.6 3.1 1.5 0.2]\n [5.0 3.6 1.4 0.2]\n [5.4 3.9 1.7 0.4]\n [4.6 3.4 1.4 0.3]\n [5.0 3.4 1.5 0.2]\n [4.4 2.9 1.4 0.2]\n [4.9 3.1 1.5 0.1]\n [5.4 3.7 1.5 0.2]\n [4.8 3.4 1.6 0.2]\n [4.8 3.0 1.4 0.1]\n [4.3 3.0 1.1 0.1]\n [5.8 4.0 1.2 0.2]\n [5.7 4.4 1.5 0.4]\n [5.4 3.9 1.3 0.4]\n [5.1 3.5 1.4 0.3]\n [5.7 3.8 1.7 0.3]\n [5.1 3.8 1.5 0.3]\n [5.4 3.4 1.7 0.2]\n [5.1 3.7 1.5 0.4]\n [4.6 3.6 1.0 0.2]\n [5.1 3.3 1.7 0.5]\n [4.8 3.4 1.9 0.2]\n [5.0 3.0 1.6 0.2]\n [5.0 3.4 1.6 0.4]\n [5.2 3.5 1.5 0.2]\n [5.2 3.4 1.4 0.2]\n [4.7 3.2 1.6 0.2]\n [4.8 3.1 1.6 0.2]\n [5.4 3.4 1.5 0.4]\n [5.2 4.1 1.5 0.1]\n [5.5 4.2 1.4 0.2]\n [4.9 3.1 1.5 0.1]\n [5.0 3.2 1.2 0.2]\n [5.5 3.5 1.3 0.2]\n [4.9 3.1 1.5 0.1]\n [4.4 3.0 1.3 0.2]\n [5.1 3.4 1.5 0.2]\n [5.0 3.5 1.3 0.3]\n [4.5 2.3 1.3 0.3]\n [4.4 3.2 1.3 0.2]\n [5.0 3.5 1.6 0.6]\n [5.1 3.8 1.9 0.4]\n [4.8 3.0 1.4 0.3]\n [5.1 3.8 1.6 0.2]\n [4.6 3.2 1.4 0.2]\n [5.3 3.7 1.5 0.2]\n [5.0 3.3 1.4 0.2]\n [7.0 3.2 4.7 1.4]\n [6.4 3.2 4.5 1.5]\n [6.9 3.1 4.9 1.5]\n [5.5 2.3 4.0 1.3]\n [6.5 2.8 4.6 1.5]\n [5.7 2.8 4.5 1.3]\n [6.3 3.3 4.7 1.6]\n [4.9 2.4 3.3 1.0]\n [6.6 2.9 4.6 1.3]\n [5.2 2.7 3.9 1.4]\n [5.0 2.0 3.5 1.0]\n [5.9 3.0 4.2 1.5]\n [6.0 2.2 4.0 1.0]\n [6.1 2.9 4.7 1.4]\n [5.6 2.9 3.6 1.3]\n [6.7 3.1 4.4 1.4]\n [5.6 3.0 4.5 1.5]\n [5.8 2.7 4.1 1.0]\n [6.2 2.2 4.5 1.5]\n [5.6 2.5 3.9 1.1]\n [5.9 3.2 4.8 1.8]\n [6.1 2.8 4.0 1.3]\n [6.3 2.5 4.9 1.5]\n [6.1 2.8 4.7 1.2]\n [6.4 2.9 4.3 1.3]\n [6.6 3.0 4.4 1.4]\n [6.8 2.8 4.8 1.4]\n [6.7 3.0 5.0 1.7]\n [6.0 2.9 4.5 1.5]\n [5.7 2.6 3.5 1.0]\n [5.5 2.4 3.8 1.1]\n [5.5 2.4 3.7 1.0]\n [5.8 2.7 3.9 1.2]\n [6.0 2.7 5.1 1.6]\n [5.4 3.0 4.5 1.5]\n [6.0 3.4 4.5 1.6]\n [6.7 3.1 4.7 1.5]\n [6.3 2.3 4.4 1.3]\n [5.6 3.0 4.1 1.3]\n [5.5 2.5 4.0 1.3]\n [5.5 2.6 4.4 1.2]\n [6.1 3.0 4.6 1.4]\n [5.8 2.6 4.0 1.2]\n [5.0 2.3 3.3 1.0]\n [5.6 2.7 4.2 1.3]\n [5.7 3.0 4.2 1.2]\n [5.7 2.9 4.2 1.3]\n [6.2 2.9 4.3 1.3]\n [5.1 2.5 3.0 1.1]\n [5.7 2.8 4.1 1.3]\n [6.3 3.3 6.0 2.5]\n [5.8 2.7 5.1 1.9]\n [7.1 3.0 5.9 2.1]\n [6.3 2.9 5.6 1.8]\n [6.5 3.0 5.8 2.2]\n [7.6 3.0 6.6 2.1]\n [4.9 2.5 4.5 1.7]\n [7.3 2.9 6.3 1.8]\n [6.7 2.5 5.8 1.8]\n [7.2 3.6 6.1 2.5]\n [6.5 3.2 5.1 2.0]\n [6.4 2.7 5.3 1.9]\n [6.8 3.0 5.5 2.1]\n [5.7 2.5 5.0 2.0]\n [5.8 2.8 5.1 2.4]\n [6.4 3.2 5.3 2.3]\n [6.5 3.0 5.5 1.8]\n [7.7 3.8 6.7 2.2]\n [7.7 2.6 6.9 2.3]\n [6.0 2.2 5.0 1.5]\n [6.9 3.2 5.7 2.3]\n [5.6 2.8 4.9 2.0]\n [7.7 2.8 6.7 2.0]\n [6.3 2.7 4.9 1.8]\n [6.7 3.3 5.7 2.1]\n [7.2 3.2 6.0 1.8]\n [6.2 2.8 4.8 1.8]\n [6.1 3.0 4.9 1.8]\n [6.4 2.8 5.6 2.1]\n [7.2 3.0 5.8 1.6]\n [7.4 2.8 6.1 1.9]\n [7.9 3.8 6.4 2.0]\n [6.4 2.8 5.6 2.2]\n [6.3 2.8 5.1 1.5]\n [6.1 2.6 5.6 1.4]\n [7.7 3.0 6.1 2.3]\n [6.3 3.4 5.6 2.4]\n [6.4 3.1 5.5 1.8]\n [6.0 3.0 4.8 1.8]\n [6.9 3.1 5.4 2.1]\n [6.7 3.1 5.6 2.4]\n [6.9 3.1 5.1 2.3]\n [5.8 2.7 5.1 1.9]\n [6.8 3.2 5.9 2.3]\n [6.7 3.3 5.7 2.5]\n [6.7 3.0 5.2 2.3]\n [6.3 2.5 5.0 1.9]\n [6.5 3.0 5.2 2.0]\n [6.2 3.4 5.4 2.3]\n [5.9 3.0 5.1 1.8]]\n\u001b[1;31mLength:\u001b[0m          150\n\u001b[1;31mFile:\u001b[0m            c:\\program files\\python39\\lib\\site-packages\\numpy\\__init__.py\n\u001b[1;31mDocstring:\u001b[0m       <no docstring>\n",
        "X_train": "\u001b[1;31mType:\u001b[0m            ndarray\n\u001b[1;31mString form:\u001b[0m    \n[[6.1 3.0 4.6 1.4]\n [7.7 3.0 6.1 2.3]\n [5.6 2.5 3.9 1.1]\n [6.4 2.8 5.6 2.1]\n [5.8 2.8 5.1 2.4]\n [5.3 3.7 1.5 0.2]\n [5.5 2.3 4.0 1.3]\n [5.2 3.4 1.4 0.2]\n [6.5 2.8 4.6 1.5]\n [6.7 2.5 5.8 1.8]\n [6.8 3.0 5.5 2.1]\n [5.1 3.5 1.4 0.3]\n [6.0 2.2 5.0 1.5]\n [6.3 2.9 5.6 1.8]\n [6.6 2.9 4.6 1.3]\n [7.7 2.6 6.9 2.3]\n [5.7 3.8 1.7 0.3]\n [5.0 3.6 1.4 0.2]\n [4.8 3.0 1.4 0.3]\n [5.2 2.7 3.9 1.4]\n [5.1 3.4 1.5 0.2]\n [5.5 3.5 1.3 0.2]\n [7.7 3.8 6.7 2.2]\n [6.9 3.1 5.4 2.1]\n [7.3 2.9 6.3 1.8]\n [6.4 2.8 5.6 2.2]\n [6.2 2.8 4.8 1.8]\n [6.0 3.4 4.5 1.6]\n [7.7 2.8 6.7 2.0]\n [5.7 3.0 4.2 1.2]\n [4.8 3.4 1.6 0.2]\n [5.7 2.5 5.0 2.0]\n [6.3 2.7 4.9 1.8]\n [4.8 3.0 1.4 0.1]\n [4.7 3.2 1.3 0.2]\n [6.5 3.0 5.8 2.2]\n [4.6 3.4 1.4 0.3]\n [6.1 3.0 4.9 1.8]\n [6.5 3.2 5.1 2.0]\n [6.7 3.1 4.4 1.4]\n [5.7 2.8 4.5 1.3]\n [6.7 3.3 5.7 2.5]\n [6.0 3.0 4.8 1.8]\n [5.1 3.8 1.6 0.2]\n [6.0 2.2 4.0 1.0]\n [6.4 2.9 4.3 1.3]\n [6.5 3.0 5.5 1.8]\n [5.0 2.3 3.3 1.0]\n [6.3 3.3 6.0 2.5]\n [5.5 2.5 4.0 1.3]\n [5.4 3.7 1.5 0.2]\n [4.9 3.1 1.5 0.1]\n [5.2 4.1 1.5 0.1]\n [6.7 3.3 5.7 2.1]\n [4.4 3.0 1.3 0.2]\n [6.0 2.7 5.1 1.6]\n [6.4 2.7 5.3 1.9]\n [5.9 3.0 5.1 1.8]\n [5.2 3.5 1.5 0.2]\n [5.1 3.3 1.7 0.5]\n [5.8 2.7 4.1 1.0]\n [4.9 3.1 1.5 0.1]\n [7.4 2.8 6.1 1.9]\n [6.2 2.9 4.3 1.3]\n [7.6 3.0 6.6 2.1]\n [6.7 3.0 5.2 2.3]\n [6.3 2.3 4.4 1.3]\n [6.2 3.4 5.4 2.3]\n [7.2 3.6 6.1 2.5]\n [5.6 2.9 3.6 1.3]\n [5.7 4.4 1.5 0.4]\n [5.8 2.7 3.9 1.2]\n [4.5 2.3 1.3 0.3]\n [5.5 2.4 3.8 1.1]\n [6.9 3.1 4.9 1.5]\n [5.0 3.4 1.6 0.4]\n [6.8 2.8 4.8 1.4]\n [5.0 3.5 1.6 0.6]\n [4.8 3.4 1.9 0.2]\n [6.3 3.4 5.6 2.4]\n [5.6 2.8 4.9 2.0]\n [6.8 3.2 5.9 2.3]\n [5.0 3.3 1.4 0.2]\n [5.1 3.7 1.5 0.4]\n [5.9 3.2 4.8 1.8]\n [4.6 3.1 1.5 0.2]\n [5.8 2.7 5.1 1.9]\n [4.8 3.1 1.6 0.2]\n [6.5 3.0 5.2 2.0]\n [4.9 2.5 4.5 1.7]\n [4.6 3.2 1.4 0.2]\n [6.4 3.2 5.3 2.3]\n [4.3 3.0 1.1 0.1]\n [5.6 3.0 4.1 1.3]\n [4.4 2.9 1.4 0.2]\n [5.5 2.4 3.7 1.0]\n [5.0 2.0 3.5 1.0]\n [5.1 3.5 1.4 0.2]\n [4.9 3.0 1.4 0.2]\n [4.9 2.4 3.3 1.0]\n [4.6 3.6 1.0 0.2]\n [5.9 3.0 4.2 1.5]\n [6.1 2.9 4.7 1.4]\n [5.0 3.4 1.5 0.2]\n [6.7 3.1 4.7 1.5]\n [5.7 2.9 4.2 1.3]\n [6.2 2.2 4.5 1.5]\n [7.0 3.2 4.7 1.4]\n [5.8 2.7 5.1 1.9]\n [5.4 3.4 1.7 0.2]\n [5.0 3.0 1.6 0.2]\n [6.1 2.6 5.6 1.4]\n [6.1 2.8 4.0 1.3]\n [7.2 3.0 5.8 1.6]\n [5.7 2.6 3.5 1.0]\n [6.3 2.8 5.1 1.5]\n [6.4 3.1 5.5 1.8]\n [6.3 2.5 4.9 1.5]\n [6.7 3.1 5.6 2.4]\n [4.9 3.1 1.5 0.1]]\n\u001b[1;31mLength:\u001b[0m          120\n\u001b[1;31mFile:\u001b[0m            c:\\program files\\python39\\lib\\site-packages\\numpy\\__init__.py\n\u001b[1;31mDocstring:\u001b[0m       <no docstring>\n",
        "X_validation": "\u001b[1;31mType:\u001b[0m            ndarray\n\u001b[1;31mString form:\u001b[0m    \n[[5.8 4.0 1.2 0.2]\n [5.1 2.5 3.0 1.1]\n [6.6 3.0 4.4 1.4]\n [5.4 3.9 1.3 0.4]\n [7.9 3.8 6.4 2.0]\n [6.3 3.3 4.7 1.6]\n [6.9 3.1 5.1 2.3]\n [5.1 3.8 1.9 0.4]\n [4.7 3.2 1.6 0.2]\n [6.9 3.2 5.7 2.3]\n [5.6 2.7 4.2 1.3]\n [5.4 3.9 1.7 0.4]\n [7.1 3.0 5.9 2.1]\n [6.4 3.2 4.5 1.5]\n [6.0 2.9 4.5 1.5]\n [4.4 3.2 1.3 0.2]\n [5.8 2.6 4.0 1.2]\n [5.6 3.0 4.5 1.5]\n [5.4 3.4 1.5 0.4]\n [5.0 3.2 1.2 0.2]\n [5.5 2.6 4.4 1.2]\n [5.4 3.0 4.5 1.5]\n [6.7 3.0 5.0 1.7]\n [5.0 3.5 1.3 0.3]\n [7.2 3.2 6.0 1.8]\n [5.7 2.8 4.1 1.3]\n [5.5 4.2 1.4 0.2]\n [5.1 3.8 1.5 0.3]\n [6.1 2.8 4.7 1.2]\n [6.3 2.5 5.0 1.9]]\n\u001b[1;31mLength:\u001b[0m          30\n\u001b[1;31mFile:\u001b[0m            c:\\program files\\python39\\lib\\site-packages\\numpy\\__init__.py\n\u001b[1;31mDocstring:\u001b[0m       <no docstring>\n",
        "Y_train": "\u001b[1;31mType:\u001b[0m            ndarray\n\u001b[1;31mString form:\u001b[0m    \n['Iris-versicolor' 'Iris-virginica' 'Iris-versicolor' 'Iris-virginica'\n 'Iris-virginica' 'Iris-setosa' 'Iris-versicolor' 'Iris-setosa'\n 'Iris-versicolor' 'Iris-virginica' 'Iris-virginica' 'Iris-setosa'\n 'Iris-virginica' 'Iris-virginica' 'Iris-versicolor' 'Iris-virginica'\n 'Iris-setosa' 'Iris-setosa' 'Iris-setosa' 'Iris-versicolor' 'Iris-setosa'\n 'Iris-setosa' 'Iris-virginica' 'Iris-virginica' 'Iris-virginica'\n 'Iris-virginica' 'Iris-virginica' 'Iris-versicolor' 'Iris-virginica'\n 'Iris-versicolor' 'Iris-setosa' 'Iris-virginica' 'Iris-virginica'\n 'Iris-setosa' 'Iris-setosa' 'Iris-virginica' 'Iris-setosa'\n 'Iris-virginica' 'Iris-virginica' 'Iris-versicolor' 'Iris-versicolor'\n 'Iris-virginica' 'Iris-virginica' 'Iris-setosa' 'Iris-versicolor'\n 'Iris-versicolor' 'Iris-virginica' 'Iris-versicolor' 'Iris-virginica'\n 'Iris-versicolor' 'Iris-setosa' 'Iris-setosa' 'Iris-setosa'\n 'Iris-virginica' 'Iris-setosa' 'Iris-versicolor' 'Iris-virginica'\n 'Iris-virginica' 'Iris-setosa' 'Iris-setosa' 'Iris-versicolor'\n 'Iris-setosa' 'Iris-virginica' 'Iris-versicolor' 'Iris-virginica'\n 'Iris-virginica' 'Iris-versicolor' 'Iris-virginica' 'Iris-virginica'\n 'Iris-versicolor' 'Iris-setosa' 'Iris-versicolor' 'Iris-setosa'\n 'Iris-versicolor' 'Iris-versicolor' 'Iris-setosa' 'Iris-versicolor'\n 'Iris-setosa' 'Iris-setosa' 'Iris-virginica' 'Iris-virginica'\n 'Iris-virginica' 'Iris-setosa' 'Iris-setosa' 'Iris-versicolor'\n 'Iris-setosa' 'Iris-virginica' 'Iris-setosa' 'Iris-virginica'\n 'Iris-virginica' 'Iris-setosa' 'Iris-virginica' 'Iris-setosa'\n 'Iris-versicolor' 'Iris-setosa' 'Iris-versicolor' 'Iris-versicolor'\n 'Iris-setosa' 'Iris-setosa' 'Iris-versicolor' 'Iris-setosa'\n 'Iris-versicolor' 'Iris-versicolor' 'Iris-setosa' 'Iris-versicolor'\n 'Iris-versicolor' 'Iris-versicolor' 'Iris-versicolor' 'Iris-virginica'\n 'Iris-setosa' 'Iris-setosa' 'Iris-virginica' 'Iris-versicolor'\n 'Iris-virginica' 'Iris-versicolor' 'Iris-virginica' 'Iris-virginica'\n 'Iris-versicolor' 'Iris-virginica' 'Iris-setosa']\n\u001b[1;31mLength:\u001b[0m          120\n\u001b[1;31mFile:\u001b[0m            c:\\program files\\python39\\lib\\site-packages\\numpy\\__init__.py\n\u001b[1;31mDocstring:\u001b[0m       <no docstring>\n",
        "Y_validation": "\u001b[1;31mType:\u001b[0m            ndarray\n\u001b[1;31mString form:\u001b[0m    \n['Iris-setosa' 'Iris-versicolor' 'Iris-versicolor' 'Iris-setosa'\n 'Iris-virginica' 'Iris-versicolor' 'Iris-virginica' 'Iris-setosa'\n 'Iris-setosa' 'Iris-virginica' 'Iris-versicolor' 'Iris-setosa'\n 'Iris-virginica' 'Iris-versicolor' 'Iris-versicolor' 'Iris-setosa'\n 'Iris-versicolor' 'Iris-versicolor' 'Iris-setosa' 'Iris-setosa'\n 'Iris-versicolor' 'Iris-versicolor' 'Iris-versicolor' 'Iris-setosa'\n 'Iris-virginica' 'Iris-versicolor' 'Iris-setosa' 'Iris-setosa'\n 'Iris-versicolor' 'Iris-virginica']\n\u001b[1;31mLength:\u001b[0m          30\n\u001b[1;31mFile:\u001b[0m            c:\\program files\\python39\\lib\\site-packages\\numpy\\__init__.py\n\u001b[1;31mDocstring:\u001b[0m       <no docstring>\n",
        "array": "\u001b[1;31mType:\u001b[0m            ndarray\n\u001b[1;31mString form:\u001b[0m    \n[[5.1 3.5 1.4 0.2 'Iris-setosa']\n [4.9 3.0 1.4 0.2 'Iris-setosa']\n [4.7 3.2 1.3 0.2 'Iris-setosa']\n [4.6 3.1 1.5 0.2 'Iris-setosa']\n [5.0 3.6 1.4 0.2 'Iris-setosa']\n [5.4 3.9 1.7 0.4 'Iris-setosa']\n [4.6 3.4 1.4 0.3 'Iris-setosa']\n [5.0 3.4 1.5 0.2 'Iris-setosa']\n [4.4 2.9 1.4 0.2 'Iris-setosa']\n [4.9 3.1 1.5 0.1 'Iris-setosa']\n [5.4 3.7 1.5 0.2 'Iris-setosa']\n [4.8 3.4 1.6 0.2 'Iris-setosa']\n [4.8 3.0 1.4 0.1 'Iris-setosa']\n [4.3 3.0 1.1 0.1 'Iris-setosa']\n [5.8 4.0 1.2 0.2 'Iris-setosa']\n [5.7 4.4 1.5 0.4 'Iris-setosa']\n [5.4 3.9 1.3 0.4 'Iris-setosa']\n [5.1 3.5 1.4 0.3 'Iris-setosa']\n [5.7 3.8 1.7 0.3 'Iris-setosa']\n [5.1 3.8 1.5 0.3 'Iris-setosa']\n [5.4 3.4 1.7 0.2 'Iris-setosa']\n [5.1 3.7 1.5 0.4 'Iris-setosa']\n [4.6 3.6 1.0 0.2 'Iris-setosa']\n [5.1 3.3 1.7 0.5 'Iris-setosa']\n [4.8 3.4 1.9 0.2 'Iris-setosa']\n [5.0 3.0 1.6 0.2 'Iris-setosa']\n [5.0 3.4 1.6 0.4 'Iris-setosa']\n [5.2 3.5 1.5 0.2 'Iris-setosa']\n [5.2 3.4 1.4 0.2 'Iris-setosa']\n [4.7 3.2 1.6 0.2 'Iris-setosa']\n [4.8 3.1 1.6 0.2 'Iris-setosa']\n [5.4 3.4 1.5 0.4 'Iris-setosa']\n [5.2 4.1 1.5 0.1 'Iris-setosa']\n [5.5 4.2 1.4 0.2 'Iris-setosa']\n [4.9 3.1 1.5 0.1 'Iris-setosa']\n [5.0 3.2 1.2 0.2 'Iris-setosa']\n [5.5 3.5 1.3 0.2 'Iris-setosa']\n [4.9 3.1 1.5 0.1 'Iris-setosa']\n [4.4 3.0 1.3 0.2 'Iris-setosa']\n [5.1 3.4 1.5 0.2 'Iris-setosa']\n [5.0 3.5 1.3 0.3 'Iris-setosa']\n [4.5 2.3 1.3 0.3 'Iris-setosa']\n [4.4 3.2 1.3 0.2 'Iris-setosa']\n [5.0 3.5 1.6 0.6 'Iris-setosa']\n [5.1 3.8 1.9 0.4 'Iris-setosa']\n [4.8 3.0 1.4 0.3 'Iris-setosa']\n [5.1 3.8 1.6 0.2 'Iris-setosa']\n [4.6 3.2 1.4 0.2 'Iris-setosa']\n [5.3 3.7 1.5 0.2 'Iris-setosa']\n [5.0 3.3 1.4 0.2 'Iris-setosa']\n [7.0 3.2 4.7 1.4 'Iris-versicolor']\n [6.4 3.2 4.5 1.5 'Iris-versicolor']\n [6.9 3.1 4.9 1.5 'Iris-versicolor']\n [5.5 2.3 4.0 1.3 'Iris-versicolor']\n [6.5 2.8 4.6 1.5 'Iris-versicolor']\n [5.7 2.8 4.5 1.3 'Iris-versicolor']\n [6.3 3.3 4.7 1.6 'Iris-versicolor']\n [4.9 2.4 3.3 1.0 'Iris-versicolor']\n [6.6 2.9 4.6 1.3 'Iris-versicolor']\n [5.2 2.7 3.9 1.4 'Iris-versicolor']\n [5.0 2.0 3.5 1.0 'Iris-versicolor']\n [5.9 3.0 4.2 1.5 'Iris-versicolor']\n [6.0 2.2 4.0 1.0 'Iris-versicolor']\n [6.1 2.9 4.7 1.4 'Iris-versicolor']\n [5.6 2.9 3.6 1.3 'Iris-versicolor']\n [6.7 3.1 4.4 1.4 'Iris-versicolor']\n [5.6 3.0 4.5 1.5 'Iris-versicolor']\n [5.8 2.7 4.1 1.0 'Iris-versicolor']\n [6.2 2.2 4.5 1.5 'Iris-versicolor']\n [5.6 2.5 3.9 1.1 'Iris-versicolor']\n [5.9 3.2 4.8 1.8 'Iris-versicolor']\n [6.1 2.8 4.0 1.3 'Iris-versicolor']\n [6.3 2.5 4.9 1.5 'Iris-versicolor']\n [6.1 2.8 4.7 1.2 'Iris-versicolor']\n [6.4 2.9 4.3 1.3 'Iris-versicolor']\n [6.6 3.0 4.4 1.4 'Iris-versicolor']\n [6.8 2.8 4.8 1.4 'Iris-versicolor']\n [6.7 3.0 5.0 1.7 'Iris-versicolor']\n [6.0 2.9 4.5 1.5 'Iris-versicolor']\n [5.7 2.6 3.5 1.0 'Iris-versicolor']\n [5.5 2.4 3.8 1.1 'Iris-versicolor']\n [5.5 2.4 3.7 1.0 'Iris-versicolor']\n [5.8 2.7 3.9 1.2 'Iris-versicolor']\n [6.0 2.7 5.1 1.6 'Iris-versicolor']\n [5.4 3.0 4.5 1.5 'Iris-versicolor']\n [6.0 3.4 4.5 1.6 'Iris-versicolor']\n [6.7 3.1 4.7 1.5 'Iris-versicolor']\n [6.3 2.3 4.4 1.3 'Iris-versicolor']\n [5.6 3.0 4.1 1.3 'Iris-versicolor']\n [5.5 2.5 4.0 1.3 'Iris-versicolor']\n [5.5 2.6 4.4 1.2 'Iris-versicolor']\n [6.1 3.0 4.6 1.4 'Iris-versicolor']\n [5.8 2.6 4.0 1.2 'Iris-versicolor']\n [5.0 2.3 3.3 1.0 'Iris-versicolor']\n [5.6 2.7 4.2 1.3 'Iris-versicolor']\n [5.7 3.0 4.2 1.2 'Iris-versicolor']\n [5.7 2.9 4.2 1.3 'Iris-versicolor']\n [6.2 2.9 4.3 1.3 'Iris-versicolor']\n [5.1 2.5 3.0 1.1 'Iris-versicolor']\n [5.7 2.8 4.1 1.3 'Iris-versicolor']\n [6.3 3.3 6.0 2.5 'Iris-virginica']\n [5.8 2.7 5.1 1.9 'Iris-virginica']\n [7.1 3.0 5.9 2.1 'Iris-virginica']\n [6.3 2.9 5.6 1.8 'Iris-virginica']\n [6.5 3.0 5.8 2.2 'Iris-virginica']\n [7.6 3.0 6.6 2.1 'Iris-virginica']\n [4.9 2.5 4.5 1.7 'Iris-virginica']\n [7.3 2.9 6.3 1.8 'Iris-virginica']\n [6.7 2.5 5.8 1.8 'Iris-virginica']\n [7.2 3.6 6.1 2.5 'Iris-virginica']\n [6.5 3.2 5.1 2.0 'Iris-virginica']\n [6.4 2.7 5.3 1.9 'Iris-virginica']\n [6.8 3.0 5.5 2.1 'Iris-virginica']\n [5.7 2.5 5.0 2.0 'Iris-virginica']\n [5.8 2.8 5.1 2.4 'Iris-virginica']\n [6.4 3.2 5.3 2.3 'Iris-virginica']\n [6.5 3.0 5.5 1.8 'Iris-virginica']\n [7.7 3.8 6.7 2.2 'Iris-virginica']\n [7.7 2.6 6.9 2.3 'Iris-virginica']\n [6.0 2.2 5.0 1.5 'Iris-virginica']\n [6.9 3.2 5.7 2.3 'Iris-virginica']\n [5.6 2.8 4.9 2.0 'Iris-virginica']\n [7.7 2.8 6.7 2.0 'Iris-virginica']\n [6.3 2.7 4.9 1.8 'Iris-virginica']\n [6.7 3.3 5.7 2.1 'Iris-virginica']\n [7.2 3.2 6.0 1.8 'Iris-virginica']\n [6.2 2.8 4.8 1.8 'Iris-virginica']\n [6.1 3.0 4.9 1.8 'Iris-virginica']\n [6.4 2.8 5.6 2.1 'Iris-virginica']\n [7.2 3.0 5.8 1.6 'Iris-virginica']\n [7.4 2.8 6.1 1.9 'Iris-virginica']\n [7.9 3.8 6.4 2.0 'Iris-virginica']\n [6.4 2.8 5.6 2.2 'Iris-virginica']\n [6.3 2.8 5.1 1.5 'Iris-virginica']\n [6.1 2.6 5.6 1.4 'Iris-virginica']\n [7.7 3.0 6.1 2.3 'Iris-virginica']\n [6.3 3.4 5.6 2.4 'Iris-virginica']\n [6.4 3.1 5.5 1.8 'Iris-virginica']\n [6.0 3.0 4.8 1.8 'Iris-virginica']\n [6.9 3.1 5.4 2.1 'Iris-virginica']\n [6.7 3.1 5.6 2.4 'Iris-virginica']\n [6.9 3.1 5.1 2.3 'Iris-virginica']\n [5.8 2.7 5.1 1.9 'Iris-virginica']\n [6.8 3.2 5.9 2.3 'Iris-virginica']\n [6.7 3.3 5.7 2.5 'Iris-virginica']\n [6.7 3.0 5.2 2.3 'Iris-virginica']\n [6.3 2.5 5.0 1.9 'Iris-virginica']\n [6.5 3.0 5.2 2.0 'Iris-virginica']\n [6.2 3.4 5.4 2.3 'Iris-virginica']\n [5.9 3.0 5.1 1.8 'Iris-virginica']]\n\u001b[1;31mLength:\u001b[0m          150\n\u001b[1;31mFile:\u001b[0m            c:\\program files\\python39\\lib\\site-packages\\numpy\\__init__.py\n\u001b[1;31mDocstring:\u001b[0m       <no docstring>\n",
        "y": "\u001b[1;31mType:\u001b[0m            ndarray\n\u001b[1;31mString form:\u001b[0m    \n['Iris-setosa' 'Iris-setosa' 'Iris-setosa' 'Iris-setosa' 'Iris-setosa'\n 'Iris-setosa' 'Iris-setosa' 'Iris-setosa' 'Iris-setosa' 'Iris-setosa'\n 'Iris-setosa' 'Iris-setosa' 'Iris-setosa' 'Iris-setosa' 'Iris-setosa'\n 'Iris-setosa' 'Iris-setosa' 'Iris-setosa' 'Iris-setosa' 'Iris-setosa'\n 'Iris-setosa' 'Iris-setosa' 'Iris-setosa' 'Iris-setosa' 'Iris-setosa'\n 'Iris-setosa' 'Iris-setosa' 'Iris-setosa' 'Iris-setosa' 'Iris-setosa'\n 'Iris-setosa' 'Iris-setosa' 'Iris-setosa' 'Iris-setosa' 'Iris-setosa'\n 'Iris-setosa' 'Iris-setosa' 'Iris-setosa' 'Iris-setosa' 'Iris-setosa'\n 'Iris-setosa' 'Iris-setosa' 'Iris-setosa' 'Iris-setosa' 'Iris-setosa'\n 'Iris-setosa' 'Iris-setosa' 'Iris-setosa' 'Iris-setosa' 'Iris-setosa'\n 'Iris-versicolor' 'Iris-versicolor' 'Iris-versicolor' 'Iris-versicolor'\n 'Iris-versicolor' 'Iris-versicolor' 'Iris-versicolor' 'Iris-versicolor'\n 'Iris-versicolor' 'Iris-versicolor' 'Iris-versicolor' 'Iris-versicolor'\n 'Iris-versicolor' 'Iris-versicolor' 'Iris-versicolor' 'Iris-versicolor'\n 'Iris-versicolor' 'Iris-versicolor' 'Iris-versicolor' 'Iris-versicolor'\n 'Iris-versicolor' 'Iris-versicolor' 'Iris-versicolor' 'Iris-versicolor'\n 'Iris-versicolor' 'Iris-versicolor' 'Iris-versicolor' 'Iris-versicolor'\n 'Iris-versicolor' 'Iris-versicolor' 'Iris-versicolor' 'Iris-versicolor'\n 'Iris-versicolor' 'Iris-versicolor' 'Iris-versicolor' 'Iris-versicolor'\n 'Iris-versicolor' 'Iris-versicolor' 'Iris-versicolor' 'Iris-versicolor'\n 'Iris-versicolor' 'Iris-versicolor' 'Iris-versicolor' 'Iris-versicolor'\n 'Iris-versicolor' 'Iris-versicolor' 'Iris-versicolor' 'Iris-versicolor'\n 'Iris-versicolor' 'Iris-versicolor' 'Iris-virginica' 'Iris-virginica'\n 'Iris-virginica' 'Iris-virginica' 'Iris-virginica' 'Iris-virginica'\n 'Iris-virginica' 'Iris-virginica' 'Iris-virginica' 'Iris-virginica'\n 'Iris-virginica' 'Iris-virginica' 'Iris-virginica' 'Iris-virginica'\n 'Iris-virginica' 'Iris-virginica' 'Iris-virginica' 'Iris-virginica'\n 'Iris-virginica' 'Iris-virginica' 'Iris-virginica' 'Iris-virginica'\n 'Iris-virginica' 'Iris-virginica' 'Iris-virginica' 'Iris-virginica'\n 'Iris-virginica' 'Iris-virginica' 'Iris-virginica' 'Iris-virginica'\n 'Iris-virginica' 'Iris-virginica' 'Iris-virginica' 'Iris-virginica'\n 'Iris-virginica' 'Iris-virginica' 'Iris-virginica' 'Iris-virginica'\n 'Iris-virginica' 'Iris-virginica' 'Iris-virginica' 'Iris-virginica'\n 'Iris-virginica' 'Iris-virginica' 'Iris-virginica' 'Iris-virginica'\n 'Iris-virginica' 'Iris-virginica' 'Iris-virginica' 'Iris-virginica']\n\u001b[1;31mLength:\u001b[0m          150\n\u001b[1;31mFile:\u001b[0m            c:\\program files\\python39\\lib\\site-packages\\numpy\\__init__.py\n\u001b[1;31mDocstring:\u001b[0m       <no docstring>\n"
       },
       "remote": [
        "dataset",
        "train_test_split"
       ],
       "time": "Wed, 07 Jul 2021 15:09:15 GMT",
       "type": "execution"
      },
      {
       "cell_id": "c07b559e-a4ef-4213-bb77-db9a1f0d4dd3",
       "cell_outputs": [],
       "cell_source": "# Make predictions on validation dataset\nmodel = SVC(gamma='auto')\nmodel.fit(X_train, Y_train)\npredictions = model.predict(X_validation)",
       "data_values": [],
       "data_vars": [],
       "definitions": [
        {
         "col_offset": 0,
         "dependencies": [
          "SVC"
         ],
         "end_col_offset": 25,
         "end_lineno": 2,
         "lineno": 2,
         "name": "model",
         "type": "assign"
        },
        {
         "col_offset": 0,
         "dependencies": [
          "X_train",
          "Y_train"
         ],
         "end_col_offset": 27,
         "end_lineno": 3,
         "lineno": 3,
         "name": "model",
         "type": "call"
        },
        {
         "col_offset": 0,
         "dependencies": [
          "model",
          "X_validation"
         ],
         "end_col_offset": 41,
         "end_lineno": 4,
         "lineno": 4,
         "name": "predictions",
         "type": "assign"
        }
       ],
       "execution_count": 4,
       "imports": [],
       "local": [
        "model",
        "predictions"
       ],
       "local_info": {
        "model": "\u001b[1;31mType:\u001b[0m        SVC\n\u001b[1;31mString form:\u001b[0m SVC(gamma='auto')\n\u001b[1;31mFile:\u001b[0m        c:\\program files\\python39\\lib\\site-packages\\sklearn\\svm\\_classes.py\n",
        "predictions": "\u001b[1;31mType:\u001b[0m            ndarray\n\u001b[1;31mString form:\u001b[0m    \n['Iris-setosa' 'Iris-versicolor' 'Iris-versicolor' 'Iris-setosa'\n 'Iris-virginica' 'Iris-versicolor' 'Iris-virginica' 'Iris-setosa'\n 'Iris-setosa' 'Iris-virginica' 'Iris-versicolor' 'Iris-setosa'\n 'Iris-virginica' 'Iris-versicolor' 'Iris-versicolor' 'Iris-setosa'\n 'Iris-versicolor' 'Iris-versicolor' 'Iris-setosa' 'Iris-setosa'\n 'Iris-versicolor' 'Iris-versicolor' 'Iris-virginica' 'Iris-setosa'\n 'Iris-virginica' 'Iris-versicolor' 'Iris-setosa' 'Iris-setosa'\n 'Iris-versicolor' 'Iris-virginica']\n\u001b[1;31mLength:\u001b[0m          30\n\u001b[1;31mFile:\u001b[0m            c:\\program files\\python39\\lib\\site-packages\\numpy\\__init__.py\n\u001b[1;31mDocstring:\u001b[0m       <no docstring>\n"
       },
       "remote": [
        "SVC",
        "X_train",
        "Y_train",
        "X_validation"
       ],
       "time": "Wed, 07 Jul 2021 15:09:16 GMT",
       "type": "execution"
      },
      {
       "cell_id": "b2e4583c-7a6b-4b00-a55f-6e20fa6b89ca",
       "cell_outputs": [
        {
         "name": "stdout",
         "output_type": "stream",
         "text": "0.9666666666666667\n[[11  0  0]\n [ 0 12  1]\n [ 0  0  6]]\n                 precision    recall  f1-score   support\n\n    Iris-setosa       1.00      1.00      1.00        11\nIris-versicolor       1.00      0.92      0.96        13\n Iris-virginica       0.86      1.00      0.92         6\n\n       accuracy                           0.97        30\n      macro avg       0.95      0.97      0.96        30\n   weighted avg       0.97      0.97      0.97        30\n\n"
        }
       ],
       "cell_source": "# Evaluate predictions\nprint(accuracy_score(Y_validation, predictions))\nprint(confusion_matrix(Y_validation, predictions))\nprint(classification_report(Y_validation, predictions))",
       "data_values": [],
       "data_vars": [],
       "definitions": [
        {
         "col_offset": 0,
         "dependencies": [
          "accuracy_score",
          "Y_validation",
          "predictions"
         ],
         "end_col_offset": 48,
         "end_lineno": 2,
         "lineno": 2,
         "name": "print",
         "type": "call"
        },
        {
         "col_offset": 0,
         "dependencies": [
          "confusion_matrix",
          "Y_validation",
          "predictions"
         ],
         "end_col_offset": 50,
         "end_lineno": 3,
         "lineno": 3,
         "name": "print",
         "type": "call"
        },
        {
         "col_offset": 0,
         "dependencies": [
          "classification_report",
          "Y_validation",
          "predictions"
         ],
         "end_col_offset": 55,
         "end_lineno": 4,
         "lineno": 4,
         "name": "print",
         "type": "call"
        }
       ],
       "execution_count": 5,
       "imports": [],
       "local": [],
       "local_info": {},
       "remote": [
        "print",
        "accuracy_score",
        "Y_validation",
        "predictions",
        "confusion_matrix",
        "classification_report"
       ],
       "time": "Wed, 07 Jul 2021 15:09:16 GMT",
       "type": "execution"
      }
     ],
     "environment": {
      "kernel": {
       "implementation": "ipython",
       "version": "7.22.0"
      },
      "language_info": {
       "mimetype": "text/x-python",
       "name": "python",
       "version": "3.9.2"
      },
      "time": "Wed, 07 Jul 2021 15:09:14 GMT",
      "user_agent": "Mozilla/5.0 (Windows NT 10.0; Win64; x64; rv:89.0) Gecko/20100101 Firefox/89.0"
     },
     "modules": {
      "numpy": {
       "alias": "np",
       "version": "1.19.5"
      },
      "pandas": {
       "imports": [
        "read_csv"
       ],
       "version": "1.2.3"
      },
      "sklearn.metrics": {
       "imports": [
        "classification_report",
        "confusion_matrix",
        "accuracy_score"
       ],
       "version": ""
      },
      "sklearn.model_selection": {
       "imports": [
        "train_test_split"
       ],
       "version": ""
      },
      "sklearn.svm": {
       "imports": [
        "SVC"
       ],
       "version": ""
      }
     }
    }
   ]
  }
 },
 "nbformat": 4,
 "nbformat_minor": 5
}
