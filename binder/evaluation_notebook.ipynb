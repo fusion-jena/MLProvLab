{
 "cells": [
  {
   "cell_type": "code",
   "execution_count": 1,
   "id": "rental-newton",
   "metadata": {
    "prov_id": "57164f3c-adbd-4774-a02f-2e961750f5e4"
   },
   "outputs": [
    {
     "name": "stdout",
     "output_type": "stream",
     "text": [
      "D:/Projects/mnist-evaluation/data\\test.csv\n",
      "D:/Projects/mnist-evaluation/data\\test.csv.zip\n",
      "D:/Projects/mnist-evaluation/data\\train.csv\n",
      "D:/Projects/mnist-evaluation/data\\train.csv.zip\n"
     ]
    }
   ],
   "source": [
    "import numpy as np # linear algebra\n",
    "import pandas as pd # data processing, CSV file I/O (e.g. pd.read_csv)\n",
    "\n",
    "import os\n",
    "for dirname, _, filenames in os.walk('D:/Projects/mnist-evaluation/data'):\n",
    "    for filename in filenames:\n",
    "        print(os.path.join(dirname, filename))"
   ]
  },
  {
   "cell_type": "code",
   "execution_count": 2,
   "id": "finite-watershed",
   "metadata": {
    "prov_id": "a72943a4-63ab-4c38-a3ee-18d4eb54a56b"
   },
   "outputs": [
    {
     "data": {
      "text/html": [
       "<div>\n",
       "<style scoped>\n",
       "    .dataframe tbody tr th:only-of-type {\n",
       "        vertical-align: middle;\n",
       "    }\n",
       "\n",
       "    .dataframe tbody tr th {\n",
       "        vertical-align: top;\n",
       "    }\n",
       "\n",
       "    .dataframe thead th {\n",
       "        text-align: right;\n",
       "    }\n",
       "</style>\n",
       "<table border=\"1\" class=\"dataframe\">\n",
       "  <thead>\n",
       "    <tr style=\"text-align: right;\">\n",
       "      <th></th>\n",
       "      <th>label</th>\n",
       "      <th>pixel0</th>\n",
       "      <th>pixel1</th>\n",
       "      <th>pixel2</th>\n",
       "      <th>pixel3</th>\n",
       "      <th>pixel4</th>\n",
       "      <th>pixel5</th>\n",
       "      <th>pixel6</th>\n",
       "      <th>pixel7</th>\n",
       "      <th>pixel8</th>\n",
       "      <th>...</th>\n",
       "      <th>pixel774</th>\n",
       "      <th>pixel775</th>\n",
       "      <th>pixel776</th>\n",
       "      <th>pixel777</th>\n",
       "      <th>pixel778</th>\n",
       "      <th>pixel779</th>\n",
       "      <th>pixel780</th>\n",
       "      <th>pixel781</th>\n",
       "      <th>pixel782</th>\n",
       "      <th>pixel783</th>\n",
       "    </tr>\n",
       "  </thead>\n",
       "  <tbody>\n",
       "    <tr>\n",
       "      <th>0</th>\n",
       "      <td>1</td>\n",
       "      <td>0</td>\n",
       "      <td>0</td>\n",
       "      <td>0</td>\n",
       "      <td>0</td>\n",
       "      <td>0</td>\n",
       "      <td>0</td>\n",
       "      <td>0</td>\n",
       "      <td>0</td>\n",
       "      <td>0</td>\n",
       "      <td>...</td>\n",
       "      <td>0</td>\n",
       "      <td>0</td>\n",
       "      <td>0</td>\n",
       "      <td>0</td>\n",
       "      <td>0</td>\n",
       "      <td>0</td>\n",
       "      <td>0</td>\n",
       "      <td>0</td>\n",
       "      <td>0</td>\n",
       "      <td>0</td>\n",
       "    </tr>\n",
       "    <tr>\n",
       "      <th>1</th>\n",
       "      <td>0</td>\n",
       "      <td>0</td>\n",
       "      <td>0</td>\n",
       "      <td>0</td>\n",
       "      <td>0</td>\n",
       "      <td>0</td>\n",
       "      <td>0</td>\n",
       "      <td>0</td>\n",
       "      <td>0</td>\n",
       "      <td>0</td>\n",
       "      <td>...</td>\n",
       "      <td>0</td>\n",
       "      <td>0</td>\n",
       "      <td>0</td>\n",
       "      <td>0</td>\n",
       "      <td>0</td>\n",
       "      <td>0</td>\n",
       "      <td>0</td>\n",
       "      <td>0</td>\n",
       "      <td>0</td>\n",
       "      <td>0</td>\n",
       "    </tr>\n",
       "    <tr>\n",
       "      <th>2</th>\n",
       "      <td>1</td>\n",
       "      <td>0</td>\n",
       "      <td>0</td>\n",
       "      <td>0</td>\n",
       "      <td>0</td>\n",
       "      <td>0</td>\n",
       "      <td>0</td>\n",
       "      <td>0</td>\n",
       "      <td>0</td>\n",
       "      <td>0</td>\n",
       "      <td>...</td>\n",
       "      <td>0</td>\n",
       "      <td>0</td>\n",
       "      <td>0</td>\n",
       "      <td>0</td>\n",
       "      <td>0</td>\n",
       "      <td>0</td>\n",
       "      <td>0</td>\n",
       "      <td>0</td>\n",
       "      <td>0</td>\n",
       "      <td>0</td>\n",
       "    </tr>\n",
       "    <tr>\n",
       "      <th>3</th>\n",
       "      <td>4</td>\n",
       "      <td>0</td>\n",
       "      <td>0</td>\n",
       "      <td>0</td>\n",
       "      <td>0</td>\n",
       "      <td>0</td>\n",
       "      <td>0</td>\n",
       "      <td>0</td>\n",
       "      <td>0</td>\n",
       "      <td>0</td>\n",
       "      <td>...</td>\n",
       "      <td>0</td>\n",
       "      <td>0</td>\n",
       "      <td>0</td>\n",
       "      <td>0</td>\n",
       "      <td>0</td>\n",
       "      <td>0</td>\n",
       "      <td>0</td>\n",
       "      <td>0</td>\n",
       "      <td>0</td>\n",
       "      <td>0</td>\n",
       "    </tr>\n",
       "    <tr>\n",
       "      <th>4</th>\n",
       "      <td>0</td>\n",
       "      <td>0</td>\n",
       "      <td>0</td>\n",
       "      <td>0</td>\n",
       "      <td>0</td>\n",
       "      <td>0</td>\n",
       "      <td>0</td>\n",
       "      <td>0</td>\n",
       "      <td>0</td>\n",
       "      <td>0</td>\n",
       "      <td>...</td>\n",
       "      <td>0</td>\n",
       "      <td>0</td>\n",
       "      <td>0</td>\n",
       "      <td>0</td>\n",
       "      <td>0</td>\n",
       "      <td>0</td>\n",
       "      <td>0</td>\n",
       "      <td>0</td>\n",
       "      <td>0</td>\n",
       "      <td>0</td>\n",
       "    </tr>\n",
       "  </tbody>\n",
       "</table>\n",
       "<p>5 rows × 785 columns</p>\n",
       "</div>"
      ],
      "text/plain": [
       "   label  pixel0  pixel1  pixel2  pixel3  pixel4  pixel5  pixel6  pixel7  \\\n",
       "0      1       0       0       0       0       0       0       0       0   \n",
       "1      0       0       0       0       0       0       0       0       0   \n",
       "2      1       0       0       0       0       0       0       0       0   \n",
       "3      4       0       0       0       0       0       0       0       0   \n",
       "4      0       0       0       0       0       0       0       0       0   \n",
       "\n",
       "   pixel8  ...  pixel774  pixel775  pixel776  pixel777  pixel778  pixel779  \\\n",
       "0       0  ...         0         0         0         0         0         0   \n",
       "1       0  ...         0         0         0         0         0         0   \n",
       "2       0  ...         0         0         0         0         0         0   \n",
       "3       0  ...         0         0         0         0         0         0   \n",
       "4       0  ...         0         0         0         0         0         0   \n",
       "\n",
       "   pixel780  pixel781  pixel782  pixel783  \n",
       "0         0         0         0         0  \n",
       "1         0         0         0         0  \n",
       "2         0         0         0         0  \n",
       "3         0         0         0         0  \n",
       "4         0         0         0         0  \n",
       "\n",
       "[5 rows x 785 columns]"
      ]
     },
     "execution_count": 2,
     "metadata": {},
     "output_type": "execute_result"
    }
   ],
   "source": [
    "df=pd.read_csv('D:/Projects/mnist-evaluation/data/train.csv')\n",
    "df.head()"
   ]
  },
  {
   "cell_type": "code",
   "execution_count": 3,
   "id": "greenhouse-oakland",
   "metadata": {
    "prov_id": "34df347d-620d-4ae6-b407-4654163e57aa"
   },
   "outputs": [
    {
     "data": {
      "text/html": [
       "<div>\n",
       "<style scoped>\n",
       "    .dataframe tbody tr th:only-of-type {\n",
       "        vertical-align: middle;\n",
       "    }\n",
       "\n",
       "    .dataframe tbody tr th {\n",
       "        vertical-align: top;\n",
       "    }\n",
       "\n",
       "    .dataframe thead th {\n",
       "        text-align: right;\n",
       "    }\n",
       "</style>\n",
       "<table border=\"1\" class=\"dataframe\">\n",
       "  <thead>\n",
       "    <tr style=\"text-align: right;\">\n",
       "      <th></th>\n",
       "      <th>pixel0</th>\n",
       "      <th>pixel1</th>\n",
       "      <th>pixel2</th>\n",
       "      <th>pixel3</th>\n",
       "      <th>pixel4</th>\n",
       "      <th>pixel5</th>\n",
       "      <th>pixel6</th>\n",
       "      <th>pixel7</th>\n",
       "      <th>pixel8</th>\n",
       "      <th>pixel9</th>\n",
       "      <th>...</th>\n",
       "      <th>pixel774</th>\n",
       "      <th>pixel775</th>\n",
       "      <th>pixel776</th>\n",
       "      <th>pixel777</th>\n",
       "      <th>pixel778</th>\n",
       "      <th>pixel779</th>\n",
       "      <th>pixel780</th>\n",
       "      <th>pixel781</th>\n",
       "      <th>pixel782</th>\n",
       "      <th>pixel783</th>\n",
       "    </tr>\n",
       "  </thead>\n",
       "  <tbody>\n",
       "    <tr>\n",
       "      <th>0</th>\n",
       "      <td>0</td>\n",
       "      <td>0</td>\n",
       "      <td>0</td>\n",
       "      <td>0</td>\n",
       "      <td>0</td>\n",
       "      <td>0</td>\n",
       "      <td>0</td>\n",
       "      <td>0</td>\n",
       "      <td>0</td>\n",
       "      <td>0</td>\n",
       "      <td>...</td>\n",
       "      <td>0</td>\n",
       "      <td>0</td>\n",
       "      <td>0</td>\n",
       "      <td>0</td>\n",
       "      <td>0</td>\n",
       "      <td>0</td>\n",
       "      <td>0</td>\n",
       "      <td>0</td>\n",
       "      <td>0</td>\n",
       "      <td>0</td>\n",
       "    </tr>\n",
       "    <tr>\n",
       "      <th>1</th>\n",
       "      <td>0</td>\n",
       "      <td>0</td>\n",
       "      <td>0</td>\n",
       "      <td>0</td>\n",
       "      <td>0</td>\n",
       "      <td>0</td>\n",
       "      <td>0</td>\n",
       "      <td>0</td>\n",
       "      <td>0</td>\n",
       "      <td>0</td>\n",
       "      <td>...</td>\n",
       "      <td>0</td>\n",
       "      <td>0</td>\n",
       "      <td>0</td>\n",
       "      <td>0</td>\n",
       "      <td>0</td>\n",
       "      <td>0</td>\n",
       "      <td>0</td>\n",
       "      <td>0</td>\n",
       "      <td>0</td>\n",
       "      <td>0</td>\n",
       "    </tr>\n",
       "    <tr>\n",
       "      <th>2</th>\n",
       "      <td>0</td>\n",
       "      <td>0</td>\n",
       "      <td>0</td>\n",
       "      <td>0</td>\n",
       "      <td>0</td>\n",
       "      <td>0</td>\n",
       "      <td>0</td>\n",
       "      <td>0</td>\n",
       "      <td>0</td>\n",
       "      <td>0</td>\n",
       "      <td>...</td>\n",
       "      <td>0</td>\n",
       "      <td>0</td>\n",
       "      <td>0</td>\n",
       "      <td>0</td>\n",
       "      <td>0</td>\n",
       "      <td>0</td>\n",
       "      <td>0</td>\n",
       "      <td>0</td>\n",
       "      <td>0</td>\n",
       "      <td>0</td>\n",
       "    </tr>\n",
       "    <tr>\n",
       "      <th>3</th>\n",
       "      <td>0</td>\n",
       "      <td>0</td>\n",
       "      <td>0</td>\n",
       "      <td>0</td>\n",
       "      <td>0</td>\n",
       "      <td>0</td>\n",
       "      <td>0</td>\n",
       "      <td>0</td>\n",
       "      <td>0</td>\n",
       "      <td>0</td>\n",
       "      <td>...</td>\n",
       "      <td>0</td>\n",
       "      <td>0</td>\n",
       "      <td>0</td>\n",
       "      <td>0</td>\n",
       "      <td>0</td>\n",
       "      <td>0</td>\n",
       "      <td>0</td>\n",
       "      <td>0</td>\n",
       "      <td>0</td>\n",
       "      <td>0</td>\n",
       "    </tr>\n",
       "    <tr>\n",
       "      <th>4</th>\n",
       "      <td>0</td>\n",
       "      <td>0</td>\n",
       "      <td>0</td>\n",
       "      <td>0</td>\n",
       "      <td>0</td>\n",
       "      <td>0</td>\n",
       "      <td>0</td>\n",
       "      <td>0</td>\n",
       "      <td>0</td>\n",
       "      <td>0</td>\n",
       "      <td>...</td>\n",
       "      <td>0</td>\n",
       "      <td>0</td>\n",
       "      <td>0</td>\n",
       "      <td>0</td>\n",
       "      <td>0</td>\n",
       "      <td>0</td>\n",
       "      <td>0</td>\n",
       "      <td>0</td>\n",
       "      <td>0</td>\n",
       "      <td>0</td>\n",
       "    </tr>\n",
       "  </tbody>\n",
       "</table>\n",
       "<p>5 rows × 784 columns</p>\n",
       "</div>"
      ],
      "text/plain": [
       "   pixel0  pixel1  pixel2  pixel3  pixel4  pixel5  pixel6  pixel7  pixel8  \\\n",
       "0       0       0       0       0       0       0       0       0       0   \n",
       "1       0       0       0       0       0       0       0       0       0   \n",
       "2       0       0       0       0       0       0       0       0       0   \n",
       "3       0       0       0       0       0       0       0       0       0   \n",
       "4       0       0       0       0       0       0       0       0       0   \n",
       "\n",
       "   pixel9  ...  pixel774  pixel775  pixel776  pixel777  pixel778  pixel779  \\\n",
       "0       0  ...         0         0         0         0         0         0   \n",
       "1       0  ...         0         0         0         0         0         0   \n",
       "2       0  ...         0         0         0         0         0         0   \n",
       "3       0  ...         0         0         0         0         0         0   \n",
       "4       0  ...         0         0         0         0         0         0   \n",
       "\n",
       "   pixel780  pixel781  pixel782  pixel783  \n",
       "0         0         0         0         0  \n",
       "1         0         0         0         0  \n",
       "2         0         0         0         0  \n",
       "3         0         0         0         0  \n",
       "4         0         0         0         0  \n",
       "\n",
       "[5 rows x 784 columns]"
      ]
     },
     "execution_count": 3,
     "metadata": {},
     "output_type": "execute_result"
    }
   ],
   "source": [
    "test=pd.read_csv('D:/Projects/mnist-evaluation/data/test.csv')\n",
    "test.head()"
   ]
  },
  {
   "cell_type": "code",
   "execution_count": 4,
   "id": "acoustic-nation",
   "metadata": {
    "prov_id": "f12d4d25-9e8d-463c-922f-c2d14f0c014d"
   },
   "outputs": [
    {
     "name": "stdout",
     "output_type": "stream",
     "text": [
      "(42000, 785)\n",
      "(28000, 784)\n"
     ]
    }
   ],
   "source": [
    "print(df.shape)\n",
    "print(test.shape)"
   ]
  },
  {
   "cell_type": "code",
   "execution_count": 5,
   "id": "alleged-there",
   "metadata": {
    "prov_id": "ad46fe5c-252b-417f-8dcd-4c783c6c8303"
   },
   "outputs": [],
   "source": [
    "X=df.drop(\"label\",axis=1).values\n",
    "y=df[\"label\"].values"
   ]
  },
  {
   "cell_type": "code",
   "execution_count": 6,
   "id": "written-elimination",
   "metadata": {
    "prov_id": "038549c3-bfa1-48ec-bad9-0d9650a763c2"
   },
   "outputs": [
    {
     "name": "stdout",
     "output_type": "stream",
     "text": [
      "(42000, 784)\n",
      "(42000,)\n",
      "(28000, 784)\n"
     ]
    }
   ],
   "source": [
    "print(X.shape)\n",
    "print(y.shape)\n",
    "print(test.shape)"
   ]
  },
  {
   "cell_type": "code",
   "execution_count": 7,
   "id": "genetic-frederick",
   "metadata": {
    "prov_id": "e9c2acd7-49d8-4ed9-a700-30f16a67eb95"
   },
   "outputs": [
    {
     "data": {
      "text/plain": [
       "<AxesSubplot:xlabel='label', ylabel='count'>"
      ]
     },
     "execution_count": 7,
     "metadata": {},
     "output_type": "execute_result"
    },
    {
     "data": {
      "image/png": "[encoded data removed]",
      "text/plain": [
       "<Figure size 1080x720 with 1 Axes>"
      ]
     },
     "metadata": {
      "needs_background": "light"
     },
     "output_type": "display_data"
    }
   ],
   "source": [
    "import matplotlib.pyplot as plt\n",
    "import seaborn as sns\n",
    "plt.figure(figsize=(15,10))\n",
    "sns.set_style(\"darkgrid\")\n",
    "sns.countplot(x=\"label\",data=df)"
   ]
  },
  {
   "cell_type": "code",
   "execution_count": 8,
   "id": "veterinary-conference",
   "metadata": {
    "prov_id": "3de190c7-4e2c-4f2d-83a0-f7641525ab82"
   },
   "outputs": [
    {
     "name": "stdout",
     "output_type": "stream",
     "text": [
      "(39900, 784)\n",
      "(2100, 784)\n",
      "(39900,)\n",
      "(2100,)\n"
     ]
    }
   ],
   "source": [
    "from sklearn.model_selection import train_test_split\n",
    "X_train, X_test, y_train, y_test = train_test_split(X,y, test_size=0.05, random_state=42)\n",
    "print(X_train.shape)\n",
    "print(X_test.shape)\n",
    "print(y_train.shape)\n",
    "print(y_test.shape)"
   ]
  },
  {
   "cell_type": "code",
   "execution_count": 9,
   "id": "suitable-income",
   "metadata": {
    "prov_id": "7a5e00e0-9ba5-424c-a5ef-67bbb2fff1df"
   },
   "outputs": [],
   "source": [
    "X = X/255\n",
    "test= test.values/255"
   ]
  },
  {
   "cell_type": "code",
   "execution_count": 10,
   "id": "standing-figure",
   "metadata": {
    "prov_id": "3b08dd40-fd64-4da1-8089-b563cb688835"
   },
   "outputs": [],
   "source": [
    "# Reshape image in 3 dimensions (height = 28px, width = 28px , canal = 1)\n",
    "# canal = 1 => For gray scale\n",
    "X = X.reshape(-1,28,28,1)\n",
    "test = test.reshape(-1,28,28,1)"
   ]
  },
  {
   "cell_type": "code",
   "execution_count": 11,
   "id": "understanding-market",
   "metadata": {
    "prov_id": "c05c74c1-0cd4-4e00-8b3c-78aec294345f"
   },
   "outputs": [
    {
     "name": "stdout",
     "output_type": "stream",
     "text": [
      "Label size (42000, 10)\n"
     ]
    }
   ],
   "source": [
    "# we encode labels to one hot vectors (like [0,0,1,0,0,0,0,0,0,0])\n",
    "from keras.utils.np_utils import to_categorical\n",
    "y = to_categorical(y)\n",
    "\n",
    "print(f\"Label size {y.shape}\")"
   ]
  },
  {
   "cell_type": "code",
   "execution_count": 12,
   "id": "cardiac-distance",
   "metadata": {
    "prov_id": "963bbe1d-528d-4b6f-a6fd-34b5612a2985"
   },
   "outputs": [
    {
     "name": "stdout",
     "output_type": "stream",
     "text": [
      "(39900, 28, 28, 1)\n",
      "(2100, 28, 28, 1)\n",
      "(39900, 10)\n",
      "(2100, 10)\n"
     ]
    }
   ],
   "source": [
    "X_train, X_test, y_train, y_test = train_test_split(X,y, test_size=0.05, random_state=42)\n",
    "print(X_train.shape)\n",
    "print(X_test.shape)\n",
    "print(y_train.shape)\n",
    "print(y_test.shape)"
   ]
  },
  {
   "cell_type": "code",
   "execution_count": 13,
   "id": "expected-mills",
   "metadata": {
    "prov_id": "bd695873-44df-4059-a688-f56abf2d7caf"
   },
   "outputs": [
    {
     "data": {
      "image/png": "[encoded data removed]",
      "text/plain": [
       "<Figure size 1440x720 with 4 Axes>"
      ]
     },
     "metadata": {},
     "output_type": "display_data"
    }
   ],
   "source": [
    "X_visualization = X_train.reshape(X_train.shape[0], 28, 28)\n",
    "\n",
    "fig, axis = plt.subplots(1, 4, figsize=(20, 10))\n",
    "for i, ax in enumerate(axis.flat):\n",
    "    ax.imshow(X_visualization[i], cmap='binary')\n",
    "    digit = y_train[i].argmax()\n",
    "    ax.set(title = f\"Real Number is {digit}\");\n",
    "# we see how our data look like."
   ]
  },
  {
   "cell_type": "code",
   "execution_count": 14,
   "id": "equipped-reunion",
   "metadata": {
    "prov_id": "b8959183-828d-4552-a350-d28c020a86da"
   },
   "outputs": [],
   "source": [
    "from tensorflow.keras.models import Sequential\n",
    "from tensorflow.keras.layers import Conv2D, MaxPooling2D, Flatten,Dense, Dropout, BatchNormalization\n",
    "from tensorflow.keras.callbacks import EarlyStopping,  ReduceLROnPlateau\n",
    "cnn=Sequential()\n",
    "\n",
    "#model.add(Lambda(standardize,input_shape=(28,28,1)))    \n",
    "cnn.add(Conv2D(filters=64, kernel_size = (3,3), activation=\"relu\", input_shape=(28,28,1)))\n",
    "cnn.add(Conv2D(filters=64, kernel_size = (3,3), activation=\"relu\"))\n",
    "\n",
    "cnn.add(MaxPooling2D(pool_size=(2,2)))\n",
    "cnn.add(BatchNormalization())\n",
    "cnn.add(Conv2D(filters=128, kernel_size = (3,3), activation=\"relu\"))\n",
    "cnn.add(Conv2D(filters=128, kernel_size = (3,3), activation=\"relu\"))\n",
    "\n",
    "cnn.add(MaxPooling2D(pool_size=(2,2)))\n",
    "cnn.add(BatchNormalization())    \n",
    "cnn.add(Conv2D(filters=256, kernel_size = (3,3), activation=\"relu\"))\n",
    "    \n",
    "cnn.add(MaxPooling2D(pool_size=(2,2)))\n",
    "    \n",
    "cnn.add(Flatten())\n",
    "cnn.add(BatchNormalization())\n",
    "cnn.add(Dense(512,activation=\"relu\"))\n",
    "    \n",
    "cnn.add(Dense(10,activation=\"softmax\"))\n",
    "    \n",
    "cnn.compile(loss=\"categorical_crossentropy\", optimizer=\"adam\", metrics=[\"accuracy\"])"
   ]
  },
  {
   "cell_type": "code",
   "execution_count": 15,
   "id": "therapeutic-trademark",
   "metadata": {
    "prov_id": "a24efe0b-d6d0-4c72-9c5b-fa3fc67a3f13",
    "tags": []
   },
   "outputs": [],
   "source": [
    "# With data augmentation to prevent overfitting\n",
    "from keras.preprocessing.image import ImageDataGenerator\n",
    "datagen = ImageDataGenerator(\n",
    "        featurewise_center=False,  # set input mean to 0 over the dataset\n",
    "        samplewise_center=False,  # set each sample mean to 0\n",
    "        featurewise_std_normalization=False,  # divide inputs by std of the dataset\n",
    "        samplewise_std_normalization=False,  # divide each input by its std\n",
    "        zca_whitening=False,  # apply ZCA whitening\n",
    "        rotation_range=10,  # randomly rotate images in the range (degrees, 0 to 180)\n",
    "        zoom_range = 0.1, # Randomly zoom image \n",
    "        width_shift_range=0.1,  # randomly shift images horizontally (fraction of total width)\n",
    "        height_shift_range=0.1,  # randomly shift images vertically (fraction of total height)\n",
    "        horizontal_flip=False,  # randomly flip images\n",
    "        vertical_flip=False)  # randomly flip images\n",
    "\n",
    "\n",
    "#datagen.fit(X_train)\n",
    "train_generator = datagen.flow(X_train, y_train, batch_size=32)\n",
    "test_generator = datagen.flow(X_test, y_test, batch_size=32)"
   ]
  },
  {
   "cell_type": "code",
   "execution_count": 16,
   "id": "demographic-forestry",
   "metadata": {
    "prov_id": "37b9d6d3-c23c-4143-9717-5b2a0bca1496"
   },
   "outputs": [
    {
     "name": "stdout",
     "output_type": "stream",
     "text": [
      "Epoch 1/10\n",
      "1246/1246 [==============================] - 40s 32ms/step - loss: 0.1620 - accuracy: 0.9501 - val_loss: 0.1110 - val_accuracy: 0.9678\n",
      "Epoch 2/10\n",
      "1246/1246 [==============================] - 39s 32ms/step - loss: 0.0859 - accuracy: 0.9752 - val_loss: 0.0565 - val_accuracy: 0.9851\n",
      "Epoch 3/10\n",
      "1246/1246 [==============================] - 39s 32ms/step - loss: 0.0657 - accuracy: 0.9809 - val_loss: 0.0571 - val_accuracy: 0.9837\n",
      "Epoch 4/10\n",
      "1246/1246 [==============================] - 39s 32ms/step - loss: 0.0558 - accuracy: 0.9837 - val_loss: 0.0499 - val_accuracy: 0.9846\n",
      "Epoch 5/10\n",
      "1246/1246 [==============================] - 39s 31ms/step - loss: 0.0542 - accuracy: 0.9833 - val_loss: 0.0549 - val_accuracy: 0.9827\n",
      "Epoch 6/10\n",
      "1246/1246 [==============================] - 39s 32ms/step - loss: 0.0453 - accuracy: 0.9862 - val_loss: 0.0470 - val_accuracy: 0.9846\n",
      "Epoch 7/10\n",
      "1246/1246 [==============================] - 40s 32ms/step - loss: 0.0425 - accuracy: 0.9870 - val_loss: 0.0445 - val_accuracy: 0.9889\n",
      "Epoch 8/10\n",
      "1246/1246 [==============================] - 39s 32ms/step - loss: 0.0380 - accuracy: 0.9892 - val_loss: 0.0376 - val_accuracy: 0.9899\n",
      "Epoch 9/10\n",
      "1246/1246 [==============================] - 40s 32ms/step - loss: 0.0360 - accuracy: 0.9892 - val_loss: 0.0341 - val_accuracy: 0.9899\n",
      "Epoch 10/10\n",
      "1246/1246 [==============================] - 40s 32ms/step - loss: 0.0315 - accuracy: 0.9908 - val_loss: 0.0583 - val_accuracy: 0.9861\n"
     ]
    }
   ],
   "source": [
    "# Fit the model\n",
    "history = cnn.fit(train_generator, \n",
    "                  epochs = 10,\n",
    "                  steps_per_epoch = X_train.shape[0] // 32,\n",
    "                  validation_steps = X_test.shape[0] // 32,\n",
    "                  validation_data = test_generator)"
   ]
  },
  {
   "cell_type": "code",
   "execution_count": 17,
   "id": "wound-marks",
   "metadata": {
    "prov_id": "6cc727cc-8bf4-4164-a3f9-50a71984b7d0"
   },
   "outputs": [
    {
     "data": {
      "text/plain": [
       "<AxesSubplot:>"
      ]
     },
     "execution_count": 17,
     "metadata": {},
     "output_type": "execute_result"
    },
    {
     "data": {
      "image/png": "[encoded data removed]",
      "text/plain": [
       "<Figure size 1080x720 with 1 Axes>"
      ]
     },
     "metadata": {},
     "output_type": "display_data"
    }
   ],
   "source": [
    "sns.set_style(\"darkgrid\")\n",
    "pd.DataFrame(cnn.history.history).plot(figsize=(15,10))"
   ]
  },
  {
   "cell_type": "code",
   "execution_count": 18,
   "id": "composite-concentration",
   "metadata": {
    "prov_id": "7b1e2454-80ce-4685-a3a7-323fad3873ad"
   },
   "outputs": [
    {
     "data": {
      "image/png": "[encoded data removed]",
      "text/plain": [
       "<Figure size 864x1008 with 16 Axes>"
      ]
     },
     "metadata": {},
     "output_type": "display_data"
    }
   ],
   "source": [
    "y_pred = cnn.predict(X_test)\n",
    "X_new = X_test.reshape(X_test.shape[0], 28, 28)\n",
    "\n",
    "fig, axis = plt.subplots(4, 4, figsize=(12, 14))\n",
    "for i, ax in enumerate(axis.flat):\n",
    "    ax.imshow(X_new[i], cmap='binary')\n",
    "    ax.set(title = f\"Real Number is {y_test[i].argmax()}\\nPredict Number is {y_pred[i].argmax()}\");"
   ]
  },
  {
   "cell_type": "code",
   "execution_count": 19,
   "id": "advance-gallery",
   "metadata": {
    "prov_id": "84a6b5df-6dd0-440e-962d-b7e875ade983",
    "tags": []
   },
   "outputs": [
    {
     "name": "stdout",
     "output_type": "stream",
     "text": [
      "875/875 - 6s\n"
     ]
    },
    {
     "data": {
      "text/plain": [
       "array([[3.1343465e-17, 1.5099554e-20, 1.0000000e+00, ..., 4.6640094e-14,\n",
       "        6.3576171e-18, 1.1007041e-17],\n",
       "       [9.9999988e-01, 3.3768359e-20, 6.4604158e-08, ..., 1.3828047e-11,\n",
       "        1.4261501e-11, 1.1294965e-09],\n",
       "       [1.9821646e-10, 2.4093474e-16, 6.7285386e-09, ..., 3.4146652e-10,\n",
       "        1.4890270e-11, 1.0000000e+00],\n",
       "       ...,\n",
       "       [1.2171584e-28, 4.6619128e-28, 8.3888570e-21, ..., 2.7679496e-18,\n",
       "        1.2456015e-25, 3.9329801e-20],\n",
       "       [2.3611971e-10, 3.0283659e-16, 4.6405715e-10, ..., 1.1704084e-09,\n",
       "        2.8738394e-13, 9.9999917e-01],\n",
       "       [3.0857892e-24, 9.5148678e-33, 1.0000000e+00, ..., 4.6412198e-22,\n",
       "        5.4640766e-25, 4.5161836e-23]], dtype=float32)"
      ]
     },
     "execution_count": 19,
     "metadata": {},
     "output_type": "execute_result"
    }
   ],
   "source": [
    "predictions = cnn.predict(test, verbose=2)\n",
    "predictions"
   ]
  }
 ],
 "metadata": {
  "kernelspec": {
   "display_name": "Python 3",
   "language": "python",
   "name": "python3"
  },
  "language_info": {
   "codemirror_mode": {
    "name": "ipython",
    "version": 3
   },
   "file_extension": ".py",
   "mimetype": "text/x-python",
   "name": "python",
   "nbconvert_exporter": "python",
   "pygments_lexer": "ipython3",
   "version": "3.9.2"
  },
  "provenance": {
   "cells": [
    "57164f3c-adbd-4774-a02f-2e961750f5e4",
    "a72943a4-63ab-4c38-a3ee-18d4eb54a56b",
    "34df347d-620d-4ae6-b407-4654163e57aa",
    "f12d4d25-9e8d-463c-922f-c2d14f0c014d",
    "ad46fe5c-252b-417f-8dcd-4c783c6c8303",
    "038549c3-bfa1-48ec-bad9-0d9650a763c2",
    "e9c2acd7-49d8-4ed9-a700-30f16a67eb95",
    "3de190c7-4e2c-4f2d-83a0-f7641525ab82",
    "7a5e00e0-9ba5-424c-a5ef-67bbb2fff1df",
    "3b08dd40-fd64-4da1-8089-b563cb688835",
    "c05c74c1-0cd4-4e00-8b3c-78aec294345f",
    "963bbe1d-528d-4b6f-a6fd-34b5612a2985",
    "bd695873-44df-4059-a688-f56abf2d7caf",
    "b8959183-828d-4552-a350-d28c020a86da",
    "a24efe0b-d6d0-4c72-9c5b-fa3fc67a3f13",
    "37b9d6d3-c23c-4143-9717-5b2a0bca1496",
    "6cc727cc-8bf4-4164-a3f9-50a71984b7d0",
    "7b1e2454-80ce-4685-a3a7-323fad3873ad",
    "84a6b5df-6dd0-440e-962d-b7e875ade983"
   ],
   "epochs": [
    {
     "cells": [
      "57164f3c-adbd-4774-a02f-2e961750f5e4",
      "a72943a4-63ab-4c38-a3ee-18d4eb54a56b",
      "34df347d-620d-4ae6-b407-4654163e57aa",
      "f12d4d25-9e8d-463c-922f-c2d14f0c014d",
      "ad46fe5c-252b-417f-8dcd-4c783c6c8303",
      "038549c3-bfa1-48ec-bad9-0d9650a763c2",
      "e9c2acd7-49d8-4ed9-a700-30f16a67eb95",
      "3de190c7-4e2c-4f2d-83a0-f7641525ab82",
      "7a5e00e0-9ba5-424c-a5ef-67bbb2fff1df",
      "3b08dd40-fd64-4da1-8089-b563cb688835",
      "c05c74c1-0cd4-4e00-8b3c-78aec294345f",
      "963bbe1d-528d-4b6f-a6fd-34b5612a2985",
      "bd695873-44df-4059-a688-f56abf2d7caf",
      "b8959183-828d-4552-a350-d28c020a86da",
      "a24efe0b-d6d0-4c72-9c5b-fa3fc67a3f13"
     ],
     "data": [
      {
       "cell_id": "57164f3c-adbd-4774-a02f-2e961750f5e4",
       "cell_outputs": [
        {
         "name": "stdout",
         "output_type": "stream",
         "text": "D:/Projects/mnist-evaluation/data\\test.csv\nD:/Projects/mnist-evaluation/data\\test.csv.zip\nD:/Projects/mnist-evaluation/data\\train.csv\nD:/Projects/mnist-evaluation/data\\train.csv.zip\n"
        }
       ],
       "cell_source": "import numpy as np # linear algebra\nimport pandas as pd # data processing, CSV file I/O (e.g. pd.read_csv)\n\nimport os\nfor dirname, _, filenames in os.walk('D:/Projects/mnist-evaluation/data'):\n    for filename in filenames:\n        print(os.path.join(dirname, filename))",
       "data_values": [
        "D:/Projects/mnist-evaluation/data"
       ],
       "data_vars": [],
       "definitions": [
        {
         "body": [
          {
           "body": [
            {
             "col_offset": 8,
             "dependencies": [
              "os",
              "dirname",
              "filename"
             ],
             "end_col_offset": 46,
             "end_lineno": 7,
             "lineno": 7,
             "name": "print",
             "type": "call"
            }
           ],
           "col_offset": 4,
           "dependencies": [
            "filenames",
            "print"
           ],
           "end_col_offset": 46,
           "end_lineno": 7,
           "lineno": 6,
           "orelse": [],
           "type": "loop"
          }
         ],
         "col_offset": 0,
         "dependencies": [
          "os",
          "print"
         ],
         "end_col_offset": 46,
         "end_lineno": 7,
         "lineno": 5,
         "orelse": [],
         "type": "loop"
        }
       ],
       "execution_count": 1,
       "imports": [
        "np",
        "pd",
        "os"
       ],
       "local": [
        "dirname",
        "_",
        "filenames",
        "filename"
       ],
       "local_info": {
        "_": "\u001b[1;31mType:\u001b[0m        list\n\u001b[1;31mString form:\u001b[0m []\n\u001b[1;31mLength:\u001b[0m      0\n\u001b[1;31mDocstring:\u001b[0m  \nBuilt-in mutable sequence.\n\nIf no argument is given, the constructor creates a new empty list.\nThe argument must be an iterable if specified.\n",
        "dirname": "\u001b[1;31mType:\u001b[0m        str\n\u001b[1;31mString form:\u001b[0m D:/Projects/mnist-evaluation/data\n\u001b[1;31mLength:\u001b[0m      33\n\u001b[1;31mDocstring:\u001b[0m  \nstr(object='') -> str\nstr(bytes_or_buffer[, encoding[, errors]]) -> str\n\nCreate a new string object from the given object. If encoding or\nerrors is specified, then the object must expose a data buffer\nthat will be decoded using the given encoding and error handler.\nOtherwise, returns the result of object.__str__() (if defined)\nor repr(object).\nencoding defaults to sys.getdefaultencoding().\nerrors defaults to 'strict'.\n",
        "filename": "\u001b[1;31mType:\u001b[0m        str\n\u001b[1;31mString form:\u001b[0m train.csv.zip\n\u001b[1;31mLength:\u001b[0m      13\n\u001b[1;31mDocstring:\u001b[0m  \nstr(object='') -> str\nstr(bytes_or_buffer[, encoding[, errors]]) -> str\n\nCreate a new string object from the given object. If encoding or\nerrors is specified, then the object must expose a data buffer\nthat will be decoded using the given encoding and error handler.\nOtherwise, returns the result of object.__str__() (if defined)\nor repr(object).\nencoding defaults to sys.getdefaultencoding().\nerrors defaults to 'strict'.\n",
        "filenames": "\u001b[1;31mType:\u001b[0m        list\n\u001b[1;31mString form:\u001b[0m ['test.csv', 'test.csv.zip', 'train.csv', 'train.csv.zip']\n\u001b[1;31mLength:\u001b[0m      4\n\u001b[1;31mDocstring:\u001b[0m  \nBuilt-in mutable sequence.\n\nIf no argument is given, the constructor creates a new empty list.\nThe argument must be an iterable if specified.\n"
       },
       "remote": [
        "print"
       ],
       "time": "Thu, 24 Jun 2021 09:57:28 GMT",
       "type": "execution"
      },
      {
       "cell_id": "a72943a4-63ab-4c38-a3ee-18d4eb54a56b",
       "cell_outputs": [
        {
         "data": {
          "text/html": "<div>\n<style scoped>\n    .dataframe tbody tr th:only-of-type {\n        vertical-align: middle;\n    }\n\n    .dataframe tbody tr th {\n        vertical-align: top;\n    }\n\n    .dataframe thead th {\n        text-align: right;\n    }\n</style>\n<table border=\"1\" class=\"dataframe\">\n  <thead>\n    <tr style=\"text-align: right;\">\n      <th></th>\n      <th>label</th>\n      <th>pixel0</th>\n      <th>pixel1</th>\n      <th>pixel2</th>\n      <th>pixel3</th>\n      <th>pixel4</th>\n      <th>pixel5</th>\n      <th>pixel6</th>\n      <th>pixel7</th>\n      <th>pixel8</th>\n      <th>...</th>\n      <th>pixel774</th>\n      <th>pixel775</th>\n      <th>pixel776</th>\n      <th>pixel777</th>\n      <th>pixel778</th>\n      <th>pixel779</th>\n      <th>pixel780</th>\n      <th>pixel781</th>\n      <th>pixel782</th>\n      <th>pixel783</th>\n    </tr>\n  </thead>\n  <tbody>\n    <tr>\n      <th>0</th>\n      <td>1</td>\n      <td>0</td>\n      <td>0</td>\n      <td>0</td>\n      <td>0</td>\n      <td>0</td>\n      <td>0</td>\n      <td>0</td>\n      <td>0</td>\n      <td>0</td>\n      <td>...</td>\n      <td>0</td>\n      <td>0</td>\n      <td>0</td>\n      <td>0</td>\n      <td>0</td>\n      <td>0</td>\n      <td>0</td>\n      <td>0</td>\n      <td>0</td>\n      <td>0</td>\n    </tr>\n    <tr>\n      <th>1</th>\n      <td>0</td>\n      <td>0</td>\n      <td>0</td>\n      <td>0</td>\n      <td>0</td>\n      <td>0</td>\n      <td>0</td>\n      <td>0</td>\n      <td>0</td>\n      <td>0</td>\n      <td>...</td>\n      <td>0</td>\n      <td>0</td>\n      <td>0</td>\n      <td>0</td>\n      <td>0</td>\n      <td>0</td>\n      <td>0</td>\n      <td>0</td>\n      <td>0</td>\n      <td>0</td>\n    </tr>\n    <tr>\n      <th>2</th>\n      <td>1</td>\n      <td>0</td>\n      <td>0</td>\n      <td>0</td>\n      <td>0</td>\n      <td>0</td>\n      <td>0</td>\n      <td>0</td>\n      <td>0</td>\n      <td>0</td>\n      <td>...</td>\n      <td>0</td>\n      <td>0</td>\n      <td>0</td>\n      <td>0</td>\n      <td>0</td>\n      <td>0</td>\n      <td>0</td>\n      <td>0</td>\n      <td>0</td>\n      <td>0</td>\n    </tr>\n    <tr>\n      <th>3</th>\n      <td>4</td>\n      <td>0</td>\n      <td>0</td>\n      <td>0</td>\n      <td>0</td>\n      <td>0</td>\n      <td>0</td>\n      <td>0</td>\n      <td>0</td>\n      <td>0</td>\n      <td>...</td>\n      <td>0</td>\n      <td>0</td>\n      <td>0</td>\n      <td>0</td>\n      <td>0</td>\n      <td>0</td>\n      <td>0</td>\n      <td>0</td>\n      <td>0</td>\n      <td>0</td>\n    </tr>\n    <tr>\n      <th>4</th>\n      <td>0</td>\n      <td>0</td>\n      <td>0</td>\n      <td>0</td>\n      <td>0</td>\n      <td>0</td>\n      <td>0</td>\n      <td>0</td>\n      <td>0</td>\n      <td>0</td>\n      <td>...</td>\n      <td>0</td>\n      <td>0</td>\n      <td>0</td>\n      <td>0</td>\n      <td>0</td>\n      <td>0</td>\n      <td>0</td>\n      <td>0</td>\n      <td>0</td>\n      <td>0</td>\n    </tr>\n  </tbody>\n</table>\n<p>5 rows × 785 columns</p>\n</div>",
          "text/plain": "   label  pixel0  pixel1  pixel2  pixel3  pixel4  pixel5  pixel6  pixel7  \\\n0      1       0       0       0       0       0       0       0       0   \n1      0       0       0       0       0       0       0       0       0   \n2      1       0       0       0       0       0       0       0       0   \n3      4       0       0       0       0       0       0       0       0   \n4      0       0       0       0       0       0       0       0       0   \n\n   pixel8  ...  pixel774  pixel775  pixel776  pixel777  pixel778  pixel779  \\\n0       0  ...         0         0         0         0         0         0   \n1       0  ...         0         0         0         0         0         0   \n2       0  ...         0         0         0         0         0         0   \n3       0  ...         0         0         0         0         0         0   \n4       0  ...         0         0         0         0         0         0   \n\n   pixel780  pixel781  pixel782  pixel783  \n0         0         0         0         0  \n1         0         0         0         0  \n2         0         0         0         0  \n3         0         0         0         0  \n4         0         0         0         0  \n\n[5 rows x 785 columns]"
         },
         "execution_count": 2,
         "metadata": {},
         "output_type": "execute_result"
        }
       ],
       "cell_source": "df=pd.read_csv('D:/Projects/mnist-evaluation/data/train.csv')\ndf.head()",
       "data_values": [
        "D:/Projects/mnist-evaluation/data/train.csv"
       ],
       "data_vars": [
        "df"
       ],
       "definitions": [
        {
         "col_offset": 0,
         "dependencies": [
          "pd"
         ],
         "end_col_offset": 61,
         "end_lineno": 1,
         "lineno": 1,
         "name": "df",
         "type": "assign"
        },
        {
         "col_offset": 0,
         "dependencies": [],
         "end_col_offset": 9,
         "end_lineno": 2,
         "lineno": 2,
         "name": "df",
         "type": "call"
        }
       ],
       "execution_count": 2,
       "imports": [],
       "local": [
        "df"
       ],
       "local_info": {
        "df": "\u001b[1;31mType:\u001b[0m        DataFrame\n\u001b[1;31mString form:\u001b[0m\n       label  pixel0  pixel1  pixel2  pixel3  pixel4  pixel5  pixel6  pixel7  \\\n0          1       0       0       0       0       0       0       0       0   \n1          0       0       0       0       0       0       0       0       0   \n2          1       0       0       0       0       0       0       0       0   \n3          4       0       0       0       0       0       0       0       0   \n4          0       0       0       0       0       0       0       0       0   \n...      ...     ...     ...     ...     ...     ...     ...     ...     ...   \n41995      0       0       0       0       0       0       0       0       0   \n41996      1       0       0       0       0       0       0       0       0   \n41997      7       0       0       0       0       0       0       0       0   \n41998      6       0       0       0       0       0       0       0       0   \n41999      9       0       0       0       0       0       0       0       0   \n\n       pixel8  ...  pixel774  pixel775  pixel776  pixel777  pixel778  \\\n0           0  ...         0         0         0         0         0   \n1           0  ...         0         0         0         0         0   \n2           0  ...         0         0         0         0         0   \n3           0  ...         0         0         0         0         0   \n4           0  ...         0         0         0         0         0   \n...       ...  ...       ...       ...       ...       ...       ...   \n41995       0  ...         0         0         0         0         0   \n41996       0  ...         0         0         0         0         0   \n41997       0  ...         0         0         0         0         0   \n41998       0  ...         0         0         0         0         0   \n41999       0  ...         0         0         0         0         0   \n\n       pixel779  pixel780  pixel781  pixel782  pixel783  \n0             0         0         0         0         0  \n1             0         0         0         0         0  \n2             0         0         0         0         0  \n3             0         0         0         0         0  \n4             0         0         0         0         0  \n...         ...       ...       ...       ...       ...  \n41995         0         0         0         0         0  \n41996         0         0         0         0         0  \n41997         0         0         0         0         0  \n41998         0         0         0         0         0  \n41999         0         0         0         0         0  \n\n[42000 rows x 785 columns]\n\u001b[1;31mLength:\u001b[0m      42000\n\u001b[1;31mFile:\u001b[0m        c:\\program files\\python39\\lib\\site-packages\\pandas\\core\\frame.py\n"
       },
       "remote": [
        "pd"
       ],
       "time": "Thu, 24 Jun 2021 09:57:29 GMT",
       "type": "execution"
      },
      {
       "cell_id": "34df347d-620d-4ae6-b407-4654163e57aa",
       "cell_outputs": [
        {
         "data": {
          "text/html": "<div>\n<style scoped>\n    .dataframe tbody tr th:only-of-type {\n        vertical-align: middle;\n    }\n\n    .dataframe tbody tr th {\n        vertical-align: top;\n    }\n\n    .dataframe thead th {\n        text-align: right;\n    }\n</style>\n<table border=\"1\" class=\"dataframe\">\n  <thead>\n    <tr style=\"text-align: right;\">\n      <th></th>\n      <th>pixel0</th>\n      <th>pixel1</th>\n      <th>pixel2</th>\n      <th>pixel3</th>\n      <th>pixel4</th>\n      <th>pixel5</th>\n      <th>pixel6</th>\n      <th>pixel7</th>\n      <th>pixel8</th>\n      <th>pixel9</th>\n      <th>...</th>\n      <th>pixel774</th>\n      <th>pixel775</th>\n      <th>pixel776</th>\n      <th>pixel777</th>\n      <th>pixel778</th>\n      <th>pixel779</th>\n      <th>pixel780</th>\n      <th>pixel781</th>\n      <th>pixel782</th>\n      <th>pixel783</th>\n    </tr>\n  </thead>\n  <tbody>\n    <tr>\n      <th>0</th>\n      <td>0</td>\n      <td>0</td>\n      <td>0</td>\n      <td>0</td>\n      <td>0</td>\n      <td>0</td>\n      <td>0</td>\n      <td>0</td>\n      <td>0</td>\n      <td>0</td>\n      <td>...</td>\n      <td>0</td>\n      <td>0</td>\n      <td>0</td>\n      <td>0</td>\n      <td>0</td>\n      <td>0</td>\n      <td>0</td>\n      <td>0</td>\n      <td>0</td>\n      <td>0</td>\n    </tr>\n    <tr>\n      <th>1</th>\n      <td>0</td>\n      <td>0</td>\n      <td>0</td>\n      <td>0</td>\n      <td>0</td>\n      <td>0</td>\n      <td>0</td>\n      <td>0</td>\n      <td>0</td>\n      <td>0</td>\n      <td>...</td>\n      <td>0</td>\n      <td>0</td>\n      <td>0</td>\n      <td>0</td>\n      <td>0</td>\n      <td>0</td>\n      <td>0</td>\n      <td>0</td>\n      <td>0</td>\n      <td>0</td>\n    </tr>\n    <tr>\n      <th>2</th>\n      <td>0</td>\n      <td>0</td>\n      <td>0</td>\n      <td>0</td>\n      <td>0</td>\n      <td>0</td>\n      <td>0</td>\n      <td>0</td>\n      <td>0</td>\n      <td>0</td>\n      <td>...</td>\n      <td>0</td>\n      <td>0</td>\n      <td>0</td>\n      <td>0</td>\n      <td>0</td>\n      <td>0</td>\n      <td>0</td>\n      <td>0</td>\n      <td>0</td>\n      <td>0</td>\n    </tr>\n    <tr>\n      <th>3</th>\n      <td>0</td>\n      <td>0</td>\n      <td>0</td>\n      <td>0</td>\n      <td>0</td>\n      <td>0</td>\n      <td>0</td>\n      <td>0</td>\n      <td>0</td>\n      <td>0</td>\n      <td>...</td>\n      <td>0</td>\n      <td>0</td>\n      <td>0</td>\n      <td>0</td>\n      <td>0</td>\n      <td>0</td>\n      <td>0</td>\n      <td>0</td>\n      <td>0</td>\n      <td>0</td>\n    </tr>\n    <tr>\n      <th>4</th>\n      <td>0</td>\n      <td>0</td>\n      <td>0</td>\n      <td>0</td>\n      <td>0</td>\n      <td>0</td>\n      <td>0</td>\n      <td>0</td>\n      <td>0</td>\n      <td>0</td>\n      <td>...</td>\n      <td>0</td>\n      <td>0</td>\n      <td>0</td>\n      <td>0</td>\n      <td>0</td>\n      <td>0</td>\n      <td>0</td>\n      <td>0</td>\n      <td>0</td>\n      <td>0</td>\n    </tr>\n  </tbody>\n</table>\n<p>5 rows × 784 columns</p>\n</div>",
          "text/plain": "   pixel0  pixel1  pixel2  pixel3  pixel4  pixel5  pixel6  pixel7  pixel8  \\\n0       0       0       0       0       0       0       0       0       0   \n1       0       0       0       0       0       0       0       0       0   \n2       0       0       0       0       0       0       0       0       0   \n3       0       0       0       0       0       0       0       0       0   \n4       0       0       0       0       0       0       0       0       0   \n\n   pixel9  ...  pixel774  pixel775  pixel776  pixel777  pixel778  pixel779  \\\n0       0  ...         0         0         0         0         0         0   \n1       0  ...         0         0         0         0         0         0   \n2       0  ...         0         0         0         0         0         0   \n3       0  ...         0         0         0         0         0         0   \n4       0  ...         0         0         0         0         0         0   \n\n   pixel780  pixel781  pixel782  pixel783  \n0         0         0         0         0  \n1         0         0         0         0  \n2         0         0         0         0  \n3         0         0         0         0  \n4         0         0         0         0  \n\n[5 rows x 784 columns]"
         },
         "execution_count": 3,
         "metadata": {},
         "output_type": "execute_result"
        }
       ],
       "cell_source": "test=pd.read_csv('D:/Projects/mnist-evaluation/data/test.csv')\ntest.head()",
       "data_values": [
        "D:/Projects/mnist-evaluation/data/test.csv"
       ],
       "data_vars": [
        "test"
       ],
       "definitions": [
        {
         "col_offset": 0,
         "dependencies": [
          "pd"
         ],
         "end_col_offset": 62,
         "end_lineno": 1,
         "lineno": 1,
         "name": "test",
         "type": "assign"
        },
        {
         "col_offset": 0,
         "dependencies": [],
         "end_col_offset": 11,
         "end_lineno": 2,
         "lineno": 2,
         "name": "test",
         "type": "call"
        }
       ],
       "execution_count": 3,
       "imports": [],
       "local": [
        "test"
       ],
       "local_info": {
        "test": "\u001b[1;31mType:\u001b[0m        DataFrame\n\u001b[1;31mString form:\u001b[0m\n       pixel0  pixel1  pixel2  pixel3  pixel4  pixel5  pixel6  pixel7  pixel8  \\\n0           0       0       0       0       0       0       0       0       0   \n1           0       0       0       0       0       0       0       0       0   \n2           0       0       0       0       0       0       0       0       0   \n3           0       0       0       0       0       0       0       0       0   \n4           0       0       0       0       0       0       0       0       0   \n...       ...     ...     ...     ...     ...     ...     ...     ...     ...   \n27995       0       0       0       0       0       0       0       0       0   \n27996       0       0       0       0       0       0       0       0       0   \n27997       0       0       0       0       0       0       0       0       0   \n27998       0       0       0       0       0       0       0       0       0   \n27999       0       0       0       0       0       0       0       0       0   \n\n       pixel9  ...  pixel774  pixel775  pixel776  pixel777  pixel778  \\\n0           0  ...         0         0         0         0         0   \n1           0  ...         0         0         0         0         0   \n2           0  ...         0         0         0         0         0   \n3           0  ...         0         0         0         0         0   \n4           0  ...         0         0         0         0         0   \n...       ...  ...       ...       ...       ...       ...       ...   \n27995       0  ...         0         0         0         0         0   \n27996       0  ...         0         0         0         0         0   \n27997       0  ...         0         0         0         0         0   \n27998       0  ...         0         0         0         0         0   \n27999       0  ...         0         0         0         0         0   \n\n       pixel779  pixel780  pixel781  pixel782  pixel783  \n0             0         0         0         0         0  \n1             0         0         0         0         0  \n2             0         0         0         0         0  \n3             0         0         0         0         0  \n4             0         0         0         0         0  \n...         ...       ...       ...       ...       ...  \n27995         0         0         0         0         0  \n27996         0         0         0         0         0  \n27997         0         0         0         0         0  \n27998         0         0         0         0         0  \n27999         0         0         0         0         0  \n\n[28000 rows x 784 columns]\n\u001b[1;31mLength:\u001b[0m      28000\n\u001b[1;31mFile:\u001b[0m        c:\\program files\\python39\\lib\\site-packages\\pandas\\core\\frame.py\n"
       },
       "remote": [
        "pd"
       ],
       "time": "Thu, 24 Jun 2021 09:57:30 GMT",
       "type": "execution"
      },
      {
       "cell_id": "f12d4d25-9e8d-463c-922f-c2d14f0c014d",
       "cell_outputs": [
        {
         "name": "stdout",
         "output_type": "stream",
         "text": "(42000, 785)\n(28000, 784)\n"
        }
       ],
       "cell_source": "print(df.shape)\nprint(test.shape)",
       "data_values": [],
       "data_vars": [],
       "definitions": [
        {
         "col_offset": 0,
         "dependencies": [
          "df"
         ],
         "end_col_offset": 15,
         "end_lineno": 1,
         "lineno": 1,
         "name": "print",
         "type": "call"
        },
        {
         "col_offset": 0,
         "dependencies": [
          "test"
         ],
         "end_col_offset": 17,
         "end_lineno": 2,
         "lineno": 2,
         "name": "print",
         "type": "call"
        }
       ],
       "execution_count": 4,
       "imports": [],
       "local": [],
       "local_info": {},
       "remote": [
        "print",
        "df",
        "test"
       ],
       "time": "Thu, 24 Jun 2021 09:57:31 GMT",
       "type": "execution"
      },
      {
       "cell_id": "ad46fe5c-252b-417f-8dcd-4c783c6c8303",
       "cell_outputs": [],
       "cell_source": "X=df.drop(\"label\",axis=1).values\ny=df[\"label\"].values",
       "data_values": [],
       "data_vars": [],
       "definitions": [
        {
         "col_offset": 0,
         "dependencies": [
          "df"
         ],
         "end_col_offset": 32,
         "end_lineno": 1,
         "lineno": 1,
         "name": "X",
         "type": "assign"
        },
        {
         "col_offset": 0,
         "dependencies": [
          "df"
         ],
         "end_col_offset": 20,
         "end_lineno": 2,
         "lineno": 2,
         "name": "y",
         "type": "assign"
        }
       ],
       "execution_count": 5,
       "imports": [],
       "local": [
        "X",
        "y"
       ],
       "local_info": {
        "X": "\u001b[1;31mType:\u001b[0m            ndarray\n\u001b[1;31mString form:\u001b[0m    \n[[0 0 0 ... 0 0 0]\n [0 0 0 ... 0 0 0]\n [0 0 0 ... 0 0 0]\n ...\n [0 0 0 ... 0 0 0]\n [0 0 0 ... 0 0 0]\n [0 0 0 ... 0 0 0]]\n\u001b[1;31mLength:\u001b[0m          42000\n\u001b[1;31mFile:\u001b[0m            c:\\program files\\python39\\lib\\site-packages\\numpy\\__init__.py\n\u001b[1;31mDocstring:\u001b[0m       <no docstring>\n",
        "y": "\u001b[1;31mType:\u001b[0m            ndarray\n\u001b[1;31mString form:\u001b[0m     [1 0 1 ... 7 6 9]\n\u001b[1;31mLength:\u001b[0m          42000\n\u001b[1;31mFile:\u001b[0m            c:\\program files\\python39\\lib\\site-packages\\numpy\\__init__.py\n\u001b[1;31mDocstring:\u001b[0m       <no docstring>\n"
       },
       "remote": [
        "df"
       ],
       "time": "Thu, 24 Jun 2021 09:57:31 GMT",
       "type": "execution"
      },
      {
       "cell_id": "038549c3-bfa1-48ec-bad9-0d9650a763c2",
       "cell_outputs": [
        {
         "name": "stdout",
         "output_type": "stream",
         "text": "(42000, 784)\n(42000,)\n(28000, 784)\n"
        }
       ],
       "cell_source": "print(X.shape)\nprint(y.shape)\nprint(test.shape)",
       "data_values": [],
       "data_vars": [],
       "definitions": [
        {
         "col_offset": 0,
         "dependencies": [
          "X"
         ],
         "end_col_offset": 14,
         "end_lineno": 1,
         "lineno": 1,
         "name": "print",
         "type": "call"
        },
        {
         "col_offset": 0,
         "dependencies": [
          "y"
         ],
         "end_col_offset": 14,
         "end_lineno": 2,
         "lineno": 2,
         "name": "print",
         "type": "call"
        },
        {
         "col_offset": 0,
         "dependencies": [
          "test"
         ],
         "end_col_offset": 17,
         "end_lineno": 3,
         "lineno": 3,
         "name": "print",
         "type": "call"
        }
       ],
       "execution_count": 6,
       "imports": [],
       "local": [],
       "local_info": {},
       "remote": [
        "print",
        "X",
        "y",
        "test"
       ],
       "time": "Thu, 24 Jun 2021 09:57:31 GMT",
       "type": "execution"
      },
      {
       "cell_id": "e9c2acd7-49d8-4ed9-a700-30f16a67eb95",
       "cell_outputs": [
        {
         "data": {
          "text/plain": "<AxesSubplot:xlabel='label', ylabel='count'>"
         },
         "execution_count": 7,
         "metadata": {},
         "output_type": "execute_result"
        },
        {
         "data": {
          "image/png": "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\n",
          "text/plain": "<Figure size 1080x720 with 1 Axes>"
         },
         "metadata": {
          "needs_background": "light"
         },
         "output_type": "display_data"
        }
       ],
       "cell_source": "import matplotlib.pyplot as plt\nimport seaborn as sns\nplt.figure(figsize=(15,10))\nsns.set_style(\"darkgrid\")\nsns.countplot(x=\"label\",data=df)",
       "data_values": [],
       "data_vars": [],
       "definitions": [
        {
         "col_offset": 0,
         "dependencies": [],
         "end_col_offset": 27,
         "end_lineno": 3,
         "lineno": 3,
         "name": "plt",
         "type": "call"
        },
        {
         "col_offset": 0,
         "dependencies": [],
         "end_col_offset": 25,
         "end_lineno": 4,
         "lineno": 4,
         "name": "sns",
         "type": "call"
        },
        {
         "col_offset": 0,
         "dependencies": [
          "df"
         ],
         "end_col_offset": 32,
         "end_lineno": 5,
         "lineno": 5,
         "name": "sns",
         "type": "call"
        }
       ],
       "execution_count": 7,
       "imports": [
        "plt",
        "sns"
       ],
       "local": [],
       "local_info": {},
       "remote": [
        "df"
       ],
       "time": "Thu, 24 Jun 2021 09:57:32 GMT",
       "type": "execution"
      },
      {
       "cell_id": "3de190c7-4e2c-4f2d-83a0-f7641525ab82",
       "cell_outputs": [
        {
         "name": "stdout",
         "output_type": "stream",
         "text": "(39900, 784)\n(2100, 784)\n(39900,)\n(2100,)\n"
        }
       ],
       "cell_source": "from sklearn.model_selection import train_test_split\nX_train, X_test, y_train, y_test = train_test_split(X,y, test_size=0.05, random_state=42)\nprint(X_train.shape)\nprint(X_test.shape)\nprint(y_train.shape)\nprint(y_test.shape)",
       "data_values": [],
       "data_vars": [],
       "definitions": [
        {
         "col_offset": 0,
         "dependencies": [
          "train_test_split",
          "X",
          "y"
         ],
         "end_col_offset": 89,
         "end_lineno": 2,
         "lineno": 2,
         "name": "X_train",
         "type": "assign"
        },
        {
         "col_offset": 0,
         "dependencies": [
          "train_test_split",
          "X",
          "y"
         ],
         "end_col_offset": 89,
         "end_lineno": 2,
         "lineno": 2,
         "name": "X_test",
         "type": "assign"
        },
        {
         "col_offset": 0,
         "dependencies": [
          "train_test_split",
          "X",
          "y"
         ],
         "end_col_offset": 89,
         "end_lineno": 2,
         "lineno": 2,
         "name": "y_train",
         "type": "assign"
        },
        {
         "col_offset": 0,
         "dependencies": [
          "train_test_split",
          "X",
          "y"
         ],
         "end_col_offset": 89,
         "end_lineno": 2,
         "lineno": 2,
         "name": "y_test",
         "type": "assign"
        },
        {
         "col_offset": 0,
         "dependencies": [
          "X_train"
         ],
         "end_col_offset": 20,
         "end_lineno": 3,
         "lineno": 3,
         "name": "print",
         "type": "call"
        },
        {
         "col_offset": 0,
         "dependencies": [
          "X_test"
         ],
         "end_col_offset": 19,
         "end_lineno": 4,
         "lineno": 4,
         "name": "print",
         "type": "call"
        },
        {
         "col_offset": 0,
         "dependencies": [
          "y_train"
         ],
         "end_col_offset": 20,
         "end_lineno": 5,
         "lineno": 5,
         "name": "print",
         "type": "call"
        },
        {
         "col_offset": 0,
         "dependencies": [
          "y_test"
         ],
         "end_col_offset": 19,
         "end_lineno": 6,
         "lineno": 6,
         "name": "print",
         "type": "call"
        }
       ],
       "execution_count": 8,
       "imports": [
        "train_test_split"
       ],
       "local": [
        "X_train",
        "X_test",
        "y_train",
        "y_test"
       ],
       "local_info": {
        "X_test": "\u001b[1;31mType:\u001b[0m            ndarray\n\u001b[1;31mString form:\u001b[0m    \n[[0 0 0 ... 0 0 0]\n [0 0 0 ... 0 0 0]\n [0 0 0 ... 0 0 0]\n ...\n [0 0 0 ... 0 0 0]\n [0 0 0 ... 0 0 0]\n [0 0 0 ... 0 0 0]]\n\u001b[1;31mLength:\u001b[0m          2100\n\u001b[1;31mFile:\u001b[0m            c:\\program files\\python39\\lib\\site-packages\\numpy\\__init__.py\n\u001b[1;31mDocstring:\u001b[0m       <no docstring>\n",
        "X_train": "\u001b[1;31mType:\u001b[0m            ndarray\n\u001b[1;31mString form:\u001b[0m    \n[[0 0 0 ... 0 0 0]\n [0 0 0 ... 0 0 0]\n [0 0 0 ... 0 0 0]\n ...\n [0 0 0 ... 0 0 0]\n [0 0 0 ... 0 0 0]\n [0 0 0 ... 0 0 0]]\n\u001b[1;31mLength:\u001b[0m          39900\n\u001b[1;31mFile:\u001b[0m            c:\\program files\\python39\\lib\\site-packages\\numpy\\__init__.py\n\u001b[1;31mDocstring:\u001b[0m       <no docstring>\n",
        "y_test": "\u001b[1;31mType:\u001b[0m            ndarray\n\u001b[1;31mString form:\u001b[0m     [8 1 9 ... 9 5 4]\n\u001b[1;31mLength:\u001b[0m          2100\n\u001b[1;31mFile:\u001b[0m            c:\\program files\\python39\\lib\\site-packages\\numpy\\__init__.py\n\u001b[1;31mDocstring:\u001b[0m       <no docstring>\n",
        "y_train": "\u001b[1;31mType:\u001b[0m            ndarray\n\u001b[1;31mString form:\u001b[0m     [3 3 4 ... 2 6 0]\n\u001b[1;31mLength:\u001b[0m          39900\n\u001b[1;31mFile:\u001b[0m            c:\\program files\\python39\\lib\\site-packages\\numpy\\__init__.py\n\u001b[1;31mDocstring:\u001b[0m       <no docstring>\n"
       },
       "remote": [
        "X",
        "y",
        "print"
       ],
       "time": "Thu, 24 Jun 2021 09:57:33 GMT",
       "type": "execution"
      },
      {
       "cell_id": "7a5e00e0-9ba5-424c-a5ef-67bbb2fff1df",
       "cell_outputs": [],
       "cell_source": "from sklearn.neighbors import KNeighborsClassifier\nerror_rate=list()\nfor i in range(1,40):\n    knn=KNeighborsClassifier(n_neighbors=i)\n    knn.fit(X_train,y_train)\n    prediction_i=knn.predict(X_test)\n    error_rate.append(np.mean(prediction_i != y_test))",
       "data_values": [],
       "data_vars": [],
       "definitions": [
        {
         "col_offset": 0,
         "dependencies": [
          "list"
         ],
         "end_col_offset": 17,
         "end_lineno": 2,
         "lineno": 2,
         "name": "error_rate",
         "type": "assign"
        },
        {
         "body": [
          {
           "col_offset": 4,
           "dependencies": [
            "KNeighborsClassifier",
            "i"
           ],
           "end_col_offset": 43,
           "end_lineno": 4,
           "lineno": 4,
           "name": "knn",
           "type": "assign"
          },
          {
           "col_offset": 4,
           "dependencies": [
            "X_train",
            "y_train"
           ],
           "end_col_offset": 28,
           "end_lineno": 5,
           "lineno": 5,
           "name": "knn",
           "type": "call"
          },
          {
           "col_offset": 4,
           "dependencies": [
            "knn",
            "X_test"
           ],
           "end_col_offset": 36,
           "end_lineno": 6,
           "lineno": 6,
           "name": "prediction_i",
           "type": "assign"
          },
          {
           "col_offset": 4,
           "dependencies": [
            "np",
            "prediction_i",
            "y_test"
           ],
           "end_col_offset": 54,
           "end_lineno": 7,
           "lineno": 7,
           "name": "error_rate",
           "type": "call"
          }
         ],
         "col_offset": 0,
         "dependencies": [
          "range",
          "X_train",
          "y_train",
          "X_test",
          "np",
          "y_test"
         ],
         "end_col_offset": 54,
         "end_lineno": 7,
         "lineno": 3,
         "orelse": [],
         "type": "loop"
        }
       ],
       "execution_count": 9,
       "imports": [
        "KNeighborsClassifier"
       ],
       "local": [
        "error_rate",
        "i",
        "knn",
        "prediction_i"
       ],
       "local_info": {
        "error_rate": "\u001b[1;31mType:\u001b[0m        list\n\u001b[1;31mString form:\u001b[0m [0.025238095238095237, 0.03238095238095238, 0.03142857142857143, 0.032857142857142856, 0.032857142857142856, 0.03142857142857143, 0.032857142857142856, 0.03380952380952381, 0.034761904761904765, 0.03571428571428571, 0.03761904761904762, 0.03761904761904762, 0.039047619047619046, 0.0380952380952381, 0.04, 0.039523809523809524, 0.039047619047619046, 0.04047619047619048, 0.0419047619047619, 0.04285714285714286, 0.04523809523809524, 0.04523809523809524, 0.047142857142857146, 0.047619047619047616, 0.047619047619047616, 0.04666666666666667, 0.047142857142857146, 0.048095238095238094, 0.047619047619047616, 0.047619047619047616, 0.048095238095238094, 0.049523809523809526, 0.048095238095238094, 0.05, 0.049523809523809526, 0.049523809523809526, 0.05047619047619047, 0.05047619047619047, 0.05142857142857143]\n\u001b[1;31mLength:\u001b[0m      39\n\u001b[1;31mDocstring:\u001b[0m  \nBuilt-in mutable sequence.\n\nIf no argument is given, the constructor creates a new empty list.\nThe argument must be an iterable if specified.\n",
        "i": "\u001b[1;31mType:\u001b[0m        int\n\u001b[1;31mString form:\u001b[0m 39\n\u001b[1;31mDocstring:\u001b[0m  \nint([x]) -> integer\nint(x, base=10) -> integer\n\nConvert a number or string to an integer, or return 0 if no arguments\nare given.  If x is a number, return x.__int__().  For floating point\nnumbers, this truncates towards zero.\n\nIf x is not a number or if base is given, then x must be a string,\nbytes, or bytearray instance representing an integer literal in the\ngiven base.  The literal can be preceded by '+' or '-' and be surrounded\nby whitespace.  The base defaults to 10.  Valid bases are 0 and 2-36.\nBase 0 means to interpret the base from the string as an integer literal.\n>>> int('0b100', base=0)\n4\n",
        "knn": "\u001b[1;31mType:\u001b[0m        KNeighborsClassifier\n\u001b[1;31mString form:\u001b[0m KNeighborsClassifier(n_neighbors=39)\n\u001b[1;31mFile:\u001b[0m        c:\\program files\\python39\\lib\\site-packages\\sklearn\\neighbors\\_classification.py\n",
        "prediction_i": "\u001b[1;31mType:\u001b[0m            ndarray\n\u001b[1;31mString form:\u001b[0m     [8 1 9 ... 9 5 4]\n\u001b[1;31mLength:\u001b[0m          2100\n\u001b[1;31mFile:\u001b[0m            c:\\program files\\python39\\lib\\site-packages\\numpy\\__init__.py\n\u001b[1;31mDocstring:\u001b[0m       <no docstring>\n"
       },
       "remote": [
        "list",
        "range",
        "X_train",
        "y_train",
        "X_test",
        "np",
        "y_test"
       ],
       "time": "Thu, 24 Jun 2021 09:58:31 GMT",
       "type": "execution"
      },
      {
       "cell_id": "3b08dd40-fd64-4da1-8089-b563cb688835",
       "cell_outputs": [
        {
         "data": {
          "text/plain": "Text(0, 0.5, 'Error Rate')"
         },
         "execution_count": 10,
         "metadata": {},
         "output_type": "execute_result"
        },
        {
         "data": {
          "image/png": "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\n",
          "text/plain": "<Figure size 1080x720 with 1 Axes>"
         },
         "metadata": {},
         "output_type": "display_data"
        }
       ],
       "cell_source": "plt.figure(figsize=(15,10))\nplt.plot(range(1,40),error_rate, color=\"blue\", linestyle=\"--\",marker=\"o\",markerfacecolor=\"red\",markersize=10)\nplt.title(\"Error Rate vs K Value\")\nplt.xlabel=\"K Value\"\nplt.ylabel(\"Error Rate\")",
       "data_values": [],
       "data_vars": [],
       "definitions": [
        {
         "col_offset": 0,
         "dependencies": [],
         "end_col_offset": 27,
         "end_lineno": 1,
         "lineno": 1,
         "name": "plt",
         "type": "call"
        },
        {
         "col_offset": 0,
         "dependencies": [
          "range",
          "error_rate"
         ],
         "end_col_offset": 109,
         "end_lineno": 2,
         "lineno": 2,
         "name": "plt",
         "type": "call"
        },
        {
         "col_offset": 0,
         "dependencies": [],
         "end_col_offset": 34,
         "end_lineno": 3,
         "lineno": 3,
         "name": "plt",
         "type": "call"
        },
        {
         "col_offset": 0,
         "dependencies": [],
         "end_col_offset": 24,
         "end_lineno": 5,
         "lineno": 5,
         "name": "plt",
         "type": "call"
        }
       ],
       "execution_count": 10,
       "imports": [],
       "local": [],
       "local_info": {},
       "remote": [
        "plt",
        "range",
        "error_rate"
       ],
       "time": "Thu, 24 Jun 2021 09:58:31 GMT",
       "type": "execution"
      },
      {
       "cell_id": "c05c74c1-0cd4-4e00-8b3c-78aec294345f",
       "cell_outputs": [],
       "cell_source": "knn=KNeighborsClassifier(n_neighbors=1) # we get the minimum error when n=1",
       "data_values": [],
       "data_vars": [],
       "definitions": [
        {
         "col_offset": 0,
         "dependencies": [
          "KNeighborsClassifier"
         ],
         "end_col_offset": 39,
         "end_lineno": 1,
         "lineno": 1,
         "name": "knn",
         "type": "assign"
        }
       ],
       "execution_count": 11,
       "imports": [],
       "local": [
        "knn"
       ],
       "local_info": {
        "knn": "\u001b[1;31mType:\u001b[0m        KNeighborsClassifier\n\u001b[1;31mString form:\u001b[0m KNeighborsClassifier(n_neighbors=1)\n\u001b[1;31mFile:\u001b[0m        c:\\program files\\python39\\lib\\site-packages\\sklearn\\neighbors\\_classification.py\n"
       },
       "remote": [
        "KNeighborsClassifier"
       ],
       "time": "Thu, 24 Jun 2021 09:58:31 GMT",
       "type": "execution"
      },
      {
       "cell_id": "963bbe1d-528d-4b6f-a6fd-34b5612a2985",
       "cell_outputs": [],
       "cell_source": "knn.fit(X_train,y_train)\nknn_predictions = knn.predict(X_test)",
       "data_values": [],
       "data_vars": [],
       "definitions": [
        {
         "col_offset": 0,
         "dependencies": [
          "X_train",
          "y_train"
         ],
         "end_col_offset": 24,
         "end_lineno": 1,
         "lineno": 1,
         "name": "knn",
         "type": "call"
        },
        {
         "col_offset": 0,
         "dependencies": [
          "knn",
          "X_test"
         ],
         "end_col_offset": 37,
         "end_lineno": 2,
         "lineno": 2,
         "name": "knn_predictions",
         "type": "assign"
        }
       ],
       "execution_count": 12,
       "imports": [],
       "local": [
        "knn_predictions"
       ],
       "local_info": {
        "knn_predictions": "\u001b[1;31mType:\u001b[0m            ndarray\n\u001b[1;31mString form:\u001b[0m     [8 1 9 ... 9 5 4]\n\u001b[1;31mLength:\u001b[0m          2100\n\u001b[1;31mFile:\u001b[0m            c:\\program files\\python39\\lib\\site-packages\\numpy\\__init__.py\n\u001b[1;31mDocstring:\u001b[0m       <no docstring>\n"
       },
       "remote": [
        "knn",
        "X_train",
        "y_train",
        "X_test"
       ],
       "time": "Thu, 24 Jun 2021 09:58:32 GMT",
       "type": "execution"
      },
      {
       "cell_id": "bd695873-44df-4059-a688-f56abf2d7caf",
       "cell_outputs": [
        {
         "name": "stdout",
         "output_type": "stream",
         "text": "[[215   0   0   0   0   0   1   0   0   0]\n [  0 234   0   0   0   0   0   0   0   0]\n [  1   4 211   0   2   0   1   2   0   1]\n [  0   1   1 252   0   2   0   2   1   1]\n [  0   1   0   0 191   0   0   0   0   4]\n [  0   0   0   1   0 155   1   0   2   1]\n [  2   0   0   0   0   0 197   0   0   0]\n [  0   4   0   0   0   0   0 223   0   3]\n [  0   2   2   1   0   4   0   0 181   1]\n [  1   0   0   0   1   0   0   2   0 188]]\n"
        }
       ],
       "cell_source": "from sklearn.metrics import classification_report, confusion_matrix,accuracy_score\nprint(confusion_matrix(y_test,knn_predictions))",
       "data_values": [],
       "data_vars": [],
       "definitions": [
        {
         "col_offset": 0,
         "dependencies": [
          "confusion_matrix",
          "y_test",
          "knn_predictions"
         ],
         "end_col_offset": 47,
         "end_lineno": 2,
         "lineno": 2,
         "name": "print",
         "type": "call"
        }
       ],
       "execution_count": 13,
       "imports": [
        "classification_report",
        "confusion_matrix",
        "accuracy_score"
       ],
       "local": [],
       "local_info": {},
       "remote": [
        "print",
        "y_test",
        "knn_predictions"
       ],
       "time": "Thu, 24 Jun 2021 09:58:32 GMT",
       "type": "execution"
      },
      {
       "cell_id": "b8959183-828d-4552-a350-d28c020a86da",
       "cell_outputs": [
        {
         "name": "stdout",
         "output_type": "stream",
         "text": "              precision    recall  f1-score   support\n\n           0       0.98      1.00      0.99       216\n           1       0.95      1.00      0.97       234\n           2       0.99      0.95      0.97       222\n           3       0.99      0.97      0.98       260\n           4       0.98      0.97      0.98       196\n           5       0.96      0.97      0.97       160\n           6       0.98      0.99      0.99       199\n           7       0.97      0.97      0.97       230\n           8       0.98      0.95      0.97       191\n           9       0.94      0.98      0.96       192\n\n    accuracy                           0.97      2100\n   macro avg       0.97      0.97      0.97      2100\nweighted avg       0.98      0.97      0.97      2100\n\n"
        }
       ],
       "cell_source": "print(classification_report(y_test, knn_predictions))",
       "data_values": [],
       "data_vars": [],
       "definitions": [
        {
         "col_offset": 0,
         "dependencies": [
          "classification_report",
          "y_test",
          "knn_predictions"
         ],
         "end_col_offset": 53,
         "end_lineno": 1,
         "lineno": 1,
         "name": "print",
         "type": "call"
        }
       ],
       "execution_count": 14,
       "imports": [],
       "local": [],
       "local_info": {},
       "remote": [
        "print",
        "classification_report",
        "y_test",
        "knn_predictions"
       ],
       "time": "Thu, 24 Jun 2021 09:58:32 GMT",
       "type": "execution"
      },
      {
       "cell_id": "a24efe0b-d6d0-4c72-9c5b-fa3fc67a3f13",
       "cell_outputs": [
        {
         "name": "stdout",
         "output_type": "stream",
         "text": "0.9747619047619047\n"
        }
       ],
       "cell_source": "print(accuracy_score(y_test, knn_predictions))",
       "data_values": [],
       "data_vars": [],
       "definitions": [
        {
         "col_offset": 0,
         "dependencies": [
          "accuracy_score",
          "y_test",
          "knn_predictions"
         ],
         "end_col_offset": 46,
         "end_lineno": 1,
         "lineno": 1,
         "name": "print",
         "type": "call"
        }
       ],
       "execution_count": 15,
       "imports": [],
       "local": [],
       "local_info": {},
       "remote": [
        "print",
        "accuracy_score",
        "y_test",
        "knn_predictions"
       ],
       "time": "Thu, 24 Jun 2021 09:58:32 GMT",
       "type": "execution"
      }
     ],
     "environment": {
      "kernel": {
       "implementation": "ipython",
       "version": "7.22.0"
      },
      "language_info": {
       "mimetype": "text/x-python",
       "name": "python",
       "version": "3.9.2"
      },
      "time": "Thu, 24 Jun 2021 09:57:28 GMT",
      "user_agent": "Mozilla/5.0 (Windows NT 10.0; Win64; x64; rv:89.0) Gecko/20100101 Firefox/89.0"
     },
     "modules": {
      "matplotlib.pyplot": {
       "alias": "plt",
       "version": ""
      },
      "numpy": {
       "alias": "np",
       "version": "1.19.5"
      },
      "os": {
       "version": ""
      },
      "pandas": {
       "alias": "pd",
       "version": "1.2.3"
      },
      "seaborn": {
       "alias": "sns",
       "version": "0.11.1"
      },
      "sklearn.metrics": {
       "imports": [
        "classification_report",
        "confusion_matrix",
        "accuracy_score"
       ],
       "version": ""
      },
      "sklearn.model_selection": {
       "imports": [
        "train_test_split"
       ],
       "version": ""
      },
      "sklearn.neighbors": {
       "imports": [
        "KNeighborsClassifier"
       ],
       "version": ""
      }
     }
    },
    {
     "cells": [
      "57164f3c-adbd-4774-a02f-2e961750f5e4",
      "a72943a4-63ab-4c38-a3ee-18d4eb54a56b",
      "34df347d-620d-4ae6-b407-4654163e57aa",
      "f12d4d25-9e8d-463c-922f-c2d14f0c014d",
      "ad46fe5c-252b-417f-8dcd-4c783c6c8303",
      "038549c3-bfa1-48ec-bad9-0d9650a763c2",
      "e9c2acd7-49d8-4ed9-a700-30f16a67eb95",
      "3de190c7-4e2c-4f2d-83a0-f7641525ab82",
      "7a5e00e0-9ba5-424c-a5ef-67bbb2fff1df",
      "3b08dd40-fd64-4da1-8089-b563cb688835",
      "c05c74c1-0cd4-4e00-8b3c-78aec294345f"
     ],
     "data": [
      {
       "cell_id": "57164f3c-adbd-4774-a02f-2e961750f5e4",
       "cell_outputs": [
        {
         "name": "stdout",
         "output_type": "stream",
         "text": "D:/Projects/mnist-evaluation/data\\test.csv\nD:/Projects/mnist-evaluation/data\\test.csv.zip\nD:/Projects/mnist-evaluation/data\\train.csv\nD:/Projects/mnist-evaluation/data\\train.csv.zip\n"
        }
       ],
       "cell_source": "import numpy as np # linear algebra\nimport pandas as pd # data processing, CSV file I/O (e.g. pd.read_csv)\n\nimport os\nfor dirname, _, filenames in os.walk('D:/Projects/mnist-evaluation/data'):\n    for filename in filenames:\n        print(os.path.join(dirname, filename))",
       "data_values": [
        "D:/Projects/mnist-evaluation/data"
       ],
       "data_vars": [],
       "definitions": [
        {
         "body": [
          {
           "body": [
            {
             "col_offset": 8,
             "dependencies": [
              "os",
              "dirname",
              "filename"
             ],
             "end_col_offset": 46,
             "end_lineno": 7,
             "lineno": 7,
             "name": "print",
             "type": "call"
            }
           ],
           "col_offset": 4,
           "dependencies": [
            "filenames",
            "print"
           ],
           "end_col_offset": 46,
           "end_lineno": 7,
           "lineno": 6,
           "orelse": [],
           "type": "loop"
          }
         ],
         "col_offset": 0,
         "dependencies": [
          "os",
          "print"
         ],
         "end_col_offset": 46,
         "end_lineno": 7,
         "lineno": 5,
         "orelse": [],
         "type": "loop"
        }
       ],
       "execution_count": 1,
       "imports": [
        "np",
        "pd",
        "os"
       ],
       "local": [
        "dirname",
        "_",
        "filenames",
        "filename"
       ],
       "local_info": {
        "_": "\u001b[1;31mType:\u001b[0m        list\n\u001b[1;31mString form:\u001b[0m []\n\u001b[1;31mLength:\u001b[0m      0\n\u001b[1;31mDocstring:\u001b[0m  \nBuilt-in mutable sequence.\n\nIf no argument is given, the constructor creates a new empty list.\nThe argument must be an iterable if specified.\n",
        "dirname": "\u001b[1;31mType:\u001b[0m        str\n\u001b[1;31mString form:\u001b[0m D:/Projects/mnist-evaluation/data\n\u001b[1;31mLength:\u001b[0m      33\n\u001b[1;31mDocstring:\u001b[0m  \nstr(object='') -> str\nstr(bytes_or_buffer[, encoding[, errors]]) -> str\n\nCreate a new string object from the given object. If encoding or\nerrors is specified, then the object must expose a data buffer\nthat will be decoded using the given encoding and error handler.\nOtherwise, returns the result of object.__str__() (if defined)\nor repr(object).\nencoding defaults to sys.getdefaultencoding().\nerrors defaults to 'strict'.\n",
        "filename": "\u001b[1;31mType:\u001b[0m        str\n\u001b[1;31mString form:\u001b[0m train.csv.zip\n\u001b[1;31mLength:\u001b[0m      13\n\u001b[1;31mDocstring:\u001b[0m  \nstr(object='') -> str\nstr(bytes_or_buffer[, encoding[, errors]]) -> str\n\nCreate a new string object from the given object. If encoding or\nerrors is specified, then the object must expose a data buffer\nthat will be decoded using the given encoding and error handler.\nOtherwise, returns the result of object.__str__() (if defined)\nor repr(object).\nencoding defaults to sys.getdefaultencoding().\nerrors defaults to 'strict'.\n",
        "filenames": "\u001b[1;31mType:\u001b[0m        list\n\u001b[1;31mString form:\u001b[0m ['test.csv', 'test.csv.zip', 'train.csv', 'train.csv.zip']\n\u001b[1;31mLength:\u001b[0m      4\n\u001b[1;31mDocstring:\u001b[0m  \nBuilt-in mutable sequence.\n\nIf no argument is given, the constructor creates a new empty list.\nThe argument must be an iterable if specified.\n"
       },
       "remote": [
        "print"
       ],
       "time": "Thu, 24 Jun 2021 10:11:14 GMT",
       "type": "execution"
      },
      {
       "cell_id": "a72943a4-63ab-4c38-a3ee-18d4eb54a56b",
       "cell_outputs": [
        {
         "data": {
          "text/html": "<div>\n<style scoped>\n    .dataframe tbody tr th:only-of-type {\n        vertical-align: middle;\n    }\n\n    .dataframe tbody tr th {\n        vertical-align: top;\n    }\n\n    .dataframe thead th {\n        text-align: right;\n    }\n</style>\n<table border=\"1\" class=\"dataframe\">\n  <thead>\n    <tr style=\"text-align: right;\">\n      <th></th>\n      <th>label</th>\n      <th>pixel0</th>\n      <th>pixel1</th>\n      <th>pixel2</th>\n      <th>pixel3</th>\n      <th>pixel4</th>\n      <th>pixel5</th>\n      <th>pixel6</th>\n      <th>pixel7</th>\n      <th>pixel8</th>\n      <th>...</th>\n      <th>pixel774</th>\n      <th>pixel775</th>\n      <th>pixel776</th>\n      <th>pixel777</th>\n      <th>pixel778</th>\n      <th>pixel779</th>\n      <th>pixel780</th>\n      <th>pixel781</th>\n      <th>pixel782</th>\n      <th>pixel783</th>\n    </tr>\n  </thead>\n  <tbody>\n    <tr>\n      <th>0</th>\n      <td>1</td>\n      <td>0</td>\n      <td>0</td>\n      <td>0</td>\n      <td>0</td>\n      <td>0</td>\n      <td>0</td>\n      <td>0</td>\n      <td>0</td>\n      <td>0</td>\n      <td>...</td>\n      <td>0</td>\n      <td>0</td>\n      <td>0</td>\n      <td>0</td>\n      <td>0</td>\n      <td>0</td>\n      <td>0</td>\n      <td>0</td>\n      <td>0</td>\n      <td>0</td>\n    </tr>\n    <tr>\n      <th>1</th>\n      <td>0</td>\n      <td>0</td>\n      <td>0</td>\n      <td>0</td>\n      <td>0</td>\n      <td>0</td>\n      <td>0</td>\n      <td>0</td>\n      <td>0</td>\n      <td>0</td>\n      <td>...</td>\n      <td>0</td>\n      <td>0</td>\n      <td>0</td>\n      <td>0</td>\n      <td>0</td>\n      <td>0</td>\n      <td>0</td>\n      <td>0</td>\n      <td>0</td>\n      <td>0</td>\n    </tr>\n    <tr>\n      <th>2</th>\n      <td>1</td>\n      <td>0</td>\n      <td>0</td>\n      <td>0</td>\n      <td>0</td>\n      <td>0</td>\n      <td>0</td>\n      <td>0</td>\n      <td>0</td>\n      <td>0</td>\n      <td>...</td>\n      <td>0</td>\n      <td>0</td>\n      <td>0</td>\n      <td>0</td>\n      <td>0</td>\n      <td>0</td>\n      <td>0</td>\n      <td>0</td>\n      <td>0</td>\n      <td>0</td>\n    </tr>\n    <tr>\n      <th>3</th>\n      <td>4</td>\n      <td>0</td>\n      <td>0</td>\n      <td>0</td>\n      <td>0</td>\n      <td>0</td>\n      <td>0</td>\n      <td>0</td>\n      <td>0</td>\n      <td>0</td>\n      <td>...</td>\n      <td>0</td>\n      <td>0</td>\n      <td>0</td>\n      <td>0</td>\n      <td>0</td>\n      <td>0</td>\n      <td>0</td>\n      <td>0</td>\n      <td>0</td>\n      <td>0</td>\n    </tr>\n    <tr>\n      <th>4</th>\n      <td>0</td>\n      <td>0</td>\n      <td>0</td>\n      <td>0</td>\n      <td>0</td>\n      <td>0</td>\n      <td>0</td>\n      <td>0</td>\n      <td>0</td>\n      <td>0</td>\n      <td>...</td>\n      <td>0</td>\n      <td>0</td>\n      <td>0</td>\n      <td>0</td>\n      <td>0</td>\n      <td>0</td>\n      <td>0</td>\n      <td>0</td>\n      <td>0</td>\n      <td>0</td>\n    </tr>\n  </tbody>\n</table>\n<p>5 rows × 785 columns</p>\n</div>",
          "text/plain": "   label  pixel0  pixel1  pixel2  pixel3  pixel4  pixel5  pixel6  pixel7  \\\n0      1       0       0       0       0       0       0       0       0   \n1      0       0       0       0       0       0       0       0       0   \n2      1       0       0       0       0       0       0       0       0   \n3      4       0       0       0       0       0       0       0       0   \n4      0       0       0       0       0       0       0       0       0   \n\n   pixel8  ...  pixel774  pixel775  pixel776  pixel777  pixel778  pixel779  \\\n0       0  ...         0         0         0         0         0         0   \n1       0  ...         0         0         0         0         0         0   \n2       0  ...         0         0         0         0         0         0   \n3       0  ...         0         0         0         0         0         0   \n4       0  ...         0         0         0         0         0         0   \n\n   pixel780  pixel781  pixel782  pixel783  \n0         0         0         0         0  \n1         0         0         0         0  \n2         0         0         0         0  \n3         0         0         0         0  \n4         0         0         0         0  \n\n[5 rows x 785 columns]"
         },
         "execution_count": 2,
         "metadata": {},
         "output_type": "execute_result"
        }
       ],
       "cell_source": "df=pd.read_csv('D:/Projects/mnist-evaluation/data/train.csv')\ndf.head()",
       "data_values": [
        "D:/Projects/mnist-evaluation/data/train.csv"
       ],
       "data_vars": [
        "df"
       ],
       "definitions": [
        {
         "col_offset": 0,
         "dependencies": [
          "pd"
         ],
         "end_col_offset": 61,
         "end_lineno": 1,
         "lineno": 1,
         "name": "df",
         "type": "assign"
        },
        {
         "col_offset": 0,
         "dependencies": [],
         "end_col_offset": 9,
         "end_lineno": 2,
         "lineno": 2,
         "name": "df",
         "type": "call"
        }
       ],
       "execution_count": 2,
       "imports": [],
       "local": [
        "df"
       ],
       "local_info": {
        "df": "\u001b[1;31mType:\u001b[0m        DataFrame\n\u001b[1;31mString form:\u001b[0m\n       label  pixel0  pixel1  pixel2  pixel3  pixel4  pixel5  pixel6  pixel7  \\\n0          1       0       0       0       0       0       0       0       0   \n1          0       0       0       0       0       0       0       0       0   \n2          1       0       0       0       0       0       0       0       0   \n3          4       0       0       0       0       0       0       0       0   \n4          0       0       0       0       0       0       0       0       0   \n...      ...     ...     ...     ...     ...     ...     ...     ...     ...   \n41995      0       0       0       0       0       0       0       0       0   \n41996      1       0       0       0       0       0       0       0       0   \n41997      7       0       0       0       0       0       0       0       0   \n41998      6       0       0       0       0       0       0       0       0   \n41999      9       0       0       0       0       0       0       0       0   \n\n       pixel8  ...  pixel774  pixel775  pixel776  pixel777  pixel778  \\\n0           0  ...         0         0         0         0         0   \n1           0  ...         0         0         0         0         0   \n2           0  ...         0         0         0         0         0   \n3           0  ...         0         0         0         0         0   \n4           0  ...         0         0         0         0         0   \n...       ...  ...       ...       ...       ...       ...       ...   \n41995       0  ...         0         0         0         0         0   \n41996       0  ...         0         0         0         0         0   \n41997       0  ...         0         0         0         0         0   \n41998       0  ...         0         0         0         0         0   \n41999       0  ...         0         0         0         0         0   \n\n       pixel779  pixel780  pixel781  pixel782  pixel783  \n0             0         0         0         0         0  \n1             0         0         0         0         0  \n2             0         0         0         0         0  \n3             0         0         0         0         0  \n4             0         0         0         0         0  \n...         ...       ...       ...       ...       ...  \n41995         0         0         0         0         0  \n41996         0         0         0         0         0  \n41997         0         0         0         0         0  \n41998         0         0         0         0         0  \n41999         0         0         0         0         0  \n\n[42000 rows x 785 columns]\n\u001b[1;31mLength:\u001b[0m      42000\n\u001b[1;31mFile:\u001b[0m        c:\\program files\\python39\\lib\\site-packages\\pandas\\core\\frame.py\n"
       },
       "remote": [
        "pd"
       ],
       "time": "Thu, 24 Jun 2021 10:11:15 GMT",
       "type": "execution"
      },
      {
       "cell_id": "34df347d-620d-4ae6-b407-4654163e57aa",
       "cell_outputs": [
        {
         "data": {
          "text/html": "<div>\n<style scoped>\n    .dataframe tbody tr th:only-of-type {\n        vertical-align: middle;\n    }\n\n    .dataframe tbody tr th {\n        vertical-align: top;\n    }\n\n    .dataframe thead th {\n        text-align: right;\n    }\n</style>\n<table border=\"1\" class=\"dataframe\">\n  <thead>\n    <tr style=\"text-align: right;\">\n      <th></th>\n      <th>pixel0</th>\n      <th>pixel1</th>\n      <th>pixel2</th>\n      <th>pixel3</th>\n      <th>pixel4</th>\n      <th>pixel5</th>\n      <th>pixel6</th>\n      <th>pixel7</th>\n      <th>pixel8</th>\n      <th>pixel9</th>\n      <th>...</th>\n      <th>pixel774</th>\n      <th>pixel775</th>\n      <th>pixel776</th>\n      <th>pixel777</th>\n      <th>pixel778</th>\n      <th>pixel779</th>\n      <th>pixel780</th>\n      <th>pixel781</th>\n      <th>pixel782</th>\n      <th>pixel783</th>\n    </tr>\n  </thead>\n  <tbody>\n    <tr>\n      <th>0</th>\n      <td>0</td>\n      <td>0</td>\n      <td>0</td>\n      <td>0</td>\n      <td>0</td>\n      <td>0</td>\n      <td>0</td>\n      <td>0</td>\n      <td>0</td>\n      <td>0</td>\n      <td>...</td>\n      <td>0</td>\n      <td>0</td>\n      <td>0</td>\n      <td>0</td>\n      <td>0</td>\n      <td>0</td>\n      <td>0</td>\n      <td>0</td>\n      <td>0</td>\n      <td>0</td>\n    </tr>\n    <tr>\n      <th>1</th>\n      <td>0</td>\n      <td>0</td>\n      <td>0</td>\n      <td>0</td>\n      <td>0</td>\n      <td>0</td>\n      <td>0</td>\n      <td>0</td>\n      <td>0</td>\n      <td>0</td>\n      <td>...</td>\n      <td>0</td>\n      <td>0</td>\n      <td>0</td>\n      <td>0</td>\n      <td>0</td>\n      <td>0</td>\n      <td>0</td>\n      <td>0</td>\n      <td>0</td>\n      <td>0</td>\n    </tr>\n    <tr>\n      <th>2</th>\n      <td>0</td>\n      <td>0</td>\n      <td>0</td>\n      <td>0</td>\n      <td>0</td>\n      <td>0</td>\n      <td>0</td>\n      <td>0</td>\n      <td>0</td>\n      <td>0</td>\n      <td>...</td>\n      <td>0</td>\n      <td>0</td>\n      <td>0</td>\n      <td>0</td>\n      <td>0</td>\n      <td>0</td>\n      <td>0</td>\n      <td>0</td>\n      <td>0</td>\n      <td>0</td>\n    </tr>\n    <tr>\n      <th>3</th>\n      <td>0</td>\n      <td>0</td>\n      <td>0</td>\n      <td>0</td>\n      <td>0</td>\n      <td>0</td>\n      <td>0</td>\n      <td>0</td>\n      <td>0</td>\n      <td>0</td>\n      <td>...</td>\n      <td>0</td>\n      <td>0</td>\n      <td>0</td>\n      <td>0</td>\n      <td>0</td>\n      <td>0</td>\n      <td>0</td>\n      <td>0</td>\n      <td>0</td>\n      <td>0</td>\n    </tr>\n    <tr>\n      <th>4</th>\n      <td>0</td>\n      <td>0</td>\n      <td>0</td>\n      <td>0</td>\n      <td>0</td>\n      <td>0</td>\n      <td>0</td>\n      <td>0</td>\n      <td>0</td>\n      <td>0</td>\n      <td>...</td>\n      <td>0</td>\n      <td>0</td>\n      <td>0</td>\n      <td>0</td>\n      <td>0</td>\n      <td>0</td>\n      <td>0</td>\n      <td>0</td>\n      <td>0</td>\n      <td>0</td>\n    </tr>\n  </tbody>\n</table>\n<p>5 rows × 784 columns</p>\n</div>",
          "text/plain": "   pixel0  pixel1  pixel2  pixel3  pixel4  pixel5  pixel6  pixel7  pixel8  \\\n0       0       0       0       0       0       0       0       0       0   \n1       0       0       0       0       0       0       0       0       0   \n2       0       0       0       0       0       0       0       0       0   \n3       0       0       0       0       0       0       0       0       0   \n4       0       0       0       0       0       0       0       0       0   \n\n   pixel9  ...  pixel774  pixel775  pixel776  pixel777  pixel778  pixel779  \\\n0       0  ...         0         0         0         0         0         0   \n1       0  ...         0         0         0         0         0         0   \n2       0  ...         0         0         0         0         0         0   \n3       0  ...         0         0         0         0         0         0   \n4       0  ...         0         0         0         0         0         0   \n\n   pixel780  pixel781  pixel782  pixel783  \n0         0         0         0         0  \n1         0         0         0         0  \n2         0         0         0         0  \n3         0         0         0         0  \n4         0         0         0         0  \n\n[5 rows x 784 columns]"
         },
         "execution_count": 3,
         "metadata": {},
         "output_type": "execute_result"
        }
       ],
       "cell_source": "test=pd.read_csv('D:/Projects/mnist-evaluation/data/test.csv')\ntest.head()",
       "data_values": [
        "D:/Projects/mnist-evaluation/data/test.csv"
       ],
       "data_vars": [
        "test"
       ],
       "definitions": [
        {
         "col_offset": 0,
         "dependencies": [
          "pd"
         ],
         "end_col_offset": 62,
         "end_lineno": 1,
         "lineno": 1,
         "name": "test",
         "type": "assign"
        },
        {
         "col_offset": 0,
         "dependencies": [],
         "end_col_offset": 11,
         "end_lineno": 2,
         "lineno": 2,
         "name": "test",
         "type": "call"
        }
       ],
       "execution_count": 3,
       "imports": [],
       "local": [
        "test"
       ],
       "local_info": {
        "test": "\u001b[1;31mType:\u001b[0m        DataFrame\n\u001b[1;31mString form:\u001b[0m\n       pixel0  pixel1  pixel2  pixel3  pixel4  pixel5  pixel6  pixel7  pixel8  \\\n0           0       0       0       0       0       0       0       0       0   \n1           0       0       0       0       0       0       0       0       0   \n2           0       0       0       0       0       0       0       0       0   \n3           0       0       0       0       0       0       0       0       0   \n4           0       0       0       0       0       0       0       0       0   \n...       ...     ...     ...     ...     ...     ...     ...     ...     ...   \n27995       0       0       0       0       0       0       0       0       0   \n27996       0       0       0       0       0       0       0       0       0   \n27997       0       0       0       0       0       0       0       0       0   \n27998       0       0       0       0       0       0       0       0       0   \n27999       0       0       0       0       0       0       0       0       0   \n\n       pixel9  ...  pixel774  pixel775  pixel776  pixel777  pixel778  \\\n0           0  ...         0         0         0         0         0   \n1           0  ...         0         0         0         0         0   \n2           0  ...         0         0         0         0         0   \n3           0  ...         0         0         0         0         0   \n4           0  ...         0         0         0         0         0   \n...       ...  ...       ...       ...       ...       ...       ...   \n27995       0  ...         0         0         0         0         0   \n27996       0  ...         0         0         0         0         0   \n27997       0  ...         0         0         0         0         0   \n27998       0  ...         0         0         0         0         0   \n27999       0  ...         0         0         0         0         0   \n\n       pixel779  pixel780  pixel781  pixel782  pixel783  \n0             0         0         0         0         0  \n1             0         0         0         0         0  \n2             0         0         0         0         0  \n3             0         0         0         0         0  \n4             0         0         0         0         0  \n...         ...       ...       ...       ...       ...  \n27995         0         0         0         0         0  \n27996         0         0         0         0         0  \n27997         0         0         0         0         0  \n27998         0         0         0         0         0  \n27999         0         0         0         0         0  \n\n[28000 rows x 784 columns]\n\u001b[1;31mLength:\u001b[0m      28000\n\u001b[1;31mFile:\u001b[0m        c:\\program files\\python39\\lib\\site-packages\\pandas\\core\\frame.py\n"
       },
       "remote": [
        "pd"
       ],
       "time": "Thu, 24 Jun 2021 10:11:16 GMT",
       "type": "execution"
      },
      {
       "cell_id": "f12d4d25-9e8d-463c-922f-c2d14f0c014d",
       "cell_outputs": [],
       "cell_source": "print(df.shape)\nprint(test.shape)",
       "data_values": [],
       "data_vars": [],
       "definitions": [
        {
         "col_offset": 0,
         "dependencies": [
          "df"
         ],
         "end_col_offset": 15,
         "end_lineno": 1,
         "lineno": 1,
         "name": "print",
         "type": "call"
        },
        {
         "col_offset": 0,
         "dependencies": [
          "test"
         ],
         "end_col_offset": 17,
         "end_lineno": 2,
         "lineno": 2,
         "name": "print",
         "type": "call"
        }
       ],
       "execution_count": 4,
       "imports": [],
       "local": [],
       "local_info": {},
       "remote": [
        "print",
        "df",
        "test"
       ],
       "time": "Thu, 24 Jun 2021 10:11:16 GMT",
       "type": "execution"
      },
      {
       "cell_id": "ad46fe5c-252b-417f-8dcd-4c783c6c8303",
       "cell_outputs": [],
       "cell_source": "X=df.drop(\"label\",axis=1).values\ny=df[\"label\"].values",
       "data_values": [],
       "data_vars": [],
       "definitions": [
        {
         "col_offset": 0,
         "dependencies": [
          "df"
         ],
         "end_col_offset": 32,
         "end_lineno": 1,
         "lineno": 1,
         "name": "X",
         "type": "assign"
        },
        {
         "col_offset": 0,
         "dependencies": [
          "df"
         ],
         "end_col_offset": 20,
         "end_lineno": 2,
         "lineno": 2,
         "name": "y",
         "type": "assign"
        }
       ],
       "execution_count": 5,
       "imports": [],
       "local": [
        "X",
        "y"
       ],
       "local_info": {
        "X": "\u001b[1;31mType:\u001b[0m            ndarray\n\u001b[1;31mString form:\u001b[0m    \n[[0 0 0 ... 0 0 0]\n [0 0 0 ... 0 0 0]\n [0 0 0 ... 0 0 0]\n ...\n [0 0 0 ... 0 0 0]\n [0 0 0 ... 0 0 0]\n [0 0 0 ... 0 0 0]]\n\u001b[1;31mLength:\u001b[0m          42000\n\u001b[1;31mFile:\u001b[0m            c:\\program files\\python39\\lib\\site-packages\\numpy\\__init__.py\n\u001b[1;31mDocstring:\u001b[0m       <no docstring>\n",
        "y": "\u001b[1;31mType:\u001b[0m            ndarray\n\u001b[1;31mString form:\u001b[0m     [1 0 1 ... 7 6 9]\n\u001b[1;31mLength:\u001b[0m          42000\n\u001b[1;31mFile:\u001b[0m            c:\\program files\\python39\\lib\\site-packages\\numpy\\__init__.py\n\u001b[1;31mDocstring:\u001b[0m       <no docstring>\n"
       },
       "remote": [
        "df"
       ],
       "time": "Thu, 24 Jun 2021 10:11:16 GMT",
       "type": "execution"
      },
      {
       "cell_id": "038549c3-bfa1-48ec-bad9-0d9650a763c2",
       "cell_outputs": [
        {
         "name": "stdout",
         "output_type": "stream",
         "text": "(42000, 784)\n(42000,)\n(28000, 784)\n"
        }
       ],
       "cell_source": "print(X.shape)\nprint(y.shape)\nprint(test.shape)",
       "data_values": [],
       "data_vars": [],
       "definitions": [
        {
         "col_offset": 0,
         "dependencies": [
          "X"
         ],
         "end_col_offset": 14,
         "end_lineno": 1,
         "lineno": 1,
         "name": "print",
         "type": "call"
        },
        {
         "col_offset": 0,
         "dependencies": [
          "y"
         ],
         "end_col_offset": 14,
         "end_lineno": 2,
         "lineno": 2,
         "name": "print",
         "type": "call"
        },
        {
         "col_offset": 0,
         "dependencies": [
          "test"
         ],
         "end_col_offset": 17,
         "end_lineno": 3,
         "lineno": 3,
         "name": "print",
         "type": "call"
        }
       ],
       "execution_count": 6,
       "imports": [],
       "local": [],
       "local_info": {},
       "remote": [
        "print",
        "X",
        "y",
        "test"
       ],
       "time": "Thu, 24 Jun 2021 10:11:16 GMT",
       "type": "execution"
      },
      {
       "cell_id": "e9c2acd7-49d8-4ed9-a700-30f16a67eb95",
       "cell_outputs": [
        {
         "data": {
          "text/plain": "<AxesSubplot:xlabel='label', ylabel='count'>"
         },
         "execution_count": 7,
         "metadata": {},
         "output_type": "execute_result"
        },
        {
         "data": {
          "image/png": "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\n",
          "text/plain": "<Figure size 1080x720 with 1 Axes>"
         },
         "metadata": {
          "needs_background": "light"
         },
         "output_type": "display_data"
        }
       ],
       "cell_source": "import matplotlib.pyplot as plt\nimport seaborn as sns\nplt.figure(figsize=(15,10))\nsns.set_style(\"darkgrid\")\nsns.countplot(x=\"label\",data=df)",
       "data_values": [],
       "data_vars": [],
       "definitions": [
        {
         "col_offset": 0,
         "dependencies": [],
         "end_col_offset": 27,
         "end_lineno": 3,
         "lineno": 3,
         "name": "plt",
         "type": "call"
        },
        {
         "col_offset": 0,
         "dependencies": [],
         "end_col_offset": 25,
         "end_lineno": 4,
         "lineno": 4,
         "name": "sns",
         "type": "call"
        },
        {
         "col_offset": 0,
         "dependencies": [
          "df"
         ],
         "end_col_offset": 32,
         "end_lineno": 5,
         "lineno": 5,
         "name": "sns",
         "type": "call"
        }
       ],
       "execution_count": 7,
       "imports": [
        "plt",
        "sns"
       ],
       "local": [],
       "local_info": {},
       "remote": [
        "df"
       ],
       "time": "Thu, 24 Jun 2021 10:11:17 GMT",
       "type": "execution"
      },
      {
       "cell_id": "3de190c7-4e2c-4f2d-83a0-f7641525ab82",
       "cell_outputs": [
        {
         "name": "stdout",
         "output_type": "stream",
         "text": "(39900, 784)\n(2100, 784)\n(39900,)\n(2100,)\n"
        }
       ],
       "cell_source": "from sklearn.model_selection import train_test_split\nX_train, X_test, y_train, y_test = train_test_split(X,y, test_size=0.05, random_state=42)\nprint(X_train.shape)\nprint(X_test.shape)\nprint(y_train.shape)\nprint(y_test.shape)",
       "data_values": [],
       "data_vars": [],
       "definitions": [
        {
         "col_offset": 0,
         "dependencies": [
          "train_test_split",
          "X",
          "y"
         ],
         "end_col_offset": 89,
         "end_lineno": 2,
         "lineno": 2,
         "name": "X_train",
         "type": "assign"
        },
        {
         "col_offset": 0,
         "dependencies": [
          "train_test_split",
          "X",
          "y"
         ],
         "end_col_offset": 89,
         "end_lineno": 2,
         "lineno": 2,
         "name": "X_test",
         "type": "assign"
        },
        {
         "col_offset": 0,
         "dependencies": [
          "train_test_split",
          "X",
          "y"
         ],
         "end_col_offset": 89,
         "end_lineno": 2,
         "lineno": 2,
         "name": "y_train",
         "type": "assign"
        },
        {
         "col_offset": 0,
         "dependencies": [
          "train_test_split",
          "X",
          "y"
         ],
         "end_col_offset": 89,
         "end_lineno": 2,
         "lineno": 2,
         "name": "y_test",
         "type": "assign"
        },
        {
         "col_offset": 0,
         "dependencies": [
          "X_train"
         ],
         "end_col_offset": 20,
         "end_lineno": 3,
         "lineno": 3,
         "name": "print",
         "type": "call"
        },
        {
         "col_offset": 0,
         "dependencies": [
          "X_test"
         ],
         "end_col_offset": 19,
         "end_lineno": 4,
         "lineno": 4,
         "name": "print",
         "type": "call"
        },
        {
         "col_offset": 0,
         "dependencies": [
          "y_train"
         ],
         "end_col_offset": 20,
         "end_lineno": 5,
         "lineno": 5,
         "name": "print",
         "type": "call"
        },
        {
         "col_offset": 0,
         "dependencies": [
          "y_test"
         ],
         "end_col_offset": 19,
         "end_lineno": 6,
         "lineno": 6,
         "name": "print",
         "type": "call"
        }
       ],
       "execution_count": 8,
       "imports": [
        "train_test_split"
       ],
       "local": [
        "X_train",
        "X_test",
        "y_train",
        "y_test"
       ],
       "local_info": {
        "X_test": "\u001b[1;31mType:\u001b[0m            ndarray\n\u001b[1;31mString form:\u001b[0m    \n[[0 0 0 ... 0 0 0]\n [0 0 0 ... 0 0 0]\n [0 0 0 ... 0 0 0]\n ...\n [0 0 0 ... 0 0 0]\n [0 0 0 ... 0 0 0]\n [0 0 0 ... 0 0 0]]\n\u001b[1;31mLength:\u001b[0m          2100\n\u001b[1;31mFile:\u001b[0m            c:\\program files\\python39\\lib\\site-packages\\numpy\\__init__.py\n\u001b[1;31mDocstring:\u001b[0m       <no docstring>\n",
        "X_train": "\u001b[1;31mType:\u001b[0m            ndarray\n\u001b[1;31mString form:\u001b[0m    \n[[0 0 0 ... 0 0 0]\n [0 0 0 ... 0 0 0]\n [0 0 0 ... 0 0 0]\n ...\n [0 0 0 ... 0 0 0]\n [0 0 0 ... 0 0 0]\n [0 0 0 ... 0 0 0]]\n\u001b[1;31mLength:\u001b[0m          39900\n\u001b[1;31mFile:\u001b[0m            c:\\program files\\python39\\lib\\site-packages\\numpy\\__init__.py\n\u001b[1;31mDocstring:\u001b[0m       <no docstring>\n",
        "y_test": "\u001b[1;31mType:\u001b[0m            ndarray\n\u001b[1;31mString form:\u001b[0m     [8 1 9 ... 9 5 4]\n\u001b[1;31mLength:\u001b[0m          2100\n\u001b[1;31mFile:\u001b[0m            c:\\program files\\python39\\lib\\site-packages\\numpy\\__init__.py\n\u001b[1;31mDocstring:\u001b[0m       <no docstring>\n",
        "y_train": "\u001b[1;31mType:\u001b[0m            ndarray\n\u001b[1;31mString form:\u001b[0m     [3 3 4 ... 2 6 0]\n\u001b[1;31mLength:\u001b[0m          39900\n\u001b[1;31mFile:\u001b[0m            c:\\program files\\python39\\lib\\site-packages\\numpy\\__init__.py\n\u001b[1;31mDocstring:\u001b[0m       <no docstring>\n"
       },
       "remote": [
        "X",
        "y",
        "print"
       ],
       "time": "Thu, 24 Jun 2021 10:11:17 GMT",
       "type": "execution"
      },
      {
       "cell_id": "7a5e00e0-9ba5-424c-a5ef-67bbb2fff1df",
       "cell_outputs": [],
       "cell_source": "from sklearn.ensemble import RandomForestClassifier\nrandom=RandomForestClassifier()\nrandom.fit(X_train,y_train)\nrandom_predictions= random.predict(X_test)",
       "data_values": [],
       "data_vars": [],
       "definitions": [
        {
         "col_offset": 0,
         "dependencies": [
          "RandomForestClassifier"
         ],
         "end_col_offset": 31,
         "end_lineno": 2,
         "lineno": 2,
         "name": "random",
         "type": "assign"
        },
        {
         "col_offset": 0,
         "dependencies": [
          "X_train",
          "y_train"
         ],
         "end_col_offset": 27,
         "end_lineno": 3,
         "lineno": 3,
         "name": "random",
         "type": "call"
        },
        {
         "col_offset": 0,
         "dependencies": [
          "random",
          "X_test"
         ],
         "end_col_offset": 42,
         "end_lineno": 4,
         "lineno": 4,
         "name": "random_predictions",
         "type": "assign"
        }
       ],
       "execution_count": 9,
       "imports": [
        "RandomForestClassifier"
       ],
       "local": [
        "random",
        "random_predictions"
       ],
       "local_info": {
        "random": "\u001b[1;31mType:\u001b[0m        RandomForestClassifier\n\u001b[1;31mString form:\u001b[0m RandomForestClassifier()\n\u001b[1;31mLength:\u001b[0m      100\n\u001b[1;31mFile:\u001b[0m        c:\\program files\\python39\\lib\\site-packages\\sklearn\\ensemble\\_forest.py\n",
        "random_predictions": "\u001b[1;31mType:\u001b[0m            ndarray\n\u001b[1;31mString form:\u001b[0m     [8 1 9 ... 9 5 4]\n\u001b[1;31mLength:\u001b[0m          2100\n\u001b[1;31mFile:\u001b[0m            c:\\program files\\python39\\lib\\site-packages\\numpy\\__init__.py\n\u001b[1;31mDocstring:\u001b[0m       <no docstring>\n"
       },
       "remote": [
        "X_train",
        "y_train",
        "X_test"
       ],
       "time": "Thu, 24 Jun 2021 10:11:33 GMT",
       "type": "execution"
      },
      {
       "cell_id": "3b08dd40-fd64-4da1-8089-b563cb688835",
       "cell_outputs": [],
       "cell_source": "from sklearn.metrics import classification_report, confusion_matrix,accuracy_score",
       "data_values": [],
       "data_vars": [],
       "definitions": [],
       "execution_count": 10,
       "imports": [
        "classification_report",
        "confusion_matrix",
        "accuracy_score"
       ],
       "local": [],
       "local_info": {},
       "remote": [],
       "time": "Thu, 24 Jun 2021 10:11:33 GMT",
       "type": "execution"
      },
      {
       "cell_id": "c05c74c1-0cd4-4e00-8b3c-78aec294345f",
       "cell_outputs": [
        {
         "name": "stdout",
         "output_type": "stream",
         "text": "              precision    recall  f1-score   support\n\n           0       0.99      0.99      0.99       216\n           1       0.99      0.99      0.99       234\n           2       0.96      0.94      0.95       222\n           3       0.97      0.96      0.96       260\n           4       0.94      0.97      0.96       196\n           5       0.96      0.95      0.95       160\n           6       0.98      0.98      0.98       199\n           7       0.97      0.97      0.97       230\n           8       0.95      0.95      0.95       191\n           9       0.93      0.94      0.94       192\n\n    accuracy                           0.96      2100\n   macro avg       0.96      0.96      0.96      2100\nweighted avg       0.96      0.96      0.96      2100\n\n[[213   0   1   0   0   0   2   0   0   0]\n [  0 231   1   1   0   0   0   1   0   0]\n [  0   2 209   0   5   0   1   2   2   1]\n [  0   0   2 249   0   3   0   1   2   3]\n [  0   0   0   0 191   0   1   0   0   4]\n [  0   0   0   3   0 152   0   1   2   2]\n [  1   0   1   0   0   1 195   0   1   0]\n [  0   0   1   0   3   0   0 223   1   2]\n [  1   1   2   1   1   2   0   0 182   1]\n [  1   0   1   3   3   1   0   2   1 180]]\n0.9642857142857143\n"
        }
       ],
       "cell_source": "print(classification_report(y_test, random_predictions))\nprint(confusion_matrix(y_test,random_predictions))\nprint(accuracy_score(y_test, random_predictions))",
       "data_values": [],
       "data_vars": [],
       "definitions": [
        {
         "col_offset": 0,
         "dependencies": [
          "classification_report",
          "y_test",
          "random_predictions"
         ],
         "end_col_offset": 56,
         "end_lineno": 1,
         "lineno": 1,
         "name": "print",
         "type": "call"
        },
        {
         "col_offset": 0,
         "dependencies": [
          "confusion_matrix",
          "y_test",
          "random_predictions"
         ],
         "end_col_offset": 50,
         "end_lineno": 2,
         "lineno": 2,
         "name": "print",
         "type": "call"
        },
        {
         "col_offset": 0,
         "dependencies": [
          "accuracy_score",
          "y_test",
          "random_predictions"
         ],
         "end_col_offset": 49,
         "end_lineno": 3,
         "lineno": 3,
         "name": "print",
         "type": "call"
        }
       ],
       "execution_count": 11,
       "imports": [],
       "local": [],
       "local_info": {},
       "remote": [
        "print",
        "classification_report",
        "y_test",
        "random_predictions",
        "confusion_matrix",
        "accuracy_score"
       ],
       "time": "Thu, 24 Jun 2021 10:11:33 GMT",
       "type": "execution"
      }
     ],
     "environment": {
      "kernel": {
       "implementation": "ipython",
       "version": "7.22.0"
      },
      "language_info": {
       "mimetype": "text/x-python",
       "name": "python",
       "version": "3.9.2"
      },
      "time": "Thu, 24 Jun 2021 10:11:14 GMT",
      "user_agent": "Mozilla/5.0 (Windows NT 10.0; Win64; x64; rv:89.0) Gecko/20100101 Firefox/89.0"
     },
     "modules": {
      "matplotlib.pyplot": {
       "alias": "plt",
       "version": ""
      },
      "numpy": {
       "alias": "np",
       "version": "1.19.5"
      },
      "os": {
       "version": ""
      },
      "pandas": {
       "alias": "pd",
       "version": "1.2.3"
      },
      "seaborn": {
       "alias": "sns",
       "version": "0.11.1"
      },
      "sklearn.ensemble": {
       "imports": [
        "RandomForestClassifier"
       ],
       "version": ""
      },
      "sklearn.metrics": {
       "imports": [
        "classification_report",
        "confusion_matrix",
        "accuracy_score"
       ],
       "version": ""
      },
      "sklearn.model_selection": {
       "imports": [
        "train_test_split"
       ],
       "version": ""
      }
     }
    },
    {
     "cells": [
      "57164f3c-adbd-4774-a02f-2e961750f5e4",
      "a72943a4-63ab-4c38-a3ee-18d4eb54a56b",
      "34df347d-620d-4ae6-b407-4654163e57aa",
      "f12d4d25-9e8d-463c-922f-c2d14f0c014d",
      "ad46fe5c-252b-417f-8dcd-4c783c6c8303",
      "038549c3-bfa1-48ec-bad9-0d9650a763c2",
      "e9c2acd7-49d8-4ed9-a700-30f16a67eb95",
      "3de190c7-4e2c-4f2d-83a0-f7641525ab82",
      "7a5e00e0-9ba5-424c-a5ef-67bbb2fff1df",
      "3b08dd40-fd64-4da1-8089-b563cb688835"
     ],
     "data": [
      {
       "cell_id": "57164f3c-adbd-4774-a02f-2e961750f5e4",
       "cell_outputs": [
        {
         "name": "stdout",
         "output_type": "stream",
         "text": "D:/Projects/mnist-evaluation/data\\test.csv\nD:/Projects/mnist-evaluation/data\\test.csv.zip\nD:/Projects/mnist-evaluation/data\\train.csv\nD:/Projects/mnist-evaluation/data\\train.csv.zip\n"
        }
       ],
       "cell_source": "import numpy as np # linear algebra\nimport pandas as pd # data processing, CSV file I/O (e.g. pd.read_csv)\n\nimport os\nfor dirname, _, filenames in os.walk('D:/Projects/mnist-evaluation/data'):\n    for filename in filenames:\n        print(os.path.join(dirname, filename))",
       "data_values": [
        "D:/Projects/mnist-evaluation/data"
       ],
       "data_vars": [],
       "definitions": [
        {
         "body": [
          {
           "body": [
            {
             "col_offset": 8,
             "dependencies": [
              "os",
              "dirname",
              "filename"
             ],
             "end_col_offset": 46,
             "end_lineno": 7,
             "lineno": 7,
             "name": "print",
             "type": "call"
            }
           ],
           "col_offset": 4,
           "dependencies": [
            "filenames",
            "print"
           ],
           "end_col_offset": 46,
           "end_lineno": 7,
           "lineno": 6,
           "orelse": [],
           "type": "loop"
          }
         ],
         "col_offset": 0,
         "dependencies": [
          "os",
          "print"
         ],
         "end_col_offset": 46,
         "end_lineno": 7,
         "lineno": 5,
         "orelse": [],
         "type": "loop"
        }
       ],
       "execution_count": 1,
       "imports": [
        "np",
        "pd",
        "os"
       ],
       "local": [
        "dirname",
        "_",
        "filenames",
        "filename"
       ],
       "local_info": {
        "_": "\u001b[1;31mType:\u001b[0m        list\n\u001b[1;31mString form:\u001b[0m []\n\u001b[1;31mLength:\u001b[0m      0\n\u001b[1;31mDocstring:\u001b[0m  \nBuilt-in mutable sequence.\n\nIf no argument is given, the constructor creates a new empty list.\nThe argument must be an iterable if specified.\n",
        "dirname": "\u001b[1;31mType:\u001b[0m        str\n\u001b[1;31mString form:\u001b[0m D:/Projects/mnist-evaluation/data\n\u001b[1;31mLength:\u001b[0m      33\n\u001b[1;31mDocstring:\u001b[0m  \nstr(object='') -> str\nstr(bytes_or_buffer[, encoding[, errors]]) -> str\n\nCreate a new string object from the given object. If encoding or\nerrors is specified, then the object must expose a data buffer\nthat will be decoded using the given encoding and error handler.\nOtherwise, returns the result of object.__str__() (if defined)\nor repr(object).\nencoding defaults to sys.getdefaultencoding().\nerrors defaults to 'strict'.\n",
        "filename": "\u001b[1;31mType:\u001b[0m        str\n\u001b[1;31mString form:\u001b[0m train.csv.zip\n\u001b[1;31mLength:\u001b[0m      13\n\u001b[1;31mDocstring:\u001b[0m  \nstr(object='') -> str\nstr(bytes_or_buffer[, encoding[, errors]]) -> str\n\nCreate a new string object from the given object. If encoding or\nerrors is specified, then the object must expose a data buffer\nthat will be decoded using the given encoding and error handler.\nOtherwise, returns the result of object.__str__() (if defined)\nor repr(object).\nencoding defaults to sys.getdefaultencoding().\nerrors defaults to 'strict'.\n",
        "filenames": "\u001b[1;31mType:\u001b[0m        list\n\u001b[1;31mString form:\u001b[0m ['test.csv', 'test.csv.zip', 'train.csv', 'train.csv.zip']\n\u001b[1;31mLength:\u001b[0m      4\n\u001b[1;31mDocstring:\u001b[0m  \nBuilt-in mutable sequence.\n\nIf no argument is given, the constructor creates a new empty list.\nThe argument must be an iterable if specified.\n"
       },
       "remote": [
        "print"
       ],
       "time": "Thu, 24 Jun 2021 10:17:35 GMT",
       "type": "execution"
      },
      {
       "cell_id": "a72943a4-63ab-4c38-a3ee-18d4eb54a56b",
       "cell_outputs": [
        {
         "data": {
          "text/html": "<div>\n<style scoped>\n    .dataframe tbody tr th:only-of-type {\n        vertical-align: middle;\n    }\n\n    .dataframe tbody tr th {\n        vertical-align: top;\n    }\n\n    .dataframe thead th {\n        text-align: right;\n    }\n</style>\n<table border=\"1\" class=\"dataframe\">\n  <thead>\n    <tr style=\"text-align: right;\">\n      <th></th>\n      <th>label</th>\n      <th>pixel0</th>\n      <th>pixel1</th>\n      <th>pixel2</th>\n      <th>pixel3</th>\n      <th>pixel4</th>\n      <th>pixel5</th>\n      <th>pixel6</th>\n      <th>pixel7</th>\n      <th>pixel8</th>\n      <th>...</th>\n      <th>pixel774</th>\n      <th>pixel775</th>\n      <th>pixel776</th>\n      <th>pixel777</th>\n      <th>pixel778</th>\n      <th>pixel779</th>\n      <th>pixel780</th>\n      <th>pixel781</th>\n      <th>pixel782</th>\n      <th>pixel783</th>\n    </tr>\n  </thead>\n  <tbody>\n    <tr>\n      <th>0</th>\n      <td>1</td>\n      <td>0</td>\n      <td>0</td>\n      <td>0</td>\n      <td>0</td>\n      <td>0</td>\n      <td>0</td>\n      <td>0</td>\n      <td>0</td>\n      <td>0</td>\n      <td>...</td>\n      <td>0</td>\n      <td>0</td>\n      <td>0</td>\n      <td>0</td>\n      <td>0</td>\n      <td>0</td>\n      <td>0</td>\n      <td>0</td>\n      <td>0</td>\n      <td>0</td>\n    </tr>\n    <tr>\n      <th>1</th>\n      <td>0</td>\n      <td>0</td>\n      <td>0</td>\n      <td>0</td>\n      <td>0</td>\n      <td>0</td>\n      <td>0</td>\n      <td>0</td>\n      <td>0</td>\n      <td>0</td>\n      <td>...</td>\n      <td>0</td>\n      <td>0</td>\n      <td>0</td>\n      <td>0</td>\n      <td>0</td>\n      <td>0</td>\n      <td>0</td>\n      <td>0</td>\n      <td>0</td>\n      <td>0</td>\n    </tr>\n    <tr>\n      <th>2</th>\n      <td>1</td>\n      <td>0</td>\n      <td>0</td>\n      <td>0</td>\n      <td>0</td>\n      <td>0</td>\n      <td>0</td>\n      <td>0</td>\n      <td>0</td>\n      <td>0</td>\n      <td>...</td>\n      <td>0</td>\n      <td>0</td>\n      <td>0</td>\n      <td>0</td>\n      <td>0</td>\n      <td>0</td>\n      <td>0</td>\n      <td>0</td>\n      <td>0</td>\n      <td>0</td>\n    </tr>\n    <tr>\n      <th>3</th>\n      <td>4</td>\n      <td>0</td>\n      <td>0</td>\n      <td>0</td>\n      <td>0</td>\n      <td>0</td>\n      <td>0</td>\n      <td>0</td>\n      <td>0</td>\n      <td>0</td>\n      <td>...</td>\n      <td>0</td>\n      <td>0</td>\n      <td>0</td>\n      <td>0</td>\n      <td>0</td>\n      <td>0</td>\n      <td>0</td>\n      <td>0</td>\n      <td>0</td>\n      <td>0</td>\n    </tr>\n    <tr>\n      <th>4</th>\n      <td>0</td>\n      <td>0</td>\n      <td>0</td>\n      <td>0</td>\n      <td>0</td>\n      <td>0</td>\n      <td>0</td>\n      <td>0</td>\n      <td>0</td>\n      <td>0</td>\n      <td>...</td>\n      <td>0</td>\n      <td>0</td>\n      <td>0</td>\n      <td>0</td>\n      <td>0</td>\n      <td>0</td>\n      <td>0</td>\n      <td>0</td>\n      <td>0</td>\n      <td>0</td>\n    </tr>\n  </tbody>\n</table>\n<p>5 rows × 785 columns</p>\n</div>",
          "text/plain": "   label  pixel0  pixel1  pixel2  pixel3  pixel4  pixel5  pixel6  pixel7  \\\n0      1       0       0       0       0       0       0       0       0   \n1      0       0       0       0       0       0       0       0       0   \n2      1       0       0       0       0       0       0       0       0   \n3      4       0       0       0       0       0       0       0       0   \n4      0       0       0       0       0       0       0       0       0   \n\n   pixel8  ...  pixel774  pixel775  pixel776  pixel777  pixel778  pixel779  \\\n0       0  ...         0         0         0         0         0         0   \n1       0  ...         0         0         0         0         0         0   \n2       0  ...         0         0         0         0         0         0   \n3       0  ...         0         0         0         0         0         0   \n4       0  ...         0         0         0         0         0         0   \n\n   pixel780  pixel781  pixel782  pixel783  \n0         0         0         0         0  \n1         0         0         0         0  \n2         0         0         0         0  \n3         0         0         0         0  \n4         0         0         0         0  \n\n[5 rows x 785 columns]"
         },
         "execution_count": 2,
         "metadata": {},
         "output_type": "execute_result"
        }
       ],
       "cell_source": "df=pd.read_csv('D:/Projects/mnist-evaluation/data/train.csv')\ndf.head()",
       "data_values": [
        "D:/Projects/mnist-evaluation/data/train.csv"
       ],
       "data_vars": [
        "df"
       ],
       "definitions": [
        {
         "col_offset": 0,
         "dependencies": [
          "pd"
         ],
         "end_col_offset": 61,
         "end_lineno": 1,
         "lineno": 1,
         "name": "df",
         "type": "assign"
        },
        {
         "col_offset": 0,
         "dependencies": [],
         "end_col_offset": 9,
         "end_lineno": 2,
         "lineno": 2,
         "name": "df",
         "type": "call"
        }
       ],
       "execution_count": 2,
       "imports": [],
       "local": [
        "df"
       ],
       "local_info": {
        "df": "\u001b[1;31mType:\u001b[0m        DataFrame\n\u001b[1;31mString form:\u001b[0m\n       label  pixel0  pixel1  pixel2  pixel3  pixel4  pixel5  pixel6  pixel7  \\\n0          1       0       0       0       0       0       0       0       0   \n1          0       0       0       0       0       0       0       0       0   \n2          1       0       0       0       0       0       0       0       0   \n3          4       0       0       0       0       0       0       0       0   \n4          0       0       0       0       0       0       0       0       0   \n...      ...     ...     ...     ...     ...     ...     ...     ...     ...   \n41995      0       0       0       0       0       0       0       0       0   \n41996      1       0       0       0       0       0       0       0       0   \n41997      7       0       0       0       0       0       0       0       0   \n41998      6       0       0       0       0       0       0       0       0   \n41999      9       0       0       0       0       0       0       0       0   \n\n       pixel8  ...  pixel774  pixel775  pixel776  pixel777  pixel778  \\\n0           0  ...         0         0         0         0         0   \n1           0  ...         0         0         0         0         0   \n2           0  ...         0         0         0         0         0   \n3           0  ...         0         0         0         0         0   \n4           0  ...         0         0         0         0         0   \n...       ...  ...       ...       ...       ...       ...       ...   \n41995       0  ...         0         0         0         0         0   \n41996       0  ...         0         0         0         0         0   \n41997       0  ...         0         0         0         0         0   \n41998       0  ...         0         0         0         0         0   \n41999       0  ...         0         0         0         0         0   \n\n       pixel779  pixel780  pixel781  pixel782  pixel783  \n0             0         0         0         0         0  \n1             0         0         0         0         0  \n2             0         0         0         0         0  \n3             0         0         0         0         0  \n4             0         0         0         0         0  \n...         ...       ...       ...       ...       ...  \n41995         0         0         0         0         0  \n41996         0         0         0         0         0  \n41997         0         0         0         0         0  \n41998         0         0         0         0         0  \n41999         0         0         0         0         0  \n\n[42000 rows x 785 columns]\n\u001b[1;31mLength:\u001b[0m      42000\n\u001b[1;31mFile:\u001b[0m        c:\\program files\\python39\\lib\\site-packages\\pandas\\core\\frame.py\n"
       },
       "remote": [
        "pd"
       ],
       "time": "Thu, 24 Jun 2021 10:17:36 GMT",
       "type": "execution"
      },
      {
       "cell_id": "34df347d-620d-4ae6-b407-4654163e57aa",
       "cell_outputs": [
        {
         "data": {
          "text/html": "<div>\n<style scoped>\n    .dataframe tbody tr th:only-of-type {\n        vertical-align: middle;\n    }\n\n    .dataframe tbody tr th {\n        vertical-align: top;\n    }\n\n    .dataframe thead th {\n        text-align: right;\n    }\n</style>\n<table border=\"1\" class=\"dataframe\">\n  <thead>\n    <tr style=\"text-align: right;\">\n      <th></th>\n      <th>pixel0</th>\n      <th>pixel1</th>\n      <th>pixel2</th>\n      <th>pixel3</th>\n      <th>pixel4</th>\n      <th>pixel5</th>\n      <th>pixel6</th>\n      <th>pixel7</th>\n      <th>pixel8</th>\n      <th>pixel9</th>\n      <th>...</th>\n      <th>pixel774</th>\n      <th>pixel775</th>\n      <th>pixel776</th>\n      <th>pixel777</th>\n      <th>pixel778</th>\n      <th>pixel779</th>\n      <th>pixel780</th>\n      <th>pixel781</th>\n      <th>pixel782</th>\n      <th>pixel783</th>\n    </tr>\n  </thead>\n  <tbody>\n    <tr>\n      <th>0</th>\n      <td>0</td>\n      <td>0</td>\n      <td>0</td>\n      <td>0</td>\n      <td>0</td>\n      <td>0</td>\n      <td>0</td>\n      <td>0</td>\n      <td>0</td>\n      <td>0</td>\n      <td>...</td>\n      <td>0</td>\n      <td>0</td>\n      <td>0</td>\n      <td>0</td>\n      <td>0</td>\n      <td>0</td>\n      <td>0</td>\n      <td>0</td>\n      <td>0</td>\n      <td>0</td>\n    </tr>\n    <tr>\n      <th>1</th>\n      <td>0</td>\n      <td>0</td>\n      <td>0</td>\n      <td>0</td>\n      <td>0</td>\n      <td>0</td>\n      <td>0</td>\n      <td>0</td>\n      <td>0</td>\n      <td>0</td>\n      <td>...</td>\n      <td>0</td>\n      <td>0</td>\n      <td>0</td>\n      <td>0</td>\n      <td>0</td>\n      <td>0</td>\n      <td>0</td>\n      <td>0</td>\n      <td>0</td>\n      <td>0</td>\n    </tr>\n    <tr>\n      <th>2</th>\n      <td>0</td>\n      <td>0</td>\n      <td>0</td>\n      <td>0</td>\n      <td>0</td>\n      <td>0</td>\n      <td>0</td>\n      <td>0</td>\n      <td>0</td>\n      <td>0</td>\n      <td>...</td>\n      <td>0</td>\n      <td>0</td>\n      <td>0</td>\n      <td>0</td>\n      <td>0</td>\n      <td>0</td>\n      <td>0</td>\n      <td>0</td>\n      <td>0</td>\n      <td>0</td>\n    </tr>\n    <tr>\n      <th>3</th>\n      <td>0</td>\n      <td>0</td>\n      <td>0</td>\n      <td>0</td>\n      <td>0</td>\n      <td>0</td>\n      <td>0</td>\n      <td>0</td>\n      <td>0</td>\n      <td>0</td>\n      <td>...</td>\n      <td>0</td>\n      <td>0</td>\n      <td>0</td>\n      <td>0</td>\n      <td>0</td>\n      <td>0</td>\n      <td>0</td>\n      <td>0</td>\n      <td>0</td>\n      <td>0</td>\n    </tr>\n    <tr>\n      <th>4</th>\n      <td>0</td>\n      <td>0</td>\n      <td>0</td>\n      <td>0</td>\n      <td>0</td>\n      <td>0</td>\n      <td>0</td>\n      <td>0</td>\n      <td>0</td>\n      <td>0</td>\n      <td>...</td>\n      <td>0</td>\n      <td>0</td>\n      <td>0</td>\n      <td>0</td>\n      <td>0</td>\n      <td>0</td>\n      <td>0</td>\n      <td>0</td>\n      <td>0</td>\n      <td>0</td>\n    </tr>\n  </tbody>\n</table>\n<p>5 rows × 784 columns</p>\n</div>",
          "text/plain": "   pixel0  pixel1  pixel2  pixel3  pixel4  pixel5  pixel6  pixel7  pixel8  \\\n0       0       0       0       0       0       0       0       0       0   \n1       0       0       0       0       0       0       0       0       0   \n2       0       0       0       0       0       0       0       0       0   \n3       0       0       0       0       0       0       0       0       0   \n4       0       0       0       0       0       0       0       0       0   \n\n   pixel9  ...  pixel774  pixel775  pixel776  pixel777  pixel778  pixel779  \\\n0       0  ...         0         0         0         0         0         0   \n1       0  ...         0         0         0         0         0         0   \n2       0  ...         0         0         0         0         0         0   \n3       0  ...         0         0         0         0         0         0   \n4       0  ...         0         0         0         0         0         0   \n\n   pixel780  pixel781  pixel782  pixel783  \n0         0         0         0         0  \n1         0         0         0         0  \n2         0         0         0         0  \n3         0         0         0         0  \n4         0         0         0         0  \n\n[5 rows x 784 columns]"
         },
         "execution_count": 3,
         "metadata": {},
         "output_type": "execute_result"
        }
       ],
       "cell_source": "test=pd.read_csv('D:/Projects/mnist-evaluation/data/test.csv')\ntest.head()",
       "data_values": [
        "D:/Projects/mnist-evaluation/data/test.csv"
       ],
       "data_vars": [
        "test"
       ],
       "definitions": [
        {
         "col_offset": 0,
         "dependencies": [
          "pd"
         ],
         "end_col_offset": 62,
         "end_lineno": 1,
         "lineno": 1,
         "name": "test",
         "type": "assign"
        },
        {
         "col_offset": 0,
         "dependencies": [],
         "end_col_offset": 11,
         "end_lineno": 2,
         "lineno": 2,
         "name": "test",
         "type": "call"
        }
       ],
       "execution_count": 3,
       "imports": [],
       "local": [
        "test"
       ],
       "local_info": {
        "test": "\u001b[1;31mType:\u001b[0m        DataFrame\n\u001b[1;31mString form:\u001b[0m\n       pixel0  pixel1  pixel2  pixel3  pixel4  pixel5  pixel6  pixel7  pixel8  \\\n0           0       0       0       0       0       0       0       0       0   \n1           0       0       0       0       0       0       0       0       0   \n2           0       0       0       0       0       0       0       0       0   \n3           0       0       0       0       0       0       0       0       0   \n4           0       0       0       0       0       0       0       0       0   \n...       ...     ...     ...     ...     ...     ...     ...     ...     ...   \n27995       0       0       0       0       0       0       0       0       0   \n27996       0       0       0       0       0       0       0       0       0   \n27997       0       0       0       0       0       0       0       0       0   \n27998       0       0       0       0       0       0       0       0       0   \n27999       0       0       0       0       0       0       0       0       0   \n\n       pixel9  ...  pixel774  pixel775  pixel776  pixel777  pixel778  \\\n0           0  ...         0         0         0         0         0   \n1           0  ...         0         0         0         0         0   \n2           0  ...         0         0         0         0         0   \n3           0  ...         0         0         0         0         0   \n4           0  ...         0         0         0         0         0   \n...       ...  ...       ...       ...       ...       ...       ...   \n27995       0  ...         0         0         0         0         0   \n27996       0  ...         0         0         0         0         0   \n27997       0  ...         0         0         0         0         0   \n27998       0  ...         0         0         0         0         0   \n27999       0  ...         0         0         0         0         0   \n\n       pixel779  pixel780  pixel781  pixel782  pixel783  \n0             0         0         0         0         0  \n1             0         0         0         0         0  \n2             0         0         0         0         0  \n3             0         0         0         0         0  \n4             0         0         0         0         0  \n...         ...       ...       ...       ...       ...  \n27995         0         0         0         0         0  \n27996         0         0         0         0         0  \n27997         0         0         0         0         0  \n27998         0         0         0         0         0  \n27999         0         0         0         0         0  \n\n[28000 rows x 784 columns]\n\u001b[1;31mLength:\u001b[0m      28000\n\u001b[1;31mFile:\u001b[0m        c:\\program files\\python39\\lib\\site-packages\\pandas\\core\\frame.py\n"
       },
       "remote": [
        "pd"
       ],
       "time": "Thu, 24 Jun 2021 10:17:37 GMT",
       "type": "execution"
      },
      {
       "cell_id": "f12d4d25-9e8d-463c-922f-c2d14f0c014d",
       "cell_outputs": [
        {
         "name": "stdout",
         "output_type": "stream",
         "text": "(42000, 785)\n(28000, 784)\n"
        }
       ],
       "cell_source": "print(df.shape)\nprint(test.shape)",
       "data_values": [],
       "data_vars": [],
       "definitions": [
        {
         "col_offset": 0,
         "dependencies": [
          "df"
         ],
         "end_col_offset": 15,
         "end_lineno": 1,
         "lineno": 1,
         "name": "print",
         "type": "call"
        },
        {
         "col_offset": 0,
         "dependencies": [
          "test"
         ],
         "end_col_offset": 17,
         "end_lineno": 2,
         "lineno": 2,
         "name": "print",
         "type": "call"
        }
       ],
       "execution_count": 4,
       "imports": [],
       "local": [],
       "local_info": {},
       "remote": [
        "print",
        "df",
        "test"
       ],
       "time": "Thu, 24 Jun 2021 10:17:37 GMT",
       "type": "execution"
      },
      {
       "cell_id": "ad46fe5c-252b-417f-8dcd-4c783c6c8303",
       "cell_outputs": [],
       "cell_source": "X=df.drop(\"label\",axis=1).values\ny=df[\"label\"].values",
       "data_values": [],
       "data_vars": [],
       "definitions": [
        {
         "col_offset": 0,
         "dependencies": [
          "df"
         ],
         "end_col_offset": 32,
         "end_lineno": 1,
         "lineno": 1,
         "name": "X",
         "type": "assign"
        },
        {
         "col_offset": 0,
         "dependencies": [
          "df"
         ],
         "end_col_offset": 20,
         "end_lineno": 2,
         "lineno": 2,
         "name": "y",
         "type": "assign"
        }
       ],
       "execution_count": 5,
       "imports": [],
       "local": [
        "X",
        "y"
       ],
       "local_info": {
        "X": "\u001b[1;31mType:\u001b[0m            ndarray\n\u001b[1;31mString form:\u001b[0m    \n[[0 0 0 ... 0 0 0]\n [0 0 0 ... 0 0 0]\n [0 0 0 ... 0 0 0]\n ...\n [0 0 0 ... 0 0 0]\n [0 0 0 ... 0 0 0]\n [0 0 0 ... 0 0 0]]\n\u001b[1;31mLength:\u001b[0m          42000\n\u001b[1;31mFile:\u001b[0m            c:\\program files\\python39\\lib\\site-packages\\numpy\\__init__.py\n\u001b[1;31mDocstring:\u001b[0m       <no docstring>\n",
        "y": "\u001b[1;31mType:\u001b[0m            ndarray\n\u001b[1;31mString form:\u001b[0m     [1 0 1 ... 7 6 9]\n\u001b[1;31mLength:\u001b[0m          42000\n\u001b[1;31mFile:\u001b[0m            c:\\program files\\python39\\lib\\site-packages\\numpy\\__init__.py\n\u001b[1;31mDocstring:\u001b[0m       <no docstring>\n"
       },
       "remote": [
        "df"
       ],
       "time": "Thu, 24 Jun 2021 10:17:37 GMT",
       "type": "execution"
      },
      {
       "cell_id": "038549c3-bfa1-48ec-bad9-0d9650a763c2",
       "cell_outputs": [
        {
         "name": "stdout",
         "output_type": "stream",
         "text": "(42000, 784)\n(42000,)\n(28000, 784)\n"
        }
       ],
       "cell_source": "print(X.shape)\nprint(y.shape)\nprint(test.shape)",
       "data_values": [],
       "data_vars": [],
       "definitions": [
        {
         "col_offset": 0,
         "dependencies": [
          "X"
         ],
         "end_col_offset": 14,
         "end_lineno": 1,
         "lineno": 1,
         "name": "print",
         "type": "call"
        },
        {
         "col_offset": 0,
         "dependencies": [
          "y"
         ],
         "end_col_offset": 14,
         "end_lineno": 2,
         "lineno": 2,
         "name": "print",
         "type": "call"
        },
        {
         "col_offset": 0,
         "dependencies": [
          "test"
         ],
         "end_col_offset": 17,
         "end_lineno": 3,
         "lineno": 3,
         "name": "print",
         "type": "call"
        }
       ],
       "execution_count": 6,
       "imports": [],
       "local": [],
       "local_info": {},
       "remote": [
        "print",
        "X",
        "y",
        "test"
       ],
       "time": "Thu, 24 Jun 2021 10:17:37 GMT",
       "type": "execution"
      },
      {
       "cell_id": "e9c2acd7-49d8-4ed9-a700-30f16a67eb95",
       "cell_outputs": [
        {
         "data": {
          "text/plain": "<AxesSubplot:xlabel='label', ylabel='count'>"
         },
         "execution_count": 7,
         "metadata": {},
         "output_type": "execute_result"
        },
        {
         "data": {
          "image/png": "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\n",
          "text/plain": "<Figure size 1080x720 with 1 Axes>"
         },
         "metadata": {
          "needs_background": "light"
         },
         "output_type": "display_data"
        }
       ],
       "cell_source": "import matplotlib.pyplot as plt\nimport seaborn as sns\nplt.figure(figsize=(15,10))\nsns.set_style(\"darkgrid\")\nsns.countplot(x=\"label\",data=df)",
       "data_values": [],
       "data_vars": [],
       "definitions": [
        {
         "col_offset": 0,
         "dependencies": [],
         "end_col_offset": 27,
         "end_lineno": 3,
         "lineno": 3,
         "name": "plt",
         "type": "call"
        },
        {
         "col_offset": 0,
         "dependencies": [],
         "end_col_offset": 25,
         "end_lineno": 4,
         "lineno": 4,
         "name": "sns",
         "type": "call"
        },
        {
         "col_offset": 0,
         "dependencies": [
          "df"
         ],
         "end_col_offset": 32,
         "end_lineno": 5,
         "lineno": 5,
         "name": "sns",
         "type": "call"
        }
       ],
       "execution_count": 7,
       "imports": [
        "plt",
        "sns"
       ],
       "local": [],
       "local_info": {},
       "remote": [
        "df"
       ],
       "time": "Thu, 24 Jun 2021 10:17:38 GMT",
       "type": "execution"
      },
      {
       "cell_id": "3de190c7-4e2c-4f2d-83a0-f7641525ab82",
       "cell_outputs": [
        {
         "name": "stdout",
         "output_type": "stream",
         "text": "(39900, 784)\n(2100, 784)\n(39900,)\n(2100,)\n"
        }
       ],
       "cell_source": "from sklearn.model_selection import train_test_split\nX_train, X_test, y_train, y_test = train_test_split(X,y, test_size=0.05, random_state=42)\nprint(X_train.shape)\nprint(X_test.shape)\nprint(y_train.shape)\nprint(y_test.shape)",
       "data_values": [],
       "data_vars": [],
       "definitions": [
        {
         "col_offset": 0,
         "dependencies": [
          "train_test_split",
          "X",
          "y"
         ],
         "end_col_offset": 89,
         "end_lineno": 2,
         "lineno": 2,
         "name": "X_train",
         "type": "assign"
        },
        {
         "col_offset": 0,
         "dependencies": [
          "train_test_split",
          "X",
          "y"
         ],
         "end_col_offset": 89,
         "end_lineno": 2,
         "lineno": 2,
         "name": "X_test",
         "type": "assign"
        },
        {
         "col_offset": 0,
         "dependencies": [
          "train_test_split",
          "X",
          "y"
         ],
         "end_col_offset": 89,
         "end_lineno": 2,
         "lineno": 2,
         "name": "y_train",
         "type": "assign"
        },
        {
         "col_offset": 0,
         "dependencies": [
          "train_test_split",
          "X",
          "y"
         ],
         "end_col_offset": 89,
         "end_lineno": 2,
         "lineno": 2,
         "name": "y_test",
         "type": "assign"
        },
        {
         "col_offset": 0,
         "dependencies": [
          "X_train"
         ],
         "end_col_offset": 20,
         "end_lineno": 3,
         "lineno": 3,
         "name": "print",
         "type": "call"
        },
        {
         "col_offset": 0,
         "dependencies": [
          "X_test"
         ],
         "end_col_offset": 19,
         "end_lineno": 4,
         "lineno": 4,
         "name": "print",
         "type": "call"
        },
        {
         "col_offset": 0,
         "dependencies": [
          "y_train"
         ],
         "end_col_offset": 20,
         "end_lineno": 5,
         "lineno": 5,
         "name": "print",
         "type": "call"
        },
        {
         "col_offset": 0,
         "dependencies": [
          "y_test"
         ],
         "end_col_offset": 19,
         "end_lineno": 6,
         "lineno": 6,
         "name": "print",
         "type": "call"
        }
       ],
       "execution_count": 8,
       "imports": [
        "train_test_split"
       ],
       "local": [
        "X_train",
        "X_test",
        "y_train",
        "y_test"
       ],
       "local_info": {
        "X_test": "\u001b[1;31mType:\u001b[0m            ndarray\n\u001b[1;31mString form:\u001b[0m    \n[[0 0 0 ... 0 0 0]\n [0 0 0 ... 0 0 0]\n [0 0 0 ... 0 0 0]\n ...\n [0 0 0 ... 0 0 0]\n [0 0 0 ... 0 0 0]\n [0 0 0 ... 0 0 0]]\n\u001b[1;31mLength:\u001b[0m          2100\n\u001b[1;31mFile:\u001b[0m            c:\\program files\\python39\\lib\\site-packages\\numpy\\__init__.py\n\u001b[1;31mDocstring:\u001b[0m       <no docstring>\n",
        "X_train": "\u001b[1;31mType:\u001b[0m            ndarray\n\u001b[1;31mString form:\u001b[0m    \n[[0 0 0 ... 0 0 0]\n [0 0 0 ... 0 0 0]\n [0 0 0 ... 0 0 0]\n ...\n [0 0 0 ... 0 0 0]\n [0 0 0 ... 0 0 0]\n [0 0 0 ... 0 0 0]]\n\u001b[1;31mLength:\u001b[0m          39900\n\u001b[1;31mFile:\u001b[0m            c:\\program files\\python39\\lib\\site-packages\\numpy\\__init__.py\n\u001b[1;31mDocstring:\u001b[0m       <no docstring>\n",
        "y_test": "\u001b[1;31mType:\u001b[0m            ndarray\n\u001b[1;31mString form:\u001b[0m     [8 1 9 ... 9 5 4]\n\u001b[1;31mLength:\u001b[0m          2100\n\u001b[1;31mFile:\u001b[0m            c:\\program files\\python39\\lib\\site-packages\\numpy\\__init__.py\n\u001b[1;31mDocstring:\u001b[0m       <no docstring>\n",
        "y_train": "\u001b[1;31mType:\u001b[0m            ndarray\n\u001b[1;31mString form:\u001b[0m     [3 3 4 ... 2 6 0]\n\u001b[1;31mLength:\u001b[0m          39900\n\u001b[1;31mFile:\u001b[0m            c:\\program files\\python39\\lib\\site-packages\\numpy\\__init__.py\n\u001b[1;31mDocstring:\u001b[0m       <no docstring>\n"
       },
       "remote": [
        "X",
        "y",
        "print"
       ],
       "time": "Thu, 24 Jun 2021 10:17:38 GMT",
       "type": "execution"
      },
      {
       "cell_id": "7a5e00e0-9ba5-424c-a5ef-67bbb2fff1df",
       "cell_outputs": [],
       "cell_source": "from sklearn.metrics import classification_report, confusion_matrix,accuracy_score",
       "data_values": [],
       "data_vars": [],
       "definitions": [],
       "execution_count": 9,
       "imports": [
        "classification_report",
        "confusion_matrix",
        "accuracy_score"
       ],
       "local": [],
       "local_info": {},
       "remote": [],
       "time": "Thu, 24 Jun 2021 10:17:38 GMT",
       "type": "execution"
      },
      {
       "cell_id": "3b08dd40-fd64-4da1-8089-b563cb688835",
       "cell_outputs": [
        {
         "name": "stdout",
         "output_type": "stream",
         "text": "              precision    recall  f1-score   support\n\n           0       0.75      0.87      0.80       216\n           1       0.76      0.92      0.83       234\n           2       0.93      0.24      0.39       222\n           3       0.80      0.36      0.50       260\n           4       0.78      0.15      0.25       196\n           5       0.62      0.09      0.16       160\n           6       0.58      0.96      0.72       199\n           7       0.94      0.34      0.50       230\n           8       0.29      0.64      0.39       191\n           9       0.37      0.93      0.52       192\n\n    accuracy                           0.56      2100\n   macro avg       0.68      0.55      0.51      2100\nweighted avg       0.70      0.56      0.52      2100\n\n[[188   1   1   0   0   0  11   0  13   2]\n [  0 216   1   0   0   0   3   0   8   6]\n [ 22   6  54  17   1   2  69   0  49   2]\n [ 12  16   0  94   0   1  22   1  89  25]\n [  4   3   1   0  29   0  24   1  39  95]\n [ 18   7   0   2   1  15   7   0  98  12]\n [  2   1   0   0   0   1 191   0   4   0]\n [  1   2   0   3   1   2   1  79   3 138]\n [  3  30   1   1   1   3   1   0 122  29]\n [  2   2   0   0   4   0   0   3   3 178]]\n0.5552380952380952\n"
        }
       ],
       "cell_source": "from sklearn.naive_bayes import GaussianNB\nbayes=GaussianNB()\nbayes.fit(X_train, y_train)\nbayes_predictions=bayes.predict(X_test)\nprint(classification_report(y_test, bayes_predictions))\nprint(confusion_matrix(y_test, bayes_predictions))\nprint(accuracy_score(y_test, bayes_predictions))",
       "data_values": [],
       "data_vars": [],
       "definitions": [
        {
         "col_offset": 0,
         "dependencies": [
          "GaussianNB"
         ],
         "end_col_offset": 18,
         "end_lineno": 2,
         "lineno": 2,
         "name": "bayes",
         "type": "assign"
        },
        {
         "col_offset": 0,
         "dependencies": [
          "X_train",
          "y_train"
         ],
         "end_col_offset": 27,
         "end_lineno": 3,
         "lineno": 3,
         "name": "bayes",
         "type": "call"
        },
        {
         "col_offset": 0,
         "dependencies": [
          "bayes",
          "X_test"
         ],
         "end_col_offset": 39,
         "end_lineno": 4,
         "lineno": 4,
         "name": "bayes_predictions",
         "type": "assign"
        },
        {
         "col_offset": 0,
         "dependencies": [
          "classification_report",
          "y_test",
          "bayes_predictions"
         ],
         "end_col_offset": 55,
         "end_lineno": 5,
         "lineno": 5,
         "name": "print",
         "type": "call"
        },
        {
         "col_offset": 0,
         "dependencies": [
          "confusion_matrix",
          "y_test",
          "bayes_predictions"
         ],
         "end_col_offset": 50,
         "end_lineno": 6,
         "lineno": 6,
         "name": "print",
         "type": "call"
        },
        {
         "col_offset": 0,
         "dependencies": [
          "accuracy_score",
          "y_test",
          "bayes_predictions"
         ],
         "end_col_offset": 48,
         "end_lineno": 7,
         "lineno": 7,
         "name": "print",
         "type": "call"
        }
       ],
       "execution_count": 10,
       "imports": [
        "GaussianNB"
       ],
       "local": [
        "bayes",
        "bayes_predictions"
       ],
       "local_info": {
        "bayes": "\u001b[1;31mType:\u001b[0m        GaussianNB\n\u001b[1;31mString form:\u001b[0m GaussianNB()\n\u001b[1;31mFile:\u001b[0m        c:\\program files\\python39\\lib\\site-packages\\sklearn\\naive_bayes.py\n",
        "bayes_predictions": "\u001b[1;31mType:\u001b[0m            ndarray\n\u001b[1;31mString form:\u001b[0m     [1 1 9 ... 9 8 4]\n\u001b[1;31mLength:\u001b[0m          2100\n\u001b[1;31mFile:\u001b[0m            c:\\program files\\python39\\lib\\site-packages\\numpy\\__init__.py\n\u001b[1;31mDocstring:\u001b[0m       <no docstring>\n"
       },
       "remote": [
        "X_train",
        "y_train",
        "X_test",
        "print",
        "classification_report",
        "y_test",
        "confusion_matrix",
        "accuracy_score"
       ],
       "time": "Thu, 24 Jun 2021 10:17:39 GMT",
       "type": "execution"
      }
     ],
     "environment": {
      "kernel": {
       "implementation": "ipython",
       "version": "7.22.0"
      },
      "language_info": {
       "mimetype": "text/x-python",
       "name": "python",
       "version": "3.9.2"
      },
      "time": "Thu, 24 Jun 2021 10:17:35 GMT",
      "user_agent": "Mozilla/5.0 (Windows NT 10.0; Win64; x64; rv:89.0) Gecko/20100101 Firefox/89.0"
     },
     "modules": {
      "matplotlib.pyplot": {
       "alias": "plt",
       "version": ""
      },
      "numpy": {
       "alias": "np",
       "version": "1.19.5"
      },
      "os": {
       "version": ""
      },
      "pandas": {
       "alias": "pd",
       "version": "1.2.3"
      },
      "seaborn": {
       "alias": "sns",
       "version": "0.11.1"
      },
      "sklearn.metrics": {
       "imports": [
        "classification_report",
        "confusion_matrix",
        "accuracy_score"
       ],
       "version": ""
      },
      "sklearn.model_selection": {
       "imports": [
        "train_test_split"
       ],
       "version": ""
      },
      "sklearn.naive_bayes": {
       "imports": [
        "GaussianNB"
       ],
       "version": ""
      }
     }
    },
    {
     "cells": [
      "57164f3c-adbd-4774-a02f-2e961750f5e4",
      "a72943a4-63ab-4c38-a3ee-18d4eb54a56b",
      "34df347d-620d-4ae6-b407-4654163e57aa",
      "f12d4d25-9e8d-463c-922f-c2d14f0c014d",
      "ad46fe5c-252b-417f-8dcd-4c783c6c8303",
      "038549c3-bfa1-48ec-bad9-0d9650a763c2",
      "e9c2acd7-49d8-4ed9-a700-30f16a67eb95",
      "3de190c7-4e2c-4f2d-83a0-f7641525ab82",
      "7a5e00e0-9ba5-424c-a5ef-67bbb2fff1df",
      "3b08dd40-fd64-4da1-8089-b563cb688835",
      "c05c74c1-0cd4-4e00-8b3c-78aec294345f",
      "963bbe1d-528d-4b6f-a6fd-34b5612a2985",
      "bd695873-44df-4059-a688-f56abf2d7caf",
      "b8959183-828d-4552-a350-d28c020a86da",
      "a24efe0b-d6d0-4c72-9c5b-fa3fc67a3f13",
      "37b9d6d3-c23c-4143-9717-5b2a0bca1496",
      "6cc727cc-8bf4-4164-a3f9-50a71984b7d0",
      "7b1e2454-80ce-4685-a3a7-323fad3873ad",
      "84a6b5df-6dd0-440e-962d-b7e875ade983"
     ],
     "data": [
      {
       "cell_id": "57164f3c-adbd-4774-a02f-2e961750f5e4",
       "cell_outputs": [
        {
         "name": "stdout",
         "output_type": "stream",
         "text": "D:/Projects/mnist-evaluation/data\\test.csv\nD:/Projects/mnist-evaluation/data\\test.csv.zip\nD:/Projects/mnist-evaluation/data\\train.csv\nD:/Projects/mnist-evaluation/data\\train.csv.zip\n"
        }
       ],
       "cell_source": "import numpy as np # linear algebra\nimport pandas as pd # data processing, CSV file I/O (e.g. pd.read_csv)\n\nimport os\nfor dirname, _, filenames in os.walk('D:/Projects/mnist-evaluation/data'):\n    for filename in filenames:\n        print(os.path.join(dirname, filename))",
       "data_values": [
        "D:/Projects/mnist-evaluation/data"
       ],
       "data_vars": [],
       "definitions": [
        {
         "body": [
          {
           "body": [
            {
             "col_offset": 8,
             "dependencies": [
              "os",
              "dirname",
              "filename"
             ],
             "end_col_offset": 46,
             "end_lineno": 7,
             "lineno": 7,
             "name": "print",
             "type": "call"
            }
           ],
           "col_offset": 4,
           "dependencies": [
            "filenames",
            "print"
           ],
           "end_col_offset": 46,
           "end_lineno": 7,
           "lineno": 6,
           "orelse": [],
           "type": "loop"
          }
         ],
         "col_offset": 0,
         "dependencies": [
          "os",
          "print"
         ],
         "end_col_offset": 46,
         "end_lineno": 7,
         "lineno": 5,
         "orelse": [],
         "type": "loop"
        }
       ],
       "execution_count": 1,
       "imports": [
        "np",
        "pd",
        "os"
       ],
       "local": [
        "dirname",
        "_",
        "filenames",
        "filename"
       ],
       "local_info": {
        "_": "\u001b[1;31mType:\u001b[0m        list\n\u001b[1;31mString form:\u001b[0m []\n\u001b[1;31mLength:\u001b[0m      0\n\u001b[1;31mDocstring:\u001b[0m  \nBuilt-in mutable sequence.\n\nIf no argument is given, the constructor creates a new empty list.\nThe argument must be an iterable if specified.\n",
        "dirname": "\u001b[1;31mType:\u001b[0m        str\n\u001b[1;31mString form:\u001b[0m D:/Projects/mnist-evaluation/data\n\u001b[1;31mLength:\u001b[0m      33\n\u001b[1;31mDocstring:\u001b[0m  \nstr(object='') -> str\nstr(bytes_or_buffer[, encoding[, errors]]) -> str\n\nCreate a new string object from the given object. If encoding or\nerrors is specified, then the object must expose a data buffer\nthat will be decoded using the given encoding and error handler.\nOtherwise, returns the result of object.__str__() (if defined)\nor repr(object).\nencoding defaults to sys.getdefaultencoding().\nerrors defaults to 'strict'.\n",
        "filename": "\u001b[1;31mType:\u001b[0m        str\n\u001b[1;31mString form:\u001b[0m train.csv.zip\n\u001b[1;31mLength:\u001b[0m      13\n\u001b[1;31mDocstring:\u001b[0m  \nstr(object='') -> str\nstr(bytes_or_buffer[, encoding[, errors]]) -> str\n\nCreate a new string object from the given object. If encoding or\nerrors is specified, then the object must expose a data buffer\nthat will be decoded using the given encoding and error handler.\nOtherwise, returns the result of object.__str__() (if defined)\nor repr(object).\nencoding defaults to sys.getdefaultencoding().\nerrors defaults to 'strict'.\n",
        "filenames": "\u001b[1;31mType:\u001b[0m        list\n\u001b[1;31mString form:\u001b[0m ['test.csv', 'test.csv.zip', 'train.csv', 'train.csv.zip']\n\u001b[1;31mLength:\u001b[0m      4\n\u001b[1;31mDocstring:\u001b[0m  \nBuilt-in mutable sequence.\n\nIf no argument is given, the constructor creates a new empty list.\nThe argument must be an iterable if specified.\n"
       },
       "remote": [
        "print"
       ],
       "time": "Thu, 24 Jun 2021 10:19:30 GMT",
       "type": "execution"
      },
      {
       "cell_id": "a72943a4-63ab-4c38-a3ee-18d4eb54a56b",
       "cell_outputs": [
        {
         "data": {
          "text/html": "<div>\n<style scoped>\n    .dataframe tbody tr th:only-of-type {\n        vertical-align: middle;\n    }\n\n    .dataframe tbody tr th {\n        vertical-align: top;\n    }\n\n    .dataframe thead th {\n        text-align: right;\n    }\n</style>\n<table border=\"1\" class=\"dataframe\">\n  <thead>\n    <tr style=\"text-align: right;\">\n      <th></th>\n      <th>label</th>\n      <th>pixel0</th>\n      <th>pixel1</th>\n      <th>pixel2</th>\n      <th>pixel3</th>\n      <th>pixel4</th>\n      <th>pixel5</th>\n      <th>pixel6</th>\n      <th>pixel7</th>\n      <th>pixel8</th>\n      <th>...</th>\n      <th>pixel774</th>\n      <th>pixel775</th>\n      <th>pixel776</th>\n      <th>pixel777</th>\n      <th>pixel778</th>\n      <th>pixel779</th>\n      <th>pixel780</th>\n      <th>pixel781</th>\n      <th>pixel782</th>\n      <th>pixel783</th>\n    </tr>\n  </thead>\n  <tbody>\n    <tr>\n      <th>0</th>\n      <td>1</td>\n      <td>0</td>\n      <td>0</td>\n      <td>0</td>\n      <td>0</td>\n      <td>0</td>\n      <td>0</td>\n      <td>0</td>\n      <td>0</td>\n      <td>0</td>\n      <td>...</td>\n      <td>0</td>\n      <td>0</td>\n      <td>0</td>\n      <td>0</td>\n      <td>0</td>\n      <td>0</td>\n      <td>0</td>\n      <td>0</td>\n      <td>0</td>\n      <td>0</td>\n    </tr>\n    <tr>\n      <th>1</th>\n      <td>0</td>\n      <td>0</td>\n      <td>0</td>\n      <td>0</td>\n      <td>0</td>\n      <td>0</td>\n      <td>0</td>\n      <td>0</td>\n      <td>0</td>\n      <td>0</td>\n      <td>...</td>\n      <td>0</td>\n      <td>0</td>\n      <td>0</td>\n      <td>0</td>\n      <td>0</td>\n      <td>0</td>\n      <td>0</td>\n      <td>0</td>\n      <td>0</td>\n      <td>0</td>\n    </tr>\n    <tr>\n      <th>2</th>\n      <td>1</td>\n      <td>0</td>\n      <td>0</td>\n      <td>0</td>\n      <td>0</td>\n      <td>0</td>\n      <td>0</td>\n      <td>0</td>\n      <td>0</td>\n      <td>0</td>\n      <td>...</td>\n      <td>0</td>\n      <td>0</td>\n      <td>0</td>\n      <td>0</td>\n      <td>0</td>\n      <td>0</td>\n      <td>0</td>\n      <td>0</td>\n      <td>0</td>\n      <td>0</td>\n    </tr>\n    <tr>\n      <th>3</th>\n      <td>4</td>\n      <td>0</td>\n      <td>0</td>\n      <td>0</td>\n      <td>0</td>\n      <td>0</td>\n      <td>0</td>\n      <td>0</td>\n      <td>0</td>\n      <td>0</td>\n      <td>...</td>\n      <td>0</td>\n      <td>0</td>\n      <td>0</td>\n      <td>0</td>\n      <td>0</td>\n      <td>0</td>\n      <td>0</td>\n      <td>0</td>\n      <td>0</td>\n      <td>0</td>\n    </tr>\n    <tr>\n      <th>4</th>\n      <td>0</td>\n      <td>0</td>\n      <td>0</td>\n      <td>0</td>\n      <td>0</td>\n      <td>0</td>\n      <td>0</td>\n      <td>0</td>\n      <td>0</td>\n      <td>0</td>\n      <td>...</td>\n      <td>0</td>\n      <td>0</td>\n      <td>0</td>\n      <td>0</td>\n      <td>0</td>\n      <td>0</td>\n      <td>0</td>\n      <td>0</td>\n      <td>0</td>\n      <td>0</td>\n    </tr>\n  </tbody>\n</table>\n<p>5 rows × 785 columns</p>\n</div>",
          "text/plain": "   label  pixel0  pixel1  pixel2  pixel3  pixel4  pixel5  pixel6  pixel7  \\\n0      1       0       0       0       0       0       0       0       0   \n1      0       0       0       0       0       0       0       0       0   \n2      1       0       0       0       0       0       0       0       0   \n3      4       0       0       0       0       0       0       0       0   \n4      0       0       0       0       0       0       0       0       0   \n\n   pixel8  ...  pixel774  pixel775  pixel776  pixel777  pixel778  pixel779  \\\n0       0  ...         0         0         0         0         0         0   \n1       0  ...         0         0         0         0         0         0   \n2       0  ...         0         0         0         0         0         0   \n3       0  ...         0         0         0         0         0         0   \n4       0  ...         0         0         0         0         0         0   \n\n   pixel780  pixel781  pixel782  pixel783  \n0         0         0         0         0  \n1         0         0         0         0  \n2         0         0         0         0  \n3         0         0         0         0  \n4         0         0         0         0  \n\n[5 rows x 785 columns]"
         },
         "execution_count": 2,
         "metadata": {},
         "output_type": "execute_result"
        }
       ],
       "cell_source": "df=pd.read_csv('D:/Projects/mnist-evaluation/data/train.csv')\ndf.head()",
       "data_values": [
        "D:/Projects/mnist-evaluation/data/train.csv"
       ],
       "data_vars": [
        "df"
       ],
       "definitions": [
        {
         "col_offset": 0,
         "dependencies": [
          "pd"
         ],
         "end_col_offset": 61,
         "end_lineno": 1,
         "lineno": 1,
         "name": "df",
         "type": "assign"
        },
        {
         "col_offset": 0,
         "dependencies": [],
         "end_col_offset": 9,
         "end_lineno": 2,
         "lineno": 2,
         "name": "df",
         "type": "call"
        }
       ],
       "execution_count": 2,
       "imports": [],
       "local": [
        "df"
       ],
       "local_info": {
        "df": "\u001b[1;31mType:\u001b[0m        DataFrame\n\u001b[1;31mString form:\u001b[0m\n       label  pixel0  pixel1  pixel2  pixel3  pixel4  pixel5  pixel6  pixel7  \\\n0          1       0       0       0       0       0       0       0       0   \n1          0       0       0       0       0       0       0       0       0   \n2          1       0       0       0       0       0       0       0       0   \n3          4       0       0       0       0       0       0       0       0   \n4          0       0       0       0       0       0       0       0       0   \n...      ...     ...     ...     ...     ...     ...     ...     ...     ...   \n41995      0       0       0       0       0       0       0       0       0   \n41996      1       0       0       0       0       0       0       0       0   \n41997      7       0       0       0       0       0       0       0       0   \n41998      6       0       0       0       0       0       0       0       0   \n41999      9       0       0       0       0       0       0       0       0   \n\n       pixel8  ...  pixel774  pixel775  pixel776  pixel777  pixel778  \\\n0           0  ...         0         0         0         0         0   \n1           0  ...         0         0         0         0         0   \n2           0  ...         0         0         0         0         0   \n3           0  ...         0         0         0         0         0   \n4           0  ...         0         0         0         0         0   \n...       ...  ...       ...       ...       ...       ...       ...   \n41995       0  ...         0         0         0         0         0   \n41996       0  ...         0         0         0         0         0   \n41997       0  ...         0         0         0         0         0   \n41998       0  ...         0         0         0         0         0   \n41999       0  ...         0         0         0         0         0   \n\n       pixel779  pixel780  pixel781  pixel782  pixel783  \n0             0         0         0         0         0  \n1             0         0         0         0         0  \n2             0         0         0         0         0  \n3             0         0         0         0         0  \n4             0         0         0         0         0  \n...         ...       ...       ...       ...       ...  \n41995         0         0         0         0         0  \n41996         0         0         0         0         0  \n41997         0         0         0         0         0  \n41998         0         0         0         0         0  \n41999         0         0         0         0         0  \n\n[42000 rows x 785 columns]\n\u001b[1;31mLength:\u001b[0m      42000\n\u001b[1;31mFile:\u001b[0m        c:\\program files\\python39\\lib\\site-packages\\pandas\\core\\frame.py\n"
       },
       "remote": [
        "pd"
       ],
       "time": "Thu, 24 Jun 2021 10:19:31 GMT",
       "type": "execution"
      },
      {
       "cell_id": "34df347d-620d-4ae6-b407-4654163e57aa",
       "cell_outputs": [
        {
         "data": {
          "text/html": "<div>\n<style scoped>\n    .dataframe tbody tr th:only-of-type {\n        vertical-align: middle;\n    }\n\n    .dataframe tbody tr th {\n        vertical-align: top;\n    }\n\n    .dataframe thead th {\n        text-align: right;\n    }\n</style>\n<table border=\"1\" class=\"dataframe\">\n  <thead>\n    <tr style=\"text-align: right;\">\n      <th></th>\n      <th>pixel0</th>\n      <th>pixel1</th>\n      <th>pixel2</th>\n      <th>pixel3</th>\n      <th>pixel4</th>\n      <th>pixel5</th>\n      <th>pixel6</th>\n      <th>pixel7</th>\n      <th>pixel8</th>\n      <th>pixel9</th>\n      <th>...</th>\n      <th>pixel774</th>\n      <th>pixel775</th>\n      <th>pixel776</th>\n      <th>pixel777</th>\n      <th>pixel778</th>\n      <th>pixel779</th>\n      <th>pixel780</th>\n      <th>pixel781</th>\n      <th>pixel782</th>\n      <th>pixel783</th>\n    </tr>\n  </thead>\n  <tbody>\n    <tr>\n      <th>0</th>\n      <td>0</td>\n      <td>0</td>\n      <td>0</td>\n      <td>0</td>\n      <td>0</td>\n      <td>0</td>\n      <td>0</td>\n      <td>0</td>\n      <td>0</td>\n      <td>0</td>\n      <td>...</td>\n      <td>0</td>\n      <td>0</td>\n      <td>0</td>\n      <td>0</td>\n      <td>0</td>\n      <td>0</td>\n      <td>0</td>\n      <td>0</td>\n      <td>0</td>\n      <td>0</td>\n    </tr>\n    <tr>\n      <th>1</th>\n      <td>0</td>\n      <td>0</td>\n      <td>0</td>\n      <td>0</td>\n      <td>0</td>\n      <td>0</td>\n      <td>0</td>\n      <td>0</td>\n      <td>0</td>\n      <td>0</td>\n      <td>...</td>\n      <td>0</td>\n      <td>0</td>\n      <td>0</td>\n      <td>0</td>\n      <td>0</td>\n      <td>0</td>\n      <td>0</td>\n      <td>0</td>\n      <td>0</td>\n      <td>0</td>\n    </tr>\n    <tr>\n      <th>2</th>\n      <td>0</td>\n      <td>0</td>\n      <td>0</td>\n      <td>0</td>\n      <td>0</td>\n      <td>0</td>\n      <td>0</td>\n      <td>0</td>\n      <td>0</td>\n      <td>0</td>\n      <td>...</td>\n      <td>0</td>\n      <td>0</td>\n      <td>0</td>\n      <td>0</td>\n      <td>0</td>\n      <td>0</td>\n      <td>0</td>\n      <td>0</td>\n      <td>0</td>\n      <td>0</td>\n    </tr>\n    <tr>\n      <th>3</th>\n      <td>0</td>\n      <td>0</td>\n      <td>0</td>\n      <td>0</td>\n      <td>0</td>\n      <td>0</td>\n      <td>0</td>\n      <td>0</td>\n      <td>0</td>\n      <td>0</td>\n      <td>...</td>\n      <td>0</td>\n      <td>0</td>\n      <td>0</td>\n      <td>0</td>\n      <td>0</td>\n      <td>0</td>\n      <td>0</td>\n      <td>0</td>\n      <td>0</td>\n      <td>0</td>\n    </tr>\n    <tr>\n      <th>4</th>\n      <td>0</td>\n      <td>0</td>\n      <td>0</td>\n      <td>0</td>\n      <td>0</td>\n      <td>0</td>\n      <td>0</td>\n      <td>0</td>\n      <td>0</td>\n      <td>0</td>\n      <td>...</td>\n      <td>0</td>\n      <td>0</td>\n      <td>0</td>\n      <td>0</td>\n      <td>0</td>\n      <td>0</td>\n      <td>0</td>\n      <td>0</td>\n      <td>0</td>\n      <td>0</td>\n    </tr>\n  </tbody>\n</table>\n<p>5 rows × 784 columns</p>\n</div>",
          "text/plain": "   pixel0  pixel1  pixel2  pixel3  pixel4  pixel5  pixel6  pixel7  pixel8  \\\n0       0       0       0       0       0       0       0       0       0   \n1       0       0       0       0       0       0       0       0       0   \n2       0       0       0       0       0       0       0       0       0   \n3       0       0       0       0       0       0       0       0       0   \n4       0       0       0       0       0       0       0       0       0   \n\n   pixel9  ...  pixel774  pixel775  pixel776  pixel777  pixel778  pixel779  \\\n0       0  ...         0         0         0         0         0         0   \n1       0  ...         0         0         0         0         0         0   \n2       0  ...         0         0         0         0         0         0   \n3       0  ...         0         0         0         0         0         0   \n4       0  ...         0         0         0         0         0         0   \n\n   pixel780  pixel781  pixel782  pixel783  \n0         0         0         0         0  \n1         0         0         0         0  \n2         0         0         0         0  \n3         0         0         0         0  \n4         0         0         0         0  \n\n[5 rows x 784 columns]"
         },
         "execution_count": 3,
         "metadata": {},
         "output_type": "execute_result"
        }
       ],
       "cell_source": "test=pd.read_csv('D:/Projects/mnist-evaluation/data/test.csv')\ntest.head()",
       "data_values": [
        "D:/Projects/mnist-evaluation/data/test.csv"
       ],
       "data_vars": [
        "test"
       ],
       "definitions": [
        {
         "col_offset": 0,
         "dependencies": [
          "pd"
         ],
         "end_col_offset": 62,
         "end_lineno": 1,
         "lineno": 1,
         "name": "test",
         "type": "assign"
        },
        {
         "col_offset": 0,
         "dependencies": [],
         "end_col_offset": 11,
         "end_lineno": 2,
         "lineno": 2,
         "name": "test",
         "type": "call"
        }
       ],
       "execution_count": 3,
       "imports": [],
       "local": [
        "test"
       ],
       "local_info": {
        "test": "\u001b[1;31mType:\u001b[0m        DataFrame\n\u001b[1;31mString form:\u001b[0m\n       pixel0  pixel1  pixel2  pixel3  pixel4  pixel5  pixel6  pixel7  pixel8  \\\n0           0       0       0       0       0       0       0       0       0   \n1           0       0       0       0       0       0       0       0       0   \n2           0       0       0       0       0       0       0       0       0   \n3           0       0       0       0       0       0       0       0       0   \n4           0       0       0       0       0       0       0       0       0   \n...       ...     ...     ...     ...     ...     ...     ...     ...     ...   \n27995       0       0       0       0       0       0       0       0       0   \n27996       0       0       0       0       0       0       0       0       0   \n27997       0       0       0       0       0       0       0       0       0   \n27998       0       0       0       0       0       0       0       0       0   \n27999       0       0       0       0       0       0       0       0       0   \n\n       pixel9  ...  pixel774  pixel775  pixel776  pixel777  pixel778  \\\n0           0  ...         0         0         0         0         0   \n1           0  ...         0         0         0         0         0   \n2           0  ...         0         0         0         0         0   \n3           0  ...         0         0         0         0         0   \n4           0  ...         0         0         0         0         0   \n...       ...  ...       ...       ...       ...       ...       ...   \n27995       0  ...         0         0         0         0         0   \n27996       0  ...         0         0         0         0         0   \n27997       0  ...         0         0         0         0         0   \n27998       0  ...         0         0         0         0         0   \n27999       0  ...         0         0         0         0         0   \n\n       pixel779  pixel780  pixel781  pixel782  pixel783  \n0             0         0         0         0         0  \n1             0         0         0         0         0  \n2             0         0         0         0         0  \n3             0         0         0         0         0  \n4             0         0         0         0         0  \n...         ...       ...       ...       ...       ...  \n27995         0         0         0         0         0  \n27996         0         0         0         0         0  \n27997         0         0         0         0         0  \n27998         0         0         0         0         0  \n27999         0         0         0         0         0  \n\n[28000 rows x 784 columns]\n\u001b[1;31mLength:\u001b[0m      28000\n\u001b[1;31mFile:\u001b[0m        c:\\program files\\python39\\lib\\site-packages\\pandas\\core\\frame.py\n"
       },
       "remote": [
        "pd"
       ],
       "time": "Thu, 24 Jun 2021 10:19:32 GMT",
       "type": "execution"
      },
      {
       "cell_id": "f12d4d25-9e8d-463c-922f-c2d14f0c014d",
       "cell_outputs": [],
       "cell_source": "print(df.shape)\nprint(test.shape)",
       "data_values": [],
       "data_vars": [],
       "definitions": [
        {
         "col_offset": 0,
         "dependencies": [
          "df"
         ],
         "end_col_offset": 15,
         "end_lineno": 1,
         "lineno": 1,
         "name": "print",
         "type": "call"
        },
        {
         "col_offset": 0,
         "dependencies": [
          "test"
         ],
         "end_col_offset": 17,
         "end_lineno": 2,
         "lineno": 2,
         "name": "print",
         "type": "call"
        }
       ],
       "execution_count": 4,
       "imports": [],
       "local": [],
       "local_info": {},
       "remote": [
        "print",
        "df",
        "test"
       ],
       "time": "Thu, 24 Jun 2021 10:19:32 GMT",
       "type": "execution"
      },
      {
       "cell_id": "ad46fe5c-252b-417f-8dcd-4c783c6c8303",
       "cell_outputs": [],
       "cell_source": "X=df.drop(\"label\",axis=1).values\ny=df[\"label\"].values",
       "data_values": [],
       "data_vars": [],
       "definitions": [
        {
         "col_offset": 0,
         "dependencies": [
          "df"
         ],
         "end_col_offset": 32,
         "end_lineno": 1,
         "lineno": 1,
         "name": "X",
         "type": "assign"
        },
        {
         "col_offset": 0,
         "dependencies": [
          "df"
         ],
         "end_col_offset": 20,
         "end_lineno": 2,
         "lineno": 2,
         "name": "y",
         "type": "assign"
        }
       ],
       "execution_count": 5,
       "imports": [],
       "local": [
        "X",
        "y"
       ],
       "local_info": {
        "X": "\u001b[1;31mType:\u001b[0m            ndarray\n\u001b[1;31mString form:\u001b[0m    \n[[0 0 0 ... 0 0 0]\n [0 0 0 ... 0 0 0]\n [0 0 0 ... 0 0 0]\n ...\n [0 0 0 ... 0 0 0]\n [0 0 0 ... 0 0 0]\n [0 0 0 ... 0 0 0]]\n\u001b[1;31mLength:\u001b[0m          42000\n\u001b[1;31mFile:\u001b[0m            c:\\program files\\python39\\lib\\site-packages\\numpy\\__init__.py\n\u001b[1;31mDocstring:\u001b[0m       <no docstring>\n",
        "y": "\u001b[1;31mType:\u001b[0m            ndarray\n\u001b[1;31mString form:\u001b[0m     [1 0 1 ... 7 6 9]\n\u001b[1;31mLength:\u001b[0m          42000\n\u001b[1;31mFile:\u001b[0m            c:\\program files\\python39\\lib\\site-packages\\numpy\\__init__.py\n\u001b[1;31mDocstring:\u001b[0m       <no docstring>\n"
       },
       "remote": [
        "df"
       ],
       "time": "Thu, 24 Jun 2021 10:19:32 GMT",
       "type": "execution"
      },
      {
       "cell_id": "038549c3-bfa1-48ec-bad9-0d9650a763c2",
       "cell_outputs": [
        {
         "name": "stdout",
         "output_type": "stream",
         "text": "(42000, 784)\n(42000,)\n(28000, 784)\n"
        }
       ],
       "cell_source": "print(X.shape)\nprint(y.shape)\nprint(test.shape)",
       "data_values": [],
       "data_vars": [],
       "definitions": [
        {
         "col_offset": 0,
         "dependencies": [
          "X"
         ],
         "end_col_offset": 14,
         "end_lineno": 1,
         "lineno": 1,
         "name": "print",
         "type": "call"
        },
        {
         "col_offset": 0,
         "dependencies": [
          "y"
         ],
         "end_col_offset": 14,
         "end_lineno": 2,
         "lineno": 2,
         "name": "print",
         "type": "call"
        },
        {
         "col_offset": 0,
         "dependencies": [
          "test"
         ],
         "end_col_offset": 17,
         "end_lineno": 3,
         "lineno": 3,
         "name": "print",
         "type": "call"
        }
       ],
       "execution_count": 6,
       "imports": [],
       "local": [],
       "local_info": {},
       "remote": [
        "print",
        "X",
        "y",
        "test"
       ],
       "time": "Thu, 24 Jun 2021 10:19:32 GMT",
       "type": "execution"
      },
      {
       "cell_id": "e9c2acd7-49d8-4ed9-a700-30f16a67eb95",
       "cell_outputs": [
        {
         "data": {
          "text/plain": "<AxesSubplot:xlabel='label', ylabel='count'>"
         },
         "execution_count": 7,
         "metadata": {},
         "output_type": "execute_result"
        },
        {
         "data": {
          "image/png": "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\n",
          "text/plain": "<Figure size 1080x720 with 1 Axes>"
         },
         "metadata": {
          "needs_background": "light"
         },
         "output_type": "display_data"
        }
       ],
       "cell_source": "import matplotlib.pyplot as plt\nimport seaborn as sns\nplt.figure(figsize=(15,10))\nsns.set_style(\"darkgrid\")\nsns.countplot(x=\"label\",data=df)",
       "data_values": [],
       "data_vars": [],
       "definitions": [
        {
         "col_offset": 0,
         "dependencies": [],
         "end_col_offset": 27,
         "end_lineno": 3,
         "lineno": 3,
         "name": "plt",
         "type": "call"
        },
        {
         "col_offset": 0,
         "dependencies": [],
         "end_col_offset": 25,
         "end_lineno": 4,
         "lineno": 4,
         "name": "sns",
         "type": "call"
        },
        {
         "col_offset": 0,
         "dependencies": [
          "df"
         ],
         "end_col_offset": 32,
         "end_lineno": 5,
         "lineno": 5,
         "name": "sns",
         "type": "call"
        }
       ],
       "execution_count": 7,
       "imports": [
        "plt",
        "sns"
       ],
       "local": [],
       "local_info": {},
       "remote": [
        "df"
       ],
       "time": "Thu, 24 Jun 2021 10:19:33 GMT",
       "type": "execution"
      },
      {
       "cell_id": "3de190c7-4e2c-4f2d-83a0-f7641525ab82",
       "cell_outputs": [
        {
         "name": "stdout",
         "output_type": "stream",
         "text": "(39900, 784)\n(2100, 784)\n(39900,)\n(2100,)\n"
        }
       ],
       "cell_source": "from sklearn.model_selection import train_test_split\nX_train, X_test, y_train, y_test = train_test_split(X,y, test_size=0.05, random_state=42)\nprint(X_train.shape)\nprint(X_test.shape)\nprint(y_train.shape)\nprint(y_test.shape)",
       "data_values": [],
       "data_vars": [],
       "definitions": [
        {
         "col_offset": 0,
         "dependencies": [
          "train_test_split",
          "X",
          "y"
         ],
         "end_col_offset": 89,
         "end_lineno": 2,
         "lineno": 2,
         "name": "X_train",
         "type": "assign"
        },
        {
         "col_offset": 0,
         "dependencies": [
          "train_test_split",
          "X",
          "y"
         ],
         "end_col_offset": 89,
         "end_lineno": 2,
         "lineno": 2,
         "name": "X_test",
         "type": "assign"
        },
        {
         "col_offset": 0,
         "dependencies": [
          "train_test_split",
          "X",
          "y"
         ],
         "end_col_offset": 89,
         "end_lineno": 2,
         "lineno": 2,
         "name": "y_train",
         "type": "assign"
        },
        {
         "col_offset": 0,
         "dependencies": [
          "train_test_split",
          "X",
          "y"
         ],
         "end_col_offset": 89,
         "end_lineno": 2,
         "lineno": 2,
         "name": "y_test",
         "type": "assign"
        },
        {
         "col_offset": 0,
         "dependencies": [
          "X_train"
         ],
         "end_col_offset": 20,
         "end_lineno": 3,
         "lineno": 3,
         "name": "print",
         "type": "call"
        },
        {
         "col_offset": 0,
         "dependencies": [
          "X_test"
         ],
         "end_col_offset": 19,
         "end_lineno": 4,
         "lineno": 4,
         "name": "print",
         "type": "call"
        },
        {
         "col_offset": 0,
         "dependencies": [
          "y_train"
         ],
         "end_col_offset": 20,
         "end_lineno": 5,
         "lineno": 5,
         "name": "print",
         "type": "call"
        },
        {
         "col_offset": 0,
         "dependencies": [
          "y_test"
         ],
         "end_col_offset": 19,
         "end_lineno": 6,
         "lineno": 6,
         "name": "print",
         "type": "call"
        }
       ],
       "execution_count": 8,
       "imports": [
        "train_test_split"
       ],
       "local": [
        "X_train",
        "X_test",
        "y_train",
        "y_test"
       ],
       "local_info": {
        "X_test": "\u001b[1;31mType:\u001b[0m            ndarray\n\u001b[1;31mString form:\u001b[0m    \n[[0 0 0 ... 0 0 0]\n [0 0 0 ... 0 0 0]\n [0 0 0 ... 0 0 0]\n ...\n [0 0 0 ... 0 0 0]\n [0 0 0 ... 0 0 0]\n [0 0 0 ... 0 0 0]]\n\u001b[1;31mLength:\u001b[0m          2100\n\u001b[1;31mFile:\u001b[0m            c:\\program files\\python39\\lib\\site-packages\\numpy\\__init__.py\n\u001b[1;31mDocstring:\u001b[0m       <no docstring>\n",
        "X_train": "\u001b[1;31mType:\u001b[0m            ndarray\n\u001b[1;31mString form:\u001b[0m    \n[[0 0 0 ... 0 0 0]\n [0 0 0 ... 0 0 0]\n [0 0 0 ... 0 0 0]\n ...\n [0 0 0 ... 0 0 0]\n [0 0 0 ... 0 0 0]\n [0 0 0 ... 0 0 0]]\n\u001b[1;31mLength:\u001b[0m          39900\n\u001b[1;31mFile:\u001b[0m            c:\\program files\\python39\\lib\\site-packages\\numpy\\__init__.py\n\u001b[1;31mDocstring:\u001b[0m       <no docstring>\n",
        "y_test": "\u001b[1;31mType:\u001b[0m            ndarray\n\u001b[1;31mString form:\u001b[0m     [8 1 9 ... 9 5 4]\n\u001b[1;31mLength:\u001b[0m          2100\n\u001b[1;31mFile:\u001b[0m            c:\\program files\\python39\\lib\\site-packages\\numpy\\__init__.py\n\u001b[1;31mDocstring:\u001b[0m       <no docstring>\n",
        "y_train": "\u001b[1;31mType:\u001b[0m            ndarray\n\u001b[1;31mString form:\u001b[0m     [3 3 4 ... 2 6 0]\n\u001b[1;31mLength:\u001b[0m          39900\n\u001b[1;31mFile:\u001b[0m            c:\\program files\\python39\\lib\\site-packages\\numpy\\__init__.py\n\u001b[1;31mDocstring:\u001b[0m       <no docstring>\n"
       },
       "remote": [
        "X",
        "y",
        "print"
       ],
       "time": "Thu, 24 Jun 2021 10:19:33 GMT",
       "type": "execution"
      },
      {
       "cell_id": "7a5e00e0-9ba5-424c-a5ef-67bbb2fff1df",
       "cell_outputs": [],
       "cell_source": "X = X/255\ntest= test.values/255",
       "data_values": [],
       "data_vars": [],
       "definitions": [
        {
         "col_offset": 0,
         "dependencies": [
          "X"
         ],
         "end_col_offset": 9,
         "end_lineno": 1,
         "lineno": 1,
         "name": "X",
         "type": "assign"
        },
        {
         "col_offset": 0,
         "dependencies": [
          "test"
         ],
         "end_col_offset": 21,
         "end_lineno": 2,
         "lineno": 2,
         "name": "test",
         "type": "assign"
        }
       ],
       "execution_count": 9,
       "imports": [],
       "local": [
        "X",
        "test"
       ],
       "local_info": {
        "X": "\u001b[1;31mType:\u001b[0m            ndarray\n\u001b[1;31mString form:\u001b[0m    \n[[0. 0. 0. ... 0. 0. 0.]\n [0. 0. 0. ... 0. 0. 0.]\n [0. 0. 0. ... 0. 0. 0.]\n ...\n [0. 0. 0. ... 0. 0. 0.]\n [0. 0. 0. ... 0. 0. 0.]\n [0. 0. 0. ... 0. 0. 0.]]\n\u001b[1;31mLength:\u001b[0m          42000\n\u001b[1;31mFile:\u001b[0m            c:\\program files\\python39\\lib\\site-packages\\numpy\\__init__.py\n\u001b[1;31mDocstring:\u001b[0m       <no docstring>\n",
        "test": "\u001b[1;31mType:\u001b[0m            ndarray\n\u001b[1;31mString form:\u001b[0m    \n[[0. 0. 0. ... 0. 0. 0.]\n [0. 0. 0. ... 0. 0. 0.]\n [0. 0. 0. ... 0. 0. 0.]\n ...\n [0. 0. 0. ... 0. 0. 0.]\n [0. 0. 0. ... 0. 0. 0.]\n [0. 0. 0. ... 0. 0. 0.]]\n\u001b[1;31mLength:\u001b[0m          28000\n\u001b[1;31mFile:\u001b[0m            c:\\program files\\python39\\lib\\site-packages\\numpy\\__init__.py\n\u001b[1;31mDocstring:\u001b[0m       <no docstring>\n"
       },
       "remote": [
        "X",
        "test"
       ],
       "time": "Thu, 24 Jun 2021 10:19:33 GMT",
       "type": "execution"
      },
      {
       "cell_id": "3b08dd40-fd64-4da1-8089-b563cb688835",
       "cell_outputs": [],
       "cell_source": "# Reshape image in 3 dimensions (height = 28px, width = 28px , canal = 1)\n# canal = 1 => For gray scale\nX = X.reshape(-1,28,28,1)\ntest = test.reshape(-1,28,28,1)",
       "data_values": [],
       "data_vars": [],
       "definitions": [
        {
         "col_offset": 0,
         "dependencies": [
          "X"
         ],
         "end_col_offset": 25,
         "end_lineno": 3,
         "lineno": 3,
         "name": "X",
         "type": "assign"
        },
        {
         "col_offset": 0,
         "dependencies": [
          "test"
         ],
         "end_col_offset": 31,
         "end_lineno": 4,
         "lineno": 4,
         "name": "test",
         "type": "assign"
        }
       ],
       "execution_count": 10,
       "imports": [],
       "local": [
        "X",
        "test"
       ],
       "local_info": {
        "X": "\u001b[1;31mType:\u001b[0m            ndarray\n\u001b[1;31mString form:\u001b[0m    \n[[[[0.]\n   [0.]\n   [0.]\n   ...\n   [0.]\n   [0.]\n   [0.]]\n\n  [[0.]\n   [0.]\n   [0.]\n   ...\n   [0.]\n   [0.]\n   [0.]]\n\n  [[0.]\n   [0.]\n   [0.]\n   ...\n   [0.]\n   [0.]\n   [0.]]\n\n  ...\n\n  [[0.]\n   [0.]\n   [0.]\n   ...\n   [0.]\n   [0.]\n   [0.]]\n\n  [[0.]\n   [0.]\n   [0.]\n   ...\n   [0.]\n   [0.]\n   [0.]]\n\n  [[0.]\n   [0.]\n   [0.]\n   ...\n   [0.]\n   [0.]\n   [0.]]]\n\n\n [[[0.]\n   [0.]\n   [0.]\n   ...\n   [0.]\n   [0.]\n   [0.]]\n\n  [[0.]\n   [0.]\n   [0.]\n   ...\n   [0.]\n   [0.]\n   [0.]]\n\n  [[0.]\n   [0.]\n   [0.]\n   ...\n   [0.]\n   [0.]\n   [0.]]\n\n  ...\n\n  [[0.]\n   [0.]\n   [0.]\n   ...\n   [0.]\n   [0.]\n   [0.]]\n\n  [[0.]\n   [0.]\n   [0.]\n   ...\n   [0.]\n   [0.]\n   [0.]]\n\n  [[0.]\n   [0.]\n   [0.]\n   ...\n   [0.]\n   [0.]\n   [0.]]]\n\n\n [[[0.]\n   [0.]\n   [0.]\n   ...\n   [0.]\n   [0.]\n   [0.]]\n\n  [[0.]\n   [0.]\n   [0.]\n   ...\n   [0.]\n   [0.]\n   [0.]]\n\n  [[0.]\n   [0.]\n   [0.]\n   ...\n   [0.]\n   [0.]\n   [0.]]\n\n  ...\n\n  [[0.]\n   [0.]\n   [0.]\n   ...\n   [0.]\n   [0.]\n   [0.]]\n\n  [[0.]\n   [0.]\n   [0.]\n   ...\n   [0.]\n   [0.]\n   [0.]]\n\n  [[0.]\n   [0.]\n   [0.]\n   ...\n   [0.]\n   [0.]\n   [0.]]]\n\n\n ...\n\n\n [[[0.]\n   [0.]\n   [0.]\n   ...\n   [0.]\n   [0.]\n   [0.]]\n\n  [[0.]\n   [0.]\n   [0.]\n   ...\n   [0.]\n   [0.]\n   [0.]]\n\n  [[0.]\n   [0.]\n   [0.]\n   ...\n   [0.]\n   [0.]\n   [0.]]\n\n  ...\n\n  [[0.]\n   [0.]\n   [0.]\n   ...\n   [0.]\n   [0.]\n   [0.]]\n\n  [[0.]\n   [0.]\n   [0.]\n   ...\n   [0.]\n   [0.]\n   [0.]]\n\n  [[0.]\n   [0.]\n   [0.]\n   ...\n   [0.]\n   [0.]\n   [0.]]]\n\n\n [[[0.]\n   [0.]\n   [0.]\n   ...\n   [0.]\n   [0.]\n   [0.]]\n\n  [[0.]\n   [0.]\n   [0.]\n   ...\n   [0.]\n   [0.]\n   [0.]]\n\n  [[0.]\n   [0.]\n   [0.]\n   ...\n   [0.]\n   [0.]\n   [0.]]\n\n  ...\n\n  [[0.]\n   [0.]\n   [0.]\n   ...\n   [0.]\n   [0.]\n   [0.]]\n\n  [[0.]\n   [0.]\n   [0.]\n   ...\n   [0.]\n   [0.]\n   [0.]]\n\n  [[0.]\n   [0.]\n   [0.]\n   ...\n   [0.]\n   [0.]\n   [0.]]]\n\n\n [[[0.]\n   [0.]\n   [0.]\n   ...\n   [0.]\n   [0.]\n   [0.]]\n\n  [[0.]\n   [0.]\n   [0.]\n   ...\n   [0.]\n   [0.]\n   [0.]]\n\n  [[0.]\n   [0.]\n   [0.]\n   ...\n   [0.]\n   [0.]\n   [0.]]\n\n  ...\n\n  [[0.]\n   [0.]\n   [0.]\n   ...\n   [0.]\n   [0.]\n   [0.]]\n\n  [[0.]\n   [0.]\n   [0.]\n   ...\n   [0.]\n   [0.]\n   [0.]]\n\n  [[0.]\n   [0.]\n   [0.]\n   ...\n   [0.]\n   [0.]\n   [0.]]]]\n\u001b[1;31mLength:\u001b[0m          42000\n\u001b[1;31mFile:\u001b[0m            c:\\program files\\python39\\lib\\site-packages\\numpy\\__init__.py\n\u001b[1;31mDocstring:\u001b[0m       <no docstring>\n",
        "test": "\u001b[1;31mType:\u001b[0m            ndarray\n\u001b[1;31mString form:\u001b[0m    \n[[[[0.]\n   [0.]\n   [0.]\n   ...\n   [0.]\n   [0.]\n   [0.]]\n\n  [[0.]\n   [0.]\n   [0.]\n   ...\n   [0.]\n   [0.]\n   [0.]]\n\n  [[0.]\n   [0.]\n   [0.]\n   ...\n   [0.]\n   [0.]\n   [0.]]\n\n  ...\n\n  [[0.]\n   [0.]\n   [0.]\n   ...\n   [0.]\n   [0.]\n   [0.]]\n\n  [[0.]\n   [0.]\n   [0.]\n   ...\n   [0.]\n   [0.]\n   [0.]]\n\n  [[0.]\n   [0.]\n   [0.]\n   ...\n   [0.]\n   [0.]\n   [0.]]]\n\n\n [[[0.]\n   [0.]\n   [0.]\n   ...\n   [0.]\n   [0.]\n   [0.]]\n\n  [[0.]\n   [0.]\n   [0.]\n   ...\n   [0.]\n   [0.]\n   [0.]]\n\n  [[0.]\n   [0.]\n   [0.]\n   ...\n   [0.]\n   [0.]\n   [0.]]\n\n  ...\n\n  [[0.]\n   [0.]\n   [0.]\n   ...\n   [0.]\n   [0.]\n   [0.]]\n\n  [[0.]\n   [0.]\n   [0.]\n   ...\n   [0.]\n   [0.]\n   [0.]]\n\n  [[0.]\n   [0.]\n   [0.]\n   ...\n   [0.]\n   [0.]\n   [0.]]]\n\n\n [[[0.]\n   [0.]\n   [0.]\n   ...\n   [0.]\n   [0.]\n   [0.]]\n\n  [[0.]\n   [0.]\n   [0.]\n   ...\n   [0.]\n   [0.]\n   [0.]]\n\n  [[0.]\n   [0.]\n   [0.]\n   ...\n   [0.]\n   [0.]\n   [0.]]\n\n  ...\n\n  [[0.]\n   [0.]\n   [0.]\n   ...\n   [0.]\n   [0.]\n   [0.]]\n\n  [[0.]\n   [0.]\n   [0.]\n   ...\n   [0.]\n   [0.]\n   [0.]]\n\n  [[0.]\n   [0.]\n   [0.]\n   ...\n   [0.]\n   [0.]\n   [0.]]]\n\n\n ...\n\n\n [[[0.]\n   [0.]\n   [0.]\n   ...\n   [0.]\n   [0.]\n   [0.]]\n\n  [[0.]\n   [0.]\n   [0.]\n   ...\n   [0.]\n   [0.]\n   [0.]]\n\n  [[0.]\n   [0.]\n   [0.]\n   ...\n   [0.]\n   [0.]\n   [0.]]\n\n  ...\n\n  [[0.]\n   [0.]\n   [0.]\n   ...\n   [0.]\n   [0.]\n   [0.]]\n\n  [[0.]\n   [0.]\n   [0.]\n   ...\n   [0.]\n   [0.]\n   [0.]]\n\n  [[0.]\n   [0.]\n   [0.]\n   ...\n   [0.]\n   [0.]\n   [0.]]]\n\n\n [[[0.]\n   [0.]\n   [0.]\n   ...\n   [0.]\n   [0.]\n   [0.]]\n\n  [[0.]\n   [0.]\n   [0.]\n   ...\n   [0.]\n   [0.]\n   [0.]]\n\n  [[0.]\n   [0.]\n   [0.]\n   ...\n   [0.]\n   [0.]\n   [0.]]\n\n  ...\n\n  [[0.]\n   [0.]\n   [0.]\n   ...\n   [0.]\n   [0.]\n   [0.]]\n\n  [[0.]\n   [0.]\n   [0.]\n   ...\n   [0.]\n   [0.]\n   [0.]]\n\n  [[0.]\n   [0.]\n   [0.]\n   ...\n   [0.]\n   [0.]\n   [0.]]]\n\n\n [[[0.]\n   [0.]\n   [0.]\n   ...\n   [0.]\n   [0.]\n   [0.]]\n\n  [[0.]\n   [0.]\n   [0.]\n   ...\n   [0.]\n   [0.]\n   [0.]]\n\n  [[0.]\n   [0.]\n   [0.]\n   ...\n   [0.]\n   [0.]\n   [0.]]\n\n  ...\n\n  [[0.]\n   [0.]\n   [0.]\n   ...\n   [0.]\n   [0.]\n   [0.]]\n\n  [[0.]\n   [0.]\n   [0.]\n   ...\n   [0.]\n   [0.]\n   [0.]]\n\n  [[0.]\n   [0.]\n   [0.]\n   ...\n   [0.]\n   [0.]\n   [0.]]]]\n\u001b[1;31mLength:\u001b[0m          28000\n\u001b[1;31mFile:\u001b[0m            c:\\program files\\python39\\lib\\site-packages\\numpy\\__init__.py\n\u001b[1;31mDocstring:\u001b[0m       <no docstring>\n"
       },
       "remote": [
        "X",
        "test"
       ],
       "time": "Thu, 24 Jun 2021 10:19:33 GMT",
       "type": "execution"
      },
      {
       "cell_id": "c05c74c1-0cd4-4e00-8b3c-78aec294345f",
       "cell_outputs": [
        {
         "name": "stdout",
         "output_type": "stream",
         "text": "Label size (42000, 10)\n"
        }
       ],
       "cell_source": "# we encode labels to one hot vectors (like [0,0,1,0,0,0,0,0,0,0])\nfrom keras.utils.np_utils import to_categorical\ny = to_categorical(y)\n\nprint(f\"Label size {y.shape}\")",
       "data_values": [],
       "data_vars": [],
       "definitions": [
        {
         "col_offset": 0,
         "dependencies": [
          "to_categorical",
          "y"
         ],
         "end_col_offset": 21,
         "end_lineno": 3,
         "lineno": 3,
         "name": "y",
         "type": "assign"
        },
        {
         "col_offset": 0,
         "dependencies": [
          "y"
         ],
         "end_col_offset": 30,
         "end_lineno": 5,
         "lineno": 5,
         "name": "print",
         "type": "call"
        }
       ],
       "execution_count": 11,
       "imports": [
        "to_categorical"
       ],
       "local": [
        "y"
       ],
       "local_info": {
        "y": "\u001b[1;31mType:\u001b[0m            ndarray\n\u001b[1;31mString form:\u001b[0m    \n[[0. 1. 0. ... 0. 0. 0.]\n [1. 0. 0. ... 0. 0. 0.]\n [0. 1. 0. ... 0. 0. 0.]\n ...\n [0. 0. 0. ... 1. 0. 0.]\n [0. 0. 0. ... 0. 0. 0.]\n [0. 0. 0. ... 0. 0. 1.]]\n\u001b[1;31mLength:\u001b[0m          42000\n\u001b[1;31mFile:\u001b[0m            c:\\program files\\python39\\lib\\site-packages\\numpy\\__init__.py\n\u001b[1;31mDocstring:\u001b[0m       <no docstring>\n"
       },
       "remote": [
        "y",
        "print"
       ],
       "time": "Thu, 24 Jun 2021 10:19:37 GMT",
       "type": "execution"
      },
      {
       "cell_id": "963bbe1d-528d-4b6f-a6fd-34b5612a2985",
       "cell_outputs": [
        {
         "name": "stdout",
         "output_type": "stream",
         "text": "(39900, 28, 28, 1)\n(2100, 28, 28, 1)\n(39900, 10)\n(2100, 10)\n"
        }
       ],
       "cell_source": "X_train, X_test, y_train, y_test = train_test_split(X,y, test_size=0.05, random_state=42)\nprint(X_train.shape)\nprint(X_test.shape)\nprint(y_train.shape)\nprint(y_test.shape)",
       "data_values": [],
       "data_vars": [],
       "definitions": [
        {
         "col_offset": 0,
         "dependencies": [
          "train_test_split",
          "X",
          "y"
         ],
         "end_col_offset": 89,
         "end_lineno": 1,
         "lineno": 1,
         "name": "X_train",
         "type": "assign"
        },
        {
         "col_offset": 0,
         "dependencies": [
          "train_test_split",
          "X",
          "y"
         ],
         "end_col_offset": 89,
         "end_lineno": 1,
         "lineno": 1,
         "name": "X_test",
         "type": "assign"
        },
        {
         "col_offset": 0,
         "dependencies": [
          "train_test_split",
          "X",
          "y"
         ],
         "end_col_offset": 89,
         "end_lineno": 1,
         "lineno": 1,
         "name": "y_train",
         "type": "assign"
        },
        {
         "col_offset": 0,
         "dependencies": [
          "train_test_split",
          "X",
          "y"
         ],
         "end_col_offset": 89,
         "end_lineno": 1,
         "lineno": 1,
         "name": "y_test",
         "type": "assign"
        },
        {
         "col_offset": 0,
         "dependencies": [
          "X_train"
         ],
         "end_col_offset": 20,
         "end_lineno": 2,
         "lineno": 2,
         "name": "print",
         "type": "call"
        },
        {
         "col_offset": 0,
         "dependencies": [
          "X_test"
         ],
         "end_col_offset": 19,
         "end_lineno": 3,
         "lineno": 3,
         "name": "print",
         "type": "call"
        },
        {
         "col_offset": 0,
         "dependencies": [
          "y_train"
         ],
         "end_col_offset": 20,
         "end_lineno": 4,
         "lineno": 4,
         "name": "print",
         "type": "call"
        },
        {
         "col_offset": 0,
         "dependencies": [
          "y_test"
         ],
         "end_col_offset": 19,
         "end_lineno": 5,
         "lineno": 5,
         "name": "print",
         "type": "call"
        }
       ],
       "execution_count": 12,
       "imports": [],
       "local": [
        "X_train",
        "X_test",
        "y_train",
        "y_test"
       ],
       "local_info": {
        "X_test": "\u001b[1;31mType:\u001b[0m            ndarray\n\u001b[1;31mString form:\u001b[0m    \n[[[[0.]\n   [0.]\n   [0.]\n   ...\n   [0.]\n   [0.]\n   [0.]]\n\n  [[0.]\n   [0.]\n   [0.]\n   ...\n   [0.]\n   [0.]\n   [0.]]\n\n  [[0.]\n   [0.]\n   [0.]\n   ...\n   [0.]\n   [0.]\n   [0.]]\n\n  ...\n\n  [[0.]\n   [0.]\n   [0.]\n   ...\n   [0.]\n   [0.]\n   [0.]]\n\n  [[0.]\n   [0.]\n   [0.]\n   ...\n   [0.]\n   [0.]\n   [0.]]\n\n  [[0.]\n   [0.]\n   [0.]\n   ...\n   [0.]\n   [0.]\n   [0.]]]\n\n\n [[[0.]\n   [0.]\n   [0.]\n   ...\n   [0.]\n   [0.]\n   [0.]]\n\n  [[0.]\n   [0.]\n   [0.]\n   ...\n   [0.]\n   [0.]\n   [0.]]\n\n  [[0.]\n   [0.]\n   [0.]\n   ...\n   [0.]\n   [0.]\n   [0.]]\n\n  ...\n\n  [[0.]\n   [0.]\n   [0.]\n   ...\n   [0.]\n   [0.]\n   [0.]]\n\n  [[0.]\n   [0.]\n   [0.]\n   ...\n   [0.]\n   [0.]\n   [0.]]\n\n  [[0.]\n   [0.]\n   [0.]\n   ...\n   [0.]\n   [0.]\n   [0.]]]\n\n\n [[[0.]\n   [0.]\n   [0.]\n   ...\n   [0.]\n   [0.]\n   [0.]]\n\n  [[0.]\n   [0.]\n   [0.]\n   ...\n   [0.]\n   [0.]\n   [0.]]\n\n  [[0.]\n   [0.]\n   [0.]\n   ...\n   [0.]\n   [0.]\n   [0.]]\n\n  ...\n\n  [[0.]\n   [0.]\n   [0.]\n   ...\n   [0.]\n   [0.]\n   [0.]]\n\n  [[0.]\n   [0.]\n   [0.]\n   ...\n   [0.]\n   [0.]\n   [0.]]\n\n  [[0.]\n   [0.]\n   [0.]\n   ...\n   [0.]\n   [0.]\n   [0.]]]\n\n\n ...\n\n\n [[[0.]\n   [0.]\n   [0.]\n   ...\n   [0.]\n   [0.]\n   [0.]]\n\n  [[0.]\n   [0.]\n   [0.]\n   ...\n   [0.]\n   [0.]\n   [0.]]\n\n  [[0.]\n   [0.]\n   [0.]\n   ...\n   [0.]\n   [0.]\n   [0.]]\n\n  ...\n\n  [[0.]\n   [0.]\n   [0.]\n   ...\n   [0.]\n   [0.]\n   [0.]]\n\n  [[0.]\n   [0.]\n   [0.]\n   ...\n   [0.]\n   [0.]\n   [0.]]\n\n  [[0.]\n   [0.]\n   [0.]\n   ...\n   [0.]\n   [0.]\n   [0.]]]\n\n\n [[[0.]\n   [0.]\n   [0.]\n   ...\n   [0.]\n   [0.]\n   [0.]]\n\n  [[0.]\n   [0.]\n   [0.]\n   ...\n   [0.]\n   [0.]\n   [0.]]\n\n  [[0.]\n   [0.]\n   [0.]\n   ...\n   [0.]\n   [0.]\n   [0.]]\n\n  ...\n\n  [[0.]\n   [0.]\n   [0.]\n   ...\n   [0.]\n   [0.]\n   [0.]]\n\n  [[0.]\n   [0.]\n   [0.]\n   ...\n   [0.]\n   [0.]\n   [0.]]\n\n  [[0.]\n   [0.]\n   [0.]\n   ...\n   [0.]\n   [0.]\n   [0.]]]\n\n\n [[[0.]\n   [0.]\n   [0.]\n   ...\n   [0.]\n   [0.]\n   [0.]]\n\n  [[0.]\n   [0.]\n   [0.]\n   ...\n   [0.]\n   [0.]\n   [0.]]\n\n  [[0.]\n   [0.]\n   [0.]\n   ...\n   [0.]\n   [0.]\n   [0.]]\n\n  ...\n\n  [[0.]\n   [0.]\n   [0.]\n   ...\n   [0.]\n   [0.]\n   [0.]]\n\n  [[0.]\n   [0.]\n   [0.]\n   ...\n   [0.]\n   [0.]\n   [0.]]\n\n  [[0.]\n   [0.]\n   [0.]\n   ...\n   [0.]\n   [0.]\n   [0.]]]]\n\u001b[1;31mLength:\u001b[0m          2100\n\u001b[1;31mFile:\u001b[0m            c:\\program files\\python39\\lib\\site-packages\\numpy\\__init__.py\n\u001b[1;31mDocstring:\u001b[0m       <no docstring>\n",
        "X_train": "\u001b[1;31mType:\u001b[0m            ndarray\n\u001b[1;31mString form:\u001b[0m    \n[[[[0.]\n   [0.]\n   [0.]\n   ...\n   [0.]\n   [0.]\n   [0.]]\n\n  [[0.]\n   [0.]\n   [0.]\n   ...\n   [0.]\n   [0.]\n   [0.]]\n\n  [[0.]\n   [0.]\n   [0.]\n   ...\n   [0.]\n   [0.]\n   [0.]]\n\n  ...\n\n  [[0.]\n   [0.]\n   [0.]\n   ...\n   [0.]\n   [0.]\n   [0.]]\n\n  [[0.]\n   [0.]\n   [0.]\n   ...\n   [0.]\n   [0.]\n   [0.]]\n\n  [[0.]\n   [0.]\n   [0.]\n   ...\n   [0.]\n   [0.]\n   [0.]]]\n\n\n [[[0.]\n   [0.]\n   [0.]\n   ...\n   [0.]\n   [0.]\n   [0.]]\n\n  [[0.]\n   [0.]\n   [0.]\n   ...\n   [0.]\n   [0.]\n   [0.]]\n\n  [[0.]\n   [0.]\n   [0.]\n   ...\n   [0.]\n   [0.]\n   [0.]]\n\n  ...\n\n  [[0.]\n   [0.]\n   [0.]\n   ...\n   [0.]\n   [0.]\n   [0.]]\n\n  [[0.]\n   [0.]\n   [0.]\n   ...\n   [0.]\n   [0.]\n   [0.]]\n\n  [[0.]\n   [0.]\n   [0.]\n   ...\n   [0.]\n   [0.]\n   [0.]]]\n\n\n [[[0.]\n   [0.]\n   [0.]\n   ...\n   [0.]\n   [0.]\n   [0.]]\n\n  [[0.]\n   [0.]\n   [0.]\n   ...\n   [0.]\n   [0.]\n   [0.]]\n\n  [[0.]\n   [0.]\n   [0.]\n   ...\n   [0.]\n   [0.]\n   [0.]]\n\n  ...\n\n  [[0.]\n   [0.]\n   [0.]\n   ...\n   [0.]\n   [0.]\n   [0.]]\n\n  [[0.]\n   [0.]\n   [0.]\n   ...\n   [0.]\n   [0.]\n   [0.]]\n\n  [[0.]\n   [0.]\n   [0.]\n   ...\n   [0.]\n   [0.]\n   [0.]]]\n\n\n ...\n\n\n [[[0.]\n   [0.]\n   [0.]\n   ...\n   [0.]\n   [0.]\n   [0.]]\n\n  [[0.]\n   [0.]\n   [0.]\n   ...\n   [0.]\n   [0.]\n   [0.]]\n\n  [[0.]\n   [0.]\n   [0.]\n   ...\n   [0.]\n   [0.]\n   [0.]]\n\n  ...\n\n  [[0.]\n   [0.]\n   [0.]\n   ...\n   [0.]\n   [0.]\n   [0.]]\n\n  [[0.]\n   [0.]\n   [0.]\n   ...\n   [0.]\n   [0.]\n   [0.]]\n\n  [[0.]\n   [0.]\n   [0.]\n   ...\n   [0.]\n   [0.]\n   [0.]]]\n\n\n [[[0.]\n   [0.]\n   [0.]\n   ...\n   [0.]\n   [0.]\n   [0.]]\n\n  [[0.]\n   [0.]\n   [0.]\n   ...\n   [0.]\n   [0.]\n   [0.]]\n\n  [[0.]\n   [0.]\n   [0.]\n   ...\n   [0.]\n   [0.]\n   [0.]]\n\n  ...\n\n  [[0.]\n   [0.]\n   [0.]\n   ...\n   [0.]\n   [0.]\n   [0.]]\n\n  [[0.]\n   [0.]\n   [0.]\n   ...\n   [0.]\n   [0.]\n   [0.]]\n\n  [[0.]\n   [0.]\n   [0.]\n   ...\n   [0.]\n   [0.]\n   [0.]]]\n\n\n [[[0.]\n   [0.]\n   [0.]\n   ...\n   [0.]\n   [0.]\n   [0.]]\n\n  [[0.]\n   [0.]\n   [0.]\n   ...\n   [0.]\n   [0.]\n   [0.]]\n\n  [[0.]\n   [0.]\n   [0.]\n   ...\n   [0.]\n   [0.]\n   [0.]]\n\n  ...\n\n  [[0.]\n   [0.]\n   [0.]\n   ...\n   [0.]\n   [0.]\n   [0.]]\n\n  [[0.]\n   [0.]\n   [0.]\n   ...\n   [0.]\n   [0.]\n   [0.]]\n\n  [[0.]\n   [0.]\n   [0.]\n   ...\n   [0.]\n   [0.]\n   [0.]]]]\n\u001b[1;31mLength:\u001b[0m          39900\n\u001b[1;31mFile:\u001b[0m            c:\\program files\\python39\\lib\\site-packages\\numpy\\__init__.py\n\u001b[1;31mDocstring:\u001b[0m       <no docstring>\n",
        "y_test": "\u001b[1;31mType:\u001b[0m            ndarray\n\u001b[1;31mString form:\u001b[0m    \n[[0. 0. 0. ... 0. 1. 0.]\n [0. 1. 0. ... 0. 0. 0.]\n [0. 0. 0. ... 0. 0. 1.]\n ...\n [0. 0. 0. ... 0. 0. 1.]\n [0. 0. 0. ... 0. 0. 0.]\n [0. 0. 0. ... 0. 0. 0.]]\n\u001b[1;31mLength:\u001b[0m          2100\n\u001b[1;31mFile:\u001b[0m            c:\\program files\\python39\\lib\\site-packages\\numpy\\__init__.py\n\u001b[1;31mDocstring:\u001b[0m       <no docstring>\n",
        "y_train": "\u001b[1;31mType:\u001b[0m            ndarray\n\u001b[1;31mString form:\u001b[0m    \n[[0. 0. 0. ... 0. 0. 0.]\n [0. 0. 0. ... 0. 0. 0.]\n [0. 0. 0. ... 0. 0. 0.]\n ...\n [0. 0. 1. ... 0. 0. 0.]\n [0. 0. 0. ... 0. 0. 0.]\n [1. 0. 0. ... 0. 0. 0.]]\n\u001b[1;31mLength:\u001b[0m          39900\n\u001b[1;31mFile:\u001b[0m            c:\\program files\\python39\\lib\\site-packages\\numpy\\__init__.py\n\u001b[1;31mDocstring:\u001b[0m       <no docstring>\n"
       },
       "remote": [
        "train_test_split",
        "X",
        "y",
        "print"
       ],
       "time": "Thu, 24 Jun 2021 10:19:37 GMT",
       "type": "execution"
      },
      {
       "cell_id": "bd695873-44df-4059-a688-f56abf2d7caf",
       "cell_outputs": [
        {
         "data": {
          "image/png": "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\n",
          "text/plain": "<Figure size 1440x720 with 4 Axes>"
         },
         "metadata": {},
         "output_type": "display_data"
        }
       ],
       "cell_source": "X_visualization = X_train.reshape(X_train.shape[0], 28, 28)\n\nfig, axis = plt.subplots(1, 4, figsize=(20, 10))\nfor i, ax in enumerate(axis.flat):\n    ax.imshow(X_visualization[i], cmap='binary')\n    digit = y_train[i].argmax()\n    ax.set(title = f\"Real Number is {digit}\");\n# we see how our data look like.",
       "data_values": [],
       "data_vars": [],
       "definitions": [
        {
         "col_offset": 0,
         "dependencies": [
          "X_train"
         ],
         "end_col_offset": 59,
         "end_lineno": 1,
         "lineno": 1,
         "name": "X_visualization",
         "type": "assign"
        },
        {
         "col_offset": 0,
         "dependencies": [
          "plt"
         ],
         "end_col_offset": 48,
         "end_lineno": 3,
         "lineno": 3,
         "name": "fig",
         "type": "assign"
        },
        {
         "col_offset": 0,
         "dependencies": [
          "plt"
         ],
         "end_col_offset": 48,
         "end_lineno": 3,
         "lineno": 3,
         "name": "axis",
         "type": "assign"
        },
        {
         "body": [
          {
           "col_offset": 4,
           "dependencies": [
            "X_visualization",
            "i"
           ],
           "end_col_offset": 48,
           "end_lineno": 5,
           "lineno": 5,
           "name": "ax",
           "type": "call"
          },
          {
           "col_offset": 4,
           "dependencies": [
            "y_train",
            "i"
           ],
           "end_col_offset": 31,
           "end_lineno": 6,
           "lineno": 6,
           "name": "digit",
           "type": "assign"
          },
          {
           "col_offset": 4,
           "dependencies": [
            "digit"
           ],
           "end_col_offset": 45,
           "end_lineno": 7,
           "lineno": 7,
           "name": "ax",
           "type": "call"
          }
         ],
         "col_offset": 0,
         "dependencies": [
          "enumerate",
          "axis",
          "y_train"
         ],
         "end_col_offset": 46,
         "end_lineno": 7,
         "lineno": 4,
         "orelse": [],
         "type": "loop"
        }
       ],
       "execution_count": 13,
       "imports": [],
       "local": [
        "X_visualization",
        "fig",
        "axis",
        "i",
        "ax",
        "digit"
       ],
       "local_info": {
        "X_visualization": "\u001b[1;31mType:\u001b[0m            ndarray\n\u001b[1;31mString form:\u001b[0m    \n[[[0. 0. 0. ... 0. 0. 0.]\n  [0. 0. 0. ... 0. 0. 0.]\n  [0. 0. 0. ... 0. 0. 0.]\n  ...\n  [0. 0. 0. ... 0. 0. 0.]\n  [0. 0. 0. ... 0. 0. 0.]\n  [0. 0. 0. ... 0. 0. 0.]]\n\n [[0. 0. 0. ... 0. 0. 0.]\n  [0. 0. 0. ... 0. 0. 0.]\n  [0. 0. 0. ... 0. 0. 0.]\n  ...\n  [0. 0. 0. ... 0. 0. 0.]\n  [0. 0. 0. ... 0. 0. 0.]\n  [0. 0. 0. ... 0. 0. 0.]]\n\n [[0. 0. 0. ... 0. 0. 0.]\n  [0. 0. 0. ... 0. 0. 0.]\n  [0. 0. 0. ... 0. 0. 0.]\n  ...\n  [0. 0. 0. ... 0. 0. 0.]\n  [0. 0. 0. ... 0. 0. 0.]\n  [0. 0. 0. ... 0. 0. 0.]]\n\n ...\n\n [[0. 0. 0. ... 0. 0. 0.]\n  [0. 0. 0. ... 0. 0. 0.]\n  [0. 0. 0. ... 0. 0. 0.]\n  ...\n  [0. 0. 0. ... 0. 0. 0.]\n  [0. 0. 0. ... 0. 0. 0.]\n  [0. 0. 0. ... 0. 0. 0.]]\n\n [[0. 0. 0. ... 0. 0. 0.]\n  [0. 0. 0. ... 0. 0. 0.]\n  [0. 0. 0. ... 0. 0. 0.]\n  ...\n  [0. 0. 0. ... 0. 0. 0.]\n  [0. 0. 0. ... 0. 0. 0.]\n  [0. 0. 0. ... 0. 0. 0.]]\n\n [[0. 0. 0. ... 0. 0. 0.]\n  [0. 0. 0. ... 0. 0. 0.]\n  [0. 0. 0. ... 0. 0. 0.]\n  ...\n  [0. 0. 0. ... 0. 0. 0.]\n  [0. 0. 0. ... 0. 0. 0.]\n  [0. 0. 0. ... 0. 0. 0.]]]\n\u001b[1;31mLength:\u001b[0m          39900\n\u001b[1;31mFile:\u001b[0m            c:\\program files\\python39\\lib\\site-packages\\numpy\\__init__.py\n\u001b[1;31mDocstring:\u001b[0m       <no docstring>\n",
        "ax": "\u001b[1;31mType:\u001b[0m            AxesSubplot\n\u001b[1;31mString form:\u001b[0m     AxesSubplot(0.731522,0.334022;0.168478x0.336957)\n\u001b[1;31mFile:\u001b[0m            c:\\program files\\python39\\lib\\site-packages\\matplotlib\\axes\\_subplots.py\n\u001b[1;31mDocstring:\u001b[0m       <no docstring>\n\u001b[1;31mInit docstring:\u001b[0m \nParameters\n----------\nfig : `matplotlib.figure.Figure`\n\n*args : tuple (*nrows*, *ncols*, *index*) or int\n    The array of subplots in the figure has dimensions ``(nrows,\n    ncols)``, and *index* is the index of the subplot being created.\n    *index* starts at 1 in the upper left corner and increases to the\n    right.\n\n    If *nrows*, *ncols*, and *index* are all single digit numbers, then\n    *args* can be passed as a single 3-digit number (e.g. 234 for\n    (2, 3, 4)).\n\n**kwargs\n    Keyword arguments are passed to the Axes (sub)class constructor.\n",
        "axis": "\u001b[1;31mType:\u001b[0m            ndarray\n\u001b[1;31mString form:\u001b[0m    \n[<AxesSubplot:title={'center':'Real Number is 3'}>\n <AxesSubplot:title={'center':'Real Number is 3'}>\n <AxesSubplot:title={'center':'Real Number is 4'}>\n <AxesSubplot:title={'center':'Real Number is 3'}>]\n\u001b[1;31mLength:\u001b[0m          4\n\u001b[1;31mFile:\u001b[0m            c:\\program files\\python39\\lib\\site-packages\\numpy\\__init__.py\n\u001b[1;31mDocstring:\u001b[0m       <no docstring>\n",
        "digit": "\u001b[1;31mType:\u001b[0m            int64\n\u001b[1;31mString form:\u001b[0m     3\n\u001b[1;31mFile:\u001b[0m            c:\\program files\\python39\\lib\\site-packages\\numpy\\__init__.py\n\u001b[1;31mDocstring:\u001b[0m       <no docstring>\n",
        "fig": "\u001b[1;31mType:\u001b[0m           Figure\n\u001b[1;31mString form:\u001b[0m    Figure(1440x720)\n\u001b[1;31mFile:\u001b[0m           c:\\program files\\python39\\lib\\site-packages\\matplotlib\\figure.py\n\u001b[1;31mInit docstring:\u001b[0m\nParameters\n----------\nfigsize : 2-tuple of floats, default: :rc:`figure.figsize`\n    Figure dimension ``(width, height)`` in inches.\n\ndpi : float, default: :rc:`figure.dpi`\n    Dots per inch.\n\nfacecolor : default: :rc:`figure.facecolor`\n    The figure patch facecolor.\n\nedgecolor : default: :rc:`figure.edgecolor`\n    The figure patch edge color.\n\nlinewidth : float\n    The linewidth of the frame (i.e. the edge linewidth of the figure\n    patch).\n\nframeon : bool, default: :rc:`figure.frameon`\n    If ``False``, suppress drawing the figure background patch.\n\nsubplotpars : `SubplotParams`\n    Subplot parameters. If not given, the default subplot\n    parameters :rc:`figure.subplot.*` are used.\n\ntight_layout : bool or dict, default: :rc:`figure.autolayout`\n    If ``False`` use *subplotpars*. If ``True`` adjust subplot\n    parameters using `.tight_layout` with default padding.\n    When providing a dict containing the keys ``pad``, ``w_pad``,\n    ``h_pad``, and ``rect``, the default `.tight_layout` paddings\n    will be overridden.\n\nconstrained_layout : bool, default: :rc:`figure.constrained_layout.use`\n    If ``True`` use constrained layout to adjust positioning of plot\n    elements.  Like ``tight_layout``, but designed to be more\n    flexible.  See\n    :doc:`/tutorials/intermediate/constrainedlayout_guide`\n    for examples.  (Note: does not work with `add_subplot` or\n    `~.pyplot.subplot2grid`.)\n",
        "i": "\u001b[1;31mType:\u001b[0m        int\n\u001b[1;31mString form:\u001b[0m 3\n\u001b[1;31mDocstring:\u001b[0m  \nint([x]) -> integer\nint(x, base=10) -> integer\n\nConvert a number or string to an integer, or return 0 if no arguments\nare given.  If x is a number, return x.__int__().  For floating point\nnumbers, this truncates towards zero.\n\nIf x is not a number or if base is given, then x must be a string,\nbytes, or bytearray instance representing an integer literal in the\ngiven base.  The literal can be preceded by '+' or '-' and be surrounded\nby whitespace.  The base defaults to 10.  Valid bases are 0 and 2-36.\nBase 0 means to interpret the base from the string as an integer literal.\n>>> int('0b100', base=0)\n4\n"
       },
       "remote": [
        "X_train",
        "plt",
        "enumerate",
        "y_train"
       ],
       "time": "Thu, 24 Jun 2021 10:19:38 GMT",
       "type": "execution"
      },
      {
       "cell_id": "b8959183-828d-4552-a350-d28c020a86da",
       "cell_outputs": [],
       "cell_source": "from tensorflow.keras.models import Sequential\nfrom tensorflow.keras.layers import Conv2D, MaxPooling2D, Flatten,Dense, Dropout, BatchNormalization\nfrom tensorflow.keras.callbacks import EarlyStopping,  ReduceLROnPlateau\ncnn=Sequential()\n\n#model.add(Lambda(standardize,input_shape=(28,28,1)))    \ncnn.add(Conv2D(filters=64, kernel_size = (3,3), activation=\"relu\", input_shape=(28,28,1)))\ncnn.add(Conv2D(filters=64, kernel_size = (3,3), activation=\"relu\"))\n\ncnn.add(MaxPooling2D(pool_size=(2,2)))\ncnn.add(BatchNormalization())\ncnn.add(Conv2D(filters=128, kernel_size = (3,3), activation=\"relu\"))\ncnn.add(Conv2D(filters=128, kernel_size = (3,3), activation=\"relu\"))\n\ncnn.add(MaxPooling2D(pool_size=(2,2)))\ncnn.add(BatchNormalization())    \ncnn.add(Conv2D(filters=256, kernel_size = (3,3), activation=\"relu\"))\n    \ncnn.add(MaxPooling2D(pool_size=(2,2)))\n    \ncnn.add(Flatten())\ncnn.add(BatchNormalization())\ncnn.add(Dense(512,activation=\"relu\"))\n    \ncnn.add(Dense(10,activation=\"softmax\"))\n    \ncnn.compile(loss=\"categorical_crossentropy\", optimizer=\"adam\", metrics=[\"accuracy\"])",
       "data_values": [],
       "data_vars": [],
       "definitions": [
        {
         "col_offset": 0,
         "dependencies": [
          "Sequential"
         ],
         "end_col_offset": 16,
         "end_lineno": 4,
         "lineno": 4,
         "name": "cnn",
         "type": "assign"
        },
        {
         "col_offset": 0,
         "dependencies": [
          "Conv2D"
         ],
         "end_col_offset": 90,
         "end_lineno": 7,
         "lineno": 7,
         "name": "cnn",
         "type": "call"
        },
        {
         "col_offset": 0,
         "dependencies": [
          "Conv2D"
         ],
         "end_col_offset": 67,
         "end_lineno": 8,
         "lineno": 8,
         "name": "cnn",
         "type": "call"
        },
        {
         "col_offset": 0,
         "dependencies": [
          "MaxPooling2D"
         ],
         "end_col_offset": 38,
         "end_lineno": 10,
         "lineno": 10,
         "name": "cnn",
         "type": "call"
        },
        {
         "col_offset": 0,
         "dependencies": [
          "BatchNormalization"
         ],
         "end_col_offset": 29,
         "end_lineno": 11,
         "lineno": 11,
         "name": "cnn",
         "type": "call"
        },
        {
         "col_offset": 0,
         "dependencies": [
          "Conv2D"
         ],
         "end_col_offset": 68,
         "end_lineno": 12,
         "lineno": 12,
         "name": "cnn",
         "type": "call"
        },
        {
         "col_offset": 0,
         "dependencies": [
          "Conv2D"
         ],
         "end_col_offset": 68,
         "end_lineno": 13,
         "lineno": 13,
         "name": "cnn",
         "type": "call"
        },
        {
         "col_offset": 0,
         "dependencies": [
          "MaxPooling2D"
         ],
         "end_col_offset": 38,
         "end_lineno": 15,
         "lineno": 15,
         "name": "cnn",
         "type": "call"
        },
        {
         "col_offset": 0,
         "dependencies": [
          "BatchNormalization"
         ],
         "end_col_offset": 29,
         "end_lineno": 16,
         "lineno": 16,
         "name": "cnn",
         "type": "call"
        },
        {
         "col_offset": 0,
         "dependencies": [
          "Conv2D"
         ],
         "end_col_offset": 68,
         "end_lineno": 17,
         "lineno": 17,
         "name": "cnn",
         "type": "call"
        },
        {
         "col_offset": 0,
         "dependencies": [
          "MaxPooling2D"
         ],
         "end_col_offset": 38,
         "end_lineno": 19,
         "lineno": 19,
         "name": "cnn",
         "type": "call"
        },
        {
         "col_offset": 0,
         "dependencies": [
          "Flatten"
         ],
         "end_col_offset": 18,
         "end_lineno": 21,
         "lineno": 21,
         "name": "cnn",
         "type": "call"
        },
        {
         "col_offset": 0,
         "dependencies": [
          "BatchNormalization"
         ],
         "end_col_offset": 29,
         "end_lineno": 22,
         "lineno": 22,
         "name": "cnn",
         "type": "call"
        },
        {
         "col_offset": 0,
         "dependencies": [
          "Dense"
         ],
         "end_col_offset": 37,
         "end_lineno": 23,
         "lineno": 23,
         "name": "cnn",
         "type": "call"
        },
        {
         "col_offset": 0,
         "dependencies": [
          "Dense"
         ],
         "end_col_offset": 39,
         "end_lineno": 25,
         "lineno": 25,
         "name": "cnn",
         "type": "call"
        },
        {
         "col_offset": 0,
         "dependencies": [],
         "end_col_offset": 84,
         "end_lineno": 27,
         "lineno": 27,
         "name": "cnn",
         "type": "call"
        }
       ],
       "execution_count": 14,
       "imports": [
        "Sequential",
        "Conv2D",
        "MaxPooling2D",
        "Flatten",
        "Dense",
        "Dropout",
        "BatchNormalization",
        "EarlyStopping",
        "ReduceLROnPlateau"
       ],
       "local": [
        "cnn"
       ],
       "local_info": {
        "cnn": "\u001b[1;31mSignature:\u001b[0m      \u001b[0mcnn\u001b[0m\u001b[1;33m(\u001b[0m\u001b[1;33m*\u001b[0m\u001b[0margs\u001b[0m\u001b[1;33m,\u001b[0m \u001b[1;33m**\u001b[0m\u001b[0mkwargs\u001b[0m\u001b[1;33m)\u001b[0m\u001b[1;33m\u001b[0m\u001b[1;33m\u001b[0m\u001b[0m\n\u001b[1;31mType:\u001b[0m           Sequential\n\u001b[1;31mString form:\u001b[0m    <tensorflow.python.keras.engine.sequential.Sequential object at 0x000002398B76E700>\n\u001b[1;31mFile:\u001b[0m           c:\\program files\\python39\\lib\\site-packages\\tensorflow\\python\\keras\\engine\\sequential.py\n\u001b[1;31mInit docstring:\u001b[0m\nCreates a `Sequential` model instance.\n\nArgs:\n  layers: Optional list of layers to add to the model.\n  name: Optional name for the model.\n\u001b[1;31mCall docstring:\u001b[0m\nWraps `call`, applying pre- and post-processing steps.\n\nArgs:\n  *args: Positional arguments to be passed to `self.call`.\n  **kwargs: Keyword arguments to be passed to `self.call`.\n\nReturns:\n  Output tensor(s).\n\nNote:\n  - The following optional keyword arguments are reserved for specific uses:\n    * `training`: Boolean scalar tensor of Python boolean indicating\n      whether the `call` is meant for training or inference.\n    * `mask`: Boolean input mask.\n  - If the layer's `call` method takes a `mask` argument (as some Keras\n    layers do), its default value will be set to the mask generated\n    for `inputs` by the previous layer (if `input` did come from\n    a layer that generated a corresponding mask, i.e. if it came from\n    a Keras layer with masking support.\n  - If the layer is not built, the method will call `build`.\n\nRaises:\n  ValueError: if the layer's `call` method returns None (an invalid value).\n  RuntimeError: if `super().__init__()` was not called in the constructor.\n"
       },
       "remote": [],
       "time": "Thu, 24 Jun 2021 10:19:38 GMT",
       "type": "execution"
      },
      {
       "cell_id": "a24efe0b-d6d0-4c72-9c5b-fa3fc67a3f13",
       "cell_outputs": [],
       "cell_source": "# With data augmentation to prevent overfitting\nfrom keras.preprocessing.image import ImageDataGenerator\ndatagen = ImageDataGenerator(\n        featurewise_center=False,  # set input mean to 0 over the dataset\n        samplewise_center=False,  # set each sample mean to 0\n        featurewise_std_normalization=False,  # divide inputs by std of the dataset\n        samplewise_std_normalization=False,  # divide each input by its std\n        zca_whitening=False,  # apply ZCA whitening\n        rotation_range=10,  # randomly rotate images in the range (degrees, 0 to 180)\n        zoom_range = 0.1, # Randomly zoom image \n        width_shift_range=0.1,  # randomly shift images horizontally (fraction of total width)\n        height_shift_range=0.1,  # randomly shift images vertically (fraction of total height)\n        horizontal_flip=False,  # randomly flip images\n        vertical_flip=False)  # randomly flip images\n\n\n#datagen.fit(X_train)\ntrain_generator = datagen.flow(X_train, y_train, batch_size=32)\ntest_generator = datagen.flow(X_test, y_test, batch_size=32)",
       "data_values": [],
       "data_vars": [],
       "definitions": [
        {
         "col_offset": 0,
         "dependencies": [
          "ImageDataGenerator"
         ],
         "end_col_offset": 28,
         "end_lineno": 14,
         "lineno": 3,
         "name": "datagen",
         "type": "assign"
        },
        {
         "col_offset": 0,
         "dependencies": [
          "datagen",
          "X_train",
          "y_train"
         ],
         "end_col_offset": 63,
         "end_lineno": 18,
         "lineno": 18,
         "name": "train_generator",
         "type": "assign"
        },
        {
         "col_offset": 0,
         "dependencies": [
          "datagen",
          "X_test",
          "y_test"
         ],
         "end_col_offset": 60,
         "end_lineno": 19,
         "lineno": 19,
         "name": "test_generator",
         "type": "assign"
        }
       ],
       "execution_count": 15,
       "imports": [
        "ImageDataGenerator"
       ],
       "local": [
        "datagen",
        "train_generator",
        "test_generator"
       ],
       "local_info": {
        "datagen": "\u001b[1;31mType:\u001b[0m        ImageDataGenerator\n\u001b[1;31mString form:\u001b[0m <keras.preprocessing.image.ImageDataGenerator object at 0x00000239CAAEA5B0>\n\u001b[1;31mFile:\u001b[0m        c:\\program files\\python39\\lib\\site-packages\\keras\\preprocessing\\image.py\n",
        "test_generator": "\u001b[1;31mType:\u001b[0m        NumpyArrayIterator\n\u001b[1;31mString form:\u001b[0m <keras.preprocessing.image.NumpyArrayIterator object at 0x00000239CAAEA790>\n\u001b[1;31mLength:\u001b[0m      66\n\u001b[1;31mFile:\u001b[0m        c:\\program files\\python39\\lib\\site-packages\\keras\\preprocessing\\image.py\n",
        "train_generator": "\u001b[1;31mType:\u001b[0m        NumpyArrayIterator\n\u001b[1;31mString form:\u001b[0m <keras.preprocessing.image.NumpyArrayIterator object at 0x00000239CAAD4400>\n\u001b[1;31mLength:\u001b[0m      1247\n\u001b[1;31mFile:\u001b[0m        c:\\program files\\python39\\lib\\site-packages\\keras\\preprocessing\\image.py\n"
       },
       "remote": [
        "X_train",
        "y_train",
        "X_test",
        "y_test"
       ],
       "time": "Thu, 24 Jun 2021 10:19:38 GMT",
       "type": "execution"
      },
      {
       "cell_id": "37b9d6d3-c23c-4143-9717-5b2a0bca1496",
       "cell_outputs": [
        {
         "name": "stdout",
         "output_type": "stream",
         "text": "Epoch 1/10\n1246/1246 [==============================] - 40s 32ms/step - loss: 0.1620 - accuracy: 0.9501 - val_loss: 0.1110 - val_accuracy: 0.9678\nEpoch 2/10\n1246/1246 [==============================] - 39s 32ms/step - loss: 0.0859 - accuracy: 0.9752 - val_loss: 0.0565 - val_accuracy: 0.9851\nEpoch 3/10\n1246/1246 [==============================] - 39s 32ms/step - loss: 0.0657 - accuracy: 0.9809 - val_loss: 0.0571 - val_accuracy: 0.9837\nEpoch 4/10\n1246/1246 [==============================] - 39s 32ms/step - loss: 0.0558 - accuracy: 0.9837 - val_loss: 0.0499 - val_accuracy: 0.9846\nEpoch 5/10\n1246/1246 [==============================] - 39s 31ms/step - loss: 0.0542 - accuracy: 0.9833 - val_loss: 0.0549 - val_accuracy: 0.9827\nEpoch 6/10\n1246/1246 [==============================] - 39s 32ms/step - loss: 0.0453 - accuracy: 0.9862 - val_loss: 0.0470 - val_accuracy: 0.9846\nEpoch 7/10\n1246/1246 [==============================] - 40s 32ms/step - loss: 0.0425 - accuracy: 0.9870 - val_loss: 0.0445 - val_accuracy: 0.9889\nEpoch 8/10\n1246/1246 [==============================] - 39s 32ms/step - loss: 0.0380 - accuracy: 0.9892 - val_loss: 0.0376 - val_accuracy: 0.9899\nEpoch 9/10\n1246/1246 [==============================] - 40s 32ms/step - loss: 0.0360 - accuracy: 0.9892 - val_loss: 0.0341 - val_accuracy: 0.9899\nEpoch 10/10\n1246/1246 [==============================] - 40s 32ms/step - loss: 0.0315 - accuracy: 0.9908 - val_loss: 0.0583 - val_accuracy: 0.9861\n"
        }
       ],
       "cell_source": "# Fit the model\nhistory = cnn.fit(train_generator, \n                  epochs = 10,\n                  steps_per_epoch = X_train.shape[0] // 32,\n                  validation_steps = X_test.shape[0] // 32,\n                  validation_data = test_generator)",
       "data_values": [],
       "data_vars": [],
       "definitions": [
        {
         "col_offset": 0,
         "dependencies": [
          "cnn",
          "train_generator",
          "X_train",
          "X_test",
          "test_generator"
         ],
         "end_col_offset": 51,
         "end_lineno": 6,
         "lineno": 2,
         "name": "history",
         "type": "assign"
        }
       ],
       "execution_count": 16,
       "imports": [],
       "local": [
        "history"
       ],
       "local_info": {
        "history": "\u001b[1;31mType:\u001b[0m        History\n\u001b[1;31mString form:\u001b[0m <tensorflow.python.keras.callbacks.History object at 0x00000239CAACC2B0>\n\u001b[1;31mFile:\u001b[0m        c:\\program files\\python39\\lib\\site-packages\\tensorflow\\python\\keras\\callbacks.py\n"
       },
       "remote": [
        "cnn",
        "train_generator",
        "X_train",
        "X_test",
        "test_generator"
       ],
       "time": "Thu, 24 Jun 2021 10:26:13 GMT",
       "type": "execution"
      },
      {
       "cell_id": "6cc727cc-8bf4-4164-a3f9-50a71984b7d0",
       "cell_outputs": [
        {
         "data": {
          "text/plain": "<AxesSubplot:>"
         },
         "execution_count": 17,
         "metadata": {},
         "output_type": "execute_result"
        },
        {
         "data": {
          "image/png": "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\n",
          "text/plain": "<Figure size 1080x720 with 1 Axes>"
         },
         "metadata": {},
         "output_type": "display_data"
        }
       ],
       "cell_source": "sns.set_style(\"darkgrid\")\npd.DataFrame(cnn.history.history).plot(figsize=(15,10))",
       "data_values": [],
       "data_vars": [],
       "definitions": [
        {
         "col_offset": 0,
         "dependencies": [],
         "end_col_offset": 25,
         "end_lineno": 1,
         "lineno": 1,
         "name": "sns",
         "type": "call"
        },
        {
         "col_offset": 0,
         "dependencies": [
          "cnn"
         ],
         "end_col_offset": 55,
         "end_lineno": 2,
         "lineno": 2,
         "name": "pd",
         "type": "call"
        }
       ],
       "execution_count": 17,
       "imports": [],
       "local": [],
       "local_info": {},
       "remote": [
        "pd",
        "cnn"
       ],
       "time": "Thu, 24 Jun 2021 10:26:13 GMT",
       "type": "execution"
      },
      {
       "cell_id": "7b1e2454-80ce-4685-a3a7-323fad3873ad",
       "cell_outputs": [
        {
         "data": {
          "image/png": "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\n",
          "text/plain": "<Figure size 864x1008 with 16 Axes>"
         },
         "metadata": {},
         "output_type": "display_data"
        }
       ],
       "cell_source": "y_pred = cnn.predict(X_test)\nX_new = X_test.reshape(X_test.shape[0], 28, 28)\n\nfig, axis = plt.subplots(4, 4, figsize=(12, 14))\nfor i, ax in enumerate(axis.flat):\n    ax.imshow(X_new[i], cmap='binary')\n    ax.set(title = f\"Real Number is {y_test[i].argmax()}\\nPredict Number is {y_pred[i].argmax()}\");",
       "data_values": [],
       "data_vars": [],
       "definitions": [
        {
         "col_offset": 0,
         "dependencies": [
          "cnn",
          "X_test"
         ],
         "end_col_offset": 28,
         "end_lineno": 1,
         "lineno": 1,
         "name": "y_pred",
         "type": "assign"
        },
        {
         "col_offset": 0,
         "dependencies": [
          "X_test"
         ],
         "end_col_offset": 47,
         "end_lineno": 2,
         "lineno": 2,
         "name": "X_new",
         "type": "assign"
        },
        {
         "col_offset": 0,
         "dependencies": [
          "plt"
         ],
         "end_col_offset": 48,
         "end_lineno": 4,
         "lineno": 4,
         "name": "fig",
         "type": "assign"
        },
        {
         "col_offset": 0,
         "dependencies": [
          "plt"
         ],
         "end_col_offset": 48,
         "end_lineno": 4,
         "lineno": 4,
         "name": "axis",
         "type": "assign"
        },
        {
         "body": [
          {
           "col_offset": 4,
           "dependencies": [
            "X_new",
            "i"
           ],
           "end_col_offset": 38,
           "end_lineno": 6,
           "lineno": 6,
           "name": "ax",
           "type": "call"
          },
          {
           "col_offset": 4,
           "dependencies": [
            "y_test",
            "i",
            "y_pred"
           ],
           "end_col_offset": 98,
           "end_lineno": 7,
           "lineno": 7,
           "name": "ax",
           "type": "call"
          }
         ],
         "col_offset": 0,
         "dependencies": [
          "enumerate",
          "axis",
          "y_test"
         ],
         "end_col_offset": 99,
         "end_lineno": 7,
         "lineno": 5,
         "orelse": [],
         "type": "loop"
        }
       ],
       "execution_count": 18,
       "imports": [],
       "local": [
        "y_pred",
        "X_new",
        "fig",
        "axis",
        "i",
        "ax"
       ],
       "local_info": {
        "X_new": "\u001b[1;31mType:\u001b[0m            ndarray\n\u001b[1;31mString form:\u001b[0m    \n[[[0. 0. 0. ... 0. 0. 0.]\n  [0. 0. 0. ... 0. 0. 0.]\n  [0. 0. 0. ... 0. 0. 0.]\n  ...\n  [0. 0. 0. ... 0. 0. 0.]\n  [0. 0. 0. ... 0. 0. 0.]\n  [0. 0. 0. ... 0. 0. 0.]]\n\n [[0. 0. 0. ... 0. 0. 0.]\n  [0. 0. 0. ... 0. 0. 0.]\n  [0. 0. 0. ... 0. 0. 0.]\n  ...\n  [0. 0. 0. ... 0. 0. 0.]\n  [0. 0. 0. ... 0. 0. 0.]\n  [0. 0. 0. ... 0. 0. 0.]]\n\n [[0. 0. 0. ... 0. 0. 0.]\n  [0. 0. 0. ... 0. 0. 0.]\n  [0. 0. 0. ... 0. 0. 0.]\n  ...\n  [0. 0. 0. ... 0. 0. 0.]\n  [0. 0. 0. ... 0. 0. 0.]\n  [0. 0. 0. ... 0. 0. 0.]]\n\n ...\n\n [[0. 0. 0. ... 0. 0. 0.]\n  [0. 0. 0. ... 0. 0. 0.]\n  [0. 0. 0. ... 0. 0. 0.]\n  ...\n  [0. 0. 0. ... 0. 0. 0.]\n  [0. 0. 0. ... 0. 0. 0.]\n  [0. 0. 0. ... 0. 0. 0.]]\n\n [[0. 0. 0. ... 0. 0. 0.]\n  [0. 0. 0. ... 0. 0. 0.]\n  [0. 0. 0. ... 0. 0. 0.]\n  ...\n  [0. 0. 0. ... 0. 0. 0.]\n  [0. 0. 0. ... 0. 0. 0.]\n  [0. 0. 0. ... 0. 0. 0.]]\n\n [[0. 0. 0. ... 0. 0. 0.]\n  [0. 0. 0. ... 0. 0. 0.]\n  [0. 0. 0. ... 0. 0. 0.]\n  ...\n  [0. 0. 0. ... 0. 0. 0.]\n  [0. 0. 0. ... 0. 0. 0.]\n  [0. 0. 0. ... 0. 0. 0.]]]\n\u001b[1;31mLength:\u001b[0m          2100\n\u001b[1;31mFile:\u001b[0m            c:\\program files\\python39\\lib\\site-packages\\numpy\\__init__.py\n\u001b[1;31mDocstring:\u001b[0m       <no docstring>\n",
        "ax": "\u001b[1;31mType:\u001b[0m            AxesSubplot\n\u001b[1;31mString form:\u001b[0m     AxesSubplot(0.731522,0.13486;0.168478x0.14441)\n\u001b[1;31mFile:\u001b[0m            c:\\program files\\python39\\lib\\site-packages\\matplotlib\\axes\\_subplots.py\n\u001b[1;31mDocstring:\u001b[0m       <no docstring>\n\u001b[1;31mInit docstring:\u001b[0m \nParameters\n----------\nfig : `matplotlib.figure.Figure`\n\n*args : tuple (*nrows*, *ncols*, *index*) or int\n    The array of subplots in the figure has dimensions ``(nrows,\n    ncols)``, and *index* is the index of the subplot being created.\n    *index* starts at 1 in the upper left corner and increases to the\n    right.\n\n    If *nrows*, *ncols*, and *index* are all single digit numbers, then\n    *args* can be passed as a single 3-digit number (e.g. 234 for\n    (2, 3, 4)).\n\n**kwargs\n    Keyword arguments are passed to the Axes (sub)class constructor.\n",
        "axis": "\u001b[1;31mType:\u001b[0m            ndarray\n\u001b[1;31mString form:\u001b[0m    \n[[<AxesSubplot:title={'center':'Real Number is 8\\nPredict Number is 8'}>\n  <AxesSubplot:title={'center':'Real Number is 1\\nPredict Number is 1'}>\n  <AxesSubplot:title={'center':'Real Number is 9\\nPredict Number is 9'}>\n  <AxesSubplot:title={'center':'Real Number is 9\\nPredict Number is 9'}>]\n [<AxesSubplot:title={'center':'Real Number is 8\\nPredict Number is 8'}>\n  <AxesSubplot:title={'center':'Real Number is 6\\nPredict Number is 6'}>\n  <AxesSubplot:title={'center':'Real Number is 2\\nPredict Number is 2'}>\n  <AxesSubplot:title={'center':'Real Number is 2\\nPredict Number is 2'}>]\n [<AxesSubplot:title={'center':'Real Number is 7\\nPredict Number is 7'}>\n  <AxesSubplot:title={'center':'Real Number is 1\\nPredict Number is 1'}>\n  <AxesSubplot:title={'center':'Real Number is 6\\nPredict Number is 6'}>\n  <AxesSubplot:title={'center':'Real Number is 3\\nPredict Number is 3'}>]\n [<AxesSubplot:title={'center':'Real Number is 1\\nPredict Number is 1'}>\n  <AxesSubplot:title={'center':'Real Number is 2\\nPredict Number is 2'}>\n  <AxesSubplot:title={'center':'Real Number is 7\\nPredict Number is 7'}>\n  <AxesSubplot:title={'center':'Real Number is 4\\nPredict Number is 4'}>]]\n\u001b[1;31mLength:\u001b[0m          4\n\u001b[1;31mFile:\u001b[0m            c:\\program files\\python39\\lib\\site-packages\\numpy\\__init__.py\n\u001b[1;31mDocstring:\u001b[0m       <no docstring>\n",
        "fig": "\u001b[1;31mType:\u001b[0m           Figure\n\u001b[1;31mString form:\u001b[0m    Figure(864x1008)\n\u001b[1;31mFile:\u001b[0m           c:\\program files\\python39\\lib\\site-packages\\matplotlib\\figure.py\n\u001b[1;31mInit docstring:\u001b[0m\nParameters\n----------\nfigsize : 2-tuple of floats, default: :rc:`figure.figsize`\n    Figure dimension ``(width, height)`` in inches.\n\ndpi : float, default: :rc:`figure.dpi`\n    Dots per inch.\n\nfacecolor : default: :rc:`figure.facecolor`\n    The figure patch facecolor.\n\nedgecolor : default: :rc:`figure.edgecolor`\n    The figure patch edge color.\n\nlinewidth : float\n    The linewidth of the frame (i.e. the edge linewidth of the figure\n    patch).\n\nframeon : bool, default: :rc:`figure.frameon`\n    If ``False``, suppress drawing the figure background patch.\n\nsubplotpars : `SubplotParams`\n    Subplot parameters. If not given, the default subplot\n    parameters :rc:`figure.subplot.*` are used.\n\ntight_layout : bool or dict, default: :rc:`figure.autolayout`\n    If ``False`` use *subplotpars*. If ``True`` adjust subplot\n    parameters using `.tight_layout` with default padding.\n    When providing a dict containing the keys ``pad``, ``w_pad``,\n    ``h_pad``, and ``rect``, the default `.tight_layout` paddings\n    will be overridden.\n\nconstrained_layout : bool, default: :rc:`figure.constrained_layout.use`\n    If ``True`` use constrained layout to adjust positioning of plot\n    elements.  Like ``tight_layout``, but designed to be more\n    flexible.  See\n    :doc:`/tutorials/intermediate/constrainedlayout_guide`\n    for examples.  (Note: does not work with `add_subplot` or\n    `~.pyplot.subplot2grid`.)\n",
        "i": "\u001b[1;31mType:\u001b[0m        int\n\u001b[1;31mString form:\u001b[0m 15\n\u001b[1;31mDocstring:\u001b[0m  \nint([x]) -> integer\nint(x, base=10) -> integer\n\nConvert a number or string to an integer, or return 0 if no arguments\nare given.  If x is a number, return x.__int__().  For floating point\nnumbers, this truncates towards zero.\n\nIf x is not a number or if base is given, then x must be a string,\nbytes, or bytearray instance representing an integer literal in the\ngiven base.  The literal can be preceded by '+' or '-' and be surrounded\nby whitespace.  The base defaults to 10.  Valid bases are 0 and 2-36.\nBase 0 means to interpret the base from the string as an integer literal.\n>>> int('0b100', base=0)\n4\n",
        "y_pred": "\u001b[1;31mType:\u001b[0m            ndarray\n\u001b[1;31mString form:\u001b[0m    \n[[1.1712274e-08 1.5247622e-12 3.0111628e-06 ... 1.6407496e-08\n  9.9967015e-01 3.2648200e-04]\n [5.3158372e-10 9.9997449e-01 9.1472593e-08 ... 8.3301835e-08\n  9.8267996e-08 2.3727011e-06]\n [5.1464755e-10 2.2266432e-15 1.0607543e-09 ... 3.6808008e-09\n  1.3326025e-12 1.0000000e+00]\n ...\n [3.9113985e-07 5.7178050e-11 1.4600714e-07 ... 1.3765214e-07\n  3.9535720e-08 9.9998021e-01]\n [2.4141239e-22 3.7169987e-21 5.8621359e-20 ... 1.9847697e-19\n  9.2198981e-13 1.2893147e-14]\n [8.1575287e-16 2.0293424e-12 6.5005342e-13 ... 2.9703676e-08\n  4.6708210e-10 1.2417735e-09]]\n\u001b[1;31mLength:\u001b[0m          2100\n\u001b[1;31mFile:\u001b[0m            c:\\program files\\python39\\lib\\site-packages\\numpy\\__init__.py\n\u001b[1;31mDocstring:\u001b[0m       <no docstring>\n"
       },
       "remote": [
        "cnn",
        "X_test",
        "plt",
        "enumerate",
        "y_test"
       ],
       "time": "Thu, 24 Jun 2021 10:26:15 GMT",
       "type": "execution"
      },
      {
       "cell_id": "84a6b5df-6dd0-440e-962d-b7e875ade983",
       "cell_outputs": [
        {
         "name": "stdout",
         "output_type": "stream",
         "text": "875/875 - 6s\n"
        },
        {
         "data": {
          "text/plain": "array([[3.1343465e-17, 1.5099554e-20, 1.0000000e+00, ..., 4.6640094e-14,\n        6.3576171e-18, 1.1007041e-17],\n       [9.9999988e-01, 3.3768359e-20, 6.4604158e-08, ..., 1.3828047e-11,\n        1.4261501e-11, 1.1294965e-09],\n       [1.9821646e-10, 2.4093474e-16, 6.7285386e-09, ..., 3.4146652e-10,\n        1.4890270e-11, 1.0000000e+00],\n       ...,\n       [1.2171584e-28, 4.6619128e-28, 8.3888570e-21, ..., 2.7679496e-18,\n        1.2456015e-25, 3.9329801e-20],\n       [2.3611971e-10, 3.0283659e-16, 4.6405715e-10, ..., 1.1704084e-09,\n        2.8738394e-13, 9.9999917e-01],\n       [3.0857892e-24, 9.5148678e-33, 1.0000000e+00, ..., 4.6412198e-22,\n        5.4640766e-25, 4.5161836e-23]], dtype=float32)"
         },
         "execution_count": 19,
         "metadata": {},
         "output_type": "execute_result"
        }
       ],
       "cell_source": "predictions = cnn.predict(test, verbose=2)\npredictions",
       "data_values": [],
       "data_vars": [],
       "definitions": [
        {
         "col_offset": 0,
         "dependencies": [
          "cnn",
          "test"
         ],
         "end_col_offset": 42,
         "end_lineno": 1,
         "lineno": 1,
         "name": "predictions",
         "type": "assign"
        }
       ],
       "execution_count": 19,
       "imports": [],
       "local": [
        "predictions"
       ],
       "local_info": {
        "predictions": "\u001b[1;31mType:\u001b[0m            ndarray\n\u001b[1;31mString form:\u001b[0m    \n[[3.1343465e-17 1.5099554e-20 1.0000000e+00 ... 4.6640094e-14\n  6.3576171e-18 1.1007041e-17]\n [9.9999988e-01 3.3768359e-20 6.4604158e-08 ... 1.3828047e-11\n  1.4261501e-11 1.1294965e-09]\n [1.9821646e-10 2.4093474e-16 6.7285386e-09 ... 3.4146652e-10\n  1.4890270e-11 1.0000000e+00]\n ...\n [1.2171584e-28 4.6619128e-28 8.3888570e-21 ... 2.7679496e-18\n  1.2456015e-25 3.9329801e-20]\n [2.3611971e-10 3.0283659e-16 4.6405715e-10 ... 1.1704084e-09\n  2.8738394e-13 9.9999917e-01]\n [3.0857892e-24 9.5148678e-33 1.0000000e+00 ... 4.6412198e-22\n  5.4640766e-25 4.5161836e-23]]\n\u001b[1;31mLength:\u001b[0m          28000\n\u001b[1;31mFile:\u001b[0m            c:\\program files\\python39\\lib\\site-packages\\numpy\\__init__.py\n\u001b[1;31mDocstring:\u001b[0m       <no docstring>\n"
       },
       "remote": [
        "cnn",
        "test"
       ],
       "time": "Thu, 24 Jun 2021 10:26:21 GMT",
       "type": "execution"
      }
     ],
     "environment": {
      "kernel": {
       "implementation": "ipython",
       "version": "7.22.0"
      },
      "language_info": {
       "mimetype": "text/x-python",
       "name": "python",
       "version": "3.9.2"
      },
      "time": "Thu, 24 Jun 2021 10:19:30 GMT",
      "user_agent": "Mozilla/5.0 (Windows NT 10.0; Win64; x64; rv:89.0) Gecko/20100101 Firefox/89.0"
     },
     "modules": {
      "keras.preprocessing.image": {
       "imports": [
        "ImageDataGenerator"
       ],
       "version": ""
      },
      "keras.utils.np_utils": {
       "imports": [
        "to_categorical"
       ],
       "version": ""
      },
      "matplotlib.pyplot": {
       "alias": "plt",
       "version": ""
      },
      "numpy": {
       "alias": "np",
       "version": "1.19.5"
      },
      "os": {
       "version": ""
      },
      "pandas": {
       "alias": "pd",
       "version": "1.2.3"
      },
      "seaborn": {
       "alias": "sns",
       "version": "0.11.1"
      },
      "sklearn.model_selection": {
       "imports": [
        "train_test_split"
       ],
       "version": ""
      },
      "tensorflow.keras.callbacks": {
       "imports": [
        "EarlyStopping",
        "ReduceLROnPlateau"
       ],
       "version": ""
      },
      "tensorflow.keras.layers": {
       "imports": [
        "Conv2D",
        "MaxPooling2D",
        "Flatten",
        "Dense",
        "Dropout",
        "BatchNormalization"
       ],
       "version": ""
      },
      "tensorflow.keras.models": {
       "imports": [
        "Sequential"
       ],
       "version": ""
      }
     }
    }
   ]
  }
 },
 "nbformat": 4,
 "nbformat_minor": 5
}
