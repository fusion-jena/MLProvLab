{
 "cells": [
  {
   "cell_type": "code",
   "execution_count": 4,
   "id": "close-international",
   "metadata": {
    "prov_id": "a2449376-5415-4eca-9359-c57aaebf88ad"
   },
   "outputs": [],
   "source": [
    "def F(n):\n",
    "    if n == 0: return 0\n",
    "    elif n == 1: return 1\n",
    "    else: return F(n-1)+F(n-2)"
   ]
  },
  {
   "cell_type": "code",
   "execution_count": 5,
   "id": "relative-concentrate",
   "metadata": {
    "prov_id": "d71ac389-20f9-4f1d-b92c-0cb067097cd9",
    "tags": []
   },
   "outputs": [],
   "source": [
    "a = F(10)\n",
    "b = F(10)\n",
    "c = F(10)\n",
    "d = F(10)\n",
    "e = F(10)\n",
    "f = F(10)\n",
    "g = F(10)\n",
    "h = F(10)\n",
    "j = F(10)\n",
    "k = F(10)"
   ]
  },
  {
   "cell_type": "code",
   "execution_count": 6,
   "id": "eligible-tournament",
   "metadata": {
    "prov_id": "e19260d6-b061-4c91-bf1d-3579ad994a89"
   },
   "outputs": [],
   "source": [
    "a = a\n",
    "b = b\n",
    "c = c\n",
    "d = d\n",
    "e = e\n",
    "f = f\n",
    "g = g\n",
    "h = h\n",
    "j = j\n",
    "k = k"
   ]
  },
  {
   "cell_type": "code",
   "execution_count": 7,
   "id": "contemporary-playback",
   "metadata": {
    "prov_id": "a4258737-950f-4d19-bb76-023b7e08b429"
   },
   "outputs": [],
   "source": [
    "a = a\n",
    "b = b\n",
    "c = c\n",
    "d = d\n",
    "e = e\n",
    "f = f\n",
    "g = g\n",
    "h = h\n",
    "j = j\n",
    "k = k"
   ]
  },
  {
   "cell_type": "code",
   "execution_count": 8,
   "id": "failing-collins",
   "metadata": {
    "prov_id": "6abe2451-decb-489d-b252-af48c885fcc3"
   },
   "outputs": [],
   "source": [
    "a = a\n",
    "b = b\n",
    "c = c\n",
    "d = d\n",
    "e = e\n",
    "f = f\n",
    "g = g\n",
    "h = h\n",
    "j = j\n",
    "k = k"
   ]
  },
  {
   "cell_type": "code",
   "execution_count": 9,
   "id": "outstanding-brother",
   "metadata": {
    "prov_id": "a6586c4d-fa74-49a1-bd87-6b750bcc02fb"
   },
   "outputs": [],
   "source": [
    "a = a\n",
    "b = b\n",
    "c = c\n",
    "d = d\n",
    "e = e\n",
    "f = f\n",
    "g = g\n",
    "h = h\n",
    "j = j\n",
    "k = k"
   ]
  },
  {
   "cell_type": "code",
   "execution_count": 10,
   "id": "catholic-control",
   "metadata": {
    "prov_id": "0263c58c-8ba1-44ab-baeb-b65b17a6ec4f"
   },
   "outputs": [],
   "source": [
    "a = a\n",
    "b = b\n",
    "c = c\n",
    "d = d\n",
    "e = e\n",
    "f = f\n",
    "g = g\n",
    "h = h\n",
    "j = j\n",
    "k = k"
   ]
  },
  {
   "cell_type": "code",
   "execution_count": 11,
   "id": "bulgarian-eagle",
   "metadata": {
    "prov_id": "37bcf7a1-603f-4549-af7b-0b5c1d5c735a"
   },
   "outputs": [],
   "source": [
    "a = a\n",
    "b = b\n",
    "c = c\n",
    "d = d\n",
    "e = e\n",
    "f = f\n",
    "g = g\n",
    "h = h\n",
    "j = j\n",
    "k = k"
   ]
  },
  {
   "cell_type": "code",
   "execution_count": 12,
   "id": "capable-caribbean",
   "metadata": {
    "prov_id": "2d8e8e78-8b26-47b0-a6be-0c816728ca1f"
   },
   "outputs": [],
   "source": [
    "a = a\n",
    "b = b\n",
    "c = c\n",
    "d = d\n",
    "e = e\n",
    "f = f\n",
    "g = g\n",
    "h = h\n",
    "j = j\n",
    "k = k"
   ]
  },
  {
   "cell_type": "code",
   "execution_count": 13,
   "id": "aware-justice",
   "metadata": {
    "prov_id": "aa5792ab-d9b4-411f-a2d4-24010b7f66a7"
   },
   "outputs": [],
   "source": [
    "a = a\n",
    "b = b\n",
    "c = c\n",
    "d = d\n",
    "e = e\n",
    "f = f\n",
    "g = g\n",
    "h = h\n",
    "j = j\n",
    "k = k"
   ]
  },
  {
   "cell_type": "code",
   "execution_count": 14,
   "id": "exotic-dispute",
   "metadata": {
    "prov_id": "03b6c04f-7db6-40a5-a456-50912e163434"
   },
   "outputs": [],
   "source": [
    "a = a\n",
    "b = b\n",
    "c = c\n",
    "d = d\n",
    "e = e\n",
    "f = f\n",
    "g = g\n",
    "h = h\n",
    "j = j\n",
    "k = k"
   ]
  },
  {
   "cell_type": "code",
   "execution_count": 15,
   "id": "alert-monday",
   "metadata": {
    "prov_id": "b4931140-4b99-4388-858d-5f9b8c4a2ebd"
   },
   "outputs": [],
   "source": [
    "a = a\n",
    "b = b\n",
    "c = c\n",
    "d = d\n",
    "e = e\n",
    "f = f\n",
    "g = g\n",
    "h = h\n",
    "j = j\n",
    "k = k"
   ]
  },
  {
   "cell_type": "code",
   "execution_count": 16,
   "id": "pressing-elements",
   "metadata": {
    "prov_id": "0ac16a0b-7e55-4356-ac8e-5e71ec35f614"
   },
   "outputs": [],
   "source": [
    "a = a\n",
    "b = b\n",
    "c = c\n",
    "d = d\n",
    "e = e\n",
    "f = f\n",
    "g = g\n",
    "h = h\n",
    "j = j\n",
    "k = k"
   ]
  },
  {
   "cell_type": "code",
   "execution_count": 17,
   "id": "sunrise-license",
   "metadata": {
    "prov_id": "5fdf9741-6557-4703-a4a1-4e92ffded6a9"
   },
   "outputs": [],
   "source": [
    "a = a\n",
    "b = b\n",
    "c = c\n",
    "d = d\n",
    "e = e\n",
    "f = f\n",
    "g = g\n",
    "h = h\n",
    "j = j\n",
    "k = k"
   ]
  },
  {
   "cell_type": "code",
   "execution_count": 18,
   "id": "acknowledged-therapist",
   "metadata": {
    "prov_id": "cd13f27a-6d22-4851-abe3-6b81c369964d"
   },
   "outputs": [],
   "source": [
    "a = a\n",
    "b = b\n",
    "c = c\n",
    "d = d\n",
    "e = e\n",
    "f = f\n",
    "g = g\n",
    "h = h\n",
    "j = j\n",
    "k = k"
   ]
  },
  {
   "cell_type": "code",
   "execution_count": 19,
   "id": "complimentary-dayton",
   "metadata": {
    "prov_id": "97f52bff-b543-440e-98fd-c409fd8b7a6f"
   },
   "outputs": [],
   "source": [
    "a = a\n",
    "b = b\n",
    "c = c\n",
    "d = d\n",
    "e = e\n",
    "f = f\n",
    "g = g\n",
    "h = h\n",
    "j = j\n",
    "k = k"
   ]
  },
  {
   "cell_type": "code",
   "execution_count": 20,
   "id": "backed-teddy",
   "metadata": {
    "prov_id": "09b1b779-823c-4ce4-92a6-cc23d2a57591"
   },
   "outputs": [],
   "source": [
    "a = a\n",
    "b = b\n",
    "c = c\n",
    "d = d\n",
    "e = e\n",
    "f = f\n",
    "g = g\n",
    "h = h\n",
    "j = j\n",
    "k = k"
   ]
  },
  {
   "cell_type": "code",
   "execution_count": 21,
   "id": "musical-turner",
   "metadata": {
    "prov_id": "a386d2d9-767a-4a87-ba0f-d07a80c69ea0"
   },
   "outputs": [],
   "source": [
    "a = a\n",
    "b = b\n",
    "c = c\n",
    "d = d\n",
    "e = e\n",
    "f = f\n",
    "g = g\n",
    "h = h\n",
    "j = j\n",
    "k = k"
   ]
  },
  {
   "cell_type": "code",
   "execution_count": 22,
   "id": "clean-status",
   "metadata": {
    "prov_id": "5828a2e5-7e40-4340-a346-f42fed52e994"
   },
   "outputs": [],
   "source": [
    "a = a\n",
    "b = b\n",
    "c = c\n",
    "d = d\n",
    "e = e\n",
    "f = f\n",
    "g = g\n",
    "h = h\n",
    "j = j\n",
    "k = k"
   ]
  },
  {
   "cell_type": "code",
   "execution_count": 23,
   "id": "funded-likelihood",
   "metadata": {
    "prov_id": "106fa16c-0880-458a-b255-324e6ceb0fc6"
   },
   "outputs": [],
   "source": [
    "a = a\n",
    "b = b\n",
    "c = c\n",
    "d = d\n",
    "e = e\n",
    "f = f\n",
    "g = g\n",
    "h = h\n",
    "j = j\n",
    "k = k"
   ]
  },
  {
   "cell_type": "code",
   "execution_count": 24,
   "id": "brave-lexington",
   "metadata": {
    "prov_id": "866ce834-e2c8-4c1d-9e5e-7050cf9e0e0d"
   },
   "outputs": [],
   "source": [
    "a = a\n",
    "b = b\n",
    "c = c\n",
    "d = d\n",
    "e = e\n",
    "f = f\n",
    "g = g\n",
    "h = h\n",
    "j = j\n",
    "k = k"
   ]
  },
  {
   "cell_type": "code",
   "execution_count": 25,
   "id": "linear-forum",
   "metadata": {
    "prov_id": "01dfb57a-3864-40ba-b5ef-7137f296c60f"
   },
   "outputs": [],
   "source": [
    "a = a\n",
    "b = b\n",
    "c = c\n",
    "d = d\n",
    "e = e\n",
    "f = f\n",
    "g = g\n",
    "h = h\n",
    "j = j\n",
    "k = k"
   ]
  },
  {
   "cell_type": "code",
   "execution_count": 26,
   "id": "sunset-minneapolis",
   "metadata": {
    "prov_id": "30ad3cfe-f686-4556-9edc-978c60ae2f47"
   },
   "outputs": [],
   "source": [
    "a = a\n",
    "b = b\n",
    "c = c\n",
    "d = d\n",
    "e = e\n",
    "f = f\n",
    "g = g\n",
    "h = h\n",
    "j = j\n",
    "k = k"
   ]
  },
  {
   "cell_type": "code",
   "execution_count": 27,
   "id": "dried-christopher",
   "metadata": {
    "prov_id": "72b3536a-bb29-4b5e-9a4b-b204203d0dcd"
   },
   "outputs": [],
   "source": [
    "a = a\n",
    "b = b\n",
    "c = c\n",
    "d = d\n",
    "e = e\n",
    "f = f\n",
    "g = g\n",
    "h = h\n",
    "j = j\n",
    "k = k"
   ]
  },
  {
   "cell_type": "code",
   "execution_count": 28,
   "id": "exempt-premium",
   "metadata": {
    "prov_id": "11c3c780-ae25-4f45-8f72-68b02e3a26aa"
   },
   "outputs": [],
   "source": [
    "a = a\n",
    "b = b\n",
    "c = c\n",
    "d = d\n",
    "e = e\n",
    "f = f\n",
    "g = g\n",
    "h = h\n",
    "j = j\n",
    "k = k"
   ]
  },
  {
   "cell_type": "code",
   "execution_count": 29,
   "id": "every-retro",
   "metadata": {
    "prov_id": "11c3c780-ae25-4f45-8f72-68b02e3a26aa"
   },
   "outputs": [],
   "source": [
    "a = a\n",
    "b = b\n",
    "c = c\n",
    "d = d\n",
    "e = e\n",
    "f = f\n",
    "g = g\n",
    "h = h\n",
    "j = j\n",
    "k = k"
   ]
  }
 ],
 "metadata": {
  "kernelspec": {
   "display_name": "Python 3",
   "language": "python",
   "name": "python3"
  },
  "language_info": {
   "codemirror_mode": {
    "name": "ipython",
    "version": 3
   },
   "file_extension": ".py",
   "mimetype": "text/x-python",
   "name": "python",
   "nbconvert_exporter": "python",
   "pygments_lexer": "ipython3",
   "version": "3.9.4"
  },
  "provenance": {
   "cells": [
    "a2449376-5415-4eca-9359-c57aaebf88ad",
    "d71ac389-20f9-4f1d-b92c-0cb067097cd9",
    "e19260d6-b061-4c91-bf1d-3579ad994a89",
    "a4258737-950f-4d19-bb76-023b7e08b429",
    "6abe2451-decb-489d-b252-af48c885fcc3",
    "a6586c4d-fa74-49a1-bd87-6b750bcc02fb",
    "0263c58c-8ba1-44ab-baeb-b65b17a6ec4f",
    "37bcf7a1-603f-4549-af7b-0b5c1d5c735a",
    "2d8e8e78-8b26-47b0-a6be-0c816728ca1f",
    "aa5792ab-d9b4-411f-a2d4-24010b7f66a7",
    "03b6c04f-7db6-40a5-a456-50912e163434",
    "b4931140-4b99-4388-858d-5f9b8c4a2ebd",
    "0ac16a0b-7e55-4356-ac8e-5e71ec35f614",
    "5fdf9741-6557-4703-a4a1-4e92ffded6a9",
    "cd13f27a-6d22-4851-abe3-6b81c369964d",
    "97f52bff-b543-440e-98fd-c409fd8b7a6f",
    "09b1b779-823c-4ce4-92a6-cc23d2a57591",
    "a386d2d9-767a-4a87-ba0f-d07a80c69ea0",
    "5828a2e5-7e40-4340-a346-f42fed52e994",
    "106fa16c-0880-458a-b255-324e6ceb0fc6",
    "866ce834-e2c8-4c1d-9e5e-7050cf9e0e0d",
    "01dfb57a-3864-40ba-b5ef-7137f296c60f",
    "30ad3cfe-f686-4556-9edc-978c60ae2f47",
    "72b3536a-bb29-4b5e-9a4b-b204203d0dcd",
    "11c3c780-ae25-4f45-8f72-68b02e3a26aa"
   ],
   "epochs": [
    {
     "cells": [
      "a2449376-5415-4eca-9359-c57aaebf88ad",
      "d71ac389-20f9-4f1d-b92c-0cb067097cd9",
      "e19260d6-b061-4c91-bf1d-3579ad994a89",
      "a4258737-950f-4d19-bb76-023b7e08b429",
      "6abe2451-decb-489d-b252-af48c885fcc3",
      "a6586c4d-fa74-49a1-bd87-6b750bcc02fb",
      "0263c58c-8ba1-44ab-baeb-b65b17a6ec4f",
      "37bcf7a1-603f-4549-af7b-0b5c1d5c735a",
      "2d8e8e78-8b26-47b0-a6be-0c816728ca1f",
      "aa5792ab-d9b4-411f-a2d4-24010b7f66a7",
      "03b6c04f-7db6-40a5-a456-50912e163434",
      "b4931140-4b99-4388-858d-5f9b8c4a2ebd",
      "0ac16a0b-7e55-4356-ac8e-5e71ec35f614",
      "5fdf9741-6557-4703-a4a1-4e92ffded6a9",
      "cd13f27a-6d22-4851-abe3-6b81c369964d",
      "97f52bff-b543-440e-98fd-c409fd8b7a6f",
      "09b1b779-823c-4ce4-92a6-cc23d2a57591",
      "a386d2d9-767a-4a87-ba0f-d07a80c69ea0",
      "5828a2e5-7e40-4340-a346-f42fed52e994",
      "106fa16c-0880-458a-b255-324e6ceb0fc6",
      "866ce834-e2c8-4c1d-9e5e-7050cf9e0e0d",
      "01dfb57a-3864-40ba-b5ef-7137f296c60f",
      "30ad3cfe-f686-4556-9edc-978c60ae2f47",
      "72b3536a-bb29-4b5e-9a4b-b204203d0dcd",
      "11c3c780-ae25-4f45-8f72-68b02e3a26aa"
     ],
     "data": [
      {
       "cell_id": "a2449376-5415-4eca-9359-c57aaebf88ad",
       "cell_outputs": [],
       "cell_source": "def F(n):\n    if n == 0: return 0\n    elif n == 1: return 1\n    else: return F(n-1)+F(n-2)",
       "data_values": [],
       "data_vars": [],
       "definitions": [
        {
         "col_offset": 0,
         "dependencies": [
          "n"
         ],
         "end_col_offset": 30,
         "end_lineno": 4,
         "lineno": 1,
         "name": "F",
         "type": "function"
        }
       ],
       "execution_count": 1,
       "imports": [],
       "local": [
        "F"
       ],
       "local_info": {
        "F": ""
       },
       "remote": [
        "n"
       ],
       "time": "Wed, 08 Sep 2021 14:54:24 GMT",
       "type": "execution"
      },
      {
       "cell_id": "d71ac389-20f9-4f1d-b92c-0cb067097cd9",
       "cell_outputs": [],
       "cell_source": "a = F(10)\nb = F(10)\nc = F(10)\nd = F(10)\ne = F(10)\nf = F(10)\ng = F(10)\nh = F(10)\nj = F(10)\nk = F(10)",
       "data_values": [],
       "data_vars": [],
       "definitions": [
        {
         "col_offset": 0,
         "dependencies": [
          "F"
         ],
         "end_col_offset": 9,
         "end_lineno": 1,
         "lineno": 1,
         "name": "a",
         "type": "assign"
        },
        {
         "col_offset": 0,
         "dependencies": [
          "F"
         ],
         "end_col_offset": 9,
         "end_lineno": 2,
         "lineno": 2,
         "name": "b",
         "type": "assign"
        },
        {
         "col_offset": 0,
         "dependencies": [
          "F"
         ],
         "end_col_offset": 9,
         "end_lineno": 3,
         "lineno": 3,
         "name": "c",
         "type": "assign"
        },
        {
         "col_offset": 0,
         "dependencies": [
          "F"
         ],
         "end_col_offset": 9,
         "end_lineno": 4,
         "lineno": 4,
         "name": "d",
         "type": "assign"
        },
        {
         "col_offset": 0,
         "dependencies": [
          "F"
         ],
         "end_col_offset": 9,
         "end_lineno": 5,
         "lineno": 5,
         "name": "e",
         "type": "assign"
        },
        {
         "col_offset": 0,
         "dependencies": [
          "F"
         ],
         "end_col_offset": 9,
         "end_lineno": 6,
         "lineno": 6,
         "name": "f",
         "type": "assign"
        },
        {
         "col_offset": 0,
         "dependencies": [
          "F"
         ],
         "end_col_offset": 9,
         "end_lineno": 7,
         "lineno": 7,
         "name": "g",
         "type": "assign"
        },
        {
         "col_offset": 0,
         "dependencies": [
          "F"
         ],
         "end_col_offset": 9,
         "end_lineno": 8,
         "lineno": 8,
         "name": "h",
         "type": "assign"
        },
        {
         "col_offset": 0,
         "dependencies": [
          "F"
         ],
         "end_col_offset": 9,
         "end_lineno": 9,
         "lineno": 9,
         "name": "j",
         "type": "assign"
        },
        {
         "col_offset": 0,
         "dependencies": [
          "F"
         ],
         "end_col_offset": 9,
         "end_lineno": 10,
         "lineno": 10,
         "name": "k",
         "type": "assign"
        }
       ],
       "execution_count": 2,
       "imports": [],
       "local": [
        "a",
        "b",
        "c",
        "d",
        "e",
        "f",
        "g",
        "h",
        "j",
        "k"
       ],
       "local_info": {
        "a": "",
        "b": "",
        "c": "",
        "d": "",
        "e": "",
        "f": "",
        "g": "",
        "h": "",
        "j": "",
        "k": ""
       },
       "remote": [
        "F"
       ],
       "time": "Wed, 08 Sep 2021 14:54:25 GMT",
       "type": "execution"
      },
      {
       "cell_id": "e19260d6-b061-4c91-bf1d-3579ad994a89",
       "cell_outputs": [],
       "cell_source": "a = a\nb = b\nc = c\nd = d\ne = e\nf = f\ng = g\nh = h\nj = j\nk = k",
       "data_values": [],
       "data_vars": [],
       "definitions": [
        {
         "col_offset": 0,
         "dependencies": [
          "a"
         ],
         "end_col_offset": 5,
         "end_lineno": 1,
         "lineno": 1,
         "name": "a",
         "type": "assign"
        },
        {
         "col_offset": 0,
         "dependencies": [
          "b"
         ],
         "end_col_offset": 5,
         "end_lineno": 2,
         "lineno": 2,
         "name": "b",
         "type": "assign"
        },
        {
         "col_offset": 0,
         "dependencies": [
          "c"
         ],
         "end_col_offset": 5,
         "end_lineno": 3,
         "lineno": 3,
         "name": "c",
         "type": "assign"
        },
        {
         "col_offset": 0,
         "dependencies": [
          "d"
         ],
         "end_col_offset": 5,
         "end_lineno": 4,
         "lineno": 4,
         "name": "d",
         "type": "assign"
        },
        {
         "col_offset": 0,
         "dependencies": [
          "e"
         ],
         "end_col_offset": 5,
         "end_lineno": 5,
         "lineno": 5,
         "name": "e",
         "type": "assign"
        },
        {
         "col_offset": 0,
         "dependencies": [
          "f"
         ],
         "end_col_offset": 5,
         "end_lineno": 6,
         "lineno": 6,
         "name": "f",
         "type": "assign"
        },
        {
         "col_offset": 0,
         "dependencies": [
          "g"
         ],
         "end_col_offset": 5,
         "end_lineno": 7,
         "lineno": 7,
         "name": "g",
         "type": "assign"
        },
        {
         "col_offset": 0,
         "dependencies": [
          "h"
         ],
         "end_col_offset": 5,
         "end_lineno": 8,
         "lineno": 8,
         "name": "h",
         "type": "assign"
        },
        {
         "col_offset": 0,
         "dependencies": [
          "j"
         ],
         "end_col_offset": 5,
         "end_lineno": 9,
         "lineno": 9,
         "name": "j",
         "type": "assign"
        },
        {
         "col_offset": 0,
         "dependencies": [
          "k"
         ],
         "end_col_offset": 5,
         "end_lineno": 10,
         "lineno": 10,
         "name": "k",
         "type": "assign"
        }
       ],
       "execution_count": 3,
       "imports": [],
       "local": [
        "a",
        "b",
        "c",
        "d",
        "e",
        "f",
        "g",
        "h",
        "j",
        "k"
       ],
       "local_info": {
        "a": "",
        "b": "",
        "c": "",
        "d": "",
        "e": "",
        "f": "",
        "g": "",
        "h": "",
        "j": "",
        "k": ""
       },
       "remote": [
        "a",
        "b",
        "c",
        "d",
        "e",
        "f",
        "g",
        "h",
        "j",
        "k"
       ],
       "time": "Wed, 08 Sep 2021 14:54:25 GMT",
       "type": "execution"
      },
      {
       "cell_id": "a2449376-5415-4eca-9359-c57aaebf88ad",
       "cell_outputs": [],
       "cell_source": "def F(n):\n    if n == 0: return 0\n    elif n == 1: return 1\n    else: return F(n-1)+F(n-2)",
       "data_values": [],
       "data_vars": [],
       "definitions": [
        {
         "col_offset": 0,
         "dependencies": [
          "n"
         ],
         "end_col_offset": 30,
         "end_lineno": 4,
         "lineno": 1,
         "name": "F",
         "type": "function"
        }
       ],
       "execution_count": 4,
       "imports": [],
       "local": [
        "F"
       ],
       "local_info": {
        "F": ""
       },
       "remote": [
        "n"
       ],
       "time": "Wed, 08 Sep 2021 14:54:33 GMT",
       "type": "execution"
      },
      {
       "cell_id": "d71ac389-20f9-4f1d-b92c-0cb067097cd9",
       "cell_outputs": [],
       "cell_source": "a = F(10)\nb = F(10)\nc = F(10)\nd = F(10)\ne = F(10)\nf = F(10)\ng = F(10)\nh = F(10)\nj = F(10)\nk = F(10)",
       "data_values": [],
       "data_vars": [],
       "definitions": [
        {
         "col_offset": 0,
         "dependencies": [
          "F"
         ],
         "end_col_offset": 9,
         "end_lineno": 1,
         "lineno": 1,
         "name": "a",
         "type": "assign"
        },
        {
         "col_offset": 0,
         "dependencies": [
          "F"
         ],
         "end_col_offset": 9,
         "end_lineno": 2,
         "lineno": 2,
         "name": "b",
         "type": "assign"
        },
        {
         "col_offset": 0,
         "dependencies": [
          "F"
         ],
         "end_col_offset": 9,
         "end_lineno": 3,
         "lineno": 3,
         "name": "c",
         "type": "assign"
        },
        {
         "col_offset": 0,
         "dependencies": [
          "F"
         ],
         "end_col_offset": 9,
         "end_lineno": 4,
         "lineno": 4,
         "name": "d",
         "type": "assign"
        },
        {
         "col_offset": 0,
         "dependencies": [
          "F"
         ],
         "end_col_offset": 9,
         "end_lineno": 5,
         "lineno": 5,
         "name": "e",
         "type": "assign"
        },
        {
         "col_offset": 0,
         "dependencies": [
          "F"
         ],
         "end_col_offset": 9,
         "end_lineno": 6,
         "lineno": 6,
         "name": "f",
         "type": "assign"
        },
        {
         "col_offset": 0,
         "dependencies": [
          "F"
         ],
         "end_col_offset": 9,
         "end_lineno": 7,
         "lineno": 7,
         "name": "g",
         "type": "assign"
        },
        {
         "col_offset": 0,
         "dependencies": [
          "F"
         ],
         "end_col_offset": 9,
         "end_lineno": 8,
         "lineno": 8,
         "name": "h",
         "type": "assign"
        },
        {
         "col_offset": 0,
         "dependencies": [
          "F"
         ],
         "end_col_offset": 9,
         "end_lineno": 9,
         "lineno": 9,
         "name": "j",
         "type": "assign"
        },
        {
         "col_offset": 0,
         "dependencies": [
          "F"
         ],
         "end_col_offset": 9,
         "end_lineno": 10,
         "lineno": 10,
         "name": "k",
         "type": "assign"
        }
       ],
       "execution_count": 5,
       "imports": [],
       "local": [
        "a",
        "b",
        "c",
        "d",
        "e",
        "f",
        "g",
        "h",
        "j",
        "k"
       ],
       "local_info": {
        "a": "",
        "b": "",
        "c": "",
        "d": "",
        "e": "",
        "f": "",
        "g": "",
        "h": "",
        "j": "",
        "k": ""
       },
       "remote": [
        "F"
       ],
       "time": "Wed, 08 Sep 2021 14:54:33 GMT",
       "type": "execution"
      },
      {
       "cell_id": "e19260d6-b061-4c91-bf1d-3579ad994a89",
       "cell_outputs": [],
       "cell_source": "a = a\nb = b\nc = c\nd = d\ne = e\nf = f\ng = g\nh = h\nj = j\nk = k",
       "data_values": [],
       "data_vars": [],
       "definitions": [
        {
         "col_offset": 0,
         "dependencies": [
          "a"
         ],
         "end_col_offset": 5,
         "end_lineno": 1,
         "lineno": 1,
         "name": "a",
         "type": "assign"
        },
        {
         "col_offset": 0,
         "dependencies": [
          "b"
         ],
         "end_col_offset": 5,
         "end_lineno": 2,
         "lineno": 2,
         "name": "b",
         "type": "assign"
        },
        {
         "col_offset": 0,
         "dependencies": [
          "c"
         ],
         "end_col_offset": 5,
         "end_lineno": 3,
         "lineno": 3,
         "name": "c",
         "type": "assign"
        },
        {
         "col_offset": 0,
         "dependencies": [
          "d"
         ],
         "end_col_offset": 5,
         "end_lineno": 4,
         "lineno": 4,
         "name": "d",
         "type": "assign"
        },
        {
         "col_offset": 0,
         "dependencies": [
          "e"
         ],
         "end_col_offset": 5,
         "end_lineno": 5,
         "lineno": 5,
         "name": "e",
         "type": "assign"
        },
        {
         "col_offset": 0,
         "dependencies": [
          "f"
         ],
         "end_col_offset": 5,
         "end_lineno": 6,
         "lineno": 6,
         "name": "f",
         "type": "assign"
        },
        {
         "col_offset": 0,
         "dependencies": [
          "g"
         ],
         "end_col_offset": 5,
         "end_lineno": 7,
         "lineno": 7,
         "name": "g",
         "type": "assign"
        },
        {
         "col_offset": 0,
         "dependencies": [
          "h"
         ],
         "end_col_offset": 5,
         "end_lineno": 8,
         "lineno": 8,
         "name": "h",
         "type": "assign"
        },
        {
         "col_offset": 0,
         "dependencies": [
          "j"
         ],
         "end_col_offset": 5,
         "end_lineno": 9,
         "lineno": 9,
         "name": "j",
         "type": "assign"
        },
        {
         "col_offset": 0,
         "dependencies": [
          "k"
         ],
         "end_col_offset": 5,
         "end_lineno": 10,
         "lineno": 10,
         "name": "k",
         "type": "assign"
        }
       ],
       "execution_count": 6,
       "imports": [],
       "local": [
        "a",
        "b",
        "c",
        "d",
        "e",
        "f",
        "g",
        "h",
        "j",
        "k"
       ],
       "local_info": {
        "a": "",
        "b": "",
        "c": "",
        "d": "",
        "e": "",
        "f": "",
        "g": "",
        "h": "",
        "j": "",
        "k": ""
       },
       "remote": [
        "a",
        "b",
        "c",
        "d",
        "e",
        "f",
        "g",
        "h",
        "j",
        "k"
       ],
       "time": "Wed, 08 Sep 2021 14:54:33 GMT",
       "type": "execution"
      },
      {
       "cell_id": "a4258737-950f-4d19-bb76-023b7e08b429",
       "cell_outputs": [],
       "cell_source": "a = a\nb = b\nc = c\nd = d\ne = e\nf = f\ng = g\nh = h\nj = j\nk = k",
       "data_values": [],
       "data_vars": [],
       "definitions": [
        {
         "col_offset": 0,
         "dependencies": [
          "a"
         ],
         "end_col_offset": 5,
         "end_lineno": 1,
         "lineno": 1,
         "name": "a",
         "type": "assign"
        },
        {
         "col_offset": 0,
         "dependencies": [
          "b"
         ],
         "end_col_offset": 5,
         "end_lineno": 2,
         "lineno": 2,
         "name": "b",
         "type": "assign"
        },
        {
         "col_offset": 0,
         "dependencies": [
          "c"
         ],
         "end_col_offset": 5,
         "end_lineno": 3,
         "lineno": 3,
         "name": "c",
         "type": "assign"
        },
        {
         "col_offset": 0,
         "dependencies": [
          "d"
         ],
         "end_col_offset": 5,
         "end_lineno": 4,
         "lineno": 4,
         "name": "d",
         "type": "assign"
        },
        {
         "col_offset": 0,
         "dependencies": [
          "e"
         ],
         "end_col_offset": 5,
         "end_lineno": 5,
         "lineno": 5,
         "name": "e",
         "type": "assign"
        },
        {
         "col_offset": 0,
         "dependencies": [
          "f"
         ],
         "end_col_offset": 5,
         "end_lineno": 6,
         "lineno": 6,
         "name": "f",
         "type": "assign"
        },
        {
         "col_offset": 0,
         "dependencies": [
          "g"
         ],
         "end_col_offset": 5,
         "end_lineno": 7,
         "lineno": 7,
         "name": "g",
         "type": "assign"
        },
        {
         "col_offset": 0,
         "dependencies": [
          "h"
         ],
         "end_col_offset": 5,
         "end_lineno": 8,
         "lineno": 8,
         "name": "h",
         "type": "assign"
        },
        {
         "col_offset": 0,
         "dependencies": [
          "j"
         ],
         "end_col_offset": 5,
         "end_lineno": 9,
         "lineno": 9,
         "name": "j",
         "type": "assign"
        },
        {
         "col_offset": 0,
         "dependencies": [
          "k"
         ],
         "end_col_offset": 5,
         "end_lineno": 10,
         "lineno": 10,
         "name": "k",
         "type": "assign"
        }
       ],
       "execution_count": 7,
       "imports": [],
       "local": [
        "a",
        "b",
        "c",
        "d",
        "e",
        "f",
        "g",
        "h",
        "j",
        "k"
       ],
       "local_info": {
        "a": "",
        "b": "",
        "c": "",
        "d": "",
        "e": "",
        "f": "",
        "g": "",
        "h": "",
        "j": "",
        "k": ""
       },
       "remote": [
        "a",
        "b",
        "c",
        "d",
        "e",
        "f",
        "g",
        "h",
        "j",
        "k"
       ],
       "time": "Wed, 08 Sep 2021 14:54:33 GMT",
       "type": "execution"
      },
      {
       "cell_id": "6abe2451-decb-489d-b252-af48c885fcc3",
       "cell_outputs": [],
       "cell_source": "a = a\nb = b\nc = c\nd = d\ne = e\nf = f\ng = g\nh = h\nj = j\nk = k",
       "data_values": [],
       "data_vars": [],
       "definitions": [
        {
         "col_offset": 0,
         "dependencies": [
          "a"
         ],
         "end_col_offset": 5,
         "end_lineno": 1,
         "lineno": 1,
         "name": "a",
         "type": "assign"
        },
        {
         "col_offset": 0,
         "dependencies": [
          "b"
         ],
         "end_col_offset": 5,
         "end_lineno": 2,
         "lineno": 2,
         "name": "b",
         "type": "assign"
        },
        {
         "col_offset": 0,
         "dependencies": [
          "c"
         ],
         "end_col_offset": 5,
         "end_lineno": 3,
         "lineno": 3,
         "name": "c",
         "type": "assign"
        },
        {
         "col_offset": 0,
         "dependencies": [
          "d"
         ],
         "end_col_offset": 5,
         "end_lineno": 4,
         "lineno": 4,
         "name": "d",
         "type": "assign"
        },
        {
         "col_offset": 0,
         "dependencies": [
          "e"
         ],
         "end_col_offset": 5,
         "end_lineno": 5,
         "lineno": 5,
         "name": "e",
         "type": "assign"
        },
        {
         "col_offset": 0,
         "dependencies": [
          "f"
         ],
         "end_col_offset": 5,
         "end_lineno": 6,
         "lineno": 6,
         "name": "f",
         "type": "assign"
        },
        {
         "col_offset": 0,
         "dependencies": [
          "g"
         ],
         "end_col_offset": 5,
         "end_lineno": 7,
         "lineno": 7,
         "name": "g",
         "type": "assign"
        },
        {
         "col_offset": 0,
         "dependencies": [
          "h"
         ],
         "end_col_offset": 5,
         "end_lineno": 8,
         "lineno": 8,
         "name": "h",
         "type": "assign"
        },
        {
         "col_offset": 0,
         "dependencies": [
          "j"
         ],
         "end_col_offset": 5,
         "end_lineno": 9,
         "lineno": 9,
         "name": "j",
         "type": "assign"
        },
        {
         "col_offset": 0,
         "dependencies": [
          "k"
         ],
         "end_col_offset": 5,
         "end_lineno": 10,
         "lineno": 10,
         "name": "k",
         "type": "assign"
        }
       ],
       "execution_count": 8,
       "imports": [],
       "local": [
        "a",
        "b",
        "c",
        "d",
        "e",
        "f",
        "g",
        "h",
        "j",
        "k"
       ],
       "local_info": {
        "a": "",
        "b": "",
        "c": "",
        "d": "",
        "e": "",
        "f": "",
        "g": "",
        "h": "",
        "j": "",
        "k": ""
       },
       "remote": [
        "a",
        "b",
        "c",
        "d",
        "e",
        "f",
        "g",
        "h",
        "j",
        "k"
       ],
       "time": "Wed, 08 Sep 2021 14:54:33 GMT",
       "type": "execution"
      },
      {
       "cell_id": "a6586c4d-fa74-49a1-bd87-6b750bcc02fb",
       "cell_outputs": [],
       "cell_source": "a = a\nb = b\nc = c\nd = d\ne = e\nf = f\ng = g\nh = h\nj = j\nk = k",
       "data_values": [],
       "data_vars": [],
       "definitions": [
        {
         "col_offset": 0,
         "dependencies": [
          "a"
         ],
         "end_col_offset": 5,
         "end_lineno": 1,
         "lineno": 1,
         "name": "a",
         "type": "assign"
        },
        {
         "col_offset": 0,
         "dependencies": [
          "b"
         ],
         "end_col_offset": 5,
         "end_lineno": 2,
         "lineno": 2,
         "name": "b",
         "type": "assign"
        },
        {
         "col_offset": 0,
         "dependencies": [
          "c"
         ],
         "end_col_offset": 5,
         "end_lineno": 3,
         "lineno": 3,
         "name": "c",
         "type": "assign"
        },
        {
         "col_offset": 0,
         "dependencies": [
          "d"
         ],
         "end_col_offset": 5,
         "end_lineno": 4,
         "lineno": 4,
         "name": "d",
         "type": "assign"
        },
        {
         "col_offset": 0,
         "dependencies": [
          "e"
         ],
         "end_col_offset": 5,
         "end_lineno": 5,
         "lineno": 5,
         "name": "e",
         "type": "assign"
        },
        {
         "col_offset": 0,
         "dependencies": [
          "f"
         ],
         "end_col_offset": 5,
         "end_lineno": 6,
         "lineno": 6,
         "name": "f",
         "type": "assign"
        },
        {
         "col_offset": 0,
         "dependencies": [
          "g"
         ],
         "end_col_offset": 5,
         "end_lineno": 7,
         "lineno": 7,
         "name": "g",
         "type": "assign"
        },
        {
         "col_offset": 0,
         "dependencies": [
          "h"
         ],
         "end_col_offset": 5,
         "end_lineno": 8,
         "lineno": 8,
         "name": "h",
         "type": "assign"
        },
        {
         "col_offset": 0,
         "dependencies": [
          "j"
         ],
         "end_col_offset": 5,
         "end_lineno": 9,
         "lineno": 9,
         "name": "j",
         "type": "assign"
        },
        {
         "col_offset": 0,
         "dependencies": [
          "k"
         ],
         "end_col_offset": 5,
         "end_lineno": 10,
         "lineno": 10,
         "name": "k",
         "type": "assign"
        }
       ],
       "execution_count": 9,
       "imports": [],
       "local": [
        "a",
        "b",
        "c",
        "d",
        "e",
        "f",
        "g",
        "h",
        "j",
        "k"
       ],
       "local_info": {
        "a": "",
        "b": "",
        "c": "",
        "d": "",
        "e": "",
        "f": "",
        "g": "",
        "h": "",
        "j": "",
        "k": ""
       },
       "remote": [
        "a",
        "b",
        "c",
        "d",
        "e",
        "f",
        "g",
        "h",
        "j",
        "k"
       ],
       "time": "Wed, 08 Sep 2021 14:54:33 GMT",
       "type": "execution"
      },
      {
       "cell_id": "0263c58c-8ba1-44ab-baeb-b65b17a6ec4f",
       "cell_outputs": [],
       "cell_source": "a = a\nb = b\nc = c\nd = d\ne = e\nf = f\ng = g\nh = h\nj = j\nk = k",
       "data_values": [],
       "data_vars": [],
       "definitions": [
        {
         "col_offset": 0,
         "dependencies": [
          "a"
         ],
         "end_col_offset": 5,
         "end_lineno": 1,
         "lineno": 1,
         "name": "a",
         "type": "assign"
        },
        {
         "col_offset": 0,
         "dependencies": [
          "b"
         ],
         "end_col_offset": 5,
         "end_lineno": 2,
         "lineno": 2,
         "name": "b",
         "type": "assign"
        },
        {
         "col_offset": 0,
         "dependencies": [
          "c"
         ],
         "end_col_offset": 5,
         "end_lineno": 3,
         "lineno": 3,
         "name": "c",
         "type": "assign"
        },
        {
         "col_offset": 0,
         "dependencies": [
          "d"
         ],
         "end_col_offset": 5,
         "end_lineno": 4,
         "lineno": 4,
         "name": "d",
         "type": "assign"
        },
        {
         "col_offset": 0,
         "dependencies": [
          "e"
         ],
         "end_col_offset": 5,
         "end_lineno": 5,
         "lineno": 5,
         "name": "e",
         "type": "assign"
        },
        {
         "col_offset": 0,
         "dependencies": [
          "f"
         ],
         "end_col_offset": 5,
         "end_lineno": 6,
         "lineno": 6,
         "name": "f",
         "type": "assign"
        },
        {
         "col_offset": 0,
         "dependencies": [
          "g"
         ],
         "end_col_offset": 5,
         "end_lineno": 7,
         "lineno": 7,
         "name": "g",
         "type": "assign"
        },
        {
         "col_offset": 0,
         "dependencies": [
          "h"
         ],
         "end_col_offset": 5,
         "end_lineno": 8,
         "lineno": 8,
         "name": "h",
         "type": "assign"
        },
        {
         "col_offset": 0,
         "dependencies": [
          "j"
         ],
         "end_col_offset": 5,
         "end_lineno": 9,
         "lineno": 9,
         "name": "j",
         "type": "assign"
        },
        {
         "col_offset": 0,
         "dependencies": [
          "k"
         ],
         "end_col_offset": 5,
         "end_lineno": 10,
         "lineno": 10,
         "name": "k",
         "type": "assign"
        }
       ],
       "execution_count": 10,
       "imports": [],
       "local": [
        "a",
        "b",
        "c",
        "d",
        "e",
        "f",
        "g",
        "h",
        "j",
        "k"
       ],
       "local_info": {
        "a": "",
        "b": "",
        "c": "",
        "d": "",
        "e": "",
        "f": "",
        "g": "",
        "h": "",
        "j": "",
        "k": ""
       },
       "remote": [
        "a",
        "b",
        "c",
        "d",
        "e",
        "f",
        "g",
        "h",
        "j",
        "k"
       ],
       "time": "Wed, 08 Sep 2021 14:54:34 GMT",
       "type": "execution"
      },
      {
       "cell_id": "37bcf7a1-603f-4549-af7b-0b5c1d5c735a",
       "cell_outputs": [],
       "cell_source": "a = a\nb = b\nc = c\nd = d\ne = e\nf = f\ng = g\nh = h\nj = j\nk = k",
       "data_values": [],
       "data_vars": [],
       "definitions": [
        {
         "col_offset": 0,
         "dependencies": [
          "a"
         ],
         "end_col_offset": 5,
         "end_lineno": 1,
         "lineno": 1,
         "name": "a",
         "type": "assign"
        },
        {
         "col_offset": 0,
         "dependencies": [
          "b"
         ],
         "end_col_offset": 5,
         "end_lineno": 2,
         "lineno": 2,
         "name": "b",
         "type": "assign"
        },
        {
         "col_offset": 0,
         "dependencies": [
          "c"
         ],
         "end_col_offset": 5,
         "end_lineno": 3,
         "lineno": 3,
         "name": "c",
         "type": "assign"
        },
        {
         "col_offset": 0,
         "dependencies": [
          "d"
         ],
         "end_col_offset": 5,
         "end_lineno": 4,
         "lineno": 4,
         "name": "d",
         "type": "assign"
        },
        {
         "col_offset": 0,
         "dependencies": [
          "e"
         ],
         "end_col_offset": 5,
         "end_lineno": 5,
         "lineno": 5,
         "name": "e",
         "type": "assign"
        },
        {
         "col_offset": 0,
         "dependencies": [
          "f"
         ],
         "end_col_offset": 5,
         "end_lineno": 6,
         "lineno": 6,
         "name": "f",
         "type": "assign"
        },
        {
         "col_offset": 0,
         "dependencies": [
          "g"
         ],
         "end_col_offset": 5,
         "end_lineno": 7,
         "lineno": 7,
         "name": "g",
         "type": "assign"
        },
        {
         "col_offset": 0,
         "dependencies": [
          "h"
         ],
         "end_col_offset": 5,
         "end_lineno": 8,
         "lineno": 8,
         "name": "h",
         "type": "assign"
        },
        {
         "col_offset": 0,
         "dependencies": [
          "j"
         ],
         "end_col_offset": 5,
         "end_lineno": 9,
         "lineno": 9,
         "name": "j",
         "type": "assign"
        },
        {
         "col_offset": 0,
         "dependencies": [
          "k"
         ],
         "end_col_offset": 5,
         "end_lineno": 10,
         "lineno": 10,
         "name": "k",
         "type": "assign"
        }
       ],
       "execution_count": 11,
       "imports": [],
       "local": [
        "a",
        "b",
        "c",
        "d",
        "e",
        "f",
        "g",
        "h",
        "j",
        "k"
       ],
       "local_info": {
        "a": "",
        "b": "",
        "c": "",
        "d": "",
        "e": "",
        "f": "",
        "g": "",
        "h": "",
        "j": "",
        "k": ""
       },
       "remote": [
        "a",
        "b",
        "c",
        "d",
        "e",
        "f",
        "g",
        "h",
        "j",
        "k"
       ],
       "time": "Wed, 08 Sep 2021 14:54:34 GMT",
       "type": "execution"
      },
      {
       "cell_id": "2d8e8e78-8b26-47b0-a6be-0c816728ca1f",
       "cell_outputs": [],
       "cell_source": "a = a\nb = b\nc = c\nd = d\ne = e\nf = f\ng = g\nh = h\nj = j\nk = k",
       "data_values": [],
       "data_vars": [],
       "definitions": [
        {
         "col_offset": 0,
         "dependencies": [
          "a"
         ],
         "end_col_offset": 5,
         "end_lineno": 1,
         "lineno": 1,
         "name": "a",
         "type": "assign"
        },
        {
         "col_offset": 0,
         "dependencies": [
          "b"
         ],
         "end_col_offset": 5,
         "end_lineno": 2,
         "lineno": 2,
         "name": "b",
         "type": "assign"
        },
        {
         "col_offset": 0,
         "dependencies": [
          "c"
         ],
         "end_col_offset": 5,
         "end_lineno": 3,
         "lineno": 3,
         "name": "c",
         "type": "assign"
        },
        {
         "col_offset": 0,
         "dependencies": [
          "d"
         ],
         "end_col_offset": 5,
         "end_lineno": 4,
         "lineno": 4,
         "name": "d",
         "type": "assign"
        },
        {
         "col_offset": 0,
         "dependencies": [
          "e"
         ],
         "end_col_offset": 5,
         "end_lineno": 5,
         "lineno": 5,
         "name": "e",
         "type": "assign"
        },
        {
         "col_offset": 0,
         "dependencies": [
          "f"
         ],
         "end_col_offset": 5,
         "end_lineno": 6,
         "lineno": 6,
         "name": "f",
         "type": "assign"
        },
        {
         "col_offset": 0,
         "dependencies": [
          "g"
         ],
         "end_col_offset": 5,
         "end_lineno": 7,
         "lineno": 7,
         "name": "g",
         "type": "assign"
        },
        {
         "col_offset": 0,
         "dependencies": [
          "h"
         ],
         "end_col_offset": 5,
         "end_lineno": 8,
         "lineno": 8,
         "name": "h",
         "type": "assign"
        },
        {
         "col_offset": 0,
         "dependencies": [
          "j"
         ],
         "end_col_offset": 5,
         "end_lineno": 9,
         "lineno": 9,
         "name": "j",
         "type": "assign"
        },
        {
         "col_offset": 0,
         "dependencies": [
          "k"
         ],
         "end_col_offset": 5,
         "end_lineno": 10,
         "lineno": 10,
         "name": "k",
         "type": "assign"
        }
       ],
       "execution_count": 12,
       "imports": [],
       "local": [
        "a",
        "b",
        "c",
        "d",
        "e",
        "f",
        "g",
        "h",
        "j",
        "k"
       ],
       "local_info": {
        "a": "",
        "b": "",
        "c": "",
        "d": "",
        "e": "",
        "f": "",
        "g": "",
        "h": "",
        "j": "",
        "k": ""
       },
       "remote": [
        "a",
        "b",
        "c",
        "d",
        "e",
        "f",
        "g",
        "h",
        "j",
        "k"
       ],
       "time": "Wed, 08 Sep 2021 14:54:34 GMT",
       "type": "execution"
      },
      {
       "cell_id": "aa5792ab-d9b4-411f-a2d4-24010b7f66a7",
       "cell_outputs": [],
       "cell_source": "a = a\nb = b\nc = c\nd = d\ne = e\nf = f\ng = g\nh = h\nj = j\nk = k",
       "data_values": [],
       "data_vars": [],
       "definitions": [
        {
         "col_offset": 0,
         "dependencies": [
          "a"
         ],
         "end_col_offset": 5,
         "end_lineno": 1,
         "lineno": 1,
         "name": "a",
         "type": "assign"
        },
        {
         "col_offset": 0,
         "dependencies": [
          "b"
         ],
         "end_col_offset": 5,
         "end_lineno": 2,
         "lineno": 2,
         "name": "b",
         "type": "assign"
        },
        {
         "col_offset": 0,
         "dependencies": [
          "c"
         ],
         "end_col_offset": 5,
         "end_lineno": 3,
         "lineno": 3,
         "name": "c",
         "type": "assign"
        },
        {
         "col_offset": 0,
         "dependencies": [
          "d"
         ],
         "end_col_offset": 5,
         "end_lineno": 4,
         "lineno": 4,
         "name": "d",
         "type": "assign"
        },
        {
         "col_offset": 0,
         "dependencies": [
          "e"
         ],
         "end_col_offset": 5,
         "end_lineno": 5,
         "lineno": 5,
         "name": "e",
         "type": "assign"
        },
        {
         "col_offset": 0,
         "dependencies": [
          "f"
         ],
         "end_col_offset": 5,
         "end_lineno": 6,
         "lineno": 6,
         "name": "f",
         "type": "assign"
        },
        {
         "col_offset": 0,
         "dependencies": [
          "g"
         ],
         "end_col_offset": 5,
         "end_lineno": 7,
         "lineno": 7,
         "name": "g",
         "type": "assign"
        },
        {
         "col_offset": 0,
         "dependencies": [
          "h"
         ],
         "end_col_offset": 5,
         "end_lineno": 8,
         "lineno": 8,
         "name": "h",
         "type": "assign"
        },
        {
         "col_offset": 0,
         "dependencies": [
          "j"
         ],
         "end_col_offset": 5,
         "end_lineno": 9,
         "lineno": 9,
         "name": "j",
         "type": "assign"
        },
        {
         "col_offset": 0,
         "dependencies": [
          "k"
         ],
         "end_col_offset": 5,
         "end_lineno": 10,
         "lineno": 10,
         "name": "k",
         "type": "assign"
        }
       ],
       "execution_count": 13,
       "imports": [],
       "local": [
        "a",
        "b",
        "c",
        "d",
        "e",
        "f",
        "g",
        "h",
        "j",
        "k"
       ],
       "local_info": {
        "a": "",
        "b": "",
        "c": "",
        "d": "",
        "e": "",
        "f": "",
        "g": "",
        "h": "",
        "j": "",
        "k": ""
       },
       "remote": [
        "a",
        "b",
        "c",
        "d",
        "e",
        "f",
        "g",
        "h",
        "j",
        "k"
       ],
       "time": "Wed, 08 Sep 2021 14:54:34 GMT",
       "type": "execution"
      },
      {
       "cell_id": "03b6c04f-7db6-40a5-a456-50912e163434",
       "cell_outputs": [],
       "cell_source": "a = a\nb = b\nc = c\nd = d\ne = e\nf = f\ng = g\nh = h\nj = j\nk = k",
       "data_values": [],
       "data_vars": [],
       "definitions": [
        {
         "col_offset": 0,
         "dependencies": [
          "a"
         ],
         "end_col_offset": 5,
         "end_lineno": 1,
         "lineno": 1,
         "name": "a",
         "type": "assign"
        },
        {
         "col_offset": 0,
         "dependencies": [
          "b"
         ],
         "end_col_offset": 5,
         "end_lineno": 2,
         "lineno": 2,
         "name": "b",
         "type": "assign"
        },
        {
         "col_offset": 0,
         "dependencies": [
          "c"
         ],
         "end_col_offset": 5,
         "end_lineno": 3,
         "lineno": 3,
         "name": "c",
         "type": "assign"
        },
        {
         "col_offset": 0,
         "dependencies": [
          "d"
         ],
         "end_col_offset": 5,
         "end_lineno": 4,
         "lineno": 4,
         "name": "d",
         "type": "assign"
        },
        {
         "col_offset": 0,
         "dependencies": [
          "e"
         ],
         "end_col_offset": 5,
         "end_lineno": 5,
         "lineno": 5,
         "name": "e",
         "type": "assign"
        },
        {
         "col_offset": 0,
         "dependencies": [
          "f"
         ],
         "end_col_offset": 5,
         "end_lineno": 6,
         "lineno": 6,
         "name": "f",
         "type": "assign"
        },
        {
         "col_offset": 0,
         "dependencies": [
          "g"
         ],
         "end_col_offset": 5,
         "end_lineno": 7,
         "lineno": 7,
         "name": "g",
         "type": "assign"
        },
        {
         "col_offset": 0,
         "dependencies": [
          "h"
         ],
         "end_col_offset": 5,
         "end_lineno": 8,
         "lineno": 8,
         "name": "h",
         "type": "assign"
        },
        {
         "col_offset": 0,
         "dependencies": [
          "j"
         ],
         "end_col_offset": 5,
         "end_lineno": 9,
         "lineno": 9,
         "name": "j",
         "type": "assign"
        },
        {
         "col_offset": 0,
         "dependencies": [
          "k"
         ],
         "end_col_offset": 5,
         "end_lineno": 10,
         "lineno": 10,
         "name": "k",
         "type": "assign"
        }
       ],
       "execution_count": 14,
       "imports": [],
       "local": [
        "a",
        "b",
        "c",
        "d",
        "e",
        "f",
        "g",
        "h",
        "j",
        "k"
       ],
       "local_info": {
        "a": "",
        "b": "",
        "c": "",
        "d": "",
        "e": "",
        "f": "",
        "g": "",
        "h": "",
        "j": "",
        "k": ""
       },
       "remote": [
        "a",
        "b",
        "c",
        "d",
        "e",
        "f",
        "g",
        "h",
        "j",
        "k"
       ],
       "time": "Wed, 08 Sep 2021 14:54:34 GMT",
       "type": "execution"
      },
      {
       "cell_id": "b4931140-4b99-4388-858d-5f9b8c4a2ebd",
       "cell_outputs": [],
       "cell_source": "a = a\nb = b\nc = c\nd = d\ne = e\nf = f\ng = g\nh = h\nj = j\nk = k",
       "data_values": [],
       "data_vars": [],
       "definitions": [
        {
         "col_offset": 0,
         "dependencies": [
          "a"
         ],
         "end_col_offset": 5,
         "end_lineno": 1,
         "lineno": 1,
         "name": "a",
         "type": "assign"
        },
        {
         "col_offset": 0,
         "dependencies": [
          "b"
         ],
         "end_col_offset": 5,
         "end_lineno": 2,
         "lineno": 2,
         "name": "b",
         "type": "assign"
        },
        {
         "col_offset": 0,
         "dependencies": [
          "c"
         ],
         "end_col_offset": 5,
         "end_lineno": 3,
         "lineno": 3,
         "name": "c",
         "type": "assign"
        },
        {
         "col_offset": 0,
         "dependencies": [
          "d"
         ],
         "end_col_offset": 5,
         "end_lineno": 4,
         "lineno": 4,
         "name": "d",
         "type": "assign"
        },
        {
         "col_offset": 0,
         "dependencies": [
          "e"
         ],
         "end_col_offset": 5,
         "end_lineno": 5,
         "lineno": 5,
         "name": "e",
         "type": "assign"
        },
        {
         "col_offset": 0,
         "dependencies": [
          "f"
         ],
         "end_col_offset": 5,
         "end_lineno": 6,
         "lineno": 6,
         "name": "f",
         "type": "assign"
        },
        {
         "col_offset": 0,
         "dependencies": [
          "g"
         ],
         "end_col_offset": 5,
         "end_lineno": 7,
         "lineno": 7,
         "name": "g",
         "type": "assign"
        },
        {
         "col_offset": 0,
         "dependencies": [
          "h"
         ],
         "end_col_offset": 5,
         "end_lineno": 8,
         "lineno": 8,
         "name": "h",
         "type": "assign"
        },
        {
         "col_offset": 0,
         "dependencies": [
          "j"
         ],
         "end_col_offset": 5,
         "end_lineno": 9,
         "lineno": 9,
         "name": "j",
         "type": "assign"
        },
        {
         "col_offset": 0,
         "dependencies": [
          "k"
         ],
         "end_col_offset": 5,
         "end_lineno": 10,
         "lineno": 10,
         "name": "k",
         "type": "assign"
        }
       ],
       "execution_count": 15,
       "imports": [],
       "local": [
        "a",
        "b",
        "c",
        "d",
        "e",
        "f",
        "g",
        "h",
        "j",
        "k"
       ],
       "local_info": {
        "a": "",
        "b": "",
        "c": "",
        "d": "",
        "e": "",
        "f": "",
        "g": "",
        "h": "",
        "j": "",
        "k": ""
       },
       "remote": [
        "a",
        "b",
        "c",
        "d",
        "e",
        "f",
        "g",
        "h",
        "j",
        "k"
       ],
       "time": "Wed, 08 Sep 2021 14:54:34 GMT",
       "type": "execution"
      },
      {
       "cell_id": "0ac16a0b-7e55-4356-ac8e-5e71ec35f614",
       "cell_outputs": [],
       "cell_source": "a = a\nb = b\nc = c\nd = d\ne = e\nf = f\ng = g\nh = h\nj = j\nk = k",
       "data_values": [],
       "data_vars": [],
       "definitions": [
        {
         "col_offset": 0,
         "dependencies": [
          "a"
         ],
         "end_col_offset": 5,
         "end_lineno": 1,
         "lineno": 1,
         "name": "a",
         "type": "assign"
        },
        {
         "col_offset": 0,
         "dependencies": [
          "b"
         ],
         "end_col_offset": 5,
         "end_lineno": 2,
         "lineno": 2,
         "name": "b",
         "type": "assign"
        },
        {
         "col_offset": 0,
         "dependencies": [
          "c"
         ],
         "end_col_offset": 5,
         "end_lineno": 3,
         "lineno": 3,
         "name": "c",
         "type": "assign"
        },
        {
         "col_offset": 0,
         "dependencies": [
          "d"
         ],
         "end_col_offset": 5,
         "end_lineno": 4,
         "lineno": 4,
         "name": "d",
         "type": "assign"
        },
        {
         "col_offset": 0,
         "dependencies": [
          "e"
         ],
         "end_col_offset": 5,
         "end_lineno": 5,
         "lineno": 5,
         "name": "e",
         "type": "assign"
        },
        {
         "col_offset": 0,
         "dependencies": [
          "f"
         ],
         "end_col_offset": 5,
         "end_lineno": 6,
         "lineno": 6,
         "name": "f",
         "type": "assign"
        },
        {
         "col_offset": 0,
         "dependencies": [
          "g"
         ],
         "end_col_offset": 5,
         "end_lineno": 7,
         "lineno": 7,
         "name": "g",
         "type": "assign"
        },
        {
         "col_offset": 0,
         "dependencies": [
          "h"
         ],
         "end_col_offset": 5,
         "end_lineno": 8,
         "lineno": 8,
         "name": "h",
         "type": "assign"
        },
        {
         "col_offset": 0,
         "dependencies": [
          "j"
         ],
         "end_col_offset": 5,
         "end_lineno": 9,
         "lineno": 9,
         "name": "j",
         "type": "assign"
        },
        {
         "col_offset": 0,
         "dependencies": [
          "k"
         ],
         "end_col_offset": 5,
         "end_lineno": 10,
         "lineno": 10,
         "name": "k",
         "type": "assign"
        }
       ],
       "execution_count": 16,
       "imports": [],
       "local": [
        "a",
        "b",
        "c",
        "d",
        "e",
        "f",
        "g",
        "h",
        "j",
        "k"
       ],
       "local_info": {
        "a": "",
        "b": "",
        "c": "",
        "d": "",
        "e": "",
        "f": "",
        "g": "",
        "h": "",
        "j": "",
        "k": ""
       },
       "remote": [
        "a",
        "b",
        "c",
        "d",
        "e",
        "f",
        "g",
        "h",
        "j",
        "k"
       ],
       "time": "Wed, 08 Sep 2021 14:54:34 GMT",
       "type": "execution"
      },
      {
       "cell_id": "5fdf9741-6557-4703-a4a1-4e92ffded6a9",
       "cell_outputs": [],
       "cell_source": "a = a\nb = b\nc = c\nd = d\ne = e\nf = f\ng = g\nh = h\nj = j\nk = k",
       "data_values": [],
       "data_vars": [],
       "definitions": [
        {
         "col_offset": 0,
         "dependencies": [
          "a"
         ],
         "end_col_offset": 5,
         "end_lineno": 1,
         "lineno": 1,
         "name": "a",
         "type": "assign"
        },
        {
         "col_offset": 0,
         "dependencies": [
          "b"
         ],
         "end_col_offset": 5,
         "end_lineno": 2,
         "lineno": 2,
         "name": "b",
         "type": "assign"
        },
        {
         "col_offset": 0,
         "dependencies": [
          "c"
         ],
         "end_col_offset": 5,
         "end_lineno": 3,
         "lineno": 3,
         "name": "c",
         "type": "assign"
        },
        {
         "col_offset": 0,
         "dependencies": [
          "d"
         ],
         "end_col_offset": 5,
         "end_lineno": 4,
         "lineno": 4,
         "name": "d",
         "type": "assign"
        },
        {
         "col_offset": 0,
         "dependencies": [
          "e"
         ],
         "end_col_offset": 5,
         "end_lineno": 5,
         "lineno": 5,
         "name": "e",
         "type": "assign"
        },
        {
         "col_offset": 0,
         "dependencies": [
          "f"
         ],
         "end_col_offset": 5,
         "end_lineno": 6,
         "lineno": 6,
         "name": "f",
         "type": "assign"
        },
        {
         "col_offset": 0,
         "dependencies": [
          "g"
         ],
         "end_col_offset": 5,
         "end_lineno": 7,
         "lineno": 7,
         "name": "g",
         "type": "assign"
        },
        {
         "col_offset": 0,
         "dependencies": [
          "h"
         ],
         "end_col_offset": 5,
         "end_lineno": 8,
         "lineno": 8,
         "name": "h",
         "type": "assign"
        },
        {
         "col_offset": 0,
         "dependencies": [
          "j"
         ],
         "end_col_offset": 5,
         "end_lineno": 9,
         "lineno": 9,
         "name": "j",
         "type": "assign"
        },
        {
         "col_offset": 0,
         "dependencies": [
          "k"
         ],
         "end_col_offset": 5,
         "end_lineno": 10,
         "lineno": 10,
         "name": "k",
         "type": "assign"
        }
       ],
       "execution_count": 17,
       "imports": [],
       "local": [
        "a",
        "b",
        "c",
        "d",
        "e",
        "f",
        "g",
        "h",
        "j",
        "k"
       ],
       "local_info": {
        "a": "",
        "b": "",
        "c": "",
        "d": "",
        "e": "",
        "f": "",
        "g": "",
        "h": "",
        "j": "",
        "k": ""
       },
       "remote": [
        "a",
        "b",
        "c",
        "d",
        "e",
        "f",
        "g",
        "h",
        "j",
        "k"
       ],
       "time": "Wed, 08 Sep 2021 14:54:34 GMT",
       "type": "execution"
      },
      {
       "cell_id": "cd13f27a-6d22-4851-abe3-6b81c369964d",
       "cell_outputs": [],
       "cell_source": "a = a\nb = b\nc = c\nd = d\ne = e\nf = f\ng = g\nh = h\nj = j\nk = k",
       "data_values": [],
       "data_vars": [],
       "definitions": [
        {
         "col_offset": 0,
         "dependencies": [
          "a"
         ],
         "end_col_offset": 5,
         "end_lineno": 1,
         "lineno": 1,
         "name": "a",
         "type": "assign"
        },
        {
         "col_offset": 0,
         "dependencies": [
          "b"
         ],
         "end_col_offset": 5,
         "end_lineno": 2,
         "lineno": 2,
         "name": "b",
         "type": "assign"
        },
        {
         "col_offset": 0,
         "dependencies": [
          "c"
         ],
         "end_col_offset": 5,
         "end_lineno": 3,
         "lineno": 3,
         "name": "c",
         "type": "assign"
        },
        {
         "col_offset": 0,
         "dependencies": [
          "d"
         ],
         "end_col_offset": 5,
         "end_lineno": 4,
         "lineno": 4,
         "name": "d",
         "type": "assign"
        },
        {
         "col_offset": 0,
         "dependencies": [
          "e"
         ],
         "end_col_offset": 5,
         "end_lineno": 5,
         "lineno": 5,
         "name": "e",
         "type": "assign"
        },
        {
         "col_offset": 0,
         "dependencies": [
          "f"
         ],
         "end_col_offset": 5,
         "end_lineno": 6,
         "lineno": 6,
         "name": "f",
         "type": "assign"
        },
        {
         "col_offset": 0,
         "dependencies": [
          "g"
         ],
         "end_col_offset": 5,
         "end_lineno": 7,
         "lineno": 7,
         "name": "g",
         "type": "assign"
        },
        {
         "col_offset": 0,
         "dependencies": [
          "h"
         ],
         "end_col_offset": 5,
         "end_lineno": 8,
         "lineno": 8,
         "name": "h",
         "type": "assign"
        },
        {
         "col_offset": 0,
         "dependencies": [
          "j"
         ],
         "end_col_offset": 5,
         "end_lineno": 9,
         "lineno": 9,
         "name": "j",
         "type": "assign"
        },
        {
         "col_offset": 0,
         "dependencies": [
          "k"
         ],
         "end_col_offset": 5,
         "end_lineno": 10,
         "lineno": 10,
         "name": "k",
         "type": "assign"
        }
       ],
       "execution_count": 18,
       "imports": [],
       "local": [
        "a",
        "b",
        "c",
        "d",
        "e",
        "f",
        "g",
        "h",
        "j",
        "k"
       ],
       "local_info": {
        "a": "",
        "b": "",
        "c": "",
        "d": "",
        "e": "",
        "f": "",
        "g": "",
        "h": "",
        "j": "",
        "k": ""
       },
       "remote": [
        "a",
        "b",
        "c",
        "d",
        "e",
        "f",
        "g",
        "h",
        "j",
        "k"
       ],
       "time": "Wed, 08 Sep 2021 14:54:34 GMT",
       "type": "execution"
      },
      {
       "cell_id": "97f52bff-b543-440e-98fd-c409fd8b7a6f",
       "cell_outputs": [],
       "cell_source": "a = a\nb = b\nc = c\nd = d\ne = e\nf = f\ng = g\nh = h\nj = j\nk = k",
       "data_values": [],
       "data_vars": [],
       "definitions": [
        {
         "col_offset": 0,
         "dependencies": [
          "a"
         ],
         "end_col_offset": 5,
         "end_lineno": 1,
         "lineno": 1,
         "name": "a",
         "type": "assign"
        },
        {
         "col_offset": 0,
         "dependencies": [
          "b"
         ],
         "end_col_offset": 5,
         "end_lineno": 2,
         "lineno": 2,
         "name": "b",
         "type": "assign"
        },
        {
         "col_offset": 0,
         "dependencies": [
          "c"
         ],
         "end_col_offset": 5,
         "end_lineno": 3,
         "lineno": 3,
         "name": "c",
         "type": "assign"
        },
        {
         "col_offset": 0,
         "dependencies": [
          "d"
         ],
         "end_col_offset": 5,
         "end_lineno": 4,
         "lineno": 4,
         "name": "d",
         "type": "assign"
        },
        {
         "col_offset": 0,
         "dependencies": [
          "e"
         ],
         "end_col_offset": 5,
         "end_lineno": 5,
         "lineno": 5,
         "name": "e",
         "type": "assign"
        },
        {
         "col_offset": 0,
         "dependencies": [
          "f"
         ],
         "end_col_offset": 5,
         "end_lineno": 6,
         "lineno": 6,
         "name": "f",
         "type": "assign"
        },
        {
         "col_offset": 0,
         "dependencies": [
          "g"
         ],
         "end_col_offset": 5,
         "end_lineno": 7,
         "lineno": 7,
         "name": "g",
         "type": "assign"
        },
        {
         "col_offset": 0,
         "dependencies": [
          "h"
         ],
         "end_col_offset": 5,
         "end_lineno": 8,
         "lineno": 8,
         "name": "h",
         "type": "assign"
        },
        {
         "col_offset": 0,
         "dependencies": [
          "j"
         ],
         "end_col_offset": 5,
         "end_lineno": 9,
         "lineno": 9,
         "name": "j",
         "type": "assign"
        },
        {
         "col_offset": 0,
         "dependencies": [
          "k"
         ],
         "end_col_offset": 5,
         "end_lineno": 10,
         "lineno": 10,
         "name": "k",
         "type": "assign"
        }
       ],
       "execution_count": 19,
       "imports": [],
       "local": [
        "a",
        "b",
        "c",
        "d",
        "e",
        "f",
        "g",
        "h",
        "j",
        "k"
       ],
       "local_info": {
        "a": "",
        "b": "",
        "c": "",
        "d": "",
        "e": "",
        "f": "",
        "g": "",
        "h": "",
        "j": "",
        "k": ""
       },
       "remote": [
        "a",
        "b",
        "c",
        "d",
        "e",
        "f",
        "g",
        "h",
        "j",
        "k"
       ],
       "time": "Wed, 08 Sep 2021 14:54:34 GMT",
       "type": "execution"
      },
      {
       "cell_id": "09b1b779-823c-4ce4-92a6-cc23d2a57591",
       "cell_outputs": [],
       "cell_source": "a = a\nb = b\nc = c\nd = d\ne = e\nf = f\ng = g\nh = h\nj = j\nk = k",
       "data_values": [],
       "data_vars": [],
       "definitions": [
        {
         "col_offset": 0,
         "dependencies": [
          "a"
         ],
         "end_col_offset": 5,
         "end_lineno": 1,
         "lineno": 1,
         "name": "a",
         "type": "assign"
        },
        {
         "col_offset": 0,
         "dependencies": [
          "b"
         ],
         "end_col_offset": 5,
         "end_lineno": 2,
         "lineno": 2,
         "name": "b",
         "type": "assign"
        },
        {
         "col_offset": 0,
         "dependencies": [
          "c"
         ],
         "end_col_offset": 5,
         "end_lineno": 3,
         "lineno": 3,
         "name": "c",
         "type": "assign"
        },
        {
         "col_offset": 0,
         "dependencies": [
          "d"
         ],
         "end_col_offset": 5,
         "end_lineno": 4,
         "lineno": 4,
         "name": "d",
         "type": "assign"
        },
        {
         "col_offset": 0,
         "dependencies": [
          "e"
         ],
         "end_col_offset": 5,
         "end_lineno": 5,
         "lineno": 5,
         "name": "e",
         "type": "assign"
        },
        {
         "col_offset": 0,
         "dependencies": [
          "f"
         ],
         "end_col_offset": 5,
         "end_lineno": 6,
         "lineno": 6,
         "name": "f",
         "type": "assign"
        },
        {
         "col_offset": 0,
         "dependencies": [
          "g"
         ],
         "end_col_offset": 5,
         "end_lineno": 7,
         "lineno": 7,
         "name": "g",
         "type": "assign"
        },
        {
         "col_offset": 0,
         "dependencies": [
          "h"
         ],
         "end_col_offset": 5,
         "end_lineno": 8,
         "lineno": 8,
         "name": "h",
         "type": "assign"
        },
        {
         "col_offset": 0,
         "dependencies": [
          "j"
         ],
         "end_col_offset": 5,
         "end_lineno": 9,
         "lineno": 9,
         "name": "j",
         "type": "assign"
        },
        {
         "col_offset": 0,
         "dependencies": [
          "k"
         ],
         "end_col_offset": 5,
         "end_lineno": 10,
         "lineno": 10,
         "name": "k",
         "type": "assign"
        }
       ],
       "execution_count": 20,
       "imports": [],
       "local": [
        "a",
        "b",
        "c",
        "d",
        "e",
        "f",
        "g",
        "h",
        "j",
        "k"
       ],
       "local_info": {
        "a": "",
        "b": "",
        "c": "",
        "d": "",
        "e": "",
        "f": "",
        "g": "",
        "h": "",
        "j": "",
        "k": ""
       },
       "remote": [
        "a",
        "b",
        "c",
        "d",
        "e",
        "f",
        "g",
        "h",
        "j",
        "k"
       ],
       "time": "Wed, 08 Sep 2021 14:54:34 GMT",
       "type": "execution"
      },
      {
       "cell_id": "a386d2d9-767a-4a87-ba0f-d07a80c69ea0",
       "cell_outputs": [],
       "cell_source": "a = a\nb = b\nc = c\nd = d\ne = e\nf = f\ng = g\nh = h\nj = j\nk = k",
       "data_values": [],
       "data_vars": [],
       "definitions": [
        {
         "col_offset": 0,
         "dependencies": [
          "a"
         ],
         "end_col_offset": 5,
         "end_lineno": 1,
         "lineno": 1,
         "name": "a",
         "type": "assign"
        },
        {
         "col_offset": 0,
         "dependencies": [
          "b"
         ],
         "end_col_offset": 5,
         "end_lineno": 2,
         "lineno": 2,
         "name": "b",
         "type": "assign"
        },
        {
         "col_offset": 0,
         "dependencies": [
          "c"
         ],
         "end_col_offset": 5,
         "end_lineno": 3,
         "lineno": 3,
         "name": "c",
         "type": "assign"
        },
        {
         "col_offset": 0,
         "dependencies": [
          "d"
         ],
         "end_col_offset": 5,
         "end_lineno": 4,
         "lineno": 4,
         "name": "d",
         "type": "assign"
        },
        {
         "col_offset": 0,
         "dependencies": [
          "e"
         ],
         "end_col_offset": 5,
         "end_lineno": 5,
         "lineno": 5,
         "name": "e",
         "type": "assign"
        },
        {
         "col_offset": 0,
         "dependencies": [
          "f"
         ],
         "end_col_offset": 5,
         "end_lineno": 6,
         "lineno": 6,
         "name": "f",
         "type": "assign"
        },
        {
         "col_offset": 0,
         "dependencies": [
          "g"
         ],
         "end_col_offset": 5,
         "end_lineno": 7,
         "lineno": 7,
         "name": "g",
         "type": "assign"
        },
        {
         "col_offset": 0,
         "dependencies": [
          "h"
         ],
         "end_col_offset": 5,
         "end_lineno": 8,
         "lineno": 8,
         "name": "h",
         "type": "assign"
        },
        {
         "col_offset": 0,
         "dependencies": [
          "j"
         ],
         "end_col_offset": 5,
         "end_lineno": 9,
         "lineno": 9,
         "name": "j",
         "type": "assign"
        },
        {
         "col_offset": 0,
         "dependencies": [
          "k"
         ],
         "end_col_offset": 5,
         "end_lineno": 10,
         "lineno": 10,
         "name": "k",
         "type": "assign"
        }
       ],
       "execution_count": 21,
       "imports": [],
       "local": [
        "a",
        "b",
        "c",
        "d",
        "e",
        "f",
        "g",
        "h",
        "j",
        "k"
       ],
       "local_info": {
        "a": "",
        "b": "",
        "c": "",
        "d": "",
        "e": "",
        "f": "",
        "g": "",
        "h": "",
        "j": "",
        "k": ""
       },
       "remote": [
        "a",
        "b",
        "c",
        "d",
        "e",
        "f",
        "g",
        "h",
        "j",
        "k"
       ],
       "time": "Wed, 08 Sep 2021 14:54:34 GMT",
       "type": "execution"
      },
      {
       "cell_id": "5828a2e5-7e40-4340-a346-f42fed52e994",
       "cell_outputs": [],
       "cell_source": "a = a\nb = b\nc = c\nd = d\ne = e\nf = f\ng = g\nh = h\nj = j\nk = k",
       "data_values": [],
       "data_vars": [],
       "definitions": [
        {
         "col_offset": 0,
         "dependencies": [
          "a"
         ],
         "end_col_offset": 5,
         "end_lineno": 1,
         "lineno": 1,
         "name": "a",
         "type": "assign"
        },
        {
         "col_offset": 0,
         "dependencies": [
          "b"
         ],
         "end_col_offset": 5,
         "end_lineno": 2,
         "lineno": 2,
         "name": "b",
         "type": "assign"
        },
        {
         "col_offset": 0,
         "dependencies": [
          "c"
         ],
         "end_col_offset": 5,
         "end_lineno": 3,
         "lineno": 3,
         "name": "c",
         "type": "assign"
        },
        {
         "col_offset": 0,
         "dependencies": [
          "d"
         ],
         "end_col_offset": 5,
         "end_lineno": 4,
         "lineno": 4,
         "name": "d",
         "type": "assign"
        },
        {
         "col_offset": 0,
         "dependencies": [
          "e"
         ],
         "end_col_offset": 5,
         "end_lineno": 5,
         "lineno": 5,
         "name": "e",
         "type": "assign"
        },
        {
         "col_offset": 0,
         "dependencies": [
          "f"
         ],
         "end_col_offset": 5,
         "end_lineno": 6,
         "lineno": 6,
         "name": "f",
         "type": "assign"
        },
        {
         "col_offset": 0,
         "dependencies": [
          "g"
         ],
         "end_col_offset": 5,
         "end_lineno": 7,
         "lineno": 7,
         "name": "g",
         "type": "assign"
        },
        {
         "col_offset": 0,
         "dependencies": [
          "h"
         ],
         "end_col_offset": 5,
         "end_lineno": 8,
         "lineno": 8,
         "name": "h",
         "type": "assign"
        },
        {
         "col_offset": 0,
         "dependencies": [
          "j"
         ],
         "end_col_offset": 5,
         "end_lineno": 9,
         "lineno": 9,
         "name": "j",
         "type": "assign"
        },
        {
         "col_offset": 0,
         "dependencies": [
          "k"
         ],
         "end_col_offset": 5,
         "end_lineno": 10,
         "lineno": 10,
         "name": "k",
         "type": "assign"
        }
       ],
       "execution_count": 22,
       "imports": [],
       "local": [
        "a",
        "b",
        "c",
        "d",
        "e",
        "f",
        "g",
        "h",
        "j",
        "k"
       ],
       "local_info": {
        "a": "",
        "b": "",
        "c": "",
        "d": "",
        "e": "",
        "f": "",
        "g": "",
        "h": "",
        "j": "",
        "k": ""
       },
       "remote": [
        "a",
        "b",
        "c",
        "d",
        "e",
        "f",
        "g",
        "h",
        "j",
        "k"
       ],
       "time": "Wed, 08 Sep 2021 14:54:34 GMT",
       "type": "execution"
      },
      {
       "cell_id": "106fa16c-0880-458a-b255-324e6ceb0fc6",
       "cell_outputs": [],
       "cell_source": "a = a\nb = b\nc = c\nd = d\ne = e\nf = f\ng = g\nh = h\nj = j\nk = k",
       "data_values": [],
       "data_vars": [],
       "definitions": [
        {
         "col_offset": 0,
         "dependencies": [
          "a"
         ],
         "end_col_offset": 5,
         "end_lineno": 1,
         "lineno": 1,
         "name": "a",
         "type": "assign"
        },
        {
         "col_offset": 0,
         "dependencies": [
          "b"
         ],
         "end_col_offset": 5,
         "end_lineno": 2,
         "lineno": 2,
         "name": "b",
         "type": "assign"
        },
        {
         "col_offset": 0,
         "dependencies": [
          "c"
         ],
         "end_col_offset": 5,
         "end_lineno": 3,
         "lineno": 3,
         "name": "c",
         "type": "assign"
        },
        {
         "col_offset": 0,
         "dependencies": [
          "d"
         ],
         "end_col_offset": 5,
         "end_lineno": 4,
         "lineno": 4,
         "name": "d",
         "type": "assign"
        },
        {
         "col_offset": 0,
         "dependencies": [
          "e"
         ],
         "end_col_offset": 5,
         "end_lineno": 5,
         "lineno": 5,
         "name": "e",
         "type": "assign"
        },
        {
         "col_offset": 0,
         "dependencies": [
          "f"
         ],
         "end_col_offset": 5,
         "end_lineno": 6,
         "lineno": 6,
         "name": "f",
         "type": "assign"
        },
        {
         "col_offset": 0,
         "dependencies": [
          "g"
         ],
         "end_col_offset": 5,
         "end_lineno": 7,
         "lineno": 7,
         "name": "g",
         "type": "assign"
        },
        {
         "col_offset": 0,
         "dependencies": [
          "h"
         ],
         "end_col_offset": 5,
         "end_lineno": 8,
         "lineno": 8,
         "name": "h",
         "type": "assign"
        },
        {
         "col_offset": 0,
         "dependencies": [
          "j"
         ],
         "end_col_offset": 5,
         "end_lineno": 9,
         "lineno": 9,
         "name": "j",
         "type": "assign"
        },
        {
         "col_offset": 0,
         "dependencies": [
          "k"
         ],
         "end_col_offset": 5,
         "end_lineno": 10,
         "lineno": 10,
         "name": "k",
         "type": "assign"
        }
       ],
       "execution_count": 23,
       "imports": [],
       "local": [
        "a",
        "b",
        "c",
        "d",
        "e",
        "f",
        "g",
        "h",
        "j",
        "k"
       ],
       "local_info": {
        "a": "",
        "b": "",
        "c": "",
        "d": "",
        "e": "",
        "f": "",
        "g": "",
        "h": "",
        "j": "",
        "k": ""
       },
       "remote": [
        "a",
        "b",
        "c",
        "d",
        "e",
        "f",
        "g",
        "h",
        "j",
        "k"
       ],
       "time": "Wed, 08 Sep 2021 14:54:34 GMT",
       "type": "execution"
      },
      {
       "cell_id": "866ce834-e2c8-4c1d-9e5e-7050cf9e0e0d",
       "cell_outputs": [],
       "cell_source": "a = a\nb = b\nc = c\nd = d\ne = e\nf = f\ng = g\nh = h\nj = j\nk = k",
       "data_values": [],
       "data_vars": [],
       "definitions": [
        {
         "col_offset": 0,
         "dependencies": [
          "a"
         ],
         "end_col_offset": 5,
         "end_lineno": 1,
         "lineno": 1,
         "name": "a",
         "type": "assign"
        },
        {
         "col_offset": 0,
         "dependencies": [
          "b"
         ],
         "end_col_offset": 5,
         "end_lineno": 2,
         "lineno": 2,
         "name": "b",
         "type": "assign"
        },
        {
         "col_offset": 0,
         "dependencies": [
          "c"
         ],
         "end_col_offset": 5,
         "end_lineno": 3,
         "lineno": 3,
         "name": "c",
         "type": "assign"
        },
        {
         "col_offset": 0,
         "dependencies": [
          "d"
         ],
         "end_col_offset": 5,
         "end_lineno": 4,
         "lineno": 4,
         "name": "d",
         "type": "assign"
        },
        {
         "col_offset": 0,
         "dependencies": [
          "e"
         ],
         "end_col_offset": 5,
         "end_lineno": 5,
         "lineno": 5,
         "name": "e",
         "type": "assign"
        },
        {
         "col_offset": 0,
         "dependencies": [
          "f"
         ],
         "end_col_offset": 5,
         "end_lineno": 6,
         "lineno": 6,
         "name": "f",
         "type": "assign"
        },
        {
         "col_offset": 0,
         "dependencies": [
          "g"
         ],
         "end_col_offset": 5,
         "end_lineno": 7,
         "lineno": 7,
         "name": "g",
         "type": "assign"
        },
        {
         "col_offset": 0,
         "dependencies": [
          "h"
         ],
         "end_col_offset": 5,
         "end_lineno": 8,
         "lineno": 8,
         "name": "h",
         "type": "assign"
        },
        {
         "col_offset": 0,
         "dependencies": [
          "j"
         ],
         "end_col_offset": 5,
         "end_lineno": 9,
         "lineno": 9,
         "name": "j",
         "type": "assign"
        },
        {
         "col_offset": 0,
         "dependencies": [
          "k"
         ],
         "end_col_offset": 5,
         "end_lineno": 10,
         "lineno": 10,
         "name": "k",
         "type": "assign"
        }
       ],
       "execution_count": 24,
       "imports": [],
       "local": [
        "a",
        "b",
        "c",
        "d",
        "e",
        "f",
        "g",
        "h",
        "j",
        "k"
       ],
       "local_info": {
        "a": "",
        "b": "",
        "c": "",
        "d": "",
        "e": "",
        "f": "",
        "g": "",
        "h": "",
        "j": "",
        "k": ""
       },
       "remote": [
        "a",
        "b",
        "c",
        "d",
        "e",
        "f",
        "g",
        "h",
        "j",
        "k"
       ],
       "time": "Wed, 08 Sep 2021 14:54:34 GMT",
       "type": "execution"
      },
      {
       "cell_id": "01dfb57a-3864-40ba-b5ef-7137f296c60f",
       "cell_outputs": [],
       "cell_source": "a = a\nb = b\nc = c\nd = d\ne = e\nf = f\ng = g\nh = h\nj = j\nk = k",
       "data_values": [],
       "data_vars": [],
       "definitions": [
        {
         "col_offset": 0,
         "dependencies": [
          "a"
         ],
         "end_col_offset": 5,
         "end_lineno": 1,
         "lineno": 1,
         "name": "a",
         "type": "assign"
        },
        {
         "col_offset": 0,
         "dependencies": [
          "b"
         ],
         "end_col_offset": 5,
         "end_lineno": 2,
         "lineno": 2,
         "name": "b",
         "type": "assign"
        },
        {
         "col_offset": 0,
         "dependencies": [
          "c"
         ],
         "end_col_offset": 5,
         "end_lineno": 3,
         "lineno": 3,
         "name": "c",
         "type": "assign"
        },
        {
         "col_offset": 0,
         "dependencies": [
          "d"
         ],
         "end_col_offset": 5,
         "end_lineno": 4,
         "lineno": 4,
         "name": "d",
         "type": "assign"
        },
        {
         "col_offset": 0,
         "dependencies": [
          "e"
         ],
         "end_col_offset": 5,
         "end_lineno": 5,
         "lineno": 5,
         "name": "e",
         "type": "assign"
        },
        {
         "col_offset": 0,
         "dependencies": [
          "f"
         ],
         "end_col_offset": 5,
         "end_lineno": 6,
         "lineno": 6,
         "name": "f",
         "type": "assign"
        },
        {
         "col_offset": 0,
         "dependencies": [
          "g"
         ],
         "end_col_offset": 5,
         "end_lineno": 7,
         "lineno": 7,
         "name": "g",
         "type": "assign"
        },
        {
         "col_offset": 0,
         "dependencies": [
          "h"
         ],
         "end_col_offset": 5,
         "end_lineno": 8,
         "lineno": 8,
         "name": "h",
         "type": "assign"
        },
        {
         "col_offset": 0,
         "dependencies": [
          "j"
         ],
         "end_col_offset": 5,
         "end_lineno": 9,
         "lineno": 9,
         "name": "j",
         "type": "assign"
        },
        {
         "col_offset": 0,
         "dependencies": [
          "k"
         ],
         "end_col_offset": 5,
         "end_lineno": 10,
         "lineno": 10,
         "name": "k",
         "type": "assign"
        }
       ],
       "execution_count": 25,
       "imports": [],
       "local": [
        "a",
        "b",
        "c",
        "d",
        "e",
        "f",
        "g",
        "h",
        "j",
        "k"
       ],
       "local_info": {
        "a": "",
        "b": "",
        "c": "",
        "d": "",
        "e": "",
        "f": "",
        "g": "",
        "h": "",
        "j": "",
        "k": ""
       },
       "remote": [
        "a",
        "b",
        "c",
        "d",
        "e",
        "f",
        "g",
        "h",
        "j",
        "k"
       ],
       "time": "Wed, 08 Sep 2021 14:54:34 GMT",
       "type": "execution"
      },
      {
       "cell_id": "30ad3cfe-f686-4556-9edc-978c60ae2f47",
       "cell_outputs": [],
       "cell_source": "a = a\nb = b\nc = c\nd = d\ne = e\nf = f\ng = g\nh = h\nj = j\nk = k",
       "data_values": [],
       "data_vars": [],
       "definitions": [
        {
         "col_offset": 0,
         "dependencies": [
          "a"
         ],
         "end_col_offset": 5,
         "end_lineno": 1,
         "lineno": 1,
         "name": "a",
         "type": "assign"
        },
        {
         "col_offset": 0,
         "dependencies": [
          "b"
         ],
         "end_col_offset": 5,
         "end_lineno": 2,
         "lineno": 2,
         "name": "b",
         "type": "assign"
        },
        {
         "col_offset": 0,
         "dependencies": [
          "c"
         ],
         "end_col_offset": 5,
         "end_lineno": 3,
         "lineno": 3,
         "name": "c",
         "type": "assign"
        },
        {
         "col_offset": 0,
         "dependencies": [
          "d"
         ],
         "end_col_offset": 5,
         "end_lineno": 4,
         "lineno": 4,
         "name": "d",
         "type": "assign"
        },
        {
         "col_offset": 0,
         "dependencies": [
          "e"
         ],
         "end_col_offset": 5,
         "end_lineno": 5,
         "lineno": 5,
         "name": "e",
         "type": "assign"
        },
        {
         "col_offset": 0,
         "dependencies": [
          "f"
         ],
         "end_col_offset": 5,
         "end_lineno": 6,
         "lineno": 6,
         "name": "f",
         "type": "assign"
        },
        {
         "col_offset": 0,
         "dependencies": [
          "g"
         ],
         "end_col_offset": 5,
         "end_lineno": 7,
         "lineno": 7,
         "name": "g",
         "type": "assign"
        },
        {
         "col_offset": 0,
         "dependencies": [
          "h"
         ],
         "end_col_offset": 5,
         "end_lineno": 8,
         "lineno": 8,
         "name": "h",
         "type": "assign"
        },
        {
         "col_offset": 0,
         "dependencies": [
          "j"
         ],
         "end_col_offset": 5,
         "end_lineno": 9,
         "lineno": 9,
         "name": "j",
         "type": "assign"
        },
        {
         "col_offset": 0,
         "dependencies": [
          "k"
         ],
         "end_col_offset": 5,
         "end_lineno": 10,
         "lineno": 10,
         "name": "k",
         "type": "assign"
        }
       ],
       "execution_count": 26,
       "imports": [],
       "local": [
        "a",
        "b",
        "c",
        "d",
        "e",
        "f",
        "g",
        "h",
        "j",
        "k"
       ],
       "local_info": {
        "a": "",
        "b": "",
        "c": "",
        "d": "",
        "e": "",
        "f": "",
        "g": "",
        "h": "",
        "j": "",
        "k": ""
       },
       "remote": [
        "a",
        "b",
        "c",
        "d",
        "e",
        "f",
        "g",
        "h",
        "j",
        "k"
       ],
       "time": "Wed, 08 Sep 2021 14:54:34 GMT",
       "type": "execution"
      },
      {
       "cell_id": "72b3536a-bb29-4b5e-9a4b-b204203d0dcd",
       "cell_outputs": [],
       "cell_source": "a = a\nb = b\nc = c\nd = d\ne = e\nf = f\ng = g\nh = h\nj = j\nk = k",
       "data_values": [],
       "data_vars": [],
       "definitions": [
        {
         "col_offset": 0,
         "dependencies": [
          "a"
         ],
         "end_col_offset": 5,
         "end_lineno": 1,
         "lineno": 1,
         "name": "a",
         "type": "assign"
        },
        {
         "col_offset": 0,
         "dependencies": [
          "b"
         ],
         "end_col_offset": 5,
         "end_lineno": 2,
         "lineno": 2,
         "name": "b",
         "type": "assign"
        },
        {
         "col_offset": 0,
         "dependencies": [
          "c"
         ],
         "end_col_offset": 5,
         "end_lineno": 3,
         "lineno": 3,
         "name": "c",
         "type": "assign"
        },
        {
         "col_offset": 0,
         "dependencies": [
          "d"
         ],
         "end_col_offset": 5,
         "end_lineno": 4,
         "lineno": 4,
         "name": "d",
         "type": "assign"
        },
        {
         "col_offset": 0,
         "dependencies": [
          "e"
         ],
         "end_col_offset": 5,
         "end_lineno": 5,
         "lineno": 5,
         "name": "e",
         "type": "assign"
        },
        {
         "col_offset": 0,
         "dependencies": [
          "f"
         ],
         "end_col_offset": 5,
         "end_lineno": 6,
         "lineno": 6,
         "name": "f",
         "type": "assign"
        },
        {
         "col_offset": 0,
         "dependencies": [
          "g"
         ],
         "end_col_offset": 5,
         "end_lineno": 7,
         "lineno": 7,
         "name": "g",
         "type": "assign"
        },
        {
         "col_offset": 0,
         "dependencies": [
          "h"
         ],
         "end_col_offset": 5,
         "end_lineno": 8,
         "lineno": 8,
         "name": "h",
         "type": "assign"
        },
        {
         "col_offset": 0,
         "dependencies": [
          "j"
         ],
         "end_col_offset": 5,
         "end_lineno": 9,
         "lineno": 9,
         "name": "j",
         "type": "assign"
        },
        {
         "col_offset": 0,
         "dependencies": [
          "k"
         ],
         "end_col_offset": 5,
         "end_lineno": 10,
         "lineno": 10,
         "name": "k",
         "type": "assign"
        }
       ],
       "execution_count": 27,
       "imports": [],
       "local": [
        "a",
        "b",
        "c",
        "d",
        "e",
        "f",
        "g",
        "h",
        "j",
        "k"
       ],
       "local_info": {
        "a": "",
        "b": "",
        "c": "",
        "d": "",
        "e": "",
        "f": "",
        "g": "",
        "h": "",
        "j": "",
        "k": ""
       },
       "remote": [
        "a",
        "b",
        "c",
        "d",
        "e",
        "f",
        "g",
        "h",
        "j",
        "k"
       ],
       "time": "Wed, 08 Sep 2021 14:54:34 GMT",
       "type": "execution"
      },
      {
       "cell_id": "11c3c780-ae25-4f45-8f72-68b02e3a26aa",
       "cell_outputs": [],
       "cell_source": "a = a\nb = b\nc = c\nd = d\ne = e\nf = f\ng = g\nh = h\nj = j\nk = k",
       "data_values": [],
       "data_vars": [],
       "definitions": [
        {
         "col_offset": 0,
         "dependencies": [
          "a"
         ],
         "end_col_offset": 5,
         "end_lineno": 1,
         "lineno": 1,
         "name": "a",
         "type": "assign"
        },
        {
         "col_offset": 0,
         "dependencies": [
          "b"
         ],
         "end_col_offset": 5,
         "end_lineno": 2,
         "lineno": 2,
         "name": "b",
         "type": "assign"
        },
        {
         "col_offset": 0,
         "dependencies": [
          "c"
         ],
         "end_col_offset": 5,
         "end_lineno": 3,
         "lineno": 3,
         "name": "c",
         "type": "assign"
        },
        {
         "col_offset": 0,
         "dependencies": [
          "d"
         ],
         "end_col_offset": 5,
         "end_lineno": 4,
         "lineno": 4,
         "name": "d",
         "type": "assign"
        },
        {
         "col_offset": 0,
         "dependencies": [
          "e"
         ],
         "end_col_offset": 5,
         "end_lineno": 5,
         "lineno": 5,
         "name": "e",
         "type": "assign"
        },
        {
         "col_offset": 0,
         "dependencies": [
          "f"
         ],
         "end_col_offset": 5,
         "end_lineno": 6,
         "lineno": 6,
         "name": "f",
         "type": "assign"
        },
        {
         "col_offset": 0,
         "dependencies": [
          "g"
         ],
         "end_col_offset": 5,
         "end_lineno": 7,
         "lineno": 7,
         "name": "g",
         "type": "assign"
        },
        {
         "col_offset": 0,
         "dependencies": [
          "h"
         ],
         "end_col_offset": 5,
         "end_lineno": 8,
         "lineno": 8,
         "name": "h",
         "type": "assign"
        },
        {
         "col_offset": 0,
         "dependencies": [
          "j"
         ],
         "end_col_offset": 5,
         "end_lineno": 9,
         "lineno": 9,
         "name": "j",
         "type": "assign"
        },
        {
         "col_offset": 0,
         "dependencies": [
          "k"
         ],
         "end_col_offset": 5,
         "end_lineno": 10,
         "lineno": 10,
         "name": "k",
         "type": "assign"
        }
       ],
       "execution_count": 28,
       "imports": [],
       "local": [
        "a",
        "b",
        "c",
        "d",
        "e",
        "f",
        "g",
        "h",
        "j",
        "k"
       ],
       "local_info": {
        "a": "",
        "b": "",
        "c": "",
        "d": "",
        "e": "",
        "f": "",
        "g": "",
        "h": "",
        "j": "",
        "k": ""
       },
       "remote": [
        "a",
        "b",
        "c",
        "d",
        "e",
        "f",
        "g",
        "h",
        "j",
        "k"
       ],
       "time": "Wed, 08 Sep 2021 14:54:34 GMT",
       "type": "execution"
      },
      {
       "cell_id": "11c3c780-ae25-4f45-8f72-68b02e3a26aa",
       "cell_outputs": [],
       "cell_source": "a = a\nb = b\nc = c\nd = d\ne = e\nf = f\ng = g\nh = h\nj = j\nk = k",
       "data_values": [],
       "data_vars": [],
       "definitions": [
        {
         "col_offset": 0,
         "dependencies": [
          "a"
         ],
         "end_col_offset": 5,
         "end_lineno": 1,
         "lineno": 1,
         "name": "a",
         "type": "assign"
        },
        {
         "col_offset": 0,
         "dependencies": [
          "b"
         ],
         "end_col_offset": 5,
         "end_lineno": 2,
         "lineno": 2,
         "name": "b",
         "type": "assign"
        },
        {
         "col_offset": 0,
         "dependencies": [
          "c"
         ],
         "end_col_offset": 5,
         "end_lineno": 3,
         "lineno": 3,
         "name": "c",
         "type": "assign"
        },
        {
         "col_offset": 0,
         "dependencies": [
          "d"
         ],
         "end_col_offset": 5,
         "end_lineno": 4,
         "lineno": 4,
         "name": "d",
         "type": "assign"
        },
        {
         "col_offset": 0,
         "dependencies": [
          "e"
         ],
         "end_col_offset": 5,
         "end_lineno": 5,
         "lineno": 5,
         "name": "e",
         "type": "assign"
        },
        {
         "col_offset": 0,
         "dependencies": [
          "f"
         ],
         "end_col_offset": 5,
         "end_lineno": 6,
         "lineno": 6,
         "name": "f",
         "type": "assign"
        },
        {
         "col_offset": 0,
         "dependencies": [
          "g"
         ],
         "end_col_offset": 5,
         "end_lineno": 7,
         "lineno": 7,
         "name": "g",
         "type": "assign"
        },
        {
         "col_offset": 0,
         "dependencies": [
          "h"
         ],
         "end_col_offset": 5,
         "end_lineno": 8,
         "lineno": 8,
         "name": "h",
         "type": "assign"
        },
        {
         "col_offset": 0,
         "dependencies": [
          "j"
         ],
         "end_col_offset": 5,
         "end_lineno": 9,
         "lineno": 9,
         "name": "j",
         "type": "assign"
        },
        {
         "col_offset": 0,
         "dependencies": [
          "k"
         ],
         "end_col_offset": 5,
         "end_lineno": 10,
         "lineno": 10,
         "name": "k",
         "type": "assign"
        }
       ],
       "execution_count": 29,
       "imports": [],
       "local": [
        "a",
        "b",
        "c",
        "d",
        "e",
        "f",
        "g",
        "h",
        "j",
        "k"
       ],
       "local_info": {
        "a": "",
        "b": "",
        "c": "",
        "d": "",
        "e": "",
        "f": "",
        "g": "",
        "h": "",
        "j": "",
        "k": ""
       },
       "remote": [
        "a",
        "b",
        "c",
        "d",
        "e",
        "f",
        "g",
        "h",
        "j",
        "k"
       ],
       "time": "Wed, 08 Sep 2021 14:54:34 GMT",
       "type": "execution"
      }
     ],
     "environment": {
      "kernel": {
       "implementation": "ipython",
       "version": "7.23.1"
      },
      "language_info": {
       "mimetype": "text/x-python",
       "name": "python",
       "version": "3.9.4"
      },
      "time": "Wed, 08 Sep 2021 14:54:24 GMT",
      "user_agent": "Mozilla/5.0 (X11; Ubuntu; Linux x86_64; rv:91.0) Gecko/20100101 Firefox/91.0"
     },
     "modules": {}
    }
   ]
  }
 },
 "nbformat": 4,
 "nbformat_minor": 5
}
